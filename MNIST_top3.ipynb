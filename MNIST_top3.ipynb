{
 "cells": [
  {
   "cell_type": "code",
   "execution_count": 4,
   "id": "e248f22e",
   "metadata": {},
   "outputs": [],
   "source": [
    "from keras.datasets import fashion_mnist,mnist\n",
    "import wandb\n",
    "import numpy as np\n",
    "from sklearn.metrics import classification_report\n",
    "import copy\n",
    "import argparse\n",
    "from types import SimpleNamespace\n",
    "import plotly.figure_factory as ff\n",
    "\n",
    "from utilities.NeuralNetwork import NN\n",
    "from utilities.HelperFunctions import OneHotEncoder,compute_accuracy_score,compute_confusion_matrix\n",
    "from utilities.config import * # reading global variables \n",
    "\n",
    "\n",
    "def pre_process(x):\n",
    "    '''\n",
    "    reshape and normalized the data to bring to 0-1 scale.\n",
    "    '''\n",
    "    x=x.reshape(-1,784)\n",
    "    x=x/255\n",
    "    return x\n",
    "\n",
    "def load_data(dataset=fmnist_dataset,split_size=valid_split_size):\n",
    "    \n",
    "    '''\n",
    "    loads and returns data after doing train-valid split.\n",
    "    '''\n",
    "    if dataset==fmnist_dataset:\n",
    "        (x_train, y_train), (x_test, y_test) = fashion_mnist.load_data()\n",
    "    elif dataset==mnist_dataset:\n",
    "        (x_train, y_train), (x_test, y_test) = mnist.load_data()\n",
    "    \n",
    "    \n",
    "    x_train,x_valid=x_train[:int(len(x_train)*split_size)],x_train[int(len(x_train)*split_size):] #splitting train into train and valid\n",
    "    y_train,y_valid=y_train[:int(len(y_train)*split_size)],y_train[int(len(y_train)*split_size):]\n",
    "\n",
    "    x_train=pre_process(x_train)\n",
    "    x_valid=pre_process(x_valid)\n",
    "    x_test=pre_process(x_test) \n",
    "    \n",
    "    one_hot=OneHotEncoder(10)\n",
    "    y_train=one_hot.transform(y_train)\n",
    "    y_valid=one_hot.transform(y_valid)\n",
    "    y_test=one_hot.transform(y_test)\n",
    "    \n",
    "    \n",
    "    return x_train,y_train,x_valid,y_valid,x_test,y_test\n",
    "\n",
    "x_train,y_train,x_valid,y_valid,x_test,y_test=load_data(mnist_dataset,1-valid_split_size)\n",
    "    "
   ]
  },
  {
   "cell_type": "code",
   "execution_count": 10,
   "id": "1f3510db",
   "metadata": {},
   "outputs": [
    {
     "data": {
      "application/vnd.jupyter.widget-view+json": {
       "model_id": "f9ba7aebd0c8485687f3646454197051",
       "version_major": 2,
       "version_minor": 0
      },
      "text/plain": [
       "VBox(children=(Label(value='Waiting for wandb.init()...\\r'), FloatProgress(value=0.01675302639999927, max=1.0)…"
      ]
     },
     "metadata": {},
     "output_type": "display_data"
    },
    {
     "data": {
      "text/html": [
       "wandb version 0.14.0 is available!  To upgrade, please run:\n",
       " $ pip install wandb --upgrade"
      ],
      "text/plain": [
       "<IPython.core.display.HTML object>"
      ]
     },
     "metadata": {},
     "output_type": "display_data"
    },
    {
     "data": {
      "text/html": [
       "Tracking run with wandb version 0.13.10"
      ],
      "text/plain": [
       "<IPython.core.display.HTML object>"
      ]
     },
     "metadata": {},
     "output_type": "display_data"
    },
    {
     "data": {
      "text/html": [
       "Run data is saved locally in <code>/Users/sathish/Desktop/DL_assign/DL_Assignment_1/wandb/run-20230319_180101-375i02k6</code>"
      ],
      "text/plain": [
       "<IPython.core.display.HTML object>"
      ]
     },
     "metadata": {},
     "output_type": "display_data"
    },
    {
     "data": {
      "text/html": [
       "Syncing run <strong><a href='https://wandb.ai/cs22m080/Assign_1_DL/runs/375i02k6' target=\"_blank\">cool-sun-867</a></strong> to <a href='https://wandb.ai/cs22m080/Assign_1_DL' target=\"_blank\">Weights & Biases</a> (<a href='https://wandb.me/run' target=\"_blank\">docs</a>)<br/>"
      ],
      "text/plain": [
       "<IPython.core.display.HTML object>"
      ]
     },
     "metadata": {},
     "output_type": "display_data"
    },
    {
     "data": {
      "text/html": [
       " View project at <a href='https://wandb.ai/cs22m080/Assign_1_DL' target=\"_blank\">https://wandb.ai/cs22m080/Assign_1_DL</a>"
      ],
      "text/plain": [
       "<IPython.core.display.HTML object>"
      ]
     },
     "metadata": {},
     "output_type": "display_data"
    },
    {
     "data": {
      "text/html": [
       " View run at <a href='https://wandb.ai/cs22m080/Assign_1_DL/runs/375i02k6' target=\"_blank\">https://wandb.ai/cs22m080/Assign_1_DL/runs/375i02k6</a>"
      ],
      "text/plain": [
       "<IPython.core.display.HTML object>"
      ]
     },
     "metadata": {},
     "output_type": "display_data"
    },
    {
     "name": "stdout",
     "output_type": "stream",
     "text": [
      "epoch 1 : train loss = 0.43 valid loss = 0.24 train accuracy = 93.38 valid accuracy = 92.72\n",
      "epoch 2 : train loss = 0.19 valid loss = 0.17 train accuracy = 95.53 valid accuracy = 94.77\n",
      "epoch 3 : train loss = 0.14 valid loss = 0.14 train accuracy = 96.58 valid accuracy = 95.70\n",
      "epoch 4 : train loss = 0.11 valid loss = 0.12 train accuracy = 97.26 valid accuracy = 96.11\n",
      "epoch 5 : train loss = 0.09 valid loss = 0.11 train accuracy = 97.69 valid accuracy = 96.45\n",
      "epoch 6 : train loss = 0.07 valid loss = 0.10 train accuracy = 98.06 valid accuracy = 96.69\n",
      "epoch 7 : train loss = 0.06 valid loss = 0.09 train accuracy = 98.36 valid accuracy = 97.00\n",
      "epoch 8 : train loss = 0.05 valid loss = 0.09 train accuracy = 98.58 valid accuracy = 97.13\n",
      "epoch 9 : train loss = 0.05 valid loss = 0.09 train accuracy = 98.79 valid accuracy = 97.26\n",
      "epoch 10 : train loss = 0.04 valid loss = 0.08 train accuracy = 98.95 valid accuracy = 97.40\n",
      ": Done\n"
     ]
    }
   ],
   "source": [
    "def concat(*x):\n",
    "    return np.concatenate(x)\n",
    "\n",
    "x_train=concat(x_train,x_valid) # adding validation data to train since we are done with hyper paramter search\n",
    "y_train=concat(y_train.T,y_valid.T).T\n",
    "\n",
    "params={}\n",
    "params['layer_size']=128 #64 64 #128\n",
    "params['batch_size']=64  #16 32 #64 \n",
    "params['num_layers']=3\n",
    "params['optimizer']='nadam'\n",
    "params['activation']='tanh'\n",
    "\n",
    "params['epochs']=10\n",
    "params['learning_rate']=0.0001\n",
    "params['weight_init']='xavier'\n",
    "params['loss']=entropy_loss\n",
    "params['weight_decay']=0.0005\n",
    "\n",
    "def model_fit(params):\n",
    "    wandb.init(project='Assign_1_DL',config=params)\n",
    "    wandb.run.name='MNSIT '+\"-batch_\"+str(wandb.config.batch_size)+ \"-layerSize_\"+str(wandb.config.layer_size)\n",
    "    params=SimpleNamespace(**params)\n",
    "    layers=[params.layer_size]*params.num_layers\n",
    "    layers.append(10)\n",
    "    obj=NN(784,layers,params)\n",
    "    obj.train(x_train.T,y_train,x_test.T,y_test)\n",
    "    print(\": Done\")\n",
    "    return obj\n",
    "\n",
    "obj=model_fit(params)"
   ]
  },
  {
   "cell_type": "code",
   "execution_count": 11,
   "id": "59774203",
   "metadata": {},
   "outputs": [
    {
     "name": "stdout",
     "output_type": "stream",
     "text": [
      "Accuracy on test data is  97.39999999999999\n"
     ]
    },
    {
     "data": {
      "text/html": [
       "Waiting for W&B process to finish... <strong style=\"color:green\">(success).</strong>"
      ],
      "text/plain": [
       "<IPython.core.display.HTML object>"
      ]
     },
     "metadata": {},
     "output_type": "display_data"
    },
    {
     "data": {
      "application/vnd.jupyter.widget-view+json": {
       "model_id": "5211b6153cf6486da4d1a89c117bd1c3",
       "version_major": 2,
       "version_minor": 0
      },
      "text/plain": [
       "VBox(children=(Label(value='0.001 MB of 0.001 MB uploaded (0.000 MB deduped)\\r'), FloatProgress(value=1.0, max…"
      ]
     },
     "metadata": {},
     "output_type": "display_data"
    },
    {
     "data": {
      "text/html": [
       "<style>\n",
       "    table.wandb td:nth-child(1) { padding: 0 10px; text-align: left ; width: auto;} td:nth-child(2) {text-align: left ; width: 100%}\n",
       "    .wandb-row { display: flex; flex-direction: row; flex-wrap: wrap; justify-content: flex-start; width: 100% }\n",
       "    .wandb-col { display: flex; flex-direction: column; flex-basis: 100%; flex: 1; padding: 10px; }\n",
       "    </style>\n",
       "<div class=\"wandb-row\"><div class=\"wandb-col\"><h3>Run history:</h3><br/><table class=\"wandb\"><tr><td>test accuracy</td><td>▁</td></tr><tr><td>train accuracy</td><td>▁▄▅▆▆▇▇███</td></tr><tr><td>train loss</td><td>█▄▃▂▂▂▁▁▁▁</td></tr><tr><td>valid accuracy</td><td>▁▄▅▆▇▇▇███</td></tr><tr><td>valid loss</td><td>█▅▄▃▂▂▂▁▁▁</td></tr></table><br/></div><div class=\"wandb-col\"><h3>Run summary:</h3><br/><table class=\"wandb\"><tr><td>test accuracy</td><td>97.4</td></tr><tr><td>train accuracy</td><td>98.94861</td></tr><tr><td>train loss</td><td>0.03949</td></tr><tr><td>valid accuracy</td><td>97.4</td></tr><tr><td>valid loss</td><td>0.08361</td></tr></table><br/></div></div>"
      ],
      "text/plain": [
       "<IPython.core.display.HTML object>"
      ]
     },
     "metadata": {},
     "output_type": "display_data"
    },
    {
     "data": {
      "text/html": [
       " View run <strong style=\"color:#cdcd00\">cool-sun-867</strong> at: <a href='https://wandb.ai/cs22m080/Assign_1_DL/runs/375i02k6' target=\"_blank\">https://wandb.ai/cs22m080/Assign_1_DL/runs/375i02k6</a><br/>Synced 6 W&B file(s), 0 media file(s), 0 artifact file(s) and 0 other file(s)"
      ],
      "text/plain": [
       "<IPython.core.display.HTML object>"
      ]
     },
     "metadata": {},
     "output_type": "display_data"
    },
    {
     "data": {
      "text/html": [
       "Find logs at: <code>./wandb/run-20230319_180101-375i02k6/logs</code>"
      ],
      "text/plain": [
       "<IPython.core.display.HTML object>"
      ]
     },
     "metadata": {},
     "output_type": "display_data"
    }
   ],
   "source": [
    "out=obj.predict_probas(x_test.T)\n",
    "pred=np.argmax(out,axis=0)\n",
    "test_acc=compute_accuracy_score(np.argmax(y_test,axis=0),pred)*100\n",
    "print(\"Accuracy on test data is \",test_acc)\n",
    "wandb.log({'test accuracy':test_acc})\n",
    "wandb.finish()"
   ]
  },
  {
   "cell_type": "code",
   "execution_count": null,
   "id": "454b5c99",
   "metadata": {},
   "outputs": [],
   "source": []
  }
 ],
 "metadata": {
  "kernelspec": {
   "display_name": "Python 3 (ipykernel)",
   "language": "python",
   "name": "python3"
  },
  "language_info": {
   "codemirror_mode": {
    "name": "ipython",
    "version": 3
   },
   "file_extension": ".py",
   "mimetype": "text/x-python",
   "name": "python",
   "nbconvert_exporter": "python",
   "pygments_lexer": "ipython3",
   "version": "3.9.12"
  }
 },
 "nbformat": 4,
 "nbformat_minor": 5
}
