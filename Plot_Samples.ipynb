{
 "cells": [
  {
   "cell_type": "code",
   "execution_count": 50,
   "id": "ec3f7830",
   "metadata": {},
   "outputs": [],
   "source": [
    "# Plotting sample image from for each class in fashion mnist dataset."
   ]
  },
  {
   "cell_type": "code",
   "execution_count": 46,
   "id": "198a5ceb",
   "metadata": {},
   "outputs": [
    {
     "name": "stderr",
     "output_type": "stream",
     "text": [
      "\u001b[34m\u001b[1mwandb\u001b[0m: \u001b[33mWARNING\u001b[0m Calling wandb.login() after wandb.init() has no effect.\n"
     ]
    },
    {
     "data": {
      "text/plain": [
       "True"
      ]
     },
     "execution_count": 46,
     "metadata": {},
     "output_type": "execute_result"
    }
   ],
   "source": [
    "from keras.datasets import fashion_mnist\n",
    "import matplotlib.pyplot as plt\n",
    "import wandb\n",
    "wandb.login()"
   ]
  },
  {
   "cell_type": "code",
   "execution_count": 47,
   "id": "ea7ced4d",
   "metadata": {},
   "outputs": [],
   "source": [
    "(x_train, y_train), (x_test, y_test) = fashion_mnist.load_data() #loading \n",
    "\n",
    "mapping={\n",
    "0:'T-shirt/top',\n",
    "1:'Trouser',\n",
    "2:'Pullover',\n",
    "3:'Dress',\n",
    "4:'Coat',\n",
    "5:'Sandal',\n",
    "6:'Shirt',\n",
    "7:'Sneaker',\n",
    "8:'Bag',\n",
    "9:'Ankle boot'} # map to class names\n",
    "\n",
    "num_classes=10\n",
    "\n",
    "wandb.init(\n",
    "    # set the wandb project where this run will be logged\n",
    "    project=\"Assignment_1\",\n",
    "    \n",
    "    # track hyperparameters and run metadata\n",
    "    config={\n",
    "    \"dataset\": \"Fashion Mnist\",\n",
    "    }\n",
    ")"
   ]
  },
  {
   "cell_type": "code",
   "execution_count": 49,
   "id": "99fe721f",
   "metadata": {},
   "outputs": [],
   "source": [
    "imgs=[]\n",
    "for i in range(num_classes):\n",
    "    v=x_train[y_train==i][0] # grabbing all images which belong to class i and taking the first one\n",
    "    imgs.append(wandb.Image(v,caption=mapping[i]))\n",
    "wandb.log({'plotting one image from each class':imgs}) # passing images to wandb\n"
   ]
  },
  {
   "cell_type": "code",
   "execution_count": null,
   "id": "459ba1af",
   "metadata": {},
   "outputs": [],
   "source": []
  }
 ],
 "metadata": {
  "kernelspec": {
   "display_name": "Python 3 (ipykernel)",
   "language": "python",
   "name": "python3"
  },
  "language_info": {
   "codemirror_mode": {
    "name": "ipython",
    "version": 3
   },
   "file_extension": ".py",
   "mimetype": "text/x-python",
   "name": "python",
   "nbconvert_exporter": "python",
   "pygments_lexer": "ipython3",
   "version": "3.9.12"
  }
 },
 "nbformat": 4,
 "nbformat_minor": 5
}
