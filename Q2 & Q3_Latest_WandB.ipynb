{
 "cells": [
  {
   "cell_type": "code",
   "execution_count": 1,
   "id": "6e1dcb4e",
   "metadata": {},
   "outputs": [
    {
     "name": "stderr",
     "output_type": "stream",
     "text": [
      "\u001b[34m\u001b[1mwandb\u001b[0m: Currently logged in as: \u001b[33mgsathish333\u001b[0m. Use \u001b[1m`wandb login --relogin`\u001b[0m to force relogin\n"
     ]
    },
    {
     "data": {
      "text/plain": [
       "True"
      ]
     },
     "execution_count": 1,
     "metadata": {},
     "output_type": "execute_result"
    }
   ],
   "source": [
    "from keras.datasets import fashion_mnist,mnist\n",
    "import wandb\n",
    "import numpy as np\n",
    "from sklearn.metrics import classification_report\n",
    "import matplotlib.pyplot as plt\n",
    "import seaborn as sns\n",
    "from sklearn.metrics import confusion_matrix\n",
    "import copy\n",
    "import argparse\n",
    "wandb.login()\n"
   ]
  },
  {
   "cell_type": "code",
   "execution_count": 2,
   "id": "f69412cb",
   "metadata": {},
   "outputs": [],
   "source": [
    "class Activation_Functions:\n",
    "    def __init__(self,function):\n",
    "        self.function=function\n",
    "    def getActivations(self,x):\n",
    "        if self.function=='relu':\n",
    "            return np.maximum(0,x)\n",
    "        elif self.function=='sigmoid':\n",
    "            return 1.0/(1+np.exp(-x))\n",
    "        elif self.function=='tanh':\n",
    "            return np.tanh(x)\n",
    "    def getDerivatives(self,x):\n",
    "        if self.function=='relu':\n",
    "             return 1*(x>0)\n",
    "        elif self.function=='sigmoid':\n",
    "            return sigmoid(x)*(1-sigmoid(x))\n",
    "        elif self.function=='tanh':\n",
    "            return (1 - (np.tanh(x)**2))         \n",
    "\n",
    "def relu(x):\n",
    "    return np.maximum(0,x)\n",
    "\n",
    "def reluPrime(x):\n",
    "    return 1*(x>0)\n",
    "\n",
    "class Optimizers:\n",
    "    def __init__(self,method):\n",
    "        self.method=method\n",
    "    def update(self,obj,lr,momentum=0.9,nesterov_beta=0.9,x_batch=None,y_batch=None,lambda_=0,adam_beta1=0.9,adam_beta2=0.99,rms_beta=0.9):\n",
    "        if self.method=='sgd':\n",
    "            for i in range(len(obj.layers)):\n",
    "                obj.weights[i]=obj.weights[i]-lr*(2*lambda_*obj.weights[i]+obj.gradients_w[i])\n",
    "                obj.biases[i]=obj.biases[i]-lr*obj.gradients_b[i]\n",
    "        elif self.method=='momentum':\n",
    "            init=0\n",
    "            new_gradients=[None]*len(obj.gradients_w)\n",
    "            for i in range(len(obj.layers)):\n",
    "                if obj.prev_gradients_w!=None:\n",
    "                    new_gradients[i]=(1-momentum)*obj.gradients_w[i]+obj.prev_gradients_w[i]*momentum\n",
    "                else:\n",
    "                    new_gradients[i]=lr*obj.gradients_w[i]\n",
    "                    \n",
    "                obj.weights[i]=obj.weights[i]-lr*(new_gradients[i]+2*lambda_*obj.weights[i])\n",
    "            obj.prev_gradients_w=new_gradients\n",
    "            \n",
    "            \n",
    "            pass\n",
    "        elif self.method=='rmsprop':\n",
    "            for i in range(len(obj.layers)):\n",
    "                obj.rms_v[i]=rms_beta*obj.rms_v[i]+(1-rms_beta)*(obj.gradients_w[i]**2)\n",
    "                \n",
    "                obj.weights[i]=obj.weights[i]-(lr/(np.sqrt(obj.rms_v[i])+1e-9))*(obj.gradients_w[i])\n",
    "                 \n",
    "                obj.biases[i]=obj.biases[i]-lr*obj.gradients_b[i] \n",
    "                \n",
    "        elif self.method=='adam':\n",
    "            for i in range(len(obj.layers)):\n",
    "                obj.adam_m[i]=adam_beta1*obj.adam_m[i]+(1-adam_beta1)*obj.gradients_w[i]\n",
    "                m_hat=obj.adam_m[i]/(1-np.power(adam_beta1,obj.counter))\n",
    "                \n",
    "                obj.adam_v[i]=adam_beta2*obj.adam_v[i]+(1-adam_beta2)*obj.gradients_w[i]*obj.gradients_w[i]\n",
    "                v_hat=obj.adam_v[i]/(1-np.power(adam_beta2,obj.counter))\n",
    "                obj.weights[i]=obj.weights[i]-(lr/(np.sqrt(v_hat)+1e-9))*m_hat\n",
    "                obj.biases[i]=obj.biases[i]-lr*obj.gradients_b[i]\n",
    "        \n",
    "        elif self.method=='nadam':\n",
    "             for i in range(len(obj.layers)):\n",
    "                obj.adam_m[i]=adam_beta1*obj.adam_m[i]+(1-adam_beta1)*obj.gradients_w[i]\n",
    "                m_hat=obj.adam_m[i]/(1-adam_beta1)\n",
    "                \n",
    "                obj.adam_v[i]=adam_beta2*obj.adam_v[i]+(1-adam_beta2)*obj.gradients_w[i]*obj.gradients_w[i]\n",
    "                v_hat=obj.adam_v[i]/(1-adam_beta2)\n",
    "                obj.weights[i]=obj.weights[i]-(lr/(np.sqrt(v_hat)+10))*m_hat\n",
    "                \n",
    "                obj.weights[i]=obj.weights[i]-(lr*(np.divide((adam_beta1*m_hat)+((1-adam_beta1)/(1-np.power(adam_beta1,obj.counter)))*obj.gradients_w[i],np.sqrt(v_hat)+1e-9)))\n",
    "                obj.biases[i]=obj.biases[i]-lr*obj.gradients_b[i]\n",
    "        elif self.method=='nesterov':\n",
    "            original_weights=obj.weights.copy()\n",
    "            original_graidents=obj.gradients_w.copy()\n",
    "            if obj.prev_gradients_w!=None:\n",
    "                 for i in range(len(obj.layers)):\n",
    "                        obj.weights[i]=obj.weights[i]-nesterov_beta*obj.gradients_w[i]\n",
    "            \n",
    "            layer_outs,inter_values=obj.forward(x_batch)\n",
    "            loss=cross_entropy_loss(layer_outs[-1],y_batch)\n",
    "            if np.isnan(loss):\n",
    "                print(\"* layer outs\"*50)\n",
    "                print(layer_outs[-1])\n",
    "                print(\"* y batch\"*50)\n",
    "                print(y_batch)\n",
    "#             loss=0\n",
    "            obj.compute_deltas(layer_outs,inter_values,y_batch)\n",
    "            obj.find_gradients(x_batch,layer_outs)\n",
    "            \n",
    "            for i in range(len(obj.gradients_w)):\n",
    "                if obj.prev_gradients_w!=None:\n",
    "                    obj.gradients_w[i]=original_graidents[i]*nesterov_beta+obj.gradients_w[i]\n",
    "                obj.weights[i]=original_weights[i]-lr*(obj.gradients_w[i]+2*lambda_*obj.weights[i])\n",
    "            obj.prev_gradients_w=True\n",
    "            return loss\n",
    "\n",
    "\n",
    "\n",
    "\n",
    "def sigmoid(x):\n",
    "    return 1.0/(1.0+1.0*np.exp(-x))\n",
    "def sigmoidPrime(x):\n",
    "    return sigmoid(x)*(1-sigmoid(x))\n",
    "\n",
    "def tanh(x):\n",
    "    return np.tanh(x)\n",
    "\n",
    "def tanhPrime(x):\n",
    "    return (1 - (np.tanh(x)**2))\n",
    "\n",
    "def intialize_weights(method,rows,cols):\n",
    "    if method=='uniform':\n",
    "        return np.random.rand(rows,cols)\n",
    "    elif method=='xavier':\n",
    "        return np.random.randn(rows,cols)*np.sqrt(2/(rows+cols))\n",
    "    else:\n",
    "        return np.random.randn(rows,cols)\n",
    "\n",
    "def soft_max(x):\n",
    "    max_=np.max(x,axis=0)\n",
    "    x=x-max_\n",
    "    return np.exp(x)/np.sum(np.exp(x),axis=0)\n",
    "\n",
    "def soft_max_prime(x):\n",
    "    return soft_max(x)*(1-soft_max(x))\n",
    "    \n",
    "\n",
    "class OneHotEncoder:\n",
    "    def __init__(self,max_):\n",
    "        self.max_=max_\n",
    "    def transform(self,x):\n",
    "        out=np.zeros((len(x),self.max_))\n",
    "        out[np.arange(len(x)),x]=1\n",
    "        return out.T\n",
    "\n",
    "def cross_entropy_loss(y_pre,y):\n",
    "    y_pre[y_pre<1e-15]=1e-15\n",
    "    loss=-np.sum(y*np.log(y_pre))\n",
    "    return loss/float(y_pre.shape[1])\n",
    "\n",
    "def getSig():\n",
    "    return lambda x:1.0/(1+np.exp(-x))\n",
    "\n",
    "def pre_process(x):\n",
    "    x=x.reshape(-1,784)\n",
    "    x=x/255\n",
    "    return x"
   ]
  },
  {
   "cell_type": "code",
   "execution_count": 3,
   "id": "86f8e3b1",
   "metadata": {},
   "outputs": [],
   "source": [
    "class NN:\n",
    "    def __init__(self,input_size,layers,active_func='sigmoid',weights_init='xavier'):\n",
    "        self.input_size=input_size\n",
    "        self.layers=layers\n",
    "        self.nlayers=len(layers)\n",
    "        self.activations=Activation_Functions(wandb.config.activation)\n",
    "        self.optimizer=Optimizers(wandb.config.optimizer)\n",
    "        self.weights=[]\n",
    "        self.weights.append(intialize_weights(weights_init,layers[0],input_size))\n",
    "        self.deltas=[None]*self.nlayers\n",
    "        self.gradients_w=[None]*self.nlayers\n",
    "        self.gradients_b=[None]*self.nlayers\n",
    "        self.prev_gradients_w=None\n",
    "        self.counter=1\n",
    "        self.biases=[]\n",
    "        self.batch_size=wandb.config.batch_size\n",
    "        for i in range(1,len(layers)):\n",
    "            self.weights.append(intialize_weights(weights_init,layers[i],layers[i-1]))\n",
    "        for i in range(len(layers)):\n",
    "            self.biases.append(np.random.randn(layers[i],1))   \n",
    "        \n",
    "        if self.optimizer.method in ['adam','nadam']:\n",
    "            self.adam_m=copy.deepcopy(self.weights)\n",
    "            self.adam_v=copy.deepcopy(self.adam_m)\n",
    "            _=[each.fill(0) for each in self.adam_m]\n",
    "            _=[each.fill(0) for each in self.adam_v]\n",
    "        if self.optimizer.method=='rmsprop':\n",
    "            self.rms_v=copy.deepcopy(self.weights)\n",
    "            _=[each.fill(0) for each in self.rms_v]\n",
    "        \n",
    "        \n",
    "    def forward(self,x):\n",
    "        layer_outputs=[]\n",
    "        inter_values=[]\n",
    "        \n",
    "        for i in range(len(self.weights)):\n",
    "            inter_values.append(self.weights[i].dot(x)+self.biases[i])\n",
    "            if i!= len(self.weights)-1:\n",
    "                layer_outputs.append(self.activations.getActivations(inter_values[-1]))\n",
    "                x=layer_outputs[-1]\n",
    "        layer_outputs.append(soft_max(inter_values[-1]))\n",
    "        return layer_outputs,inter_values\n",
    "    def compute_deltas(self,layer_outputs,inter_values,y_one_hot):\n",
    "#         self.deltas[self.nlayers-1]=(layer_outputs[self.nlayers-1]-y_one_hot)*soft_max_prime(inter_values[self.nlayers-1])\n",
    "        self.deltas[self.nlayers-1]=(layer_outputs[self.nlayers-1]-y_one_hot)\n",
    "        \n",
    "        for i in range(self.nlayers-2,-1,-1):\n",
    "            self.deltas[i]=np.matmul(self.weights[i+1].T,self.deltas[i+1])*self.activations.getDerivatives(inter_values[i])\n",
    "        \n",
    "    def find_gradients(self,x,layer_outs):\n",
    "        self.gradients_w[0]=(np.matmul(self.deltas[0],x.T)+2*wandb.config.L2_lambda*self.weights[0])/self.batch_size\n",
    "        for i in range(1,self.nlayers):\n",
    "            self.gradients_w[i]=(np.dot(self.deltas[i],layer_outs[i-1].T)+2*wandb.config.L2_lambda*self.weights[i])/self.batch_size\n",
    "        for i in range(self.nlayers):\n",
    "            self.gradients_b[i]=np.sum(self.deltas[i],keepdims=True)/self.batch_size\n",
    "             \n",
    "    def update_weights(self,lr):\n",
    "        for each in range(self.nlayers):\n",
    "            self.optimizer.update(self,lr=0.1)\n",
    "    \n",
    "            \n",
    "    def train(self,x,y,x_valid,y_valid,epochs=1):\n",
    "        lr=wandb.config.learning_rate\n",
    "        batch_size=wandb.config.batch_size\n",
    "        train_losses=[]\n",
    "        valid_losses=[] \n",
    "        epochs=wandb.config.epochs\n",
    "        for epoch in range(xepochs):                \n",
    "            i=0\n",
    "            batch_count=0\n",
    "            loss=0.0\n",
    "            while i+batch_size < x.shape[1]:\n",
    "                batch_count+=1\n",
    "                x_batch=x[:,i:i+batch_size]\n",
    "                y_batch=y[:,i:i+batch_size]\n",
    "                i+=batch_size\n",
    "                if self.optimizer.method!='nesterov':\n",
    "                    layer_outs,inter_values=self.forward(x_batch)\n",
    "                    loss+=cross_entropy_loss(layer_outs[-1],y_batch)\n",
    "                    self.compute_deltas(layer_outs,inter_values,y_batch)\n",
    "                    self.find_gradients(x_batch,layer_outs)\n",
    "                    self.optimizer.update(self,lr,0.1,lambda_=0.0005)\n",
    "                else:\n",
    "                    loss+=self.optimizer.update(self,lr,0.001,x_batch=x_batch,y_batch=y_batch,lambda_=0.0005)\n",
    "                self.counter+=1\n",
    "                    \n",
    "            train_losses.append(loss/batch_count)\n",
    "            layer_outs,inter_values=self.forward(x_valid)\n",
    "            valid_loss=cross_entropy_loss(layer_outs[-1],y_valid)/(y_valid.shape[1])\n",
    "            valid_losses.append(valid_loss)\n",
    "            print(f\"epoch {epoch+1} : train loss = {train_losses[-1]} valid loss = {valid_loss}\")\n",
    "            \n",
    "            \n",
    "        tr_ac=self.calc_accuracy(x,y)\n",
    "        val_ac=self.calc_accuracy(x_valid,y_valid)\n",
    "        print(\"train accuracy \",tr_ac)\n",
    "        print(\"valid accuracy \",val_ac);\n",
    "        wandb.log({'accuracy':tr_ac,'val_accuracy':val_ac})\n",
    "        return train_losses,valid_losses\n",
    "    \n",
    "    def predict_probas(self,x):\n",
    "        layer_outs,inter_values=self.forward(x)\n",
    "        return layer_outs[-1]\n",
    "        \n",
    "    def calc_accuracy(self,x,y):\n",
    "        layer_outs,inter_values=self.forward(x)\n",
    "        pred=np.argmax(layer_outs[-1],axis=0)\n",
    "        expected=np.argmax(y,axis=0)\n",
    "        \n",
    "        return (np.sum(pred==expected)/y.shape[1])*100\n",
    "        \n",
    "        "
   ]
  },
  {
   "cell_type": "code",
   "execution_count": 4,
   "id": "e28fd32b",
   "metadata": {},
   "outputs": [],
   "source": [
    "def load_data(dataset='fashion_mnist'):\n",
    "    if dataset=='fashion_mnist':\n",
    "        (x_train, y_train), (x_test, y_test) = fashion_mnist.load_data()\n",
    "    else:\n",
    "        (x_train, y_train), (x_test, y_test) = mnist.load_data()\n",
    "\n",
    "    x_train,x_valid=x_train[:int(len(x_train)*0.8)],x_train[int(len(x_train)*0.8):] #splitting train into train and valid\n",
    "    y_train,y_valid=y_train[:int(len(y_train)*0.8)],y_train[int(len(y_train)*0.8):]\n",
    "\n",
    "    x_train=pre_process(x_train)\n",
    "    x_valid=pre_process(x_valid)\n",
    "    x_test=pre_process(x_test) \n",
    "    \n",
    "    one_hot=OneHotEncoder(10)\n",
    "    y_train=one_hot.transform(y_train)\n",
    "    y_valid=one_hot.transform(y_valid)\n",
    "    y_test=one_hot.transform(y_test)\n",
    "    \n",
    "    \n",
    "    return x_train,y_train,x_valid,y_valid,x_test,y_test\n",
    "    \n",
    "\n",
    "x_train,y_train,x_valid,y_valid,x_test,y_test=load_data()"
   ]
  },
  {
   "cell_type": "code",
   "execution_count": 5,
   "id": "144a2841",
   "metadata": {},
   "outputs": [
    {
     "name": "stdout",
     "output_type": "stream",
     "text": [
      "Create sweep with ID: 2g44jjcf\n",
      "Sweep URL: https://wandb.ai/gsathish333/main_sweeps_V3/sweeps/2g44jjcf\n"
     ]
    }
   ],
   "source": [
    "sweep_config = {\n",
    "    'method': 'grid', #grid, random\n",
    "    'metric': {\n",
    "      'name': 'val_accuracy',\n",
    "      'goal': 'maximize'  \n",
    "    },\n",
    "    'parameters': {\n",
    "        'epochs': {\n",
    "            'values': [5,10]\n",
    "        },\n",
    "        'num_layers':{\n",
    "            'values':[3,4,5]\n",
    "        },\n",
    "         'layer_size':{\n",
    "            'values':[32,64,128]\n",
    "        },\n",
    "        'L2_lambda':{\n",
    "            'values':[0,0.0005,0.5]\n",
    "        },\n",
    "         'learning_rate':{\n",
    "            'values':[0.1,0.01,0.001]\n",
    "        },\n",
    "         'optimizer': {\n",
    "            'values': ['sgd','momentum','nesterov','rmsprop','adam','nesterov']\n",
    "        },\n",
    "        'batch_size': {\n",
    "            'values': [16,32,64]\n",
    "        },\n",
    "         'intialization':{\n",
    "            'values':['normal','random','xavier']\n",
    "        },\n",
    "        'activation': {\n",
    "            'values': ['sigmoid','tanh','relu']\n",
    "        },      \n",
    "        \n",
    "    }\n",
    "}\n",
    "\n",
    "sweep_id = wandb.sweep(sweep=sweep_config, project='main_sweeps_V3')"
   ]
  },
  {
   "cell_type": "code",
   "execution_count": 34,
   "id": "2fc5e41b",
   "metadata": {},
   "outputs": [
    {
     "name": "stderr",
     "output_type": "stream",
     "text": [
      "\u001b[34m\u001b[1mwandb\u001b[0m: Agent Starting Run: 69uccak8 with config:\n",
      "\u001b[34m\u001b[1mwandb\u001b[0m: \tL2_lambda: 0\n",
      "\u001b[34m\u001b[1mwandb\u001b[0m: \tactivation: sigmoid\n",
      "\u001b[34m\u001b[1mwandb\u001b[0m: \tbatch_size: 16\n",
      "\u001b[34m\u001b[1mwandb\u001b[0m: \tepochs: 5\n",
      "\u001b[34m\u001b[1mwandb\u001b[0m: \tintialization: normal\n",
      "\u001b[34m\u001b[1mwandb\u001b[0m: \tlayer_size: 32\n",
      "\u001b[34m\u001b[1mwandb\u001b[0m: \tlearning_rate: 0.1\n",
      "\u001b[34m\u001b[1mwandb\u001b[0m: \tnum_layers: 3\n",
      "\u001b[34m\u001b[1mwandb\u001b[0m: \toptimizer: sgd\n"
     ]
    },
    {
     "data": {
      "text/html": [
       "Tracking run with wandb version 0.13.10"
      ],
      "text/plain": [
       "<IPython.core.display.HTML object>"
      ]
     },
     "metadata": {},
     "output_type": "display_data"
    },
    {
     "data": {
      "text/html": [
       "Run data is saved locally in <code>/Users/sathish/Desktop/DL_temp/DL_Assignment_1/wandb/run-20230306_032846-69uccak8</code>"
      ],
      "text/plain": [
       "<IPython.core.display.HTML object>"
      ]
     },
     "metadata": {},
     "output_type": "display_data"
    },
    {
     "data": {
      "text/html": [
       "Syncing run <strong><a href='https://wandb.ai/gsathish333/main_sweeps_V3/runs/69uccak8' target=\"_blank\">warm-sweep-1</a></strong> to <a href='https://wandb.ai/gsathish333/main_sweeps_V3' target=\"_blank\">Weights & Biases</a> (<a href='https://wandb.me/run' target=\"_blank\">docs</a>)<br/>Sweep page: <a href='https://wandb.ai/gsathish333/main_sweeps_V3/sweeps/pczmd77s' target=\"_blank\">https://wandb.ai/gsathish333/main_sweeps_V3/sweeps/pczmd77s</a>"
      ],
      "text/plain": [
       "<IPython.core.display.HTML object>"
      ]
     },
     "metadata": {},
     "output_type": "display_data"
    },
    {
     "data": {
      "text/html": [
       " View project at <a href='https://wandb.ai/gsathish333/main_sweeps_V3' target=\"_blank\">https://wandb.ai/gsathish333/main_sweeps_V3</a>"
      ],
      "text/plain": [
       "<IPython.core.display.HTML object>"
      ]
     },
     "metadata": {},
     "output_type": "display_data"
    },
    {
     "data": {
      "text/html": [
       " View sweep at <a href='https://wandb.ai/gsathish333/main_sweeps_V3/sweeps/pczmd77s' target=\"_blank\">https://wandb.ai/gsathish333/main_sweeps_V3/sweeps/pczmd77s</a>"
      ],
      "text/plain": [
       "<IPython.core.display.HTML object>"
      ]
     },
     "metadata": {},
     "output_type": "display_data"
    },
    {
     "data": {
      "text/html": [
       " View run at <a href='https://wandb.ai/gsathish333/main_sweeps_V3/runs/69uccak8' target=\"_blank\">https://wandb.ai/gsathish333/main_sweeps_V3/runs/69uccak8</a>"
      ],
      "text/plain": [
       "<IPython.core.display.HTML object>"
      ]
     },
     "metadata": {},
     "output_type": "display_data"
    },
    {
     "name": "stdout",
     "output_type": "stream",
     "text": [
      "epoch 1 : train loss = 1.5077584181044346 valid loss = 7.341736303439495e-05\n",
      "epoch 2 : train loss = 0.7658766764343988 valid loss = 5.5418321916522455e-05\n",
      "epoch 3 : train loss = 0.6378783679551191 valid loss = 4.819583884319766e-05\n",
      "epoch 4 : train loss = 0.575243291905668 valid loss = 4.489843442166284e-05\n",
      "epoch 5 : train loss = 0.5411583263082237 valid loss = 4.254730244662275e-05\n",
      "train accuracy  82.88333333333333\n",
      "valid accuracy  82.29166666666666\n"
     ]
    },
    {
     "data": {
      "text/html": [
       "Waiting for W&B process to finish... <strong style=\"color:green\">(success).</strong>"
      ],
      "text/plain": [
       "<IPython.core.display.HTML object>"
      ]
     },
     "metadata": {},
     "output_type": "display_data"
    },
    {
     "data": {
      "application/vnd.jupyter.widget-view+json": {
       "model_id": "f593cc8a6b6c4c0fbfd2090c98cbc725",
       "version_major": 2,
       "version_minor": 0
      },
      "text/plain": [
       "VBox(children=(Label(value='0.001 MB of 0.001 MB uploaded (0.000 MB deduped)\\r'), FloatProgress(value=1.0, max…"
      ]
     },
     "metadata": {},
     "output_type": "display_data"
    },
    {
     "data": {
      "text/html": [
       "<style>\n",
       "    table.wandb td:nth-child(1) { padding: 0 10px; text-align: left ; width: auto;} td:nth-child(2) {text-align: left ; width: 100%}\n",
       "    .wandb-row { display: flex; flex-direction: row; flex-wrap: wrap; justify-content: flex-start; width: 100% }\n",
       "    .wandb-col { display: flex; flex-direction: column; flex-basis: 100%; flex: 1; padding: 10px; }\n",
       "    </style>\n",
       "<div class=\"wandb-row\"><div class=\"wandb-col\"><h3>Run history:</h3><br/><table class=\"wandb\"><tr><td>accuracy</td><td>▁</td></tr><tr><td>val_accuracy</td><td>▁</td></tr></table><br/></div><div class=\"wandb-col\"><h3>Run summary:</h3><br/><table class=\"wandb\"><tr><td>accuracy</td><td>82.88333</td></tr><tr><td>val_accuracy</td><td>82.29167</td></tr></table><br/></div></div>"
      ],
      "text/plain": [
       "<IPython.core.display.HTML object>"
      ]
     },
     "metadata": {},
     "output_type": "display_data"
    },
    {
     "data": {
      "text/html": [
       " View run <strong style=\"color:#cdcd00\">warm-sweep-1</strong> at: <a href='https://wandb.ai/gsathish333/main_sweeps_V3/runs/69uccak8' target=\"_blank\">https://wandb.ai/gsathish333/main_sweeps_V3/runs/69uccak8</a><br/>Synced 6 W&B file(s), 0 media file(s), 0 artifact file(s) and 0 other file(s)"
      ],
      "text/plain": [
       "<IPython.core.display.HTML object>"
      ]
     },
     "metadata": {},
     "output_type": "display_data"
    },
    {
     "data": {
      "text/html": [
       "Find logs at: <code>./wandb/run-20230306_032846-69uccak8/logs</code>"
      ],
      "text/plain": [
       "<IPython.core.display.HTML object>"
      ]
     },
     "metadata": {},
     "output_type": "display_data"
    },
    {
     "name": "stderr",
     "output_type": "stream",
     "text": [
      "\u001b[34m\u001b[1mwandb\u001b[0m: Agent Starting Run: pome64lw with config:\n",
      "\u001b[34m\u001b[1mwandb\u001b[0m: \tL2_lambda: 0\n",
      "\u001b[34m\u001b[1mwandb\u001b[0m: \tactivation: sigmoid\n",
      "\u001b[34m\u001b[1mwandb\u001b[0m: \tbatch_size: 16\n",
      "\u001b[34m\u001b[1mwandb\u001b[0m: \tepochs: 5\n",
      "\u001b[34m\u001b[1mwandb\u001b[0m: \tintialization: normal\n",
      "\u001b[34m\u001b[1mwandb\u001b[0m: \tlayer_size: 32\n",
      "\u001b[34m\u001b[1mwandb\u001b[0m: \tlearning_rate: 0.1\n",
      "\u001b[34m\u001b[1mwandb\u001b[0m: \tnum_layers: 3\n",
      "\u001b[34m\u001b[1mwandb\u001b[0m: \toptimizer: momentum\n"
     ]
    },
    {
     "data": {
      "text/html": [
       "Tracking run with wandb version 0.13.10"
      ],
      "text/plain": [
       "<IPython.core.display.HTML object>"
      ]
     },
     "metadata": {},
     "output_type": "display_data"
    },
    {
     "data": {
      "text/html": [
       "Run data is saved locally in <code>/Users/sathish/Desktop/DL_temp/DL_Assignment_1/wandb/run-20230306_032914-pome64lw</code>"
      ],
      "text/plain": [
       "<IPython.core.display.HTML object>"
      ]
     },
     "metadata": {},
     "output_type": "display_data"
    },
    {
     "data": {
      "text/html": [
       "Syncing run <strong><a href='https://wandb.ai/gsathish333/main_sweeps_V3/runs/pome64lw' target=\"_blank\">grateful-sweep-2</a></strong> to <a href='https://wandb.ai/gsathish333/main_sweeps_V3' target=\"_blank\">Weights & Biases</a> (<a href='https://wandb.me/run' target=\"_blank\">docs</a>)<br/>Sweep page: <a href='https://wandb.ai/gsathish333/main_sweeps_V3/sweeps/pczmd77s' target=\"_blank\">https://wandb.ai/gsathish333/main_sweeps_V3/sweeps/pczmd77s</a>"
      ],
      "text/plain": [
       "<IPython.core.display.HTML object>"
      ]
     },
     "metadata": {},
     "output_type": "display_data"
    },
    {
     "data": {
      "text/html": [
       " View project at <a href='https://wandb.ai/gsathish333/main_sweeps_V3' target=\"_blank\">https://wandb.ai/gsathish333/main_sweeps_V3</a>"
      ],
      "text/plain": [
       "<IPython.core.display.HTML object>"
      ]
     },
     "metadata": {},
     "output_type": "display_data"
    },
    {
     "data": {
      "text/html": [
       " View sweep at <a href='https://wandb.ai/gsathish333/main_sweeps_V3/sweeps/pczmd77s' target=\"_blank\">https://wandb.ai/gsathish333/main_sweeps_V3/sweeps/pczmd77s</a>"
      ],
      "text/plain": [
       "<IPython.core.display.HTML object>"
      ]
     },
     "metadata": {},
     "output_type": "display_data"
    },
    {
     "data": {
      "text/html": [
       " View run at <a href='https://wandb.ai/gsathish333/main_sweeps_V3/runs/pome64lw' target=\"_blank\">https://wandb.ai/gsathish333/main_sweeps_V3/runs/pome64lw</a>"
      ],
      "text/plain": [
       "<IPython.core.display.HTML object>"
      ]
     },
     "metadata": {},
     "output_type": "display_data"
    },
    {
     "name": "stdout",
     "output_type": "stream",
     "text": [
      "epoch 1 : train loss = 1.496320305675561 valid loss = 7.10149626279799e-05\n",
      "epoch 2 : train loss = 0.7443355061287537 valid loss = 5.274269954950156e-05\n",
      "epoch 3 : train loss = 0.6115788588802396 valid loss = 4.6689399939771086e-05\n",
      "epoch 4 : train loss = 0.555178837684948 valid loss = 4.3076989622156356e-05\n",
      "epoch 5 : train loss = 0.5149499346095565 valid loss = 4.0304612878735215e-05\n",
      "train accuracy  84.0625\n",
      "valid accuracy  83.5\n"
     ]
    },
    {
     "data": {
      "text/html": [
       "Waiting for W&B process to finish... <strong style=\"color:green\">(success).</strong>"
      ],
      "text/plain": [
       "<IPython.core.display.HTML object>"
      ]
     },
     "metadata": {},
     "output_type": "display_data"
    },
    {
     "data": {
      "application/vnd.jupyter.widget-view+json": {
       "model_id": "ad0363847f1d423ca6ec538875c9bfbe",
       "version_major": 2,
       "version_minor": 0
      },
      "text/plain": [
       "VBox(children=(Label(value='0.001 MB of 0.001 MB uploaded (0.000 MB deduped)\\r'), FloatProgress(value=1.0, max…"
      ]
     },
     "metadata": {},
     "output_type": "display_data"
    },
    {
     "data": {
      "text/html": [
       "<style>\n",
       "    table.wandb td:nth-child(1) { padding: 0 10px; text-align: left ; width: auto;} td:nth-child(2) {text-align: left ; width: 100%}\n",
       "    .wandb-row { display: flex; flex-direction: row; flex-wrap: wrap; justify-content: flex-start; width: 100% }\n",
       "    .wandb-col { display: flex; flex-direction: column; flex-basis: 100%; flex: 1; padding: 10px; }\n",
       "    </style>\n",
       "<div class=\"wandb-row\"><div class=\"wandb-col\"><h3>Run history:</h3><br/><table class=\"wandb\"><tr><td>accuracy</td><td>▁</td></tr><tr><td>val_accuracy</td><td>▁</td></tr></table><br/></div><div class=\"wandb-col\"><h3>Run summary:</h3><br/><table class=\"wandb\"><tr><td>accuracy</td><td>84.0625</td></tr><tr><td>val_accuracy</td><td>83.5</td></tr></table><br/></div></div>"
      ],
      "text/plain": [
       "<IPython.core.display.HTML object>"
      ]
     },
     "metadata": {},
     "output_type": "display_data"
    },
    {
     "data": {
      "text/html": [
       " View run <strong style=\"color:#cdcd00\">grateful-sweep-2</strong> at: <a href='https://wandb.ai/gsathish333/main_sweeps_V3/runs/pome64lw' target=\"_blank\">https://wandb.ai/gsathish333/main_sweeps_V3/runs/pome64lw</a><br/>Synced 6 W&B file(s), 0 media file(s), 0 artifact file(s) and 0 other file(s)"
      ],
      "text/plain": [
       "<IPython.core.display.HTML object>"
      ]
     },
     "metadata": {},
     "output_type": "display_data"
    },
    {
     "data": {
      "text/html": [
       "Find logs at: <code>./wandb/run-20230306_032914-pome64lw/logs</code>"
      ],
      "text/plain": [
       "<IPython.core.display.HTML object>"
      ]
     },
     "metadata": {},
     "output_type": "display_data"
    },
    {
     "name": "stderr",
     "output_type": "stream",
     "text": [
      "\u001b[34m\u001b[1mwandb\u001b[0m: Agent Starting Run: yc7iesme with config:\n",
      "\u001b[34m\u001b[1mwandb\u001b[0m: \tL2_lambda: 0\n",
      "\u001b[34m\u001b[1mwandb\u001b[0m: \tactivation: sigmoid\n",
      "\u001b[34m\u001b[1mwandb\u001b[0m: \tbatch_size: 16\n",
      "\u001b[34m\u001b[1mwandb\u001b[0m: \tepochs: 5\n",
      "\u001b[34m\u001b[1mwandb\u001b[0m: \tintialization: normal\n",
      "\u001b[34m\u001b[1mwandb\u001b[0m: \tlayer_size: 32\n",
      "\u001b[34m\u001b[1mwandb\u001b[0m: \tlearning_rate: 0.1\n",
      "\u001b[34m\u001b[1mwandb\u001b[0m: \tnum_layers: 3\n",
      "\u001b[34m\u001b[1mwandb\u001b[0m: \toptimizer: nesterov\n"
     ]
    },
    {
     "data": {
      "text/html": [
       "Tracking run with wandb version 0.13.10"
      ],
      "text/plain": [
       "<IPython.core.display.HTML object>"
      ]
     },
     "metadata": {},
     "output_type": "display_data"
    },
    {
     "data": {
      "text/html": [
       "Run data is saved locally in <code>/Users/sathish/Desktop/DL_temp/DL_Assignment_1/wandb/run-20230306_032941-yc7iesme</code>"
      ],
      "text/plain": [
       "<IPython.core.display.HTML object>"
      ]
     },
     "metadata": {},
     "output_type": "display_data"
    },
    {
     "data": {
      "text/html": [
       "Syncing run <strong><a href='https://wandb.ai/gsathish333/main_sweeps_V3/runs/yc7iesme' target=\"_blank\">quiet-sweep-3</a></strong> to <a href='https://wandb.ai/gsathish333/main_sweeps_V3' target=\"_blank\">Weights & Biases</a> (<a href='https://wandb.me/run' target=\"_blank\">docs</a>)<br/>Sweep page: <a href='https://wandb.ai/gsathish333/main_sweeps_V3/sweeps/pczmd77s' target=\"_blank\">https://wandb.ai/gsathish333/main_sweeps_V3/sweeps/pczmd77s</a>"
      ],
      "text/plain": [
       "<IPython.core.display.HTML object>"
      ]
     },
     "metadata": {},
     "output_type": "display_data"
    },
    {
     "data": {
      "text/html": [
       " View project at <a href='https://wandb.ai/gsathish333/main_sweeps_V3' target=\"_blank\">https://wandb.ai/gsathish333/main_sweeps_V3</a>"
      ],
      "text/plain": [
       "<IPython.core.display.HTML object>"
      ]
     },
     "metadata": {},
     "output_type": "display_data"
    },
    {
     "data": {
      "text/html": [
       " View sweep at <a href='https://wandb.ai/gsathish333/main_sweeps_V3/sweeps/pczmd77s' target=\"_blank\">https://wandb.ai/gsathish333/main_sweeps_V3/sweeps/pczmd77s</a>"
      ],
      "text/plain": [
       "<IPython.core.display.HTML object>"
      ]
     },
     "metadata": {},
     "output_type": "display_data"
    },
    {
     "data": {
      "text/html": [
       " View run at <a href='https://wandb.ai/gsathish333/main_sweeps_V3/runs/yc7iesme' target=\"_blank\">https://wandb.ai/gsathish333/main_sweeps_V3/runs/yc7iesme</a>"
      ],
      "text/plain": [
       "<IPython.core.display.HTML object>"
      ]
     },
     "metadata": {},
     "output_type": "display_data"
    },
    {
     "name": "stdout",
     "output_type": "stream",
     "text": [
      "epoch 1 : train loss = 0.7790258470403844 valid loss = 4.160088737017853e-05\n",
      "epoch 2 : train loss = 0.5250809893853642 valid loss = 3.7560733906828165e-05\n",
      "epoch 3 : train loss = 0.4765041113396134 valid loss = 3.6015571266187986e-05\n",
      "epoch 4 : train loss = 0.45787100342738674 valid loss = 3.359235438414717e-05\n",
      "epoch 5 : train loss = 0.44101018702441713 valid loss = 3.361148739159296e-05\n",
      "train accuracy  86.08125\n",
      "valid accuracy  85.41666666666666\n"
     ]
    },
    {
     "data": {
      "text/html": [
       "Waiting for W&B process to finish... <strong style=\"color:green\">(success).</strong>"
      ],
      "text/plain": [
       "<IPython.core.display.HTML object>"
      ]
     },
     "metadata": {},
     "output_type": "display_data"
    },
    {
     "data": {
      "application/vnd.jupyter.widget-view+json": {
       "model_id": "0beadd6387f149298be15deea67fa813",
       "version_major": 2,
       "version_minor": 0
      },
      "text/plain": [
       "VBox(children=(Label(value='0.001 MB of 0.024 MB uploaded (0.000 MB deduped)\\r'), FloatProgress(value=0.042515…"
      ]
     },
     "metadata": {},
     "output_type": "display_data"
    },
    {
     "data": {
      "text/html": [
       "<style>\n",
       "    table.wandb td:nth-child(1) { padding: 0 10px; text-align: left ; width: auto;} td:nth-child(2) {text-align: left ; width: 100%}\n",
       "    .wandb-row { display: flex; flex-direction: row; flex-wrap: wrap; justify-content: flex-start; width: 100% }\n",
       "    .wandb-col { display: flex; flex-direction: column; flex-basis: 100%; flex: 1; padding: 10px; }\n",
       "    </style>\n",
       "<div class=\"wandb-row\"><div class=\"wandb-col\"><h3>Run history:</h3><br/><table class=\"wandb\"><tr><td>accuracy</td><td>▁</td></tr><tr><td>val_accuracy</td><td>▁</td></tr></table><br/></div><div class=\"wandb-col\"><h3>Run summary:</h3><br/><table class=\"wandb\"><tr><td>accuracy</td><td>86.08125</td></tr><tr><td>val_accuracy</td><td>85.41667</td></tr></table><br/></div></div>"
      ],
      "text/plain": [
       "<IPython.core.display.HTML object>"
      ]
     },
     "metadata": {},
     "output_type": "display_data"
    },
    {
     "data": {
      "text/html": [
       " View run <strong style=\"color:#cdcd00\">quiet-sweep-3</strong> at: <a href='https://wandb.ai/gsathish333/main_sweeps_V3/runs/yc7iesme' target=\"_blank\">https://wandb.ai/gsathish333/main_sweeps_V3/runs/yc7iesme</a><br/>Synced 6 W&B file(s), 0 media file(s), 0 artifact file(s) and 0 other file(s)"
      ],
      "text/plain": [
       "<IPython.core.display.HTML object>"
      ]
     },
     "metadata": {},
     "output_type": "display_data"
    },
    {
     "data": {
      "text/html": [
       "Find logs at: <code>./wandb/run-20230306_032941-yc7iesme/logs</code>"
      ],
      "text/plain": [
       "<IPython.core.display.HTML object>"
      ]
     },
     "metadata": {},
     "output_type": "display_data"
    },
    {
     "name": "stderr",
     "output_type": "stream",
     "text": [
      "\u001b[34m\u001b[1mwandb\u001b[0m: Agent Starting Run: l8r0e8b7 with config:\n",
      "\u001b[34m\u001b[1mwandb\u001b[0m: \tL2_lambda: 0\n",
      "\u001b[34m\u001b[1mwandb\u001b[0m: \tactivation: sigmoid\n",
      "\u001b[34m\u001b[1mwandb\u001b[0m: \tbatch_size: 16\n",
      "\u001b[34m\u001b[1mwandb\u001b[0m: \tepochs: 5\n",
      "\u001b[34m\u001b[1mwandb\u001b[0m: \tintialization: normal\n",
      "\u001b[34m\u001b[1mwandb\u001b[0m: \tlayer_size: 32\n",
      "\u001b[34m\u001b[1mwandb\u001b[0m: \tlearning_rate: 0.1\n",
      "\u001b[34m\u001b[1mwandb\u001b[0m: \tnum_layers: 3\n",
      "\u001b[34m\u001b[1mwandb\u001b[0m: \toptimizer: rmsprop\n"
     ]
    },
    {
     "data": {
      "text/html": [
       "Tracking run with wandb version 0.13.10"
      ],
      "text/plain": [
       "<IPython.core.display.HTML object>"
      ]
     },
     "metadata": {},
     "output_type": "display_data"
    },
    {
     "data": {
      "text/html": [
       "Run data is saved locally in <code>/Users/sathish/Desktop/DL_temp/DL_Assignment_1/wandb/run-20230306_033008-l8r0e8b7</code>"
      ],
      "text/plain": [
       "<IPython.core.display.HTML object>"
      ]
     },
     "metadata": {},
     "output_type": "display_data"
    },
    {
     "data": {
      "text/html": [
       "Syncing run <strong><a href='https://wandb.ai/gsathish333/main_sweeps_V3/runs/l8r0e8b7' target=\"_blank\">cool-sweep-4</a></strong> to <a href='https://wandb.ai/gsathish333/main_sweeps_V3' target=\"_blank\">Weights & Biases</a> (<a href='https://wandb.me/run' target=\"_blank\">docs</a>)<br/>Sweep page: <a href='https://wandb.ai/gsathish333/main_sweeps_V3/sweeps/pczmd77s' target=\"_blank\">https://wandb.ai/gsathish333/main_sweeps_V3/sweeps/pczmd77s</a>"
      ],
      "text/plain": [
       "<IPython.core.display.HTML object>"
      ]
     },
     "metadata": {},
     "output_type": "display_data"
    },
    {
     "data": {
      "text/html": [
       " View project at <a href='https://wandb.ai/gsathish333/main_sweeps_V3' target=\"_blank\">https://wandb.ai/gsathish333/main_sweeps_V3</a>"
      ],
      "text/plain": [
       "<IPython.core.display.HTML object>"
      ]
     },
     "metadata": {},
     "output_type": "display_data"
    },
    {
     "data": {
      "text/html": [
       " View sweep at <a href='https://wandb.ai/gsathish333/main_sweeps_V3/sweeps/pczmd77s' target=\"_blank\">https://wandb.ai/gsathish333/main_sweeps_V3/sweeps/pczmd77s</a>"
      ],
      "text/plain": [
       "<IPython.core.display.HTML object>"
      ]
     },
     "metadata": {},
     "output_type": "display_data"
    },
    {
     "data": {
      "text/html": [
       " View run at <a href='https://wandb.ai/gsathish333/main_sweeps_V3/runs/l8r0e8b7' target=\"_blank\">https://wandb.ai/gsathish333/main_sweeps_V3/runs/l8r0e8b7</a>"
      ],
      "text/plain": [
       "<IPython.core.display.HTML object>"
      ]
     },
     "metadata": {},
     "output_type": "display_data"
    },
    {
     "name": "stderr",
     "output_type": "stream",
     "text": [
      "/var/folders/v8/pvrhyj2x1kdb1h8pp09t18b40000gn/T/ipykernel_9102/2839676318.py:8: RuntimeWarning: overflow encountered in exp\n",
      "  return 1.0/(1+np.exp(-x))\n",
      "/var/folders/v8/pvrhyj2x1kdb1h8pp09t18b40000gn/T/ipykernel_9102/2839676318.py:105: RuntimeWarning: overflow encountered in exp\n",
      "  return 1.0/(1.0+1.0*np.exp(-x))\n"
     ]
    },
    {
     "name": "stdout",
     "output_type": "stream",
     "text": [
      "epoch 1 : train loss = 1.2462674501891624 valid loss = 0.00010372638854554555\n",
      "epoch 2 : train loss = 1.1080625174261511 valid loss = 7.889587357677668e-05\n",
      "epoch 3 : train loss = 1.117739190073255 valid loss = 8.998979385020585e-05\n",
      "epoch 4 : train loss = 1.1771969752103972 valid loss = 9.840894271270367e-05\n",
      "epoch 5 : train loss = 1.1803111201682606 valid loss = 0.00010978083922833916\n",
      "train accuracy  62.860416666666666\n",
      "valid accuracy  62.824999999999996\n"
     ]
    },
    {
     "data": {
      "text/html": [
       "Waiting for W&B process to finish... <strong style=\"color:green\">(success).</strong>"
      ],
      "text/plain": [
       "<IPython.core.display.HTML object>"
      ]
     },
     "metadata": {},
     "output_type": "display_data"
    },
    {
     "data": {
      "text/html": [
       "<style>\n",
       "    table.wandb td:nth-child(1) { padding: 0 10px; text-align: left ; width: auto;} td:nth-child(2) {text-align: left ; width: 100%}\n",
       "    .wandb-row { display: flex; flex-direction: row; flex-wrap: wrap; justify-content: flex-start; width: 100% }\n",
       "    .wandb-col { display: flex; flex-direction: column; flex-basis: 100%; flex: 1; padding: 10px; }\n",
       "    </style>\n",
       "<div class=\"wandb-row\"><div class=\"wandb-col\"><h3>Run history:</h3><br/><table class=\"wandb\"><tr><td>accuracy</td><td>▁</td></tr><tr><td>val_accuracy</td><td>▁</td></tr></table><br/></div><div class=\"wandb-col\"><h3>Run summary:</h3><br/><table class=\"wandb\"><tr><td>accuracy</td><td>62.86042</td></tr><tr><td>val_accuracy</td><td>62.825</td></tr></table><br/></div></div>"
      ],
      "text/plain": [
       "<IPython.core.display.HTML object>"
      ]
     },
     "metadata": {},
     "output_type": "display_data"
    },
    {
     "data": {
      "text/html": [
       " View run <strong style=\"color:#cdcd00\">cool-sweep-4</strong> at: <a href='https://wandb.ai/gsathish333/main_sweeps_V3/runs/l8r0e8b7' target=\"_blank\">https://wandb.ai/gsathish333/main_sweeps_V3/runs/l8r0e8b7</a><br/>Synced 6 W&B file(s), 0 media file(s), 0 artifact file(s) and 0 other file(s)"
      ],
      "text/plain": [
       "<IPython.core.display.HTML object>"
      ]
     },
     "metadata": {},
     "output_type": "display_data"
    },
    {
     "data": {
      "text/html": [
       "Find logs at: <code>./wandb/run-20230306_033008-l8r0e8b7/logs</code>"
      ],
      "text/plain": [
       "<IPython.core.display.HTML object>"
      ]
     },
     "metadata": {},
     "output_type": "display_data"
    },
    {
     "name": "stderr",
     "output_type": "stream",
     "text": [
      "\u001b[34m\u001b[1mwandb\u001b[0m: Agent Starting Run: vqdqpmo0 with config:\n",
      "\u001b[34m\u001b[1mwandb\u001b[0m: \tL2_lambda: 0\n",
      "\u001b[34m\u001b[1mwandb\u001b[0m: \tactivation: sigmoid\n",
      "\u001b[34m\u001b[1mwandb\u001b[0m: \tbatch_size: 16\n",
      "\u001b[34m\u001b[1mwandb\u001b[0m: \tepochs: 5\n",
      "\u001b[34m\u001b[1mwandb\u001b[0m: \tintialization: normal\n",
      "\u001b[34m\u001b[1mwandb\u001b[0m: \tlayer_size: 32\n",
      "\u001b[34m\u001b[1mwandb\u001b[0m: \tlearning_rate: 0.1\n",
      "\u001b[34m\u001b[1mwandb\u001b[0m: \tnum_layers: 3\n",
      "\u001b[34m\u001b[1mwandb\u001b[0m: \toptimizer: adam\n"
     ]
    },
    {
     "data": {
      "text/html": [
       "Tracking run with wandb version 0.13.10"
      ],
      "text/plain": [
       "<IPython.core.display.HTML object>"
      ]
     },
     "metadata": {},
     "output_type": "display_data"
    },
    {
     "data": {
      "text/html": [
       "Run data is saved locally in <code>/Users/sathish/Desktop/DL_temp/DL_Assignment_1/wandb/run-20230306_033036-vqdqpmo0</code>"
      ],
      "text/plain": [
       "<IPython.core.display.HTML object>"
      ]
     },
     "metadata": {},
     "output_type": "display_data"
    },
    {
     "data": {
      "text/html": [
       "Syncing run <strong><a href='https://wandb.ai/gsathish333/main_sweeps_V3/runs/vqdqpmo0' target=\"_blank\">dainty-sweep-5</a></strong> to <a href='https://wandb.ai/gsathish333/main_sweeps_V3' target=\"_blank\">Weights & Biases</a> (<a href='https://wandb.me/run' target=\"_blank\">docs</a>)<br/>Sweep page: <a href='https://wandb.ai/gsathish333/main_sweeps_V3/sweeps/pczmd77s' target=\"_blank\">https://wandb.ai/gsathish333/main_sweeps_V3/sweeps/pczmd77s</a>"
      ],
      "text/plain": [
       "<IPython.core.display.HTML object>"
      ]
     },
     "metadata": {},
     "output_type": "display_data"
    },
    {
     "data": {
      "text/html": [
       " View project at <a href='https://wandb.ai/gsathish333/main_sweeps_V3' target=\"_blank\">https://wandb.ai/gsathish333/main_sweeps_V3</a>"
      ],
      "text/plain": [
       "<IPython.core.display.HTML object>"
      ]
     },
     "metadata": {},
     "output_type": "display_data"
    },
    {
     "data": {
      "text/html": [
       " View sweep at <a href='https://wandb.ai/gsathish333/main_sweeps_V3/sweeps/pczmd77s' target=\"_blank\">https://wandb.ai/gsathish333/main_sweeps_V3/sweeps/pczmd77s</a>"
      ],
      "text/plain": [
       "<IPython.core.display.HTML object>"
      ]
     },
     "metadata": {},
     "output_type": "display_data"
    },
    {
     "data": {
      "text/html": [
       " View run at <a href='https://wandb.ai/gsathish333/main_sweeps_V3/runs/vqdqpmo0' target=\"_blank\">https://wandb.ai/gsathish333/main_sweeps_V3/runs/vqdqpmo0</a>"
      ],
      "text/plain": [
       "<IPython.core.display.HTML object>"
      ]
     },
     "metadata": {},
     "output_type": "display_data"
    },
    {
     "name": "stderr",
     "output_type": "stream",
     "text": [
      "/var/folders/v8/pvrhyj2x1kdb1h8pp09t18b40000gn/T/ipykernel_9102/2839676318.py:8: RuntimeWarning: overflow encountered in exp\n",
      "  return 1.0/(1+np.exp(-x))\n",
      "/var/folders/v8/pvrhyj2x1kdb1h8pp09t18b40000gn/T/ipykernel_9102/2839676318.py:105: RuntimeWarning: overflow encountered in exp\n",
      "  return 1.0/(1.0+1.0*np.exp(-x))\n"
     ]
    },
    {
     "name": "stdout",
     "output_type": "stream",
     "text": [
      "epoch 1 : train loss = 1.3242938482870015 valid loss = 0.00010551096868543053\n",
      "epoch 2 : train loss = 1.3181179782344052 valid loss = 0.00010786601400615333\n",
      "epoch 3 : train loss = 1.275252602610528 valid loss = 0.00010994205834490089\n",
      "epoch 4 : train loss = 1.250268250985646 valid loss = 9.749311009487356e-05\n",
      "epoch 5 : train loss = 1.2011189044894635 valid loss = 0.00011628107590521146\n",
      "train accuracy  45.256249999999994\n",
      "valid accuracy  45.45\n"
     ]
    },
    {
     "data": {
      "text/html": [
       "Waiting for W&B process to finish... <strong style=\"color:green\">(success).</strong>"
      ],
      "text/plain": [
       "<IPython.core.display.HTML object>"
      ]
     },
     "metadata": {},
     "output_type": "display_data"
    },
    {
     "data": {
      "text/html": [
       "<style>\n",
       "    table.wandb td:nth-child(1) { padding: 0 10px; text-align: left ; width: auto;} td:nth-child(2) {text-align: left ; width: 100%}\n",
       "    .wandb-row { display: flex; flex-direction: row; flex-wrap: wrap; justify-content: flex-start; width: 100% }\n",
       "    .wandb-col { display: flex; flex-direction: column; flex-basis: 100%; flex: 1; padding: 10px; }\n",
       "    </style>\n",
       "<div class=\"wandb-row\"><div class=\"wandb-col\"><h3>Run history:</h3><br/><table class=\"wandb\"><tr><td>accuracy</td><td>▁</td></tr><tr><td>val_accuracy</td><td>▁</td></tr></table><br/></div><div class=\"wandb-col\"><h3>Run summary:</h3><br/><table class=\"wandb\"><tr><td>accuracy</td><td>45.25625</td></tr><tr><td>val_accuracy</td><td>45.45</td></tr></table><br/></div></div>"
      ],
      "text/plain": [
       "<IPython.core.display.HTML object>"
      ]
     },
     "metadata": {},
     "output_type": "display_data"
    },
    {
     "data": {
      "text/html": [
       " View run <strong style=\"color:#cdcd00\">dainty-sweep-5</strong> at: <a href='https://wandb.ai/gsathish333/main_sweeps_V3/runs/vqdqpmo0' target=\"_blank\">https://wandb.ai/gsathish333/main_sweeps_V3/runs/vqdqpmo0</a><br/>Synced 6 W&B file(s), 0 media file(s), 0 artifact file(s) and 0 other file(s)"
      ],
      "text/plain": [
       "<IPython.core.display.HTML object>"
      ]
     },
     "metadata": {},
     "output_type": "display_data"
    },
    {
     "data": {
      "text/html": [
       "Find logs at: <code>./wandb/run-20230306_033036-vqdqpmo0/logs</code>"
      ],
      "text/plain": [
       "<IPython.core.display.HTML object>"
      ]
     },
     "metadata": {},
     "output_type": "display_data"
    },
    {
     "name": "stderr",
     "output_type": "stream",
     "text": [
      "\u001b[34m\u001b[1mwandb\u001b[0m: Agent Starting Run: btgmnwca with config:\n",
      "\u001b[34m\u001b[1mwandb\u001b[0m: \tL2_lambda: 0\n",
      "\u001b[34m\u001b[1mwandb\u001b[0m: \tactivation: sigmoid\n",
      "\u001b[34m\u001b[1mwandb\u001b[0m: \tbatch_size: 16\n",
      "\u001b[34m\u001b[1mwandb\u001b[0m: \tepochs: 5\n",
      "\u001b[34m\u001b[1mwandb\u001b[0m: \tintialization: normal\n",
      "\u001b[34m\u001b[1mwandb\u001b[0m: \tlayer_size: 32\n",
      "\u001b[34m\u001b[1mwandb\u001b[0m: \tlearning_rate: 0.1\n",
      "\u001b[34m\u001b[1mwandb\u001b[0m: \tnum_layers: 4\n",
      "\u001b[34m\u001b[1mwandb\u001b[0m: \toptimizer: sgd\n"
     ]
    },
    {
     "data": {
      "text/html": [
       "Tracking run with wandb version 0.13.10"
      ],
      "text/plain": [
       "<IPython.core.display.HTML object>"
      ]
     },
     "metadata": {},
     "output_type": "display_data"
    },
    {
     "data": {
      "text/html": [
       "Run data is saved locally in <code>/Users/sathish/Desktop/DL_temp/DL_Assignment_1/wandb/run-20230306_033107-btgmnwca</code>"
      ],
      "text/plain": [
       "<IPython.core.display.HTML object>"
      ]
     },
     "metadata": {},
     "output_type": "display_data"
    },
    {
     "data": {
      "text/html": [
       "Syncing run <strong><a href='https://wandb.ai/gsathish333/main_sweeps_V3/runs/btgmnwca' target=\"_blank\">radiant-sweep-6</a></strong> to <a href='https://wandb.ai/gsathish333/main_sweeps_V3' target=\"_blank\">Weights & Biases</a> (<a href='https://wandb.me/run' target=\"_blank\">docs</a>)<br/>Sweep page: <a href='https://wandb.ai/gsathish333/main_sweeps_V3/sweeps/pczmd77s' target=\"_blank\">https://wandb.ai/gsathish333/main_sweeps_V3/sweeps/pczmd77s</a>"
      ],
      "text/plain": [
       "<IPython.core.display.HTML object>"
      ]
     },
     "metadata": {},
     "output_type": "display_data"
    },
    {
     "data": {
      "text/html": [
       " View project at <a href='https://wandb.ai/gsathish333/main_sweeps_V3' target=\"_blank\">https://wandb.ai/gsathish333/main_sweeps_V3</a>"
      ],
      "text/plain": [
       "<IPython.core.display.HTML object>"
      ]
     },
     "metadata": {},
     "output_type": "display_data"
    },
    {
     "data": {
      "text/html": [
       " View sweep at <a href='https://wandb.ai/gsathish333/main_sweeps_V3/sweeps/pczmd77s' target=\"_blank\">https://wandb.ai/gsathish333/main_sweeps_V3/sweeps/pczmd77s</a>"
      ],
      "text/plain": [
       "<IPython.core.display.HTML object>"
      ]
     },
     "metadata": {},
     "output_type": "display_data"
    },
    {
     "data": {
      "text/html": [
       " View run at <a href='https://wandb.ai/gsathish333/main_sweeps_V3/runs/btgmnwca' target=\"_blank\">https://wandb.ai/gsathish333/main_sweeps_V3/runs/btgmnwca</a>"
      ],
      "text/plain": [
       "<IPython.core.display.HTML object>"
      ]
     },
     "metadata": {},
     "output_type": "display_data"
    },
    {
     "name": "stdout",
     "output_type": "stream",
     "text": [
      "epoch 1 : train loss = 2.3121801477957487 valid loss = 0.0001923244424011342\n",
      "epoch 2 : train loss = 2.1448048379786346 valid loss = 0.00013344933677938436\n",
      "epoch 3 : train loss = 1.3213101255463444 valid loss = 9.802741172515704e-05\n",
      "epoch 4 : train loss = 1.0717931320403689 valid loss = 8.231819502385955e-05\n",
      "epoch 5 : train loss = 0.9349938390977043 valid loss = 7.325135467721008e-05\n",
      "train accuracy  67.90833333333333\n",
      "valid accuracy  67.675\n"
     ]
    },
    {
     "data": {
      "text/html": [
       "Waiting for W&B process to finish... <strong style=\"color:green\">(success).</strong>"
      ],
      "text/plain": [
       "<IPython.core.display.HTML object>"
      ]
     },
     "metadata": {},
     "output_type": "display_data"
    },
    {
     "data": {
      "text/html": [
       "<style>\n",
       "    table.wandb td:nth-child(1) { padding: 0 10px; text-align: left ; width: auto;} td:nth-child(2) {text-align: left ; width: 100%}\n",
       "    .wandb-row { display: flex; flex-direction: row; flex-wrap: wrap; justify-content: flex-start; width: 100% }\n",
       "    .wandb-col { display: flex; flex-direction: column; flex-basis: 100%; flex: 1; padding: 10px; }\n",
       "    </style>\n",
       "<div class=\"wandb-row\"><div class=\"wandb-col\"><h3>Run history:</h3><br/><table class=\"wandb\"><tr><td>accuracy</td><td>▁</td></tr><tr><td>val_accuracy</td><td>▁</td></tr></table><br/></div><div class=\"wandb-col\"><h3>Run summary:</h3><br/><table class=\"wandb\"><tr><td>accuracy</td><td>67.90833</td></tr><tr><td>val_accuracy</td><td>67.675</td></tr></table><br/></div></div>"
      ],
      "text/plain": [
       "<IPython.core.display.HTML object>"
      ]
     },
     "metadata": {},
     "output_type": "display_data"
    },
    {
     "data": {
      "text/html": [
       " View run <strong style=\"color:#cdcd00\">radiant-sweep-6</strong> at: <a href='https://wandb.ai/gsathish333/main_sweeps_V3/runs/btgmnwca' target=\"_blank\">https://wandb.ai/gsathish333/main_sweeps_V3/runs/btgmnwca</a><br/>Synced 6 W&B file(s), 0 media file(s), 0 artifact file(s) and 0 other file(s)"
      ],
      "text/plain": [
       "<IPython.core.display.HTML object>"
      ]
     },
     "metadata": {},
     "output_type": "display_data"
    },
    {
     "data": {
      "text/html": [
       "Find logs at: <code>./wandb/run-20230306_033107-btgmnwca/logs</code>"
      ],
      "text/plain": [
       "<IPython.core.display.HTML object>"
      ]
     },
     "metadata": {},
     "output_type": "display_data"
    },
    {
     "name": "stderr",
     "output_type": "stream",
     "text": [
      "\u001b[34m\u001b[1mwandb\u001b[0m: Agent Starting Run: fbyfr1ct with config:\n",
      "\u001b[34m\u001b[1mwandb\u001b[0m: \tL2_lambda: 0\n",
      "\u001b[34m\u001b[1mwandb\u001b[0m: \tactivation: sigmoid\n",
      "\u001b[34m\u001b[1mwandb\u001b[0m: \tbatch_size: 16\n",
      "\u001b[34m\u001b[1mwandb\u001b[0m: \tepochs: 5\n",
      "\u001b[34m\u001b[1mwandb\u001b[0m: \tintialization: normal\n",
      "\u001b[34m\u001b[1mwandb\u001b[0m: \tlayer_size: 32\n",
      "\u001b[34m\u001b[1mwandb\u001b[0m: \tlearning_rate: 0.1\n",
      "\u001b[34m\u001b[1mwandb\u001b[0m: \tnum_layers: 4\n",
      "\u001b[34m\u001b[1mwandb\u001b[0m: \toptimizer: momentum\n"
     ]
    },
    {
     "data": {
      "text/html": [
       "Tracking run with wandb version 0.13.10"
      ],
      "text/plain": [
       "<IPython.core.display.HTML object>"
      ]
     },
     "metadata": {},
     "output_type": "display_data"
    },
    {
     "data": {
      "text/html": [
       "Run data is saved locally in <code>/Users/sathish/Desktop/DL_temp/DL_Assignment_1/wandb/run-20230306_033135-fbyfr1ct</code>"
      ],
      "text/plain": [
       "<IPython.core.display.HTML object>"
      ]
     },
     "metadata": {},
     "output_type": "display_data"
    },
    {
     "data": {
      "text/html": [
       "Syncing run <strong><a href='https://wandb.ai/gsathish333/main_sweeps_V3/runs/fbyfr1ct' target=\"_blank\">devoted-sweep-7</a></strong> to <a href='https://wandb.ai/gsathish333/main_sweeps_V3' target=\"_blank\">Weights & Biases</a> (<a href='https://wandb.me/run' target=\"_blank\">docs</a>)<br/>Sweep page: <a href='https://wandb.ai/gsathish333/main_sweeps_V3/sweeps/pczmd77s' target=\"_blank\">https://wandb.ai/gsathish333/main_sweeps_V3/sweeps/pczmd77s</a>"
      ],
      "text/plain": [
       "<IPython.core.display.HTML object>"
      ]
     },
     "metadata": {},
     "output_type": "display_data"
    },
    {
     "data": {
      "text/html": [
       " View project at <a href='https://wandb.ai/gsathish333/main_sweeps_V3' target=\"_blank\">https://wandb.ai/gsathish333/main_sweeps_V3</a>"
      ],
      "text/plain": [
       "<IPython.core.display.HTML object>"
      ]
     },
     "metadata": {},
     "output_type": "display_data"
    },
    {
     "data": {
      "text/html": [
       " View sweep at <a href='https://wandb.ai/gsathish333/main_sweeps_V3/sweeps/pczmd77s' target=\"_blank\">https://wandb.ai/gsathish333/main_sweeps_V3/sweeps/pczmd77s</a>"
      ],
      "text/plain": [
       "<IPython.core.display.HTML object>"
      ]
     },
     "metadata": {},
     "output_type": "display_data"
    },
    {
     "data": {
      "text/html": [
       " View run at <a href='https://wandb.ai/gsathish333/main_sweeps_V3/runs/fbyfr1ct' target=\"_blank\">https://wandb.ai/gsathish333/main_sweeps_V3/runs/fbyfr1ct</a>"
      ],
      "text/plain": [
       "<IPython.core.display.HTML object>"
      ]
     },
     "metadata": {},
     "output_type": "display_data"
    },
    {
     "name": "stdout",
     "output_type": "stream",
     "text": [
      "epoch 1 : train loss = 2.3126303676857725 valid loss = 0.00019261568241246354\n",
      "epoch 2 : train loss = 1.7806278582163273 valid loss = 0.00011077472730364626\n",
      "epoch 3 : train loss = 1.191385303611526 valid loss = 9.107434472215825e-05\n",
      "epoch 4 : train loss = 1.0144921285317294 valid loss = 7.799434644575048e-05\n",
      "epoch 5 : train loss = 0.9011696085952664 valid loss = 7.08184591519827e-05\n",
      "train accuracy  68.72916666666666\n",
      "valid accuracy  68.55\n"
     ]
    },
    {
     "data": {
      "text/html": [
       "Waiting for W&B process to finish... <strong style=\"color:green\">(success).</strong>"
      ],
      "text/plain": [
       "<IPython.core.display.HTML object>"
      ]
     },
     "metadata": {},
     "output_type": "display_data"
    },
    {
     "data": {
      "text/html": [
       "<style>\n",
       "    table.wandb td:nth-child(1) { padding: 0 10px; text-align: left ; width: auto;} td:nth-child(2) {text-align: left ; width: 100%}\n",
       "    .wandb-row { display: flex; flex-direction: row; flex-wrap: wrap; justify-content: flex-start; width: 100% }\n",
       "    .wandb-col { display: flex; flex-direction: column; flex-basis: 100%; flex: 1; padding: 10px; }\n",
       "    </style>\n",
       "<div class=\"wandb-row\"><div class=\"wandb-col\"><h3>Run history:</h3><br/><table class=\"wandb\"><tr><td>accuracy</td><td>▁</td></tr><tr><td>val_accuracy</td><td>▁</td></tr></table><br/></div><div class=\"wandb-col\"><h3>Run summary:</h3><br/><table class=\"wandb\"><tr><td>accuracy</td><td>68.72917</td></tr><tr><td>val_accuracy</td><td>68.55</td></tr></table><br/></div></div>"
      ],
      "text/plain": [
       "<IPython.core.display.HTML object>"
      ]
     },
     "metadata": {},
     "output_type": "display_data"
    },
    {
     "data": {
      "text/html": [
       " View run <strong style=\"color:#cdcd00\">devoted-sweep-7</strong> at: <a href='https://wandb.ai/gsathish333/main_sweeps_V3/runs/fbyfr1ct' target=\"_blank\">https://wandb.ai/gsathish333/main_sweeps_V3/runs/fbyfr1ct</a><br/>Synced 6 W&B file(s), 0 media file(s), 0 artifact file(s) and 0 other file(s)"
      ],
      "text/plain": [
       "<IPython.core.display.HTML object>"
      ]
     },
     "metadata": {},
     "output_type": "display_data"
    },
    {
     "data": {
      "text/html": [
       "Find logs at: <code>./wandb/run-20230306_033135-fbyfr1ct/logs</code>"
      ],
      "text/plain": [
       "<IPython.core.display.HTML object>"
      ]
     },
     "metadata": {},
     "output_type": "display_data"
    },
    {
     "name": "stderr",
     "output_type": "stream",
     "text": [
      "\u001b[34m\u001b[1mwandb\u001b[0m: Sweep Agent: Waiting for job.\n",
      "\u001b[34m\u001b[1mwandb\u001b[0m: Job received.\n",
      "\u001b[34m\u001b[1mwandb\u001b[0m: Agent Starting Run: upwh2o59 with config:\n",
      "\u001b[34m\u001b[1mwandb\u001b[0m: \tL2_lambda: 0\n",
      "\u001b[34m\u001b[1mwandb\u001b[0m: \tactivation: sigmoid\n",
      "\u001b[34m\u001b[1mwandb\u001b[0m: \tbatch_size: 16\n",
      "\u001b[34m\u001b[1mwandb\u001b[0m: \tepochs: 5\n",
      "\u001b[34m\u001b[1mwandb\u001b[0m: \tintialization: normal\n",
      "\u001b[34m\u001b[1mwandb\u001b[0m: \tlayer_size: 32\n",
      "\u001b[34m\u001b[1mwandb\u001b[0m: \tlearning_rate: 0.1\n",
      "\u001b[34m\u001b[1mwandb\u001b[0m: \tnum_layers: 4\n",
      "\u001b[34m\u001b[1mwandb\u001b[0m: \toptimizer: nesterov\n"
     ]
    },
    {
     "data": {
      "text/html": [
       "Tracking run with wandb version 0.13.10"
      ],
      "text/plain": [
       "<IPython.core.display.HTML object>"
      ]
     },
     "metadata": {},
     "output_type": "display_data"
    },
    {
     "data": {
      "text/html": [
       "Run data is saved locally in <code>/Users/sathish/Desktop/DL_temp/DL_Assignment_1/wandb/run-20230306_033212-upwh2o59</code>"
      ],
      "text/plain": [
       "<IPython.core.display.HTML object>"
      ]
     },
     "metadata": {},
     "output_type": "display_data"
    },
    {
     "data": {
      "text/html": [
       "Syncing run <strong><a href='https://wandb.ai/gsathish333/main_sweeps_V3/runs/upwh2o59' target=\"_blank\">zany-sweep-8</a></strong> to <a href='https://wandb.ai/gsathish333/main_sweeps_V3' target=\"_blank\">Weights & Biases</a> (<a href='https://wandb.me/run' target=\"_blank\">docs</a>)<br/>Sweep page: <a href='https://wandb.ai/gsathish333/main_sweeps_V3/sweeps/pczmd77s' target=\"_blank\">https://wandb.ai/gsathish333/main_sweeps_V3/sweeps/pczmd77s</a>"
      ],
      "text/plain": [
       "<IPython.core.display.HTML object>"
      ]
     },
     "metadata": {},
     "output_type": "display_data"
    },
    {
     "data": {
      "text/html": [
       " View project at <a href='https://wandb.ai/gsathish333/main_sweeps_V3' target=\"_blank\">https://wandb.ai/gsathish333/main_sweeps_V3</a>"
      ],
      "text/plain": [
       "<IPython.core.display.HTML object>"
      ]
     },
     "metadata": {},
     "output_type": "display_data"
    },
    {
     "data": {
      "text/html": [
       " View sweep at <a href='https://wandb.ai/gsathish333/main_sweeps_V3/sweeps/pczmd77s' target=\"_blank\">https://wandb.ai/gsathish333/main_sweeps_V3/sweeps/pczmd77s</a>"
      ],
      "text/plain": [
       "<IPython.core.display.HTML object>"
      ]
     },
     "metadata": {},
     "output_type": "display_data"
    },
    {
     "data": {
      "text/html": [
       " View run at <a href='https://wandb.ai/gsathish333/main_sweeps_V3/runs/upwh2o59' target=\"_blank\">https://wandb.ai/gsathish333/main_sweeps_V3/runs/upwh2o59</a>"
      ],
      "text/plain": [
       "<IPython.core.display.HTML object>"
      ]
     },
     "metadata": {},
     "output_type": "display_data"
    },
    {
     "name": "stdout",
     "output_type": "stream",
     "text": [
      "epoch 1 : train loss = 1.1874637159547718 valid loss = 5.023087234617943e-05\n",
      "epoch 2 : train loss = 0.597859178003999 valid loss = 4.180395732682869e-05\n",
      "epoch 3 : train loss = 0.5305298758654913 valid loss = 3.732742013244043e-05\n",
      "epoch 4 : train loss = 0.4941674824867042 valid loss = 3.669265516663307e-05\n",
      "epoch 5 : train loss = 0.47796685922562276 valid loss = 3.5907009691931347e-05\n",
      "train accuracy  85.54375\n",
      "valid accuracy  84.76666666666667\n"
     ]
    },
    {
     "data": {
      "text/html": [
       "Waiting for W&B process to finish... <strong style=\"color:green\">(success).</strong>"
      ],
      "text/plain": [
       "<IPython.core.display.HTML object>"
      ]
     },
     "metadata": {},
     "output_type": "display_data"
    },
    {
     "data": {
      "text/html": [
       "<style>\n",
       "    table.wandb td:nth-child(1) { padding: 0 10px; text-align: left ; width: auto;} td:nth-child(2) {text-align: left ; width: 100%}\n",
       "    .wandb-row { display: flex; flex-direction: row; flex-wrap: wrap; justify-content: flex-start; width: 100% }\n",
       "    .wandb-col { display: flex; flex-direction: column; flex-basis: 100%; flex: 1; padding: 10px; }\n",
       "    </style>\n",
       "<div class=\"wandb-row\"><div class=\"wandb-col\"><h3>Run history:</h3><br/><table class=\"wandb\"><tr><td>accuracy</td><td>▁</td></tr><tr><td>val_accuracy</td><td>▁</td></tr></table><br/></div><div class=\"wandb-col\"><h3>Run summary:</h3><br/><table class=\"wandb\"><tr><td>accuracy</td><td>85.54375</td></tr><tr><td>val_accuracy</td><td>84.76667</td></tr></table><br/></div></div>"
      ],
      "text/plain": [
       "<IPython.core.display.HTML object>"
      ]
     },
     "metadata": {},
     "output_type": "display_data"
    },
    {
     "data": {
      "text/html": [
       " View run <strong style=\"color:#cdcd00\">zany-sweep-8</strong> at: <a href='https://wandb.ai/gsathish333/main_sweeps_V3/runs/upwh2o59' target=\"_blank\">https://wandb.ai/gsathish333/main_sweeps_V3/runs/upwh2o59</a><br/>Synced 6 W&B file(s), 0 media file(s), 0 artifact file(s) and 0 other file(s)"
      ],
      "text/plain": [
       "<IPython.core.display.HTML object>"
      ]
     },
     "metadata": {},
     "output_type": "display_data"
    },
    {
     "data": {
      "text/html": [
       "Find logs at: <code>./wandb/run-20230306_033212-upwh2o59/logs</code>"
      ],
      "text/plain": [
       "<IPython.core.display.HTML object>"
      ]
     },
     "metadata": {},
     "output_type": "display_data"
    },
    {
     "name": "stderr",
     "output_type": "stream",
     "text": [
      "\u001b[34m\u001b[1mwandb\u001b[0m: Sweep Agent: Waiting for job.\n",
      "\u001b[34m\u001b[1mwandb\u001b[0m: Job received.\n",
      "\u001b[34m\u001b[1mwandb\u001b[0m: Agent Starting Run: 8mwf5eu7 with config:\n",
      "\u001b[34m\u001b[1mwandb\u001b[0m: \tL2_lambda: 0\n",
      "\u001b[34m\u001b[1mwandb\u001b[0m: \tactivation: sigmoid\n",
      "\u001b[34m\u001b[1mwandb\u001b[0m: \tbatch_size: 16\n",
      "\u001b[34m\u001b[1mwandb\u001b[0m: \tepochs: 5\n",
      "\u001b[34m\u001b[1mwandb\u001b[0m: \tintialization: normal\n",
      "\u001b[34m\u001b[1mwandb\u001b[0m: \tlayer_size: 32\n",
      "\u001b[34m\u001b[1mwandb\u001b[0m: \tlearning_rate: 0.1\n",
      "\u001b[34m\u001b[1mwandb\u001b[0m: \tnum_layers: 4\n",
      "\u001b[34m\u001b[1mwandb\u001b[0m: \toptimizer: rmsprop\n"
     ]
    },
    {
     "data": {
      "text/html": [
       "Tracking run with wandb version 0.13.10"
      ],
      "text/plain": [
       "<IPython.core.display.HTML object>"
      ]
     },
     "metadata": {},
     "output_type": "display_data"
    },
    {
     "data": {
      "text/html": [
       "Run data is saved locally in <code>/Users/sathish/Desktop/DL_temp/DL_Assignment_1/wandb/run-20230306_033250-8mwf5eu7</code>"
      ],
      "text/plain": [
       "<IPython.core.display.HTML object>"
      ]
     },
     "metadata": {},
     "output_type": "display_data"
    },
    {
     "data": {
      "text/html": [
       "Syncing run <strong><a href='https://wandb.ai/gsathish333/main_sweeps_V3/runs/8mwf5eu7' target=\"_blank\">eager-sweep-9</a></strong> to <a href='https://wandb.ai/gsathish333/main_sweeps_V3' target=\"_blank\">Weights & Biases</a> (<a href='https://wandb.me/run' target=\"_blank\">docs</a>)<br/>Sweep page: <a href='https://wandb.ai/gsathish333/main_sweeps_V3/sweeps/pczmd77s' target=\"_blank\">https://wandb.ai/gsathish333/main_sweeps_V3/sweeps/pczmd77s</a>"
      ],
      "text/plain": [
       "<IPython.core.display.HTML object>"
      ]
     },
     "metadata": {},
     "output_type": "display_data"
    },
    {
     "data": {
      "text/html": [
       " View project at <a href='https://wandb.ai/gsathish333/main_sweeps_V3' target=\"_blank\">https://wandb.ai/gsathish333/main_sweeps_V3</a>"
      ],
      "text/plain": [
       "<IPython.core.display.HTML object>"
      ]
     },
     "metadata": {},
     "output_type": "display_data"
    },
    {
     "data": {
      "text/html": [
       " View sweep at <a href='https://wandb.ai/gsathish333/main_sweeps_V3/sweeps/pczmd77s' target=\"_blank\">https://wandb.ai/gsathish333/main_sweeps_V3/sweeps/pczmd77s</a>"
      ],
      "text/plain": [
       "<IPython.core.display.HTML object>"
      ]
     },
     "metadata": {},
     "output_type": "display_data"
    },
    {
     "data": {
      "text/html": [
       " View run at <a href='https://wandb.ai/gsathish333/main_sweeps_V3/runs/8mwf5eu7' target=\"_blank\">https://wandb.ai/gsathish333/main_sweeps_V3/runs/8mwf5eu7</a>"
      ],
      "text/plain": [
       "<IPython.core.display.HTML object>"
      ]
     },
     "metadata": {},
     "output_type": "display_data"
    },
    {
     "name": "stderr",
     "output_type": "stream",
     "text": [
      "/var/folders/v8/pvrhyj2x1kdb1h8pp09t18b40000gn/T/ipykernel_9102/2839676318.py:8: RuntimeWarning: overflow encountered in exp\n",
      "  return 1.0/(1+np.exp(-x))\n",
      "/var/folders/v8/pvrhyj2x1kdb1h8pp09t18b40000gn/T/ipykernel_9102/2839676318.py:105: RuntimeWarning: overflow encountered in exp\n",
      "  return 1.0/(1.0+1.0*np.exp(-x))\n"
     ]
    },
    {
     "name": "stdout",
     "output_type": "stream",
     "text": [
      "epoch 1 : train loss = 1.531247878407172 valid loss = 9.037508772240531e-05\n",
      "epoch 2 : train loss = 1.2555768967327885 valid loss = 0.00010790273927467407\n",
      "epoch 3 : train loss = 1.309461912092361 valid loss = 0.00011194162088902797\n",
      "epoch 4 : train loss = 1.2344073517803928 valid loss = 9.717767843661622e-05\n",
      "epoch 5 : train loss = 1.4223472389883376 valid loss = 0.00010339991700742066\n",
      "train accuracy  56.49999999999999\n",
      "valid accuracy  56.925000000000004\n"
     ]
    },
    {
     "data": {
      "text/html": [
       "Waiting for W&B process to finish... <strong style=\"color:green\">(success).</strong>"
      ],
      "text/plain": [
       "<IPython.core.display.HTML object>"
      ]
     },
     "metadata": {},
     "output_type": "display_data"
    },
    {
     "data": {
      "text/html": [
       "<style>\n",
       "    table.wandb td:nth-child(1) { padding: 0 10px; text-align: left ; width: auto;} td:nth-child(2) {text-align: left ; width: 100%}\n",
       "    .wandb-row { display: flex; flex-direction: row; flex-wrap: wrap; justify-content: flex-start; width: 100% }\n",
       "    .wandb-col { display: flex; flex-direction: column; flex-basis: 100%; flex: 1; padding: 10px; }\n",
       "    </style>\n",
       "<div class=\"wandb-row\"><div class=\"wandb-col\"><h3>Run history:</h3><br/><table class=\"wandb\"><tr><td>accuracy</td><td>▁</td></tr><tr><td>val_accuracy</td><td>▁</td></tr></table><br/></div><div class=\"wandb-col\"><h3>Run summary:</h3><br/><table class=\"wandb\"><tr><td>accuracy</td><td>56.5</td></tr><tr><td>val_accuracy</td><td>56.925</td></tr></table><br/></div></div>"
      ],
      "text/plain": [
       "<IPython.core.display.HTML object>"
      ]
     },
     "metadata": {},
     "output_type": "display_data"
    },
    {
     "data": {
      "text/html": [
       " View run <strong style=\"color:#cdcd00\">eager-sweep-9</strong> at: <a href='https://wandb.ai/gsathish333/main_sweeps_V3/runs/8mwf5eu7' target=\"_blank\">https://wandb.ai/gsathish333/main_sweeps_V3/runs/8mwf5eu7</a><br/>Synced 6 W&B file(s), 0 media file(s), 0 artifact file(s) and 0 other file(s)"
      ],
      "text/plain": [
       "<IPython.core.display.HTML object>"
      ]
     },
     "metadata": {},
     "output_type": "display_data"
    },
    {
     "data": {
      "text/html": [
       "Find logs at: <code>./wandb/run-20230306_033250-8mwf5eu7/logs</code>"
      ],
      "text/plain": [
       "<IPython.core.display.HTML object>"
      ]
     },
     "metadata": {},
     "output_type": "display_data"
    },
    {
     "name": "stderr",
     "output_type": "stream",
     "text": [
      "\u001b[34m\u001b[1mwandb\u001b[0m: Agent Starting Run: e31dd5yw with config:\n",
      "\u001b[34m\u001b[1mwandb\u001b[0m: \tL2_lambda: 0\n",
      "\u001b[34m\u001b[1mwandb\u001b[0m: \tactivation: sigmoid\n",
      "\u001b[34m\u001b[1mwandb\u001b[0m: \tbatch_size: 16\n",
      "\u001b[34m\u001b[1mwandb\u001b[0m: \tepochs: 5\n",
      "\u001b[34m\u001b[1mwandb\u001b[0m: \tintialization: normal\n",
      "\u001b[34m\u001b[1mwandb\u001b[0m: \tlayer_size: 32\n",
      "\u001b[34m\u001b[1mwandb\u001b[0m: \tlearning_rate: 0.1\n",
      "\u001b[34m\u001b[1mwandb\u001b[0m: \tnum_layers: 4\n",
      "\u001b[34m\u001b[1mwandb\u001b[0m: \toptimizer: adam\n"
     ]
    },
    {
     "data": {
      "text/html": [
       "Tracking run with wandb version 0.13.10"
      ],
      "text/plain": [
       "<IPython.core.display.HTML object>"
      ]
     },
     "metadata": {},
     "output_type": "display_data"
    },
    {
     "data": {
      "text/html": [
       "Run data is saved locally in <code>/Users/sathish/Desktop/DL_temp/DL_Assignment_1/wandb/run-20230306_033322-e31dd5yw</code>"
      ],
      "text/plain": [
       "<IPython.core.display.HTML object>"
      ]
     },
     "metadata": {},
     "output_type": "display_data"
    },
    {
     "data": {
      "text/html": [
       "Syncing run <strong><a href='https://wandb.ai/gsathish333/main_sweeps_V3/runs/e31dd5yw' target=\"_blank\">toasty-sweep-10</a></strong> to <a href='https://wandb.ai/gsathish333/main_sweeps_V3' target=\"_blank\">Weights & Biases</a> (<a href='https://wandb.me/run' target=\"_blank\">docs</a>)<br/>Sweep page: <a href='https://wandb.ai/gsathish333/main_sweeps_V3/sweeps/pczmd77s' target=\"_blank\">https://wandb.ai/gsathish333/main_sweeps_V3/sweeps/pczmd77s</a>"
      ],
      "text/plain": [
       "<IPython.core.display.HTML object>"
      ]
     },
     "metadata": {},
     "output_type": "display_data"
    },
    {
     "data": {
      "text/html": [
       " View project at <a href='https://wandb.ai/gsathish333/main_sweeps_V3' target=\"_blank\">https://wandb.ai/gsathish333/main_sweeps_V3</a>"
      ],
      "text/plain": [
       "<IPython.core.display.HTML object>"
      ]
     },
     "metadata": {},
     "output_type": "display_data"
    },
    {
     "data": {
      "text/html": [
       " View sweep at <a href='https://wandb.ai/gsathish333/main_sweeps_V3/sweeps/pczmd77s' target=\"_blank\">https://wandb.ai/gsathish333/main_sweeps_V3/sweeps/pczmd77s</a>"
      ],
      "text/plain": [
       "<IPython.core.display.HTML object>"
      ]
     },
     "metadata": {},
     "output_type": "display_data"
    },
    {
     "data": {
      "text/html": [
       " View run at <a href='https://wandb.ai/gsathish333/main_sweeps_V3/runs/e31dd5yw' target=\"_blank\">https://wandb.ai/gsathish333/main_sweeps_V3/runs/e31dd5yw</a>"
      ],
      "text/plain": [
       "<IPython.core.display.HTML object>"
      ]
     },
     "metadata": {},
     "output_type": "display_data"
    },
    {
     "name": "stdout",
     "output_type": "stream",
     "text": [
      "epoch 1 : train loss = 2.3226082777744588 valid loss = 0.00019365083552670847\n",
      "epoch 2 : train loss = 2.319721577817625 valid loss = 0.0001936508267487356\n",
      "epoch 3 : train loss = 2.3197215752480402 valid loss = 0.00019365082674637009\n",
      "epoch 4 : train loss = 2.3197215752341225 valid loss = 0.0001936508267463629\n",
      "epoch 5 : train loss = 2.3197215752337663 valid loss = 0.00019365082674635976\n",
      "train accuracy  10.041666666666666\n",
      "valid accuracy  9.833333333333332\n"
     ]
    },
    {
     "data": {
      "text/html": [
       "Waiting for W&B process to finish... <strong style=\"color:green\">(success).</strong>"
      ],
      "text/plain": [
       "<IPython.core.display.HTML object>"
      ]
     },
     "metadata": {},
     "output_type": "display_data"
    },
    {
     "data": {
      "application/vnd.jupyter.widget-view+json": {
       "model_id": "0da4892a53e14dc48ab059ec18a0b830",
       "version_major": 2,
       "version_minor": 0
      },
      "text/plain": [
       "VBox(children=(Label(value='0.001 MB of 0.025 MB uploaded (0.000 MB deduped)\\r'), FloatProgress(value=0.042525…"
      ]
     },
     "metadata": {},
     "output_type": "display_data"
    },
    {
     "data": {
      "text/html": [
       "<style>\n",
       "    table.wandb td:nth-child(1) { padding: 0 10px; text-align: left ; width: auto;} td:nth-child(2) {text-align: left ; width: 100%}\n",
       "    .wandb-row { display: flex; flex-direction: row; flex-wrap: wrap; justify-content: flex-start; width: 100% }\n",
       "    .wandb-col { display: flex; flex-direction: column; flex-basis: 100%; flex: 1; padding: 10px; }\n",
       "    </style>\n",
       "<div class=\"wandb-row\"><div class=\"wandb-col\"><h3>Run history:</h3><br/><table class=\"wandb\"><tr><td>accuracy</td><td>▁</td></tr><tr><td>val_accuracy</td><td>▁</td></tr></table><br/></div><div class=\"wandb-col\"><h3>Run summary:</h3><br/><table class=\"wandb\"><tr><td>accuracy</td><td>10.04167</td></tr><tr><td>val_accuracy</td><td>9.83333</td></tr></table><br/></div></div>"
      ],
      "text/plain": [
       "<IPython.core.display.HTML object>"
      ]
     },
     "metadata": {},
     "output_type": "display_data"
    },
    {
     "data": {
      "text/html": [
       " View run <strong style=\"color:#cdcd00\">toasty-sweep-10</strong> at: <a href='https://wandb.ai/gsathish333/main_sweeps_V3/runs/e31dd5yw' target=\"_blank\">https://wandb.ai/gsathish333/main_sweeps_V3/runs/e31dd5yw</a><br/>Synced 6 W&B file(s), 0 media file(s), 0 artifact file(s) and 0 other file(s)"
      ],
      "text/plain": [
       "<IPython.core.display.HTML object>"
      ]
     },
     "metadata": {},
     "output_type": "display_data"
    },
    {
     "data": {
      "text/html": [
       "Find logs at: <code>./wandb/run-20230306_033322-e31dd5yw/logs</code>"
      ],
      "text/plain": [
       "<IPython.core.display.HTML object>"
      ]
     },
     "metadata": {},
     "output_type": "display_data"
    },
    {
     "name": "stderr",
     "output_type": "stream",
     "text": [
      "\u001b[34m\u001b[1mwandb\u001b[0m: Agent Starting Run: bppg4pc8 with config:\n",
      "\u001b[34m\u001b[1mwandb\u001b[0m: \tL2_lambda: 0\n",
      "\u001b[34m\u001b[1mwandb\u001b[0m: \tactivation: sigmoid\n",
      "\u001b[34m\u001b[1mwandb\u001b[0m: \tbatch_size: 16\n",
      "\u001b[34m\u001b[1mwandb\u001b[0m: \tepochs: 5\n",
      "\u001b[34m\u001b[1mwandb\u001b[0m: \tintialization: normal\n",
      "\u001b[34m\u001b[1mwandb\u001b[0m: \tlayer_size: 32\n",
      "\u001b[34m\u001b[1mwandb\u001b[0m: \tlearning_rate: 0.1\n",
      "\u001b[34m\u001b[1mwandb\u001b[0m: \tnum_layers: 5\n",
      "\u001b[34m\u001b[1mwandb\u001b[0m: \toptimizer: sgd\n"
     ]
    },
    {
     "data": {
      "text/html": [
       "Tracking run with wandb version 0.13.10"
      ],
      "text/plain": [
       "<IPython.core.display.HTML object>"
      ]
     },
     "metadata": {},
     "output_type": "display_data"
    },
    {
     "data": {
      "text/html": [
       "Run data is saved locally in <code>/Users/sathish/Desktop/DL_temp/DL_Assignment_1/wandb/run-20230306_033355-bppg4pc8</code>"
      ],
      "text/plain": [
       "<IPython.core.display.HTML object>"
      ]
     },
     "metadata": {},
     "output_type": "display_data"
    },
    {
     "data": {
      "text/html": [
       "Syncing run <strong><a href='https://wandb.ai/gsathish333/main_sweeps_V3/runs/bppg4pc8' target=\"_blank\">astral-sweep-11</a></strong> to <a href='https://wandb.ai/gsathish333/main_sweeps_V3' target=\"_blank\">Weights & Biases</a> (<a href='https://wandb.me/run' target=\"_blank\">docs</a>)<br/>Sweep page: <a href='https://wandb.ai/gsathish333/main_sweeps_V3/sweeps/pczmd77s' target=\"_blank\">https://wandb.ai/gsathish333/main_sweeps_V3/sweeps/pczmd77s</a>"
      ],
      "text/plain": [
       "<IPython.core.display.HTML object>"
      ]
     },
     "metadata": {},
     "output_type": "display_data"
    },
    {
     "data": {
      "text/html": [
       " View project at <a href='https://wandb.ai/gsathish333/main_sweeps_V3' target=\"_blank\">https://wandb.ai/gsathish333/main_sweeps_V3</a>"
      ],
      "text/plain": [
       "<IPython.core.display.HTML object>"
      ]
     },
     "metadata": {},
     "output_type": "display_data"
    },
    {
     "data": {
      "text/html": [
       " View sweep at <a href='https://wandb.ai/gsathish333/main_sweeps_V3/sweeps/pczmd77s' target=\"_blank\">https://wandb.ai/gsathish333/main_sweeps_V3/sweeps/pczmd77s</a>"
      ],
      "text/plain": [
       "<IPython.core.display.HTML object>"
      ]
     },
     "metadata": {},
     "output_type": "display_data"
    },
    {
     "data": {
      "text/html": [
       " View run at <a href='https://wandb.ai/gsathish333/main_sweeps_V3/runs/bppg4pc8' target=\"_blank\">https://wandb.ai/gsathish333/main_sweeps_V3/runs/bppg4pc8</a>"
      ],
      "text/plain": [
       "<IPython.core.display.HTML object>"
      ]
     },
     "metadata": {},
     "output_type": "display_data"
    },
    {
     "name": "stdout",
     "output_type": "stream",
     "text": [
      "epoch 1 : train loss = 2.3114573971349492 valid loss = 0.00019234090319002195\n",
      "epoch 2 : train loss = 2.3074814816950857 valid loss = 0.00019221528102779864\n",
      "epoch 3 : train loss = 2.3070825306456197 valid loss = 0.00019218195474992656\n",
      "epoch 4 : train loss = 2.3069421166409723 valid loss = 0.0001921690208334466\n",
      "epoch 5 : train loss = 2.306872785299107 valid loss = 0.00019216255405628602\n",
      "train accuracy  10.041666666666666\n",
      "valid accuracy  9.833333333333332\n"
     ]
    },
    {
     "data": {
      "text/html": [
       "Waiting for W&B process to finish... <strong style=\"color:green\">(success).</strong>"
      ],
      "text/plain": [
       "<IPython.core.display.HTML object>"
      ]
     },
     "metadata": {},
     "output_type": "display_data"
    },
    {
     "data": {
      "application/vnd.jupyter.widget-view+json": {
       "model_id": "171149a6054b493191b728e75e1554cc",
       "version_major": 2,
       "version_minor": 0
      },
      "text/plain": [
       "VBox(children=(Label(value='0.001 MB of 0.025 MB uploaded (0.000 MB deduped)\\r'), FloatProgress(value=0.042529…"
      ]
     },
     "metadata": {},
     "output_type": "display_data"
    },
    {
     "data": {
      "text/html": [
       "<style>\n",
       "    table.wandb td:nth-child(1) { padding: 0 10px; text-align: left ; width: auto;} td:nth-child(2) {text-align: left ; width: 100%}\n",
       "    .wandb-row { display: flex; flex-direction: row; flex-wrap: wrap; justify-content: flex-start; width: 100% }\n",
       "    .wandb-col { display: flex; flex-direction: column; flex-basis: 100%; flex: 1; padding: 10px; }\n",
       "    </style>\n",
       "<div class=\"wandb-row\"><div class=\"wandb-col\"><h3>Run history:</h3><br/><table class=\"wandb\"><tr><td>accuracy</td><td>▁</td></tr><tr><td>val_accuracy</td><td>▁</td></tr></table><br/></div><div class=\"wandb-col\"><h3>Run summary:</h3><br/><table class=\"wandb\"><tr><td>accuracy</td><td>10.04167</td></tr><tr><td>val_accuracy</td><td>9.83333</td></tr></table><br/></div></div>"
      ],
      "text/plain": [
       "<IPython.core.display.HTML object>"
      ]
     },
     "metadata": {},
     "output_type": "display_data"
    },
    {
     "data": {
      "text/html": [
       " View run <strong style=\"color:#cdcd00\">astral-sweep-11</strong> at: <a href='https://wandb.ai/gsathish333/main_sweeps_V3/runs/bppg4pc8' target=\"_blank\">https://wandb.ai/gsathish333/main_sweeps_V3/runs/bppg4pc8</a><br/>Synced 6 W&B file(s), 0 media file(s), 0 artifact file(s) and 0 other file(s)"
      ],
      "text/plain": [
       "<IPython.core.display.HTML object>"
      ]
     },
     "metadata": {},
     "output_type": "display_data"
    },
    {
     "data": {
      "text/html": [
       "Find logs at: <code>./wandb/run-20230306_033355-bppg4pc8/logs</code>"
      ],
      "text/plain": [
       "<IPython.core.display.HTML object>"
      ]
     },
     "metadata": {},
     "output_type": "display_data"
    },
    {
     "name": "stderr",
     "output_type": "stream",
     "text": [
      "\u001b[34m\u001b[1mwandb\u001b[0m: Agent Starting Run: 223i9oq8 with config:\n",
      "\u001b[34m\u001b[1mwandb\u001b[0m: \tL2_lambda: 0\n",
      "\u001b[34m\u001b[1mwandb\u001b[0m: \tactivation: sigmoid\n",
      "\u001b[34m\u001b[1mwandb\u001b[0m: \tbatch_size: 16\n",
      "\u001b[34m\u001b[1mwandb\u001b[0m: \tepochs: 5\n",
      "\u001b[34m\u001b[1mwandb\u001b[0m: \tintialization: normal\n",
      "\u001b[34m\u001b[1mwandb\u001b[0m: \tlayer_size: 32\n",
      "\u001b[34m\u001b[1mwandb\u001b[0m: \tlearning_rate: 0.1\n",
      "\u001b[34m\u001b[1mwandb\u001b[0m: \tnum_layers: 5\n",
      "\u001b[34m\u001b[1mwandb\u001b[0m: \toptimizer: momentum\n"
     ]
    },
    {
     "data": {
      "text/html": [
       "Tracking run with wandb version 0.13.10"
      ],
      "text/plain": [
       "<IPython.core.display.HTML object>"
      ]
     },
     "metadata": {},
     "output_type": "display_data"
    },
    {
     "data": {
      "text/html": [
       "Run data is saved locally in <code>/Users/sathish/Desktop/DL_temp/DL_Assignment_1/wandb/run-20230306_033428-223i9oq8</code>"
      ],
      "text/plain": [
       "<IPython.core.display.HTML object>"
      ]
     },
     "metadata": {},
     "output_type": "display_data"
    },
    {
     "data": {
      "text/html": [
       "Syncing run <strong><a href='https://wandb.ai/gsathish333/main_sweeps_V3/runs/223i9oq8' target=\"_blank\">scarlet-sweep-12</a></strong> to <a href='https://wandb.ai/gsathish333/main_sweeps_V3' target=\"_blank\">Weights & Biases</a> (<a href='https://wandb.me/run' target=\"_blank\">docs</a>)<br/>Sweep page: <a href='https://wandb.ai/gsathish333/main_sweeps_V3/sweeps/pczmd77s' target=\"_blank\">https://wandb.ai/gsathish333/main_sweeps_V3/sweeps/pczmd77s</a>"
      ],
      "text/plain": [
       "<IPython.core.display.HTML object>"
      ]
     },
     "metadata": {},
     "output_type": "display_data"
    },
    {
     "data": {
      "text/html": [
       " View project at <a href='https://wandb.ai/gsathish333/main_sweeps_V3' target=\"_blank\">https://wandb.ai/gsathish333/main_sweeps_V3</a>"
      ],
      "text/plain": [
       "<IPython.core.display.HTML object>"
      ]
     },
     "metadata": {},
     "output_type": "display_data"
    },
    {
     "data": {
      "text/html": [
       " View sweep at <a href='https://wandb.ai/gsathish333/main_sweeps_V3/sweeps/pczmd77s' target=\"_blank\">https://wandb.ai/gsathish333/main_sweeps_V3/sweeps/pczmd77s</a>"
      ],
      "text/plain": [
       "<IPython.core.display.HTML object>"
      ]
     },
     "metadata": {},
     "output_type": "display_data"
    },
    {
     "data": {
      "text/html": [
       " View run at <a href='https://wandb.ai/gsathish333/main_sweeps_V3/runs/223i9oq8' target=\"_blank\">https://wandb.ai/gsathish333/main_sweeps_V3/runs/223i9oq8</a>"
      ],
      "text/plain": [
       "<IPython.core.display.HTML object>"
      ]
     },
     "metadata": {},
     "output_type": "display_data"
    },
    {
     "name": "stdout",
     "output_type": "stream",
     "text": [
      "epoch 1 : train loss = 2.3137180815055283 valid loss = 0.0001927165542645174\n",
      "epoch 2 : train loss = 2.3085824207329533 valid loss = 0.00019234801717103842\n",
      "epoch 3 : train loss = 2.3073048173682147 valid loss = 0.0001922243592580154\n",
      "epoch 4 : train loss = 2.3068273621716706 valid loss = 0.00019217879709453156\n",
      "epoch 5 : train loss = 2.3066322688596346 valid loss = 0.00019215998383781914\n",
      "train accuracy  10.041666666666666\n",
      "valid accuracy  9.833333333333332\n"
     ]
    },
    {
     "data": {
      "text/html": [
       "Waiting for W&B process to finish... <strong style=\"color:green\">(success).</strong>"
      ],
      "text/plain": [
       "<IPython.core.display.HTML object>"
      ]
     },
     "metadata": {},
     "output_type": "display_data"
    },
    {
     "data": {
      "application/vnd.jupyter.widget-view+json": {
       "model_id": "a6aaee5493784e4596ef420c1f50bc03",
       "version_major": 2,
       "version_minor": 0
      },
      "text/plain": [
       "VBox(children=(Label(value='0.001 MB of 0.001 MB uploaded (0.000 MB deduped)\\r'), FloatProgress(value=1.0, max…"
      ]
     },
     "metadata": {},
     "output_type": "display_data"
    },
    {
     "data": {
      "text/html": [
       "<style>\n",
       "    table.wandb td:nth-child(1) { padding: 0 10px; text-align: left ; width: auto;} td:nth-child(2) {text-align: left ; width: 100%}\n",
       "    .wandb-row { display: flex; flex-direction: row; flex-wrap: wrap; justify-content: flex-start; width: 100% }\n",
       "    .wandb-col { display: flex; flex-direction: column; flex-basis: 100%; flex: 1; padding: 10px; }\n",
       "    </style>\n",
       "<div class=\"wandb-row\"><div class=\"wandb-col\"><h3>Run history:</h3><br/><table class=\"wandb\"><tr><td>accuracy</td><td>▁</td></tr><tr><td>val_accuracy</td><td>▁</td></tr></table><br/></div><div class=\"wandb-col\"><h3>Run summary:</h3><br/><table class=\"wandb\"><tr><td>accuracy</td><td>10.04167</td></tr><tr><td>val_accuracy</td><td>9.83333</td></tr></table><br/></div></div>"
      ],
      "text/plain": [
       "<IPython.core.display.HTML object>"
      ]
     },
     "metadata": {},
     "output_type": "display_data"
    },
    {
     "data": {
      "text/html": [
       " View run <strong style=\"color:#cdcd00\">scarlet-sweep-12</strong> at: <a href='https://wandb.ai/gsathish333/main_sweeps_V3/runs/223i9oq8' target=\"_blank\">https://wandb.ai/gsathish333/main_sweeps_V3/runs/223i9oq8</a><br/>Synced 6 W&B file(s), 0 media file(s), 0 artifact file(s) and 0 other file(s)"
      ],
      "text/plain": [
       "<IPython.core.display.HTML object>"
      ]
     },
     "metadata": {},
     "output_type": "display_data"
    },
    {
     "data": {
      "text/html": [
       "Find logs at: <code>./wandb/run-20230306_033428-223i9oq8/logs</code>"
      ],
      "text/plain": [
       "<IPython.core.display.HTML object>"
      ]
     },
     "metadata": {},
     "output_type": "display_data"
    },
    {
     "name": "stderr",
     "output_type": "stream",
     "text": [
      "\u001b[34m\u001b[1mwandb\u001b[0m: Sweep Agent: Waiting for job.\n",
      "\u001b[34m\u001b[1mwandb\u001b[0m: Job received.\n",
      "\u001b[34m\u001b[1mwandb\u001b[0m: Agent Starting Run: 9dv0f3fy with config:\n",
      "\u001b[34m\u001b[1mwandb\u001b[0m: \tL2_lambda: 0\n",
      "\u001b[34m\u001b[1mwandb\u001b[0m: \tactivation: sigmoid\n",
      "\u001b[34m\u001b[1mwandb\u001b[0m: \tbatch_size: 16\n",
      "\u001b[34m\u001b[1mwandb\u001b[0m: \tepochs: 5\n",
      "\u001b[34m\u001b[1mwandb\u001b[0m: \tintialization: normal\n",
      "\u001b[34m\u001b[1mwandb\u001b[0m: \tlayer_size: 32\n",
      "\u001b[34m\u001b[1mwandb\u001b[0m: \tlearning_rate: 0.1\n",
      "\u001b[34m\u001b[1mwandb\u001b[0m: \tnum_layers: 5\n",
      "\u001b[34m\u001b[1mwandb\u001b[0m: \toptimizer: nesterov\n"
     ]
    },
    {
     "data": {
      "text/html": [
       "Tracking run with wandb version 0.13.10"
      ],
      "text/plain": [
       "<IPython.core.display.HTML object>"
      ]
     },
     "metadata": {},
     "output_type": "display_data"
    },
    {
     "data": {
      "text/html": [
       "Run data is saved locally in <code>/Users/sathish/Desktop/DL_temp/DL_Assignment_1/wandb/run-20230306_033505-9dv0f3fy</code>"
      ],
      "text/plain": [
       "<IPython.core.display.HTML object>"
      ]
     },
     "metadata": {},
     "output_type": "display_data"
    },
    {
     "data": {
      "text/html": [
       "Syncing run <strong><a href='https://wandb.ai/gsathish333/main_sweeps_V3/runs/9dv0f3fy' target=\"_blank\">kind-sweep-13</a></strong> to <a href='https://wandb.ai/gsathish333/main_sweeps_V3' target=\"_blank\">Weights & Biases</a> (<a href='https://wandb.me/run' target=\"_blank\">docs</a>)<br/>Sweep page: <a href='https://wandb.ai/gsathish333/main_sweeps_V3/sweeps/pczmd77s' target=\"_blank\">https://wandb.ai/gsathish333/main_sweeps_V3/sweeps/pczmd77s</a>"
      ],
      "text/plain": [
       "<IPython.core.display.HTML object>"
      ]
     },
     "metadata": {},
     "output_type": "display_data"
    },
    {
     "data": {
      "text/html": [
       " View project at <a href='https://wandb.ai/gsathish333/main_sweeps_V3' target=\"_blank\">https://wandb.ai/gsathish333/main_sweeps_V3</a>"
      ],
      "text/plain": [
       "<IPython.core.display.HTML object>"
      ]
     },
     "metadata": {},
     "output_type": "display_data"
    },
    {
     "data": {
      "text/html": [
       " View sweep at <a href='https://wandb.ai/gsathish333/main_sweeps_V3/sweeps/pczmd77s' target=\"_blank\">https://wandb.ai/gsathish333/main_sweeps_V3/sweeps/pczmd77s</a>"
      ],
      "text/plain": [
       "<IPython.core.display.HTML object>"
      ]
     },
     "metadata": {},
     "output_type": "display_data"
    },
    {
     "data": {
      "text/html": [
       " View run at <a href='https://wandb.ai/gsathish333/main_sweeps_V3/runs/9dv0f3fy' target=\"_blank\">https://wandb.ai/gsathish333/main_sweeps_V3/runs/9dv0f3fy</a>"
      ],
      "text/plain": [
       "<IPython.core.display.HTML object>"
      ]
     },
     "metadata": {},
     "output_type": "display_data"
    },
    {
     "name": "stdout",
     "output_type": "stream",
     "text": [
      "epoch 1 : train loss = 1.7046831655132408 valid loss = 8.337647448070875e-05\n",
      "epoch 2 : train loss = 0.845790904006344 valid loss = 4.865360359478527e-05\n",
      "epoch 3 : train loss = 0.6357665712219502 valid loss = 4.5515886749860634e-05\n",
      "epoch 4 : train loss = 0.5965939455177619 valid loss = 4.224305275144073e-05\n",
      "epoch 5 : train loss = 0.541768067392295 valid loss = 3.963331539386646e-05\n",
      "train accuracy  84.42083333333333\n",
      "valid accuracy  83.50833333333333\n"
     ]
    },
    {
     "data": {
      "text/html": [
       "Waiting for W&B process to finish... <strong style=\"color:green\">(success).</strong>"
      ],
      "text/plain": [
       "<IPython.core.display.HTML object>"
      ]
     },
     "metadata": {},
     "output_type": "display_data"
    },
    {
     "data": {
      "application/vnd.jupyter.widget-view+json": {
       "model_id": "ae728f80ca874d8894f85fb464f250e4",
       "version_major": 2,
       "version_minor": 0
      },
      "text/plain": [
       "VBox(children=(Label(value='0.001 MB of 0.001 MB uploaded (0.000 MB deduped)\\r'), FloatProgress(value=1.0, max…"
      ]
     },
     "metadata": {},
     "output_type": "display_data"
    },
    {
     "data": {
      "text/html": [
       "<style>\n",
       "    table.wandb td:nth-child(1) { padding: 0 10px; text-align: left ; width: auto;} td:nth-child(2) {text-align: left ; width: 100%}\n",
       "    .wandb-row { display: flex; flex-direction: row; flex-wrap: wrap; justify-content: flex-start; width: 100% }\n",
       "    .wandb-col { display: flex; flex-direction: column; flex-basis: 100%; flex: 1; padding: 10px; }\n",
       "    </style>\n",
       "<div class=\"wandb-row\"><div class=\"wandb-col\"><h3>Run history:</h3><br/><table class=\"wandb\"><tr><td>accuracy</td><td>▁</td></tr><tr><td>val_accuracy</td><td>▁</td></tr></table><br/></div><div class=\"wandb-col\"><h3>Run summary:</h3><br/><table class=\"wandb\"><tr><td>accuracy</td><td>84.42083</td></tr><tr><td>val_accuracy</td><td>83.50833</td></tr></table><br/></div></div>"
      ],
      "text/plain": [
       "<IPython.core.display.HTML object>"
      ]
     },
     "metadata": {},
     "output_type": "display_data"
    },
    {
     "data": {
      "text/html": [
       " View run <strong style=\"color:#cdcd00\">kind-sweep-13</strong> at: <a href='https://wandb.ai/gsathish333/main_sweeps_V3/runs/9dv0f3fy' target=\"_blank\">https://wandb.ai/gsathish333/main_sweeps_V3/runs/9dv0f3fy</a><br/>Synced 6 W&B file(s), 0 media file(s), 0 artifact file(s) and 0 other file(s)"
      ],
      "text/plain": [
       "<IPython.core.display.HTML object>"
      ]
     },
     "metadata": {},
     "output_type": "display_data"
    },
    {
     "data": {
      "text/html": [
       "Find logs at: <code>./wandb/run-20230306_033505-9dv0f3fy/logs</code>"
      ],
      "text/plain": [
       "<IPython.core.display.HTML object>"
      ]
     },
     "metadata": {},
     "output_type": "display_data"
    },
    {
     "name": "stderr",
     "output_type": "stream",
     "text": [
      "\u001b[34m\u001b[1mwandb\u001b[0m: Sweep Agent: Waiting for job.\n",
      "\u001b[34m\u001b[1mwandb\u001b[0m: Job received.\n",
      "\u001b[34m\u001b[1mwandb\u001b[0m: Agent Starting Run: jdhd62na with config:\n",
      "\u001b[34m\u001b[1mwandb\u001b[0m: \tL2_lambda: 0\n",
      "\u001b[34m\u001b[1mwandb\u001b[0m: \tactivation: sigmoid\n",
      "\u001b[34m\u001b[1mwandb\u001b[0m: \tbatch_size: 16\n",
      "\u001b[34m\u001b[1mwandb\u001b[0m: \tepochs: 5\n",
      "\u001b[34m\u001b[1mwandb\u001b[0m: \tintialization: normal\n",
      "\u001b[34m\u001b[1mwandb\u001b[0m: \tlayer_size: 32\n",
      "\u001b[34m\u001b[1mwandb\u001b[0m: \tlearning_rate: 0.1\n",
      "\u001b[34m\u001b[1mwandb\u001b[0m: \tnum_layers: 5\n",
      "\u001b[34m\u001b[1mwandb\u001b[0m: \toptimizer: rmsprop\n"
     ]
    },
    {
     "data": {
      "text/html": [
       "Tracking run with wandb version 0.13.10"
      ],
      "text/plain": [
       "<IPython.core.display.HTML object>"
      ]
     },
     "metadata": {},
     "output_type": "display_data"
    },
    {
     "data": {
      "text/html": [
       "Run data is saved locally in <code>/Users/sathish/Desktop/DL_temp/DL_Assignment_1/wandb/run-20230306_033543-jdhd62na</code>"
      ],
      "text/plain": [
       "<IPython.core.display.HTML object>"
      ]
     },
     "metadata": {},
     "output_type": "display_data"
    },
    {
     "data": {
      "text/html": [
       "Syncing run <strong><a href='https://wandb.ai/gsathish333/main_sweeps_V3/runs/jdhd62na' target=\"_blank\">bumbling-sweep-14</a></strong> to <a href='https://wandb.ai/gsathish333/main_sweeps_V3' target=\"_blank\">Weights & Biases</a> (<a href='https://wandb.me/run' target=\"_blank\">docs</a>)<br/>Sweep page: <a href='https://wandb.ai/gsathish333/main_sweeps_V3/sweeps/pczmd77s' target=\"_blank\">https://wandb.ai/gsathish333/main_sweeps_V3/sweeps/pczmd77s</a>"
      ],
      "text/plain": [
       "<IPython.core.display.HTML object>"
      ]
     },
     "metadata": {},
     "output_type": "display_data"
    },
    {
     "data": {
      "text/html": [
       " View project at <a href='https://wandb.ai/gsathish333/main_sweeps_V3' target=\"_blank\">https://wandb.ai/gsathish333/main_sweeps_V3</a>"
      ],
      "text/plain": [
       "<IPython.core.display.HTML object>"
      ]
     },
     "metadata": {},
     "output_type": "display_data"
    },
    {
     "data": {
      "text/html": [
       " View sweep at <a href='https://wandb.ai/gsathish333/main_sweeps_V3/sweeps/pczmd77s' target=\"_blank\">https://wandb.ai/gsathish333/main_sweeps_V3/sweeps/pczmd77s</a>"
      ],
      "text/plain": [
       "<IPython.core.display.HTML object>"
      ]
     },
     "metadata": {},
     "output_type": "display_data"
    },
    {
     "data": {
      "text/html": [
       " View run at <a href='https://wandb.ai/gsathish333/main_sweeps_V3/runs/jdhd62na' target=\"_blank\">https://wandb.ai/gsathish333/main_sweeps_V3/runs/jdhd62na</a>"
      ],
      "text/plain": [
       "<IPython.core.display.HTML object>"
      ]
     },
     "metadata": {},
     "output_type": "display_data"
    },
    {
     "name": "stderr",
     "output_type": "stream",
     "text": [
      "/var/folders/v8/pvrhyj2x1kdb1h8pp09t18b40000gn/T/ipykernel_9102/2839676318.py:8: RuntimeWarning: overflow encountered in exp\n",
      "  return 1.0/(1+np.exp(-x))\n",
      "/var/folders/v8/pvrhyj2x1kdb1h8pp09t18b40000gn/T/ipykernel_9102/2839676318.py:105: RuntimeWarning: overflow encountered in exp\n",
      "  return 1.0/(1.0+1.0*np.exp(-x))\n"
     ]
    },
    {
     "name": "stdout",
     "output_type": "stream",
     "text": [
      "epoch 1 : train loss = 1.6289248661514948 valid loss = 0.0001524381432064075\n",
      "epoch 2 : train loss = 1.452057645205803 valid loss = 0.00012503586861506191\n",
      "epoch 3 : train loss = 1.6343549128005113 valid loss = 0.00014998681100593573\n",
      "epoch 4 : train loss = 1.592855772932701 valid loss = 0.00014221501465036293\n",
      "epoch 5 : train loss = 1.5942620228021693 valid loss = 0.00012694839416274033\n",
      "train accuracy  35.01875\n",
      "valid accuracy  35.233333333333334\n"
     ]
    },
    {
     "data": {
      "text/html": [
       "Waiting for W&B process to finish... <strong style=\"color:green\">(success).</strong>"
      ],
      "text/plain": [
       "<IPython.core.display.HTML object>"
      ]
     },
     "metadata": {},
     "output_type": "display_data"
    },
    {
     "data": {
      "text/html": [
       "<style>\n",
       "    table.wandb td:nth-child(1) { padding: 0 10px; text-align: left ; width: auto;} td:nth-child(2) {text-align: left ; width: 100%}\n",
       "    .wandb-row { display: flex; flex-direction: row; flex-wrap: wrap; justify-content: flex-start; width: 100% }\n",
       "    .wandb-col { display: flex; flex-direction: column; flex-basis: 100%; flex: 1; padding: 10px; }\n",
       "    </style>\n",
       "<div class=\"wandb-row\"><div class=\"wandb-col\"><h3>Run history:</h3><br/><table class=\"wandb\"><tr><td>accuracy</td><td>▁</td></tr><tr><td>val_accuracy</td><td>▁</td></tr></table><br/></div><div class=\"wandb-col\"><h3>Run summary:</h3><br/><table class=\"wandb\"><tr><td>accuracy</td><td>35.01875</td></tr><tr><td>val_accuracy</td><td>35.23333</td></tr></table><br/></div></div>"
      ],
      "text/plain": [
       "<IPython.core.display.HTML object>"
      ]
     },
     "metadata": {},
     "output_type": "display_data"
    },
    {
     "data": {
      "text/html": [
       " View run <strong style=\"color:#cdcd00\">bumbling-sweep-14</strong> at: <a href='https://wandb.ai/gsathish333/main_sweeps_V3/runs/jdhd62na' target=\"_blank\">https://wandb.ai/gsathish333/main_sweeps_V3/runs/jdhd62na</a><br/>Synced 6 W&B file(s), 0 media file(s), 0 artifact file(s) and 0 other file(s)"
      ],
      "text/plain": [
       "<IPython.core.display.HTML object>"
      ]
     },
     "metadata": {},
     "output_type": "display_data"
    },
    {
     "data": {
      "text/html": [
       "Find logs at: <code>./wandb/run-20230306_033543-jdhd62na/logs</code>"
      ],
      "text/plain": [
       "<IPython.core.display.HTML object>"
      ]
     },
     "metadata": {},
     "output_type": "display_data"
    },
    {
     "name": "stderr",
     "output_type": "stream",
     "text": [
      "\u001b[34m\u001b[1mwandb\u001b[0m: Agent Starting Run: 8ycpmiir with config:\n",
      "\u001b[34m\u001b[1mwandb\u001b[0m: \tL2_lambda: 0\n",
      "\u001b[34m\u001b[1mwandb\u001b[0m: \tactivation: sigmoid\n",
      "\u001b[34m\u001b[1mwandb\u001b[0m: \tbatch_size: 16\n",
      "\u001b[34m\u001b[1mwandb\u001b[0m: \tepochs: 5\n",
      "\u001b[34m\u001b[1mwandb\u001b[0m: \tintialization: normal\n",
      "\u001b[34m\u001b[1mwandb\u001b[0m: \tlayer_size: 32\n",
      "\u001b[34m\u001b[1mwandb\u001b[0m: \tlearning_rate: 0.1\n",
      "\u001b[34m\u001b[1mwandb\u001b[0m: \tnum_layers: 5\n",
      "\u001b[34m\u001b[1mwandb\u001b[0m: \toptimizer: adam\n"
     ]
    },
    {
     "data": {
      "text/html": [
       "Tracking run with wandb version 0.13.10"
      ],
      "text/plain": [
       "<IPython.core.display.HTML object>"
      ]
     },
     "metadata": {},
     "output_type": "display_data"
    },
    {
     "data": {
      "text/html": [
       "Run data is saved locally in <code>/Users/sathish/Desktop/DL_temp/DL_Assignment_1/wandb/run-20230306_033616-8ycpmiir</code>"
      ],
      "text/plain": [
       "<IPython.core.display.HTML object>"
      ]
     },
     "metadata": {},
     "output_type": "display_data"
    },
    {
     "data": {
      "text/html": [
       "Syncing run <strong><a href='https://wandb.ai/gsathish333/main_sweeps_V3/runs/8ycpmiir' target=\"_blank\">resilient-sweep-15</a></strong> to <a href='https://wandb.ai/gsathish333/main_sweeps_V3' target=\"_blank\">Weights & Biases</a> (<a href='https://wandb.me/run' target=\"_blank\">docs</a>)<br/>Sweep page: <a href='https://wandb.ai/gsathish333/main_sweeps_V3/sweeps/pczmd77s' target=\"_blank\">https://wandb.ai/gsathish333/main_sweeps_V3/sweeps/pczmd77s</a>"
      ],
      "text/plain": [
       "<IPython.core.display.HTML object>"
      ]
     },
     "metadata": {},
     "output_type": "display_data"
    },
    {
     "data": {
      "text/html": [
       " View project at <a href='https://wandb.ai/gsathish333/main_sweeps_V3' target=\"_blank\">https://wandb.ai/gsathish333/main_sweeps_V3</a>"
      ],
      "text/plain": [
       "<IPython.core.display.HTML object>"
      ]
     },
     "metadata": {},
     "output_type": "display_data"
    },
    {
     "data": {
      "text/html": [
       " View sweep at <a href='https://wandb.ai/gsathish333/main_sweeps_V3/sweeps/pczmd77s' target=\"_blank\">https://wandb.ai/gsathish333/main_sweeps_V3/sweeps/pczmd77s</a>"
      ],
      "text/plain": [
       "<IPython.core.display.HTML object>"
      ]
     },
     "metadata": {},
     "output_type": "display_data"
    },
    {
     "data": {
      "text/html": [
       " View run at <a href='https://wandb.ai/gsathish333/main_sweeps_V3/runs/8ycpmiir' target=\"_blank\">https://wandb.ai/gsathish333/main_sweeps_V3/runs/8ycpmiir</a>"
      ],
      "text/plain": [
       "<IPython.core.display.HTML object>"
      ]
     },
     "metadata": {},
     "output_type": "display_data"
    },
    {
     "name": "stdout",
     "output_type": "stream",
     "text": [
      "epoch 1 : train loss = 2.3223284561511055 valid loss = 0.00019365081504890772\n",
      "epoch 2 : train loss = 2.320094864675918 valid loss = 0.0001936437987931828\n",
      "epoch 3 : train loss = 2.319420073514371 valid loss = 0.00019229547333121248\n",
      "epoch 4 : train loss = 2.311990518082135 valid loss = 0.00019199597779173043\n",
      "epoch 5 : train loss = 2.311332683021288 valid loss = 0.00019197478321169155\n",
      "train accuracy  9.9875\n",
      "valid accuracy  10.05\n"
     ]
    },
    {
     "data": {
      "text/html": [
       "Waiting for W&B process to finish... <strong style=\"color:green\">(success).</strong>"
      ],
      "text/plain": [
       "<IPython.core.display.HTML object>"
      ]
     },
     "metadata": {},
     "output_type": "display_data"
    },
    {
     "data": {
      "text/html": [
       "<style>\n",
       "    table.wandb td:nth-child(1) { padding: 0 10px; text-align: left ; width: auto;} td:nth-child(2) {text-align: left ; width: 100%}\n",
       "    .wandb-row { display: flex; flex-direction: row; flex-wrap: wrap; justify-content: flex-start; width: 100% }\n",
       "    .wandb-col { display: flex; flex-direction: column; flex-basis: 100%; flex: 1; padding: 10px; }\n",
       "    </style>\n",
       "<div class=\"wandb-row\"><div class=\"wandb-col\"><h3>Run history:</h3><br/><table class=\"wandb\"><tr><td>accuracy</td><td>▁</td></tr><tr><td>val_accuracy</td><td>▁</td></tr></table><br/></div><div class=\"wandb-col\"><h3>Run summary:</h3><br/><table class=\"wandb\"><tr><td>accuracy</td><td>9.9875</td></tr><tr><td>val_accuracy</td><td>10.05</td></tr></table><br/></div></div>"
      ],
      "text/plain": [
       "<IPython.core.display.HTML object>"
      ]
     },
     "metadata": {},
     "output_type": "display_data"
    },
    {
     "data": {
      "text/html": [
       " View run <strong style=\"color:#cdcd00\">resilient-sweep-15</strong> at: <a href='https://wandb.ai/gsathish333/main_sweeps_V3/runs/8ycpmiir' target=\"_blank\">https://wandb.ai/gsathish333/main_sweeps_V3/runs/8ycpmiir</a><br/>Synced 6 W&B file(s), 0 media file(s), 0 artifact file(s) and 0 other file(s)"
      ],
      "text/plain": [
       "<IPython.core.display.HTML object>"
      ]
     },
     "metadata": {},
     "output_type": "display_data"
    },
    {
     "data": {
      "text/html": [
       "Find logs at: <code>./wandb/run-20230306_033616-8ycpmiir/logs</code>"
      ],
      "text/plain": [
       "<IPython.core.display.HTML object>"
      ]
     },
     "metadata": {},
     "output_type": "display_data"
    },
    {
     "name": "stderr",
     "output_type": "stream",
     "text": [
      "\u001b[34m\u001b[1mwandb\u001b[0m: Sweep Agent: Waiting for job.\n",
      "\u001b[34m\u001b[1mwandb\u001b[0m: Job received.\n",
      "\u001b[34m\u001b[1mwandb\u001b[0m: Agent Starting Run: 57kqnic6 with config:\n",
      "\u001b[34m\u001b[1mwandb\u001b[0m: \tL2_lambda: 0\n",
      "\u001b[34m\u001b[1mwandb\u001b[0m: \tactivation: sigmoid\n",
      "\u001b[34m\u001b[1mwandb\u001b[0m: \tbatch_size: 16\n",
      "\u001b[34m\u001b[1mwandb\u001b[0m: \tepochs: 5\n",
      "\u001b[34m\u001b[1mwandb\u001b[0m: \tintialization: normal\n",
      "\u001b[34m\u001b[1mwandb\u001b[0m: \tlayer_size: 32\n",
      "\u001b[34m\u001b[1mwandb\u001b[0m: \tlearning_rate: 0.01\n",
      "\u001b[34m\u001b[1mwandb\u001b[0m: \tnum_layers: 3\n",
      "\u001b[34m\u001b[1mwandb\u001b[0m: \toptimizer: sgd\n"
     ]
    },
    {
     "data": {
      "text/html": [
       "Tracking run with wandb version 0.13.10"
      ],
      "text/plain": [
       "<IPython.core.display.HTML object>"
      ]
     },
     "metadata": {},
     "output_type": "display_data"
    },
    {
     "data": {
      "text/html": [
       "Run data is saved locally in <code>/Users/sathish/Desktop/DL_temp/DL_Assignment_1/wandb/run-20230306_033658-57kqnic6</code>"
      ],
      "text/plain": [
       "<IPython.core.display.HTML object>"
      ]
     },
     "metadata": {},
     "output_type": "display_data"
    },
    {
     "data": {
      "text/html": [
       "Syncing run <strong><a href='https://wandb.ai/gsathish333/main_sweeps_V3/runs/57kqnic6' target=\"_blank\">dashing-sweep-16</a></strong> to <a href='https://wandb.ai/gsathish333/main_sweeps_V3' target=\"_blank\">Weights & Biases</a> (<a href='https://wandb.me/run' target=\"_blank\">docs</a>)<br/>Sweep page: <a href='https://wandb.ai/gsathish333/main_sweeps_V3/sweeps/pczmd77s' target=\"_blank\">https://wandb.ai/gsathish333/main_sweeps_V3/sweeps/pczmd77s</a>"
      ],
      "text/plain": [
       "<IPython.core.display.HTML object>"
      ]
     },
     "metadata": {},
     "output_type": "display_data"
    },
    {
     "data": {
      "text/html": [
       " View project at <a href='https://wandb.ai/gsathish333/main_sweeps_V3' target=\"_blank\">https://wandb.ai/gsathish333/main_sweeps_V3</a>"
      ],
      "text/plain": [
       "<IPython.core.display.HTML object>"
      ]
     },
     "metadata": {},
     "output_type": "display_data"
    },
    {
     "data": {
      "text/html": [
       " View sweep at <a href='https://wandb.ai/gsathish333/main_sweeps_V3/sweeps/pczmd77s' target=\"_blank\">https://wandb.ai/gsathish333/main_sweeps_V3/sweeps/pczmd77s</a>"
      ],
      "text/plain": [
       "<IPython.core.display.HTML object>"
      ]
     },
     "metadata": {},
     "output_type": "display_data"
    },
    {
     "data": {
      "text/html": [
       " View run at <a href='https://wandb.ai/gsathish333/main_sweeps_V3/runs/57kqnic6' target=\"_blank\">https://wandb.ai/gsathish333/main_sweeps_V3/runs/57kqnic6</a>"
      ],
      "text/plain": [
       "<IPython.core.display.HTML object>"
      ]
     },
     "metadata": {},
     "output_type": "display_data"
    },
    {
     "name": "stdout",
     "output_type": "stream",
     "text": [
      "epoch 1 : train loss = 2.3053132423948037 valid loss = 0.00019131821422358112\n",
      "epoch 2 : train loss = 2.287830986664431 valid loss = 0.0001892353816569227\n",
      "epoch 3 : train loss = 2.183023251653632 valid loss = 0.00016635427484107306\n",
      "epoch 4 : train loss = 1.7987975557384481 valid loss = 0.0001402158571685303\n",
      "epoch 5 : train loss = 1.6178409594118404 valid loss = 0.00012893614290758639\n",
      "train accuracy  39.93333333333333\n",
      "valid accuracy  40.35\n"
     ]
    },
    {
     "data": {
      "text/html": [
       "Waiting for W&B process to finish... <strong style=\"color:green\">(success).</strong>"
      ],
      "text/plain": [
       "<IPython.core.display.HTML object>"
      ]
     },
     "metadata": {},
     "output_type": "display_data"
    },
    {
     "data": {
      "application/vnd.jupyter.widget-view+json": {
       "model_id": "219cd69e7b7a44d6a70010f10adeff82",
       "version_major": 2,
       "version_minor": 0
      },
      "text/plain": [
       "VBox(children=(Label(value='0.001 MB of 0.024 MB uploaded (0.000 MB deduped)\\r'), FloatProgress(value=0.042573…"
      ]
     },
     "metadata": {},
     "output_type": "display_data"
    },
    {
     "data": {
      "text/html": [
       "<style>\n",
       "    table.wandb td:nth-child(1) { padding: 0 10px; text-align: left ; width: auto;} td:nth-child(2) {text-align: left ; width: 100%}\n",
       "    .wandb-row { display: flex; flex-direction: row; flex-wrap: wrap; justify-content: flex-start; width: 100% }\n",
       "    .wandb-col { display: flex; flex-direction: column; flex-basis: 100%; flex: 1; padding: 10px; }\n",
       "    </style>\n",
       "<div class=\"wandb-row\"><div class=\"wandb-col\"><h3>Run history:</h3><br/><table class=\"wandb\"><tr><td>accuracy</td><td>▁</td></tr><tr><td>val_accuracy</td><td>▁</td></tr></table><br/></div><div class=\"wandb-col\"><h3>Run summary:</h3><br/><table class=\"wandb\"><tr><td>accuracy</td><td>39.93333</td></tr><tr><td>val_accuracy</td><td>40.35</td></tr></table><br/></div></div>"
      ],
      "text/plain": [
       "<IPython.core.display.HTML object>"
      ]
     },
     "metadata": {},
     "output_type": "display_data"
    },
    {
     "data": {
      "text/html": [
       " View run <strong style=\"color:#cdcd00\">dashing-sweep-16</strong> at: <a href='https://wandb.ai/gsathish333/main_sweeps_V3/runs/57kqnic6' target=\"_blank\">https://wandb.ai/gsathish333/main_sweeps_V3/runs/57kqnic6</a><br/>Synced 6 W&B file(s), 0 media file(s), 0 artifact file(s) and 0 other file(s)"
      ],
      "text/plain": [
       "<IPython.core.display.HTML object>"
      ]
     },
     "metadata": {},
     "output_type": "display_data"
    },
    {
     "data": {
      "text/html": [
       "Find logs at: <code>./wandb/run-20230306_033658-57kqnic6/logs</code>"
      ],
      "text/plain": [
       "<IPython.core.display.HTML object>"
      ]
     },
     "metadata": {},
     "output_type": "display_data"
    },
    {
     "name": "stderr",
     "output_type": "stream",
     "text": [
      "\u001b[34m\u001b[1mwandb\u001b[0m: Agent Starting Run: vsfggmvj with config:\n",
      "\u001b[34m\u001b[1mwandb\u001b[0m: \tL2_lambda: 0\n",
      "\u001b[34m\u001b[1mwandb\u001b[0m: \tactivation: sigmoid\n",
      "\u001b[34m\u001b[1mwandb\u001b[0m: \tbatch_size: 16\n",
      "\u001b[34m\u001b[1mwandb\u001b[0m: \tepochs: 5\n",
      "\u001b[34m\u001b[1mwandb\u001b[0m: \tintialization: normal\n",
      "\u001b[34m\u001b[1mwandb\u001b[0m: \tlayer_size: 32\n",
      "\u001b[34m\u001b[1mwandb\u001b[0m: \tlearning_rate: 0.01\n",
      "\u001b[34m\u001b[1mwandb\u001b[0m: \tnum_layers: 3\n",
      "\u001b[34m\u001b[1mwandb\u001b[0m: \toptimizer: momentum\n"
     ]
    },
    {
     "data": {
      "text/html": [
       "Tracking run with wandb version 0.13.10"
      ],
      "text/plain": [
       "<IPython.core.display.HTML object>"
      ]
     },
     "metadata": {},
     "output_type": "display_data"
    },
    {
     "data": {
      "text/html": [
       "Run data is saved locally in <code>/Users/sathish/Desktop/DL_temp/DL_Assignment_1/wandb/run-20230306_033725-vsfggmvj</code>"
      ],
      "text/plain": [
       "<IPython.core.display.HTML object>"
      ]
     },
     "metadata": {},
     "output_type": "display_data"
    },
    {
     "data": {
      "text/html": [
       "Syncing run <strong><a href='https://wandb.ai/gsathish333/main_sweeps_V3/runs/vsfggmvj' target=\"_blank\">helpful-sweep-17</a></strong> to <a href='https://wandb.ai/gsathish333/main_sweeps_V3' target=\"_blank\">Weights & Biases</a> (<a href='https://wandb.me/run' target=\"_blank\">docs</a>)<br/>Sweep page: <a href='https://wandb.ai/gsathish333/main_sweeps_V3/sweeps/pczmd77s' target=\"_blank\">https://wandb.ai/gsathish333/main_sweeps_V3/sweeps/pczmd77s</a>"
      ],
      "text/plain": [
       "<IPython.core.display.HTML object>"
      ]
     },
     "metadata": {},
     "output_type": "display_data"
    },
    {
     "data": {
      "text/html": [
       " View project at <a href='https://wandb.ai/gsathish333/main_sweeps_V3' target=\"_blank\">https://wandb.ai/gsathish333/main_sweeps_V3</a>"
      ],
      "text/plain": [
       "<IPython.core.display.HTML object>"
      ]
     },
     "metadata": {},
     "output_type": "display_data"
    },
    {
     "data": {
      "text/html": [
       " View sweep at <a href='https://wandb.ai/gsathish333/main_sweeps_V3/sweeps/pczmd77s' target=\"_blank\">https://wandb.ai/gsathish333/main_sweeps_V3/sweeps/pczmd77s</a>"
      ],
      "text/plain": [
       "<IPython.core.display.HTML object>"
      ]
     },
     "metadata": {},
     "output_type": "display_data"
    },
    {
     "data": {
      "text/html": [
       " View run at <a href='https://wandb.ai/gsathish333/main_sweeps_V3/runs/vsfggmvj' target=\"_blank\">https://wandb.ai/gsathish333/main_sweeps_V3/runs/vsfggmvj</a>"
      ],
      "text/plain": [
       "<IPython.core.display.HTML object>"
      ]
     },
     "metadata": {},
     "output_type": "display_data"
    },
    {
     "name": "stdout",
     "output_type": "stream",
     "text": [
      "epoch 1 : train loss = 2.3071978439442624 valid loss = 0.0001912470767900812\n",
      "epoch 2 : train loss = 2.2873663638127932 valid loss = 0.00018941359880227348\n",
      "epoch 3 : train loss = 2.2190317264810036 valid loss = 0.0001745865657422678\n",
      "epoch 4 : train loss = 1.8475236297901414 valid loss = 0.00013788107079651193\n",
      "epoch 5 : train loss = 1.518679288720142 valid loss = 0.00011574492556027166\n",
      "train accuracy  52.925\n",
      "valid accuracy  53.583333333333336\n"
     ]
    },
    {
     "data": {
      "text/html": [
       "Waiting for W&B process to finish... <strong style=\"color:green\">(success).</strong>"
      ],
      "text/plain": [
       "<IPython.core.display.HTML object>"
      ]
     },
     "metadata": {},
     "output_type": "display_data"
    },
    {
     "data": {
      "application/vnd.jupyter.widget-view+json": {
       "model_id": "8e11ee5381ef4a6eb736f367ecd9e9f6",
       "version_major": 2,
       "version_minor": 0
      },
      "text/plain": [
       "VBox(children=(Label(value='0.001 MB of 0.009 MB uploaded (0.000 MB deduped)\\r'), FloatProgress(value=0.119154…"
      ]
     },
     "metadata": {},
     "output_type": "display_data"
    },
    {
     "data": {
      "text/html": [
       "<style>\n",
       "    table.wandb td:nth-child(1) { padding: 0 10px; text-align: left ; width: auto;} td:nth-child(2) {text-align: left ; width: 100%}\n",
       "    .wandb-row { display: flex; flex-direction: row; flex-wrap: wrap; justify-content: flex-start; width: 100% }\n",
       "    .wandb-col { display: flex; flex-direction: column; flex-basis: 100%; flex: 1; padding: 10px; }\n",
       "    </style>\n",
       "<div class=\"wandb-row\"><div class=\"wandb-col\"><h3>Run history:</h3><br/><table class=\"wandb\"><tr><td>accuracy</td><td>▁</td></tr><tr><td>val_accuracy</td><td>▁</td></tr></table><br/></div><div class=\"wandb-col\"><h3>Run summary:</h3><br/><table class=\"wandb\"><tr><td>accuracy</td><td>52.925</td></tr><tr><td>val_accuracy</td><td>53.58333</td></tr></table><br/></div></div>"
      ],
      "text/plain": [
       "<IPython.core.display.HTML object>"
      ]
     },
     "metadata": {},
     "output_type": "display_data"
    },
    {
     "data": {
      "text/html": [
       " View run <strong style=\"color:#cdcd00\">helpful-sweep-17</strong> at: <a href='https://wandb.ai/gsathish333/main_sweeps_V3/runs/vsfggmvj' target=\"_blank\">https://wandb.ai/gsathish333/main_sweeps_V3/runs/vsfggmvj</a><br/>Synced 6 W&B file(s), 0 media file(s), 0 artifact file(s) and 0 other file(s)"
      ],
      "text/plain": [
       "<IPython.core.display.HTML object>"
      ]
     },
     "metadata": {},
     "output_type": "display_data"
    },
    {
     "data": {
      "text/html": [
       "Find logs at: <code>./wandb/run-20230306_033725-vsfggmvj/logs</code>"
      ],
      "text/plain": [
       "<IPython.core.display.HTML object>"
      ]
     },
     "metadata": {},
     "output_type": "display_data"
    },
    {
     "name": "stderr",
     "output_type": "stream",
     "text": [
      "\u001b[34m\u001b[1mwandb\u001b[0m: Agent Starting Run: 1vimf10z with config:\n",
      "\u001b[34m\u001b[1mwandb\u001b[0m: \tL2_lambda: 0\n",
      "\u001b[34m\u001b[1mwandb\u001b[0m: \tactivation: sigmoid\n",
      "\u001b[34m\u001b[1mwandb\u001b[0m: \tbatch_size: 16\n",
      "\u001b[34m\u001b[1mwandb\u001b[0m: \tepochs: 5\n",
      "\u001b[34m\u001b[1mwandb\u001b[0m: \tintialization: normal\n",
      "\u001b[34m\u001b[1mwandb\u001b[0m: \tlayer_size: 32\n",
      "\u001b[34m\u001b[1mwandb\u001b[0m: \tlearning_rate: 0.01\n",
      "\u001b[34m\u001b[1mwandb\u001b[0m: \tnum_layers: 3\n",
      "\u001b[34m\u001b[1mwandb\u001b[0m: \toptimizer: nesterov\n"
     ]
    },
    {
     "data": {
      "text/html": [
       "Tracking run with wandb version 0.13.10"
      ],
      "text/plain": [
       "<IPython.core.display.HTML object>"
      ]
     },
     "metadata": {},
     "output_type": "display_data"
    },
    {
     "data": {
      "text/html": [
       "Run data is saved locally in <code>/Users/sathish/Desktop/DL_temp/DL_Assignment_1/wandb/run-20230306_033752-1vimf10z</code>"
      ],
      "text/plain": [
       "<IPython.core.display.HTML object>"
      ]
     },
     "metadata": {},
     "output_type": "display_data"
    },
    {
     "data": {
      "text/html": [
       "Syncing run <strong><a href='https://wandb.ai/gsathish333/main_sweeps_V3/runs/1vimf10z' target=\"_blank\">woven-sweep-18</a></strong> to <a href='https://wandb.ai/gsathish333/main_sweeps_V3' target=\"_blank\">Weights & Biases</a> (<a href='https://wandb.me/run' target=\"_blank\">docs</a>)<br/>Sweep page: <a href='https://wandb.ai/gsathish333/main_sweeps_V3/sweeps/pczmd77s' target=\"_blank\">https://wandb.ai/gsathish333/main_sweeps_V3/sweeps/pczmd77s</a>"
      ],
      "text/plain": [
       "<IPython.core.display.HTML object>"
      ]
     },
     "metadata": {},
     "output_type": "display_data"
    },
    {
     "data": {
      "text/html": [
       " View project at <a href='https://wandb.ai/gsathish333/main_sweeps_V3' target=\"_blank\">https://wandb.ai/gsathish333/main_sweeps_V3</a>"
      ],
      "text/plain": [
       "<IPython.core.display.HTML object>"
      ]
     },
     "metadata": {},
     "output_type": "display_data"
    },
    {
     "data": {
      "text/html": [
       " View sweep at <a href='https://wandb.ai/gsathish333/main_sweeps_V3/sweeps/pczmd77s' target=\"_blank\">https://wandb.ai/gsathish333/main_sweeps_V3/sweeps/pczmd77s</a>"
      ],
      "text/plain": [
       "<IPython.core.display.HTML object>"
      ]
     },
     "metadata": {},
     "output_type": "display_data"
    },
    {
     "data": {
      "text/html": [
       " View run at <a href='https://wandb.ai/gsathish333/main_sweeps_V3/runs/1vimf10z' target=\"_blank\">https://wandb.ai/gsathish333/main_sweeps_V3/runs/1vimf10z</a>"
      ],
      "text/plain": [
       "<IPython.core.display.HTML object>"
      ]
     },
     "metadata": {},
     "output_type": "display_data"
    },
    {
     "name": "stdout",
     "output_type": "stream",
     "text": [
      "epoch 1 : train loss = 1.5403733628181435 valid loss = 8.167919632773762e-05\n",
      "epoch 2 : train loss = 0.9263441156093184 valid loss = 5.773603861317281e-05\n",
      "epoch 3 : train loss = 0.7352004016493617 valid loss = 5.011010761166293e-05\n",
      "epoch 4 : train loss = 0.65652670139437 valid loss = 4.5620977109227514e-05\n",
      "epoch 5 : train loss = 0.6021976037579013 valid loss = 4.180830387634186e-05\n",
      "train accuracy  82.27083333333334\n",
      "valid accuracy  82.08333333333333\n"
     ]
    },
    {
     "data": {
      "text/html": [
       "Waiting for W&B process to finish... <strong style=\"color:green\">(success).</strong>"
      ],
      "text/plain": [
       "<IPython.core.display.HTML object>"
      ]
     },
     "metadata": {},
     "output_type": "display_data"
    },
    {
     "data": {
      "text/html": [
       "<style>\n",
       "    table.wandb td:nth-child(1) { padding: 0 10px; text-align: left ; width: auto;} td:nth-child(2) {text-align: left ; width: 100%}\n",
       "    .wandb-row { display: flex; flex-direction: row; flex-wrap: wrap; justify-content: flex-start; width: 100% }\n",
       "    .wandb-col { display: flex; flex-direction: column; flex-basis: 100%; flex: 1; padding: 10px; }\n",
       "    </style>\n",
       "<div class=\"wandb-row\"><div class=\"wandb-col\"><h3>Run history:</h3><br/><table class=\"wandb\"><tr><td>accuracy</td><td>▁</td></tr><tr><td>val_accuracy</td><td>▁</td></tr></table><br/></div><div class=\"wandb-col\"><h3>Run summary:</h3><br/><table class=\"wandb\"><tr><td>accuracy</td><td>82.27083</td></tr><tr><td>val_accuracy</td><td>82.08333</td></tr></table><br/></div></div>"
      ],
      "text/plain": [
       "<IPython.core.display.HTML object>"
      ]
     },
     "metadata": {},
     "output_type": "display_data"
    },
    {
     "data": {
      "text/html": [
       " View run <strong style=\"color:#cdcd00\">woven-sweep-18</strong> at: <a href='https://wandb.ai/gsathish333/main_sweeps_V3/runs/1vimf10z' target=\"_blank\">https://wandb.ai/gsathish333/main_sweeps_V3/runs/1vimf10z</a><br/>Synced 6 W&B file(s), 0 media file(s), 0 artifact file(s) and 0 other file(s)"
      ],
      "text/plain": [
       "<IPython.core.display.HTML object>"
      ]
     },
     "metadata": {},
     "output_type": "display_data"
    },
    {
     "data": {
      "text/html": [
       "Find logs at: <code>./wandb/run-20230306_033752-1vimf10z/logs</code>"
      ],
      "text/plain": [
       "<IPython.core.display.HTML object>"
      ]
     },
     "metadata": {},
     "output_type": "display_data"
    },
    {
     "name": "stderr",
     "output_type": "stream",
     "text": [
      "\u001b[34m\u001b[1mwandb\u001b[0m: Sweep Agent: Waiting for job.\n",
      "\u001b[34m\u001b[1mwandb\u001b[0m: Job received.\n",
      "\u001b[34m\u001b[1mwandb\u001b[0m: Agent Starting Run: zn14olon with config:\n",
      "\u001b[34m\u001b[1mwandb\u001b[0m: \tL2_lambda: 0\n",
      "\u001b[34m\u001b[1mwandb\u001b[0m: \tactivation: sigmoid\n",
      "\u001b[34m\u001b[1mwandb\u001b[0m: \tbatch_size: 16\n",
      "\u001b[34m\u001b[1mwandb\u001b[0m: \tepochs: 5\n",
      "\u001b[34m\u001b[1mwandb\u001b[0m: \tintialization: normal\n",
      "\u001b[34m\u001b[1mwandb\u001b[0m: \tlayer_size: 32\n",
      "\u001b[34m\u001b[1mwandb\u001b[0m: \tlearning_rate: 0.01\n",
      "\u001b[34m\u001b[1mwandb\u001b[0m: \tnum_layers: 3\n",
      "\u001b[34m\u001b[1mwandb\u001b[0m: \toptimizer: rmsprop\n"
     ]
    },
    {
     "data": {
      "text/html": [
       "Tracking run with wandb version 0.13.10"
      ],
      "text/plain": [
       "<IPython.core.display.HTML object>"
      ]
     },
     "metadata": {},
     "output_type": "display_data"
    },
    {
     "data": {
      "text/html": [
       "Run data is saved locally in <code>/Users/sathish/Desktop/DL_temp/DL_Assignment_1/wandb/run-20230306_033830-zn14olon</code>"
      ],
      "text/plain": [
       "<IPython.core.display.HTML object>"
      ]
     },
     "metadata": {},
     "output_type": "display_data"
    },
    {
     "data": {
      "text/html": [
       "Syncing run <strong><a href='https://wandb.ai/gsathish333/main_sweeps_V3/runs/zn14olon' target=\"_blank\">easy-sweep-19</a></strong> to <a href='https://wandb.ai/gsathish333/main_sweeps_V3' target=\"_blank\">Weights & Biases</a> (<a href='https://wandb.me/run' target=\"_blank\">docs</a>)<br/>Sweep page: <a href='https://wandb.ai/gsathish333/main_sweeps_V3/sweeps/pczmd77s' target=\"_blank\">https://wandb.ai/gsathish333/main_sweeps_V3/sweeps/pczmd77s</a>"
      ],
      "text/plain": [
       "<IPython.core.display.HTML object>"
      ]
     },
     "metadata": {},
     "output_type": "display_data"
    },
    {
     "data": {
      "text/html": [
       " View project at <a href='https://wandb.ai/gsathish333/main_sweeps_V3' target=\"_blank\">https://wandb.ai/gsathish333/main_sweeps_V3</a>"
      ],
      "text/plain": [
       "<IPython.core.display.HTML object>"
      ]
     },
     "metadata": {},
     "output_type": "display_data"
    },
    {
     "data": {
      "text/html": [
       " View sweep at <a href='https://wandb.ai/gsathish333/main_sweeps_V3/sweeps/pczmd77s' target=\"_blank\">https://wandb.ai/gsathish333/main_sweeps_V3/sweeps/pczmd77s</a>"
      ],
      "text/plain": [
       "<IPython.core.display.HTML object>"
      ]
     },
     "metadata": {},
     "output_type": "display_data"
    },
    {
     "data": {
      "text/html": [
       " View run at <a href='https://wandb.ai/gsathish333/main_sweeps_V3/runs/zn14olon' target=\"_blank\">https://wandb.ai/gsathish333/main_sweeps_V3/runs/zn14olon</a>"
      ],
      "text/plain": [
       "<IPython.core.display.HTML object>"
      ]
     },
     "metadata": {},
     "output_type": "display_data"
    },
    {
     "name": "stdout",
     "output_type": "stream",
     "text": [
      "epoch 1 : train loss = 0.6596699625631322 valid loss = 4.3057490504996854e-05\n",
      "epoch 2 : train loss = 0.5015126825250921 valid loss = 3.886946692341028e-05\n",
      "epoch 3 : train loss = 0.47642488465278365 valid loss = 4.069469449091832e-05\n",
      "epoch 4 : train loss = 0.4654524316387371 valid loss = 4.108328964885646e-05\n",
      "epoch 5 : train loss = 0.4562483229850474 valid loss = 4.020968464787433e-05\n",
      "train accuracy  85.37916666666666\n",
      "valid accuracy  84.625\n"
     ]
    },
    {
     "data": {
      "text/html": [
       "Waiting for W&B process to finish... <strong style=\"color:green\">(success).</strong>"
      ],
      "text/plain": [
       "<IPython.core.display.HTML object>"
      ]
     },
     "metadata": {},
     "output_type": "display_data"
    },
    {
     "data": {
      "application/vnd.jupyter.widget-view+json": {
       "model_id": "24ec941f976e44ee802bddeb6e4f50af",
       "version_major": 2,
       "version_minor": 0
      },
      "text/plain": [
       "VBox(children=(Label(value='0.001 MB of 0.008 MB uploaded (0.000 MB deduped)\\r'), FloatProgress(value=0.132782…"
      ]
     },
     "metadata": {},
     "output_type": "display_data"
    },
    {
     "data": {
      "text/html": [
       "<style>\n",
       "    table.wandb td:nth-child(1) { padding: 0 10px; text-align: left ; width: auto;} td:nth-child(2) {text-align: left ; width: 100%}\n",
       "    .wandb-row { display: flex; flex-direction: row; flex-wrap: wrap; justify-content: flex-start; width: 100% }\n",
       "    .wandb-col { display: flex; flex-direction: column; flex-basis: 100%; flex: 1; padding: 10px; }\n",
       "    </style>\n",
       "<div class=\"wandb-row\"><div class=\"wandb-col\"><h3>Run history:</h3><br/><table class=\"wandb\"><tr><td>accuracy</td><td>▁</td></tr><tr><td>val_accuracy</td><td>▁</td></tr></table><br/></div><div class=\"wandb-col\"><h3>Run summary:</h3><br/><table class=\"wandb\"><tr><td>accuracy</td><td>85.37917</td></tr><tr><td>val_accuracy</td><td>84.625</td></tr></table><br/></div></div>"
      ],
      "text/plain": [
       "<IPython.core.display.HTML object>"
      ]
     },
     "metadata": {},
     "output_type": "display_data"
    },
    {
     "data": {
      "text/html": [
       " View run <strong style=\"color:#cdcd00\">easy-sweep-19</strong> at: <a href='https://wandb.ai/gsathish333/main_sweeps_V3/runs/zn14olon' target=\"_blank\">https://wandb.ai/gsathish333/main_sweeps_V3/runs/zn14olon</a><br/>Synced 6 W&B file(s), 0 media file(s), 0 artifact file(s) and 0 other file(s)"
      ],
      "text/plain": [
       "<IPython.core.display.HTML object>"
      ]
     },
     "metadata": {},
     "output_type": "display_data"
    },
    {
     "data": {
      "text/html": [
       "Find logs at: <code>./wandb/run-20230306_033830-zn14olon/logs</code>"
      ],
      "text/plain": [
       "<IPython.core.display.HTML object>"
      ]
     },
     "metadata": {},
     "output_type": "display_data"
    },
    {
     "name": "stderr",
     "output_type": "stream",
     "text": [
      "\u001b[34m\u001b[1mwandb\u001b[0m: Agent Starting Run: ijbxluov with config:\n",
      "\u001b[34m\u001b[1mwandb\u001b[0m: \tL2_lambda: 0\n",
      "\u001b[34m\u001b[1mwandb\u001b[0m: \tactivation: sigmoid\n",
      "\u001b[34m\u001b[1mwandb\u001b[0m: \tbatch_size: 16\n",
      "\u001b[34m\u001b[1mwandb\u001b[0m: \tepochs: 5\n",
      "\u001b[34m\u001b[1mwandb\u001b[0m: \tintialization: normal\n",
      "\u001b[34m\u001b[1mwandb\u001b[0m: \tlayer_size: 32\n",
      "\u001b[34m\u001b[1mwandb\u001b[0m: \tlearning_rate: 0.01\n",
      "\u001b[34m\u001b[1mwandb\u001b[0m: \tnum_layers: 3\n",
      "\u001b[34m\u001b[1mwandb\u001b[0m: \toptimizer: adam\n"
     ]
    },
    {
     "data": {
      "text/html": [
       "Tracking run with wandb version 0.13.10"
      ],
      "text/plain": [
       "<IPython.core.display.HTML object>"
      ]
     },
     "metadata": {},
     "output_type": "display_data"
    },
    {
     "data": {
      "text/html": [
       "Run data is saved locally in <code>/Users/sathish/Desktop/DL_temp/DL_Assignment_1/wandb/run-20230306_033856-ijbxluov</code>"
      ],
      "text/plain": [
       "<IPython.core.display.HTML object>"
      ]
     },
     "metadata": {},
     "output_type": "display_data"
    },
    {
     "data": {
      "text/html": [
       "Syncing run <strong><a href='https://wandb.ai/gsathish333/main_sweeps_V3/runs/ijbxluov' target=\"_blank\">fresh-sweep-20</a></strong> to <a href='https://wandb.ai/gsathish333/main_sweeps_V3' target=\"_blank\">Weights & Biases</a> (<a href='https://wandb.me/run' target=\"_blank\">docs</a>)<br/>Sweep page: <a href='https://wandb.ai/gsathish333/main_sweeps_V3/sweeps/pczmd77s' target=\"_blank\">https://wandb.ai/gsathish333/main_sweeps_V3/sweeps/pczmd77s</a>"
      ],
      "text/plain": [
       "<IPython.core.display.HTML object>"
      ]
     },
     "metadata": {},
     "output_type": "display_data"
    },
    {
     "data": {
      "text/html": [
       " View project at <a href='https://wandb.ai/gsathish333/main_sweeps_V3' target=\"_blank\">https://wandb.ai/gsathish333/main_sweeps_V3</a>"
      ],
      "text/plain": [
       "<IPython.core.display.HTML object>"
      ]
     },
     "metadata": {},
     "output_type": "display_data"
    },
    {
     "data": {
      "text/html": [
       " View sweep at <a href='https://wandb.ai/gsathish333/main_sweeps_V3/sweeps/pczmd77s' target=\"_blank\">https://wandb.ai/gsathish333/main_sweeps_V3/sweeps/pczmd77s</a>"
      ],
      "text/plain": [
       "<IPython.core.display.HTML object>"
      ]
     },
     "metadata": {},
     "output_type": "display_data"
    },
    {
     "data": {
      "text/html": [
       " View run at <a href='https://wandb.ai/gsathish333/main_sweeps_V3/runs/ijbxluov' target=\"_blank\">https://wandb.ai/gsathish333/main_sweeps_V3/runs/ijbxluov</a>"
      ],
      "text/plain": [
       "<IPython.core.display.HTML object>"
      ]
     },
     "metadata": {},
     "output_type": "display_data"
    },
    {
     "name": "stdout",
     "output_type": "stream",
     "text": [
      "epoch 1 : train loss = 0.6806395603580493 valid loss = 4.6348746814989005e-05\n",
      "epoch 2 : train loss = 0.5312318728325301 valid loss = 3.943033957043331e-05\n",
      "epoch 3 : train loss = 0.4966904963644342 valid loss = 3.933281525411858e-05\n",
      "epoch 4 : train loss = 0.47833088866935447 valid loss = 3.841383004566142e-05\n",
      "epoch 5 : train loss = 0.46253306587231313 valid loss = 3.853263311570328e-05\n",
      "train accuracy  84.85625\n",
      "valid accuracy  83.61666666666666\n"
     ]
    },
    {
     "data": {
      "text/html": [
       "Waiting for W&B process to finish... <strong style=\"color:green\">(success).</strong>"
      ],
      "text/plain": [
       "<IPython.core.display.HTML object>"
      ]
     },
     "metadata": {},
     "output_type": "display_data"
    },
    {
     "data": {
      "application/vnd.jupyter.widget-view+json": {
       "model_id": "deb43cb2d8b649b8b9bebd3f6fdf8242",
       "version_major": 2,
       "version_minor": 0
      },
      "text/plain": [
       "VBox(children=(Label(value='0.001 MB of 0.001 MB uploaded (0.000 MB deduped)\\r'), FloatProgress(value=1.0, max…"
      ]
     },
     "metadata": {},
     "output_type": "display_data"
    },
    {
     "data": {
      "text/html": [
       "<style>\n",
       "    table.wandb td:nth-child(1) { padding: 0 10px; text-align: left ; width: auto;} td:nth-child(2) {text-align: left ; width: 100%}\n",
       "    .wandb-row { display: flex; flex-direction: row; flex-wrap: wrap; justify-content: flex-start; width: 100% }\n",
       "    .wandb-col { display: flex; flex-direction: column; flex-basis: 100%; flex: 1; padding: 10px; }\n",
       "    </style>\n",
       "<div class=\"wandb-row\"><div class=\"wandb-col\"><h3>Run history:</h3><br/><table class=\"wandb\"><tr><td>accuracy</td><td>▁</td></tr><tr><td>val_accuracy</td><td>▁</td></tr></table><br/></div><div class=\"wandb-col\"><h3>Run summary:</h3><br/><table class=\"wandb\"><tr><td>accuracy</td><td>84.85625</td></tr><tr><td>val_accuracy</td><td>83.61667</td></tr></table><br/></div></div>"
      ],
      "text/plain": [
       "<IPython.core.display.HTML object>"
      ]
     },
     "metadata": {},
     "output_type": "display_data"
    },
    {
     "data": {
      "text/html": [
       " View run <strong style=\"color:#cdcd00\">fresh-sweep-20</strong> at: <a href='https://wandb.ai/gsathish333/main_sweeps_V3/runs/ijbxluov' target=\"_blank\">https://wandb.ai/gsathish333/main_sweeps_V3/runs/ijbxluov</a><br/>Synced 6 W&B file(s), 0 media file(s), 0 artifact file(s) and 0 other file(s)"
      ],
      "text/plain": [
       "<IPython.core.display.HTML object>"
      ]
     },
     "metadata": {},
     "output_type": "display_data"
    },
    {
     "data": {
      "text/html": [
       "Find logs at: <code>./wandb/run-20230306_033856-ijbxluov/logs</code>"
      ],
      "text/plain": [
       "<IPython.core.display.HTML object>"
      ]
     },
     "metadata": {},
     "output_type": "display_data"
    },
    {
     "name": "stderr",
     "output_type": "stream",
     "text": [
      "\u001b[34m\u001b[1mwandb\u001b[0m: Sweep Agent: Waiting for job.\n",
      "\u001b[34m\u001b[1mwandb\u001b[0m: Job received.\n",
      "\u001b[34m\u001b[1mwandb\u001b[0m: Agent Starting Run: 6sxqjyd3 with config:\n",
      "\u001b[34m\u001b[1mwandb\u001b[0m: \tL2_lambda: 0\n",
      "\u001b[34m\u001b[1mwandb\u001b[0m: \tactivation: sigmoid\n",
      "\u001b[34m\u001b[1mwandb\u001b[0m: \tbatch_size: 16\n",
      "\u001b[34m\u001b[1mwandb\u001b[0m: \tepochs: 5\n",
      "\u001b[34m\u001b[1mwandb\u001b[0m: \tintialization: normal\n",
      "\u001b[34m\u001b[1mwandb\u001b[0m: \tlayer_size: 32\n",
      "\u001b[34m\u001b[1mwandb\u001b[0m: \tlearning_rate: 0.01\n",
      "\u001b[34m\u001b[1mwandb\u001b[0m: \tnum_layers: 4\n",
      "\u001b[34m\u001b[1mwandb\u001b[0m: \toptimizer: sgd\n"
     ]
    },
    {
     "data": {
      "text/html": [
       "Tracking run with wandb version 0.13.10"
      ],
      "text/plain": [
       "<IPython.core.display.HTML object>"
      ]
     },
     "metadata": {},
     "output_type": "display_data"
    },
    {
     "data": {
      "text/html": [
       "Run data is saved locally in <code>/Users/sathish/Desktop/DL_temp/DL_Assignment_1/wandb/run-20230306_033935-6sxqjyd3</code>"
      ],
      "text/plain": [
       "<IPython.core.display.HTML object>"
      ]
     },
     "metadata": {},
     "output_type": "display_data"
    },
    {
     "data": {
      "text/html": [
       "Syncing run <strong><a href='https://wandb.ai/gsathish333/main_sweeps_V3/runs/6sxqjyd3' target=\"_blank\">woven-sweep-21</a></strong> to <a href='https://wandb.ai/gsathish333/main_sweeps_V3' target=\"_blank\">Weights & Biases</a> (<a href='https://wandb.me/run' target=\"_blank\">docs</a>)<br/>Sweep page: <a href='https://wandb.ai/gsathish333/main_sweeps_V3/sweeps/pczmd77s' target=\"_blank\">https://wandb.ai/gsathish333/main_sweeps_V3/sweeps/pczmd77s</a>"
      ],
      "text/plain": [
       "<IPython.core.display.HTML object>"
      ]
     },
     "metadata": {},
     "output_type": "display_data"
    },
    {
     "data": {
      "text/html": [
       " View project at <a href='https://wandb.ai/gsathish333/main_sweeps_V3' target=\"_blank\">https://wandb.ai/gsathish333/main_sweeps_V3</a>"
      ],
      "text/plain": [
       "<IPython.core.display.HTML object>"
      ]
     },
     "metadata": {},
     "output_type": "display_data"
    },
    {
     "data": {
      "text/html": [
       " View sweep at <a href='https://wandb.ai/gsathish333/main_sweeps_V3/sweeps/pczmd77s' target=\"_blank\">https://wandb.ai/gsathish333/main_sweeps_V3/sweeps/pczmd77s</a>"
      ],
      "text/plain": [
       "<IPython.core.display.HTML object>"
      ]
     },
     "metadata": {},
     "output_type": "display_data"
    },
    {
     "data": {
      "text/html": [
       " View run at <a href='https://wandb.ai/gsathish333/main_sweeps_V3/runs/6sxqjyd3' target=\"_blank\">https://wandb.ai/gsathish333/main_sweeps_V3/runs/6sxqjyd3</a>"
      ],
      "text/plain": [
       "<IPython.core.display.HTML object>"
      ]
     },
     "metadata": {},
     "output_type": "display_data"
    },
    {
     "name": "stdout",
     "output_type": "stream",
     "text": [
      "epoch 1 : train loss = 2.3107783301859164 valid loss = 0.0001918890716204877\n",
      "epoch 2 : train loss = 2.303358783480011 valid loss = 0.00019185852511870182\n",
      "epoch 3 : train loss = 2.302988428025615 valid loss = 0.0001918283885191567\n",
      "epoch 4 : train loss = 2.30259484709842 valid loss = 0.00019179382344099345\n",
      "epoch 5 : train loss = 2.302114041850276 valid loss = 0.00019174854208591456\n",
      "train accuracy  9.933333333333334\n",
      "valid accuracy  10.266666666666667\n"
     ]
    },
    {
     "data": {
      "text/html": [
       "Waiting for W&B process to finish... <strong style=\"color:green\">(success).</strong>"
      ],
      "text/plain": [
       "<IPython.core.display.HTML object>"
      ]
     },
     "metadata": {},
     "output_type": "display_data"
    },
    {
     "data": {
      "application/vnd.jupyter.widget-view+json": {
       "model_id": "79103f2857504fb19f3c2738533a006f",
       "version_major": 2,
       "version_minor": 0
      },
      "text/plain": [
       "VBox(children=(Label(value='0.001 MB of 0.025 MB uploaded (0.000 MB deduped)\\r'), FloatProgress(value=0.042532…"
      ]
     },
     "metadata": {},
     "output_type": "display_data"
    },
    {
     "data": {
      "text/html": [
       "<style>\n",
       "    table.wandb td:nth-child(1) { padding: 0 10px; text-align: left ; width: auto;} td:nth-child(2) {text-align: left ; width: 100%}\n",
       "    .wandb-row { display: flex; flex-direction: row; flex-wrap: wrap; justify-content: flex-start; width: 100% }\n",
       "    .wandb-col { display: flex; flex-direction: column; flex-basis: 100%; flex: 1; padding: 10px; }\n",
       "    </style>\n",
       "<div class=\"wandb-row\"><div class=\"wandb-col\"><h3>Run history:</h3><br/><table class=\"wandb\"><tr><td>accuracy</td><td>▁</td></tr><tr><td>val_accuracy</td><td>▁</td></tr></table><br/></div><div class=\"wandb-col\"><h3>Run summary:</h3><br/><table class=\"wandb\"><tr><td>accuracy</td><td>9.93333</td></tr><tr><td>val_accuracy</td><td>10.26667</td></tr></table><br/></div></div>"
      ],
      "text/plain": [
       "<IPython.core.display.HTML object>"
      ]
     },
     "metadata": {},
     "output_type": "display_data"
    },
    {
     "data": {
      "text/html": [
       " View run <strong style=\"color:#cdcd00\">woven-sweep-21</strong> at: <a href='https://wandb.ai/gsathish333/main_sweeps_V3/runs/6sxqjyd3' target=\"_blank\">https://wandb.ai/gsathish333/main_sweeps_V3/runs/6sxqjyd3</a><br/>Synced 6 W&B file(s), 0 media file(s), 0 artifact file(s) and 0 other file(s)"
      ],
      "text/plain": [
       "<IPython.core.display.HTML object>"
      ]
     },
     "metadata": {},
     "output_type": "display_data"
    },
    {
     "data": {
      "text/html": [
       "Find logs at: <code>./wandb/run-20230306_033935-6sxqjyd3/logs</code>"
      ],
      "text/plain": [
       "<IPython.core.display.HTML object>"
      ]
     },
     "metadata": {},
     "output_type": "display_data"
    },
    {
     "name": "stderr",
     "output_type": "stream",
     "text": [
      "\u001b[34m\u001b[1mwandb\u001b[0m: Agent Starting Run: s6q5dri3 with config:\n",
      "\u001b[34m\u001b[1mwandb\u001b[0m: \tL2_lambda: 0\n",
      "\u001b[34m\u001b[1mwandb\u001b[0m: \tactivation: sigmoid\n",
      "\u001b[34m\u001b[1mwandb\u001b[0m: \tbatch_size: 16\n",
      "\u001b[34m\u001b[1mwandb\u001b[0m: \tepochs: 5\n",
      "\u001b[34m\u001b[1mwandb\u001b[0m: \tintialization: normal\n",
      "\u001b[34m\u001b[1mwandb\u001b[0m: \tlayer_size: 32\n",
      "\u001b[34m\u001b[1mwandb\u001b[0m: \tlearning_rate: 0.01\n",
      "\u001b[34m\u001b[1mwandb\u001b[0m: \tnum_layers: 4\n",
      "\u001b[34m\u001b[1mwandb\u001b[0m: \toptimizer: momentum\n"
     ]
    },
    {
     "data": {
      "application/vnd.jupyter.widget-view+json": {
       "model_id": "94c9e3becfb74f38b28457401706be60",
       "version_major": 2,
       "version_minor": 0
      },
      "text/plain": [
       "VBox(children=(Label(value='Waiting for wandb.init()...\\r'), FloatProgress(value=0.01675276320000118, max=1.0)…"
      ]
     },
     "metadata": {},
     "output_type": "display_data"
    },
    {
     "data": {
      "text/html": [
       "Tracking run with wandb version 0.13.10"
      ],
      "text/plain": [
       "<IPython.core.display.HTML object>"
      ]
     },
     "metadata": {},
     "output_type": "display_data"
    },
    {
     "data": {
      "text/html": [
       "Run data is saved locally in <code>/Users/sathish/Desktop/DL_temp/DL_Assignment_1/wandb/run-20230306_034001-s6q5dri3</code>"
      ],
      "text/plain": [
       "<IPython.core.display.HTML object>"
      ]
     },
     "metadata": {},
     "output_type": "display_data"
    },
    {
     "data": {
      "text/html": [
       "Syncing run <strong><a href='https://wandb.ai/gsathish333/main_sweeps_V3/runs/s6q5dri3' target=\"_blank\">earthy-sweep-22</a></strong> to <a href='https://wandb.ai/gsathish333/main_sweeps_V3' target=\"_blank\">Weights & Biases</a> (<a href='https://wandb.me/run' target=\"_blank\">docs</a>)<br/>Sweep page: <a href='https://wandb.ai/gsathish333/main_sweeps_V3/sweeps/pczmd77s' target=\"_blank\">https://wandb.ai/gsathish333/main_sweeps_V3/sweeps/pczmd77s</a>"
      ],
      "text/plain": [
       "<IPython.core.display.HTML object>"
      ]
     },
     "metadata": {},
     "output_type": "display_data"
    },
    {
     "data": {
      "text/html": [
       " View project at <a href='https://wandb.ai/gsathish333/main_sweeps_V3' target=\"_blank\">https://wandb.ai/gsathish333/main_sweeps_V3</a>"
      ],
      "text/plain": [
       "<IPython.core.display.HTML object>"
      ]
     },
     "metadata": {},
     "output_type": "display_data"
    },
    {
     "data": {
      "text/html": [
       " View sweep at <a href='https://wandb.ai/gsathish333/main_sweeps_V3/sweeps/pczmd77s' target=\"_blank\">https://wandb.ai/gsathish333/main_sweeps_V3/sweeps/pczmd77s</a>"
      ],
      "text/plain": [
       "<IPython.core.display.HTML object>"
      ]
     },
     "metadata": {},
     "output_type": "display_data"
    },
    {
     "data": {
      "text/html": [
       " View run at <a href='https://wandb.ai/gsathish333/main_sweeps_V3/runs/s6q5dri3' target=\"_blank\">https://wandb.ai/gsathish333/main_sweeps_V3/runs/s6q5dri3</a>"
      ],
      "text/plain": [
       "<IPython.core.display.HTML object>"
      ]
     },
     "metadata": {},
     "output_type": "display_data"
    },
    {
     "name": "stdout",
     "output_type": "stream",
     "text": [
      "epoch 1 : train loss = 2.3218615104497644 valid loss = 0.0001919024278306774\n",
      "epoch 2 : train loss = 2.3036225466958924 valid loss = 0.00019188110593222412\n",
      "epoch 3 : train loss = 2.303384125312696 valid loss = 0.0001918625671373847\n",
      "epoch 4 : train loss = 2.3031653607015232 valid loss = 0.00019184471825980275\n",
      "epoch 5 : train loss = 2.30294512003346 valid loss = 0.0001918259809477082\n",
      "train accuracy  9.933333333333334\n",
      "valid accuracy  10.266666666666667\n"
     ]
    },
    {
     "data": {
      "text/html": [
       "Waiting for W&B process to finish... <strong style=\"color:green\">(success).</strong>"
      ],
      "text/plain": [
       "<IPython.core.display.HTML object>"
      ]
     },
     "metadata": {},
     "output_type": "display_data"
    },
    {
     "data": {
      "text/html": [
       "<style>\n",
       "    table.wandb td:nth-child(1) { padding: 0 10px; text-align: left ; width: auto;} td:nth-child(2) {text-align: left ; width: 100%}\n",
       "    .wandb-row { display: flex; flex-direction: row; flex-wrap: wrap; justify-content: flex-start; width: 100% }\n",
       "    .wandb-col { display: flex; flex-direction: column; flex-basis: 100%; flex: 1; padding: 10px; }\n",
       "    </style>\n",
       "<div class=\"wandb-row\"><div class=\"wandb-col\"><h3>Run history:</h3><br/><table class=\"wandb\"><tr><td>accuracy</td><td>▁</td></tr><tr><td>val_accuracy</td><td>▁</td></tr></table><br/></div><div class=\"wandb-col\"><h3>Run summary:</h3><br/><table class=\"wandb\"><tr><td>accuracy</td><td>9.93333</td></tr><tr><td>val_accuracy</td><td>10.26667</td></tr></table><br/></div></div>"
      ],
      "text/plain": [
       "<IPython.core.display.HTML object>"
      ]
     },
     "metadata": {},
     "output_type": "display_data"
    },
    {
     "data": {
      "text/html": [
       " View run <strong style=\"color:#cdcd00\">earthy-sweep-22</strong> at: <a href='https://wandb.ai/gsathish333/main_sweeps_V3/runs/s6q5dri3' target=\"_blank\">https://wandb.ai/gsathish333/main_sweeps_V3/runs/s6q5dri3</a><br/>Synced 6 W&B file(s), 0 media file(s), 0 artifact file(s) and 0 other file(s)"
      ],
      "text/plain": [
       "<IPython.core.display.HTML object>"
      ]
     },
     "metadata": {},
     "output_type": "display_data"
    },
    {
     "data": {
      "text/html": [
       "Find logs at: <code>./wandb/run-20230306_034001-s6q5dri3/logs</code>"
      ],
      "text/plain": [
       "<IPython.core.display.HTML object>"
      ]
     },
     "metadata": {},
     "output_type": "display_data"
    },
    {
     "name": "stderr",
     "output_type": "stream",
     "text": [
      "\u001b[34m\u001b[1mwandb\u001b[0m: Agent Starting Run: esjqtewu with config:\n",
      "\u001b[34m\u001b[1mwandb\u001b[0m: \tL2_lambda: 0\n",
      "\u001b[34m\u001b[1mwandb\u001b[0m: \tactivation: sigmoid\n",
      "\u001b[34m\u001b[1mwandb\u001b[0m: \tbatch_size: 16\n",
      "\u001b[34m\u001b[1mwandb\u001b[0m: \tepochs: 5\n",
      "\u001b[34m\u001b[1mwandb\u001b[0m: \tintialization: normal\n",
      "\u001b[34m\u001b[1mwandb\u001b[0m: \tlayer_size: 32\n",
      "\u001b[34m\u001b[1mwandb\u001b[0m: \tlearning_rate: 0.01\n",
      "\u001b[34m\u001b[1mwandb\u001b[0m: \tnum_layers: 4\n",
      "\u001b[34m\u001b[1mwandb\u001b[0m: \toptimizer: nesterov\n"
     ]
    },
    {
     "data": {
      "application/vnd.jupyter.widget-view+json": {
       "model_id": "ac59296f923c4e20af75fcc0a9160da4",
       "version_major": 2,
       "version_minor": 0
      },
      "text/plain": [
       "VBox(children=(Label(value='Waiting for wandb.init()...\\r'), FloatProgress(value=0.016753962499997974, max=1.0…"
      ]
     },
     "metadata": {},
     "output_type": "display_data"
    },
    {
     "data": {
      "text/html": [
       "Tracking run with wandb version 0.13.10"
      ],
      "text/plain": [
       "<IPython.core.display.HTML object>"
      ]
     },
     "metadata": {},
     "output_type": "display_data"
    },
    {
     "data": {
      "text/html": [
       "Run data is saved locally in <code>/Users/sathish/Desktop/DL_temp/DL_Assignment_1/wandb/run-20230306_034033-esjqtewu</code>"
      ],
      "text/plain": [
       "<IPython.core.display.HTML object>"
      ]
     },
     "metadata": {},
     "output_type": "display_data"
    },
    {
     "data": {
      "text/html": [
       "Syncing run <strong><a href='https://wandb.ai/gsathish333/main_sweeps_V3/runs/esjqtewu' target=\"_blank\">stoic-sweep-23</a></strong> to <a href='https://wandb.ai/gsathish333/main_sweeps_V3' target=\"_blank\">Weights & Biases</a> (<a href='https://wandb.me/run' target=\"_blank\">docs</a>)<br/>Sweep page: <a href='https://wandb.ai/gsathish333/main_sweeps_V3/sweeps/pczmd77s' target=\"_blank\">https://wandb.ai/gsathish333/main_sweeps_V3/sweeps/pczmd77s</a>"
      ],
      "text/plain": [
       "<IPython.core.display.HTML object>"
      ]
     },
     "metadata": {},
     "output_type": "display_data"
    },
    {
     "data": {
      "text/html": [
       " View project at <a href='https://wandb.ai/gsathish333/main_sweeps_V3' target=\"_blank\">https://wandb.ai/gsathish333/main_sweeps_V3</a>"
      ],
      "text/plain": [
       "<IPython.core.display.HTML object>"
      ]
     },
     "metadata": {},
     "output_type": "display_data"
    },
    {
     "data": {
      "text/html": [
       " View sweep at <a href='https://wandb.ai/gsathish333/main_sweeps_V3/sweeps/pczmd77s' target=\"_blank\">https://wandb.ai/gsathish333/main_sweeps_V3/sweeps/pczmd77s</a>"
      ],
      "text/plain": [
       "<IPython.core.display.HTML object>"
      ]
     },
     "metadata": {},
     "output_type": "display_data"
    },
    {
     "data": {
      "text/html": [
       " View run at <a href='https://wandb.ai/gsathish333/main_sweeps_V3/runs/esjqtewu' target=\"_blank\">https://wandb.ai/gsathish333/main_sweeps_V3/runs/esjqtewu</a>"
      ],
      "text/plain": [
       "<IPython.core.display.HTML object>"
      ]
     },
     "metadata": {},
     "output_type": "display_data"
    },
    {
     "name": "stdout",
     "output_type": "stream",
     "text": [
      "epoch 1 : train loss = 2.2071357465733845 valid loss = 0.00014053184648795381\n",
      "epoch 2 : train loss = 1.4577181240960069 valid loss = 8.89162748009934e-05\n",
      "epoch 3 : train loss = 1.0345133754928566 valid loss = 6.751549376761004e-05\n",
      "epoch 4 : train loss = 0.8656639493054821 valid loss = 5.916895055986516e-05\n",
      "epoch 5 : train loss = 0.7739281846014779 valid loss = 5.4843305551254515e-05\n",
      "train accuracy  73.63125000000001\n",
      "valid accuracy  73.54166666666667\n"
     ]
    },
    {
     "data": {
      "text/html": [
       "Waiting for W&B process to finish... <strong style=\"color:green\">(success).</strong>"
      ],
      "text/plain": [
       "<IPython.core.display.HTML object>"
      ]
     },
     "metadata": {},
     "output_type": "display_data"
    },
    {
     "data": {
      "text/html": [
       "<style>\n",
       "    table.wandb td:nth-child(1) { padding: 0 10px; text-align: left ; width: auto;} td:nth-child(2) {text-align: left ; width: 100%}\n",
       "    .wandb-row { display: flex; flex-direction: row; flex-wrap: wrap; justify-content: flex-start; width: 100% }\n",
       "    .wandb-col { display: flex; flex-direction: column; flex-basis: 100%; flex: 1; padding: 10px; }\n",
       "    </style>\n",
       "<div class=\"wandb-row\"><div class=\"wandb-col\"><h3>Run history:</h3><br/><table class=\"wandb\"><tr><td>accuracy</td><td>▁</td></tr><tr><td>val_accuracy</td><td>▁</td></tr></table><br/></div><div class=\"wandb-col\"><h3>Run summary:</h3><br/><table class=\"wandb\"><tr><td>accuracy</td><td>73.63125</td></tr><tr><td>val_accuracy</td><td>73.54167</td></tr></table><br/></div></div>"
      ],
      "text/plain": [
       "<IPython.core.display.HTML object>"
      ]
     },
     "metadata": {},
     "output_type": "display_data"
    },
    {
     "data": {
      "text/html": [
       " View run <strong style=\"color:#cdcd00\">stoic-sweep-23</strong> at: <a href='https://wandb.ai/gsathish333/main_sweeps_V3/runs/esjqtewu' target=\"_blank\">https://wandb.ai/gsathish333/main_sweeps_V3/runs/esjqtewu</a><br/>Synced 6 W&B file(s), 0 media file(s), 0 artifact file(s) and 0 other file(s)"
      ],
      "text/plain": [
       "<IPython.core.display.HTML object>"
      ]
     },
     "metadata": {},
     "output_type": "display_data"
    },
    {
     "data": {
      "text/html": [
       "Find logs at: <code>./wandb/run-20230306_034033-esjqtewu/logs</code>"
      ],
      "text/plain": [
       "<IPython.core.display.HTML object>"
      ]
     },
     "metadata": {},
     "output_type": "display_data"
    },
    {
     "name": "stderr",
     "output_type": "stream",
     "text": [
      "\u001b[34m\u001b[1mwandb\u001b[0m: Agent Starting Run: kyi5lzxx with config:\n",
      "\u001b[34m\u001b[1mwandb\u001b[0m: \tL2_lambda: 0\n",
      "\u001b[34m\u001b[1mwandb\u001b[0m: \tactivation: sigmoid\n",
      "\u001b[34m\u001b[1mwandb\u001b[0m: \tbatch_size: 16\n",
      "\u001b[34m\u001b[1mwandb\u001b[0m: \tepochs: 5\n",
      "\u001b[34m\u001b[1mwandb\u001b[0m: \tintialization: normal\n",
      "\u001b[34m\u001b[1mwandb\u001b[0m: \tlayer_size: 32\n",
      "\u001b[34m\u001b[1mwandb\u001b[0m: \tlearning_rate: 0.01\n",
      "\u001b[34m\u001b[1mwandb\u001b[0m: \tnum_layers: 4\n",
      "\u001b[34m\u001b[1mwandb\u001b[0m: \toptimizer: rmsprop\n"
     ]
    },
    {
     "data": {
      "text/html": [
       "Tracking run with wandb version 0.13.10"
      ],
      "text/plain": [
       "<IPython.core.display.HTML object>"
      ]
     },
     "metadata": {},
     "output_type": "display_data"
    },
    {
     "data": {
      "text/html": [
       "Run data is saved locally in <code>/Users/sathish/Desktop/DL_temp/DL_Assignment_1/wandb/run-20230306_034106-kyi5lzxx</code>"
      ],
      "text/plain": [
       "<IPython.core.display.HTML object>"
      ]
     },
     "metadata": {},
     "output_type": "display_data"
    },
    {
     "data": {
      "text/html": [
       "Syncing run <strong><a href='https://wandb.ai/gsathish333/main_sweeps_V3/runs/kyi5lzxx' target=\"_blank\">pretty-sweep-24</a></strong> to <a href='https://wandb.ai/gsathish333/main_sweeps_V3' target=\"_blank\">Weights & Biases</a> (<a href='https://wandb.me/run' target=\"_blank\">docs</a>)<br/>Sweep page: <a href='https://wandb.ai/gsathish333/main_sweeps_V3/sweeps/pczmd77s' target=\"_blank\">https://wandb.ai/gsathish333/main_sweeps_V3/sweeps/pczmd77s</a>"
      ],
      "text/plain": [
       "<IPython.core.display.HTML object>"
      ]
     },
     "metadata": {},
     "output_type": "display_data"
    },
    {
     "data": {
      "text/html": [
       " View project at <a href='https://wandb.ai/gsathish333/main_sweeps_V3' target=\"_blank\">https://wandb.ai/gsathish333/main_sweeps_V3</a>"
      ],
      "text/plain": [
       "<IPython.core.display.HTML object>"
      ]
     },
     "metadata": {},
     "output_type": "display_data"
    },
    {
     "data": {
      "text/html": [
       " View sweep at <a href='https://wandb.ai/gsathish333/main_sweeps_V3/sweeps/pczmd77s' target=\"_blank\">https://wandb.ai/gsathish333/main_sweeps_V3/sweeps/pczmd77s</a>"
      ],
      "text/plain": [
       "<IPython.core.display.HTML object>"
      ]
     },
     "metadata": {},
     "output_type": "display_data"
    },
    {
     "data": {
      "text/html": [
       " View run at <a href='https://wandb.ai/gsathish333/main_sweeps_V3/runs/kyi5lzxx' target=\"_blank\">https://wandb.ai/gsathish333/main_sweeps_V3/runs/kyi5lzxx</a>"
      ],
      "text/plain": [
       "<IPython.core.display.HTML object>"
      ]
     },
     "metadata": {},
     "output_type": "display_data"
    },
    {
     "name": "stdout",
     "output_type": "stream",
     "text": [
      "epoch 1 : train loss = 0.7978423595347451 valid loss = 4.648331575986246e-05\n",
      "epoch 2 : train loss = 0.5644027951581985 valid loss = 4.3603033471791395e-05\n",
      "epoch 3 : train loss = 0.5172229709210191 valid loss = 4.385378989264923e-05\n",
      "epoch 4 : train loss = 0.49507653474900754 valid loss = 4.2654293417519335e-05\n",
      "epoch 5 : train loss = 0.48834733759951043 valid loss = 4.1282105115898796e-05\n",
      "train accuracy  85.27708333333334\n",
      "valid accuracy  84.22500000000001\n"
     ]
    },
    {
     "data": {
      "text/html": [
       "Waiting for W&B process to finish... <strong style=\"color:green\">(success).</strong>"
      ],
      "text/plain": [
       "<IPython.core.display.HTML object>"
      ]
     },
     "metadata": {},
     "output_type": "display_data"
    },
    {
     "data": {
      "application/vnd.jupyter.widget-view+json": {
       "model_id": "2ebcd636ea7c425182529d0e44e39f6a",
       "version_major": 2,
       "version_minor": 0
      },
      "text/plain": [
       "VBox(children=(Label(value='0.001 MB of 0.001 MB uploaded (0.000 MB deduped)\\r'), FloatProgress(value=1.0, max…"
      ]
     },
     "metadata": {},
     "output_type": "display_data"
    },
    {
     "data": {
      "text/html": [
       "<style>\n",
       "    table.wandb td:nth-child(1) { padding: 0 10px; text-align: left ; width: auto;} td:nth-child(2) {text-align: left ; width: 100%}\n",
       "    .wandb-row { display: flex; flex-direction: row; flex-wrap: wrap; justify-content: flex-start; width: 100% }\n",
       "    .wandb-col { display: flex; flex-direction: column; flex-basis: 100%; flex: 1; padding: 10px; }\n",
       "    </style>\n",
       "<div class=\"wandb-row\"><div class=\"wandb-col\"><h3>Run history:</h3><br/><table class=\"wandb\"><tr><td>accuracy</td><td>▁</td></tr><tr><td>val_accuracy</td><td>▁</td></tr></table><br/></div><div class=\"wandb-col\"><h3>Run summary:</h3><br/><table class=\"wandb\"><tr><td>accuracy</td><td>85.27708</td></tr><tr><td>val_accuracy</td><td>84.225</td></tr></table><br/></div></div>"
      ],
      "text/plain": [
       "<IPython.core.display.HTML object>"
      ]
     },
     "metadata": {},
     "output_type": "display_data"
    },
    {
     "data": {
      "text/html": [
       " View run <strong style=\"color:#cdcd00\">pretty-sweep-24</strong> at: <a href='https://wandb.ai/gsathish333/main_sweeps_V3/runs/kyi5lzxx' target=\"_blank\">https://wandb.ai/gsathish333/main_sweeps_V3/runs/kyi5lzxx</a><br/>Synced 6 W&B file(s), 0 media file(s), 0 artifact file(s) and 0 other file(s)"
      ],
      "text/plain": [
       "<IPython.core.display.HTML object>"
      ]
     },
     "metadata": {},
     "output_type": "display_data"
    },
    {
     "data": {
      "text/html": [
       "Find logs at: <code>./wandb/run-20230306_034106-kyi5lzxx/logs</code>"
      ],
      "text/plain": [
       "<IPython.core.display.HTML object>"
      ]
     },
     "metadata": {},
     "output_type": "display_data"
    },
    {
     "name": "stderr",
     "output_type": "stream",
     "text": [
      "\u001b[34m\u001b[1mwandb\u001b[0m: Agent Starting Run: pziwdbzb with config:\n",
      "\u001b[34m\u001b[1mwandb\u001b[0m: \tL2_lambda: 0\n",
      "\u001b[34m\u001b[1mwandb\u001b[0m: \tactivation: sigmoid\n",
      "\u001b[34m\u001b[1mwandb\u001b[0m: \tbatch_size: 16\n",
      "\u001b[34m\u001b[1mwandb\u001b[0m: \tepochs: 5\n",
      "\u001b[34m\u001b[1mwandb\u001b[0m: \tintialization: normal\n",
      "\u001b[34m\u001b[1mwandb\u001b[0m: \tlayer_size: 32\n",
      "\u001b[34m\u001b[1mwandb\u001b[0m: \tlearning_rate: 0.01\n",
      "\u001b[34m\u001b[1mwandb\u001b[0m: \tnum_layers: 4\n",
      "\u001b[34m\u001b[1mwandb\u001b[0m: \toptimizer: adam\n"
     ]
    },
    {
     "data": {
      "text/html": [
       "Tracking run with wandb version 0.13.10"
      ],
      "text/plain": [
       "<IPython.core.display.HTML object>"
      ]
     },
     "metadata": {},
     "output_type": "display_data"
    },
    {
     "data": {
      "text/html": [
       "Run data is saved locally in <code>/Users/sathish/Desktop/DL_temp/DL_Assignment_1/wandb/run-20230306_034139-pziwdbzb</code>"
      ],
      "text/plain": [
       "<IPython.core.display.HTML object>"
      ]
     },
     "metadata": {},
     "output_type": "display_data"
    },
    {
     "data": {
      "text/html": [
       "Syncing run <strong><a href='https://wandb.ai/gsathish333/main_sweeps_V3/runs/pziwdbzb' target=\"_blank\">whole-sweep-25</a></strong> to <a href='https://wandb.ai/gsathish333/main_sweeps_V3' target=\"_blank\">Weights & Biases</a> (<a href='https://wandb.me/run' target=\"_blank\">docs</a>)<br/>Sweep page: <a href='https://wandb.ai/gsathish333/main_sweeps_V3/sweeps/pczmd77s' target=\"_blank\">https://wandb.ai/gsathish333/main_sweeps_V3/sweeps/pczmd77s</a>"
      ],
      "text/plain": [
       "<IPython.core.display.HTML object>"
      ]
     },
     "metadata": {},
     "output_type": "display_data"
    },
    {
     "data": {
      "text/html": [
       " View project at <a href='https://wandb.ai/gsathish333/main_sweeps_V3' target=\"_blank\">https://wandb.ai/gsathish333/main_sweeps_V3</a>"
      ],
      "text/plain": [
       "<IPython.core.display.HTML object>"
      ]
     },
     "metadata": {},
     "output_type": "display_data"
    },
    {
     "data": {
      "text/html": [
       " View sweep at <a href='https://wandb.ai/gsathish333/main_sweeps_V3/sweeps/pczmd77s' target=\"_blank\">https://wandb.ai/gsathish333/main_sweeps_V3/sweeps/pczmd77s</a>"
      ],
      "text/plain": [
       "<IPython.core.display.HTML object>"
      ]
     },
     "metadata": {},
     "output_type": "display_data"
    },
    {
     "data": {
      "text/html": [
       " View run at <a href='https://wandb.ai/gsathish333/main_sweeps_V3/runs/pziwdbzb' target=\"_blank\">https://wandb.ai/gsathish333/main_sweeps_V3/runs/pziwdbzb</a>"
      ],
      "text/plain": [
       "<IPython.core.display.HTML object>"
      ]
     },
     "metadata": {},
     "output_type": "display_data"
    },
    {
     "name": "stdout",
     "output_type": "stream",
     "text": [
      "epoch 1 : train loss = 0.8236347718289745 valid loss = 4.956730812765193e-05\n",
      "epoch 2 : train loss = 0.5624678302112492 valid loss = 4.5667265287459245e-05\n",
      "epoch 3 : train loss = 0.523662610312345 valid loss = 4.504216589351053e-05\n",
      "epoch 4 : train loss = 0.49801712412839255 valid loss = 4.3252302308099396e-05\n",
      "epoch 5 : train loss = 0.48777854496692274 valid loss = 4.156739062470926e-05\n",
      "train accuracy  82.70416666666667\n",
      "valid accuracy  82.40833333333333\n"
     ]
    },
    {
     "data": {
      "text/html": [
       "Waiting for W&B process to finish... <strong style=\"color:green\">(success).</strong>"
      ],
      "text/plain": [
       "<IPython.core.display.HTML object>"
      ]
     },
     "metadata": {},
     "output_type": "display_data"
    },
    {
     "data": {
      "application/vnd.jupyter.widget-view+json": {
       "model_id": "2024e739f3554d0f811cf33552850869",
       "version_major": 2,
       "version_minor": 0
      },
      "text/plain": [
       "VBox(children=(Label(value='0.001 MB of 0.025 MB uploaded (0.000 MB deduped)\\r'), FloatProgress(value=0.042530…"
      ]
     },
     "metadata": {},
     "output_type": "display_data"
    },
    {
     "data": {
      "text/html": [
       "<style>\n",
       "    table.wandb td:nth-child(1) { padding: 0 10px; text-align: left ; width: auto;} td:nth-child(2) {text-align: left ; width: 100%}\n",
       "    .wandb-row { display: flex; flex-direction: row; flex-wrap: wrap; justify-content: flex-start; width: 100% }\n",
       "    .wandb-col { display: flex; flex-direction: column; flex-basis: 100%; flex: 1; padding: 10px; }\n",
       "    </style>\n",
       "<div class=\"wandb-row\"><div class=\"wandb-col\"><h3>Run history:</h3><br/><table class=\"wandb\"><tr><td>accuracy</td><td>▁</td></tr><tr><td>val_accuracy</td><td>▁</td></tr></table><br/></div><div class=\"wandb-col\"><h3>Run summary:</h3><br/><table class=\"wandb\"><tr><td>accuracy</td><td>82.70417</td></tr><tr><td>val_accuracy</td><td>82.40833</td></tr></table><br/></div></div>"
      ],
      "text/plain": [
       "<IPython.core.display.HTML object>"
      ]
     },
     "metadata": {},
     "output_type": "display_data"
    },
    {
     "data": {
      "text/html": [
       " View run <strong style=\"color:#cdcd00\">whole-sweep-25</strong> at: <a href='https://wandb.ai/gsathish333/main_sweeps_V3/runs/pziwdbzb' target=\"_blank\">https://wandb.ai/gsathish333/main_sweeps_V3/runs/pziwdbzb</a><br/>Synced 6 W&B file(s), 0 media file(s), 0 artifact file(s) and 0 other file(s)"
      ],
      "text/plain": [
       "<IPython.core.display.HTML object>"
      ]
     },
     "metadata": {},
     "output_type": "display_data"
    },
    {
     "data": {
      "text/html": [
       "Find logs at: <code>./wandb/run-20230306_034139-pziwdbzb/logs</code>"
      ],
      "text/plain": [
       "<IPython.core.display.HTML object>"
      ]
     },
     "metadata": {},
     "output_type": "display_data"
    },
    {
     "name": "stderr",
     "output_type": "stream",
     "text": [
      "\u001b[34m\u001b[1mwandb\u001b[0m: Agent Starting Run: ml4eca3r with config:\n",
      "\u001b[34m\u001b[1mwandb\u001b[0m: \tL2_lambda: 0\n",
      "\u001b[34m\u001b[1mwandb\u001b[0m: \tactivation: sigmoid\n",
      "\u001b[34m\u001b[1mwandb\u001b[0m: \tbatch_size: 16\n",
      "\u001b[34m\u001b[1mwandb\u001b[0m: \tepochs: 5\n",
      "\u001b[34m\u001b[1mwandb\u001b[0m: \tintialization: normal\n",
      "\u001b[34m\u001b[1mwandb\u001b[0m: \tlayer_size: 32\n",
      "\u001b[34m\u001b[1mwandb\u001b[0m: \tlearning_rate: 0.01\n",
      "\u001b[34m\u001b[1mwandb\u001b[0m: \tnum_layers: 5\n",
      "\u001b[34m\u001b[1mwandb\u001b[0m: \toptimizer: sgd\n"
     ]
    },
    {
     "data": {
      "text/html": [
       "Tracking run with wandb version 0.13.10"
      ],
      "text/plain": [
       "<IPython.core.display.HTML object>"
      ]
     },
     "metadata": {},
     "output_type": "display_data"
    },
    {
     "data": {
      "text/html": [
       "Run data is saved locally in <code>/Users/sathish/Desktop/DL_temp/DL_Assignment_1/wandb/run-20230306_034210-ml4eca3r</code>"
      ],
      "text/plain": [
       "<IPython.core.display.HTML object>"
      ]
     },
     "metadata": {},
     "output_type": "display_data"
    },
    {
     "data": {
      "text/html": [
       "Syncing run <strong><a href='https://wandb.ai/gsathish333/main_sweeps_V3/runs/ml4eca3r' target=\"_blank\">silver-sweep-26</a></strong> to <a href='https://wandb.ai/gsathish333/main_sweeps_V3' target=\"_blank\">Weights & Biases</a> (<a href='https://wandb.me/run' target=\"_blank\">docs</a>)<br/>Sweep page: <a href='https://wandb.ai/gsathish333/main_sweeps_V3/sweeps/pczmd77s' target=\"_blank\">https://wandb.ai/gsathish333/main_sweeps_V3/sweeps/pczmd77s</a>"
      ],
      "text/plain": [
       "<IPython.core.display.HTML object>"
      ]
     },
     "metadata": {},
     "output_type": "display_data"
    },
    {
     "data": {
      "text/html": [
       " View project at <a href='https://wandb.ai/gsathish333/main_sweeps_V3' target=\"_blank\">https://wandb.ai/gsathish333/main_sweeps_V3</a>"
      ],
      "text/plain": [
       "<IPython.core.display.HTML object>"
      ]
     },
     "metadata": {},
     "output_type": "display_data"
    },
    {
     "data": {
      "text/html": [
       " View sweep at <a href='https://wandb.ai/gsathish333/main_sweeps_V3/sweeps/pczmd77s' target=\"_blank\">https://wandb.ai/gsathish333/main_sweeps_V3/sweeps/pczmd77s</a>"
      ],
      "text/plain": [
       "<IPython.core.display.HTML object>"
      ]
     },
     "metadata": {},
     "output_type": "display_data"
    },
    {
     "data": {
      "text/html": [
       " View run at <a href='https://wandb.ai/gsathish333/main_sweeps_V3/runs/ml4eca3r' target=\"_blank\">https://wandb.ai/gsathish333/main_sweeps_V3/runs/ml4eca3r</a>"
      ],
      "text/plain": [
       "<IPython.core.display.HTML object>"
      ]
     },
     "metadata": {},
     "output_type": "display_data"
    },
    {
     "name": "stdout",
     "output_type": "stream",
     "text": [
      "epoch 1 : train loss = 2.309613286814491 valid loss = 0.00019193742496448422\n",
      "epoch 2 : train loss = 2.304195625686809 valid loss = 0.000191935415253536\n",
      "epoch 3 : train loss = 2.304163299862654 valid loss = 0.00019193371725107974\n",
      "epoch 4 : train loss = 2.304134366728746 valid loss = 0.00019193225539553772\n",
      "epoch 5 : train loss = 2.3041080774105462 valid loss = 0.00019193097359078196\n",
      "train accuracy  9.933333333333334\n",
      "valid accuracy  10.266666666666667\n"
     ]
    },
    {
     "data": {
      "text/html": [
       "Waiting for W&B process to finish... <strong style=\"color:green\">(success).</strong>"
      ],
      "text/plain": [
       "<IPython.core.display.HTML object>"
      ]
     },
     "metadata": {},
     "output_type": "display_data"
    },
    {
     "data": {
      "application/vnd.jupyter.widget-view+json": {
       "model_id": "930f0235ed1b438293e0dee4066ad917",
       "version_major": 2,
       "version_minor": 0
      },
      "text/plain": [
       "VBox(children=(Label(value='0.001 MB of 0.001 MB uploaded (0.000 MB deduped)\\r'), FloatProgress(value=1.0, max…"
      ]
     },
     "metadata": {},
     "output_type": "display_data"
    },
    {
     "data": {
      "text/html": [
       "<style>\n",
       "    table.wandb td:nth-child(1) { padding: 0 10px; text-align: left ; width: auto;} td:nth-child(2) {text-align: left ; width: 100%}\n",
       "    .wandb-row { display: flex; flex-direction: row; flex-wrap: wrap; justify-content: flex-start; width: 100% }\n",
       "    .wandb-col { display: flex; flex-direction: column; flex-basis: 100%; flex: 1; padding: 10px; }\n",
       "    </style>\n",
       "<div class=\"wandb-row\"><div class=\"wandb-col\"><h3>Run history:</h3><br/><table class=\"wandb\"><tr><td>accuracy</td><td>▁</td></tr><tr><td>val_accuracy</td><td>▁</td></tr></table><br/></div><div class=\"wandb-col\"><h3>Run summary:</h3><br/><table class=\"wandb\"><tr><td>accuracy</td><td>9.93333</td></tr><tr><td>val_accuracy</td><td>10.26667</td></tr></table><br/></div></div>"
      ],
      "text/plain": [
       "<IPython.core.display.HTML object>"
      ]
     },
     "metadata": {},
     "output_type": "display_data"
    },
    {
     "data": {
      "text/html": [
       " View run <strong style=\"color:#cdcd00\">silver-sweep-26</strong> at: <a href='https://wandb.ai/gsathish333/main_sweeps_V3/runs/ml4eca3r' target=\"_blank\">https://wandb.ai/gsathish333/main_sweeps_V3/runs/ml4eca3r</a><br/>Synced 6 W&B file(s), 0 media file(s), 0 artifact file(s) and 0 other file(s)"
      ],
      "text/plain": [
       "<IPython.core.display.HTML object>"
      ]
     },
     "metadata": {},
     "output_type": "display_data"
    },
    {
     "data": {
      "text/html": [
       "Find logs at: <code>./wandb/run-20230306_034210-ml4eca3r/logs</code>"
      ],
      "text/plain": [
       "<IPython.core.display.HTML object>"
      ]
     },
     "metadata": {},
     "output_type": "display_data"
    },
    {
     "name": "stderr",
     "output_type": "stream",
     "text": [
      "\u001b[34m\u001b[1mwandb\u001b[0m: Sweep Agent: Waiting for job.\n",
      "\u001b[34m\u001b[1mwandb\u001b[0m: Job received.\n",
      "\u001b[34m\u001b[1mwandb\u001b[0m: Agent Starting Run: xox4hjl5 with config:\n",
      "\u001b[34m\u001b[1mwandb\u001b[0m: \tL2_lambda: 0\n",
      "\u001b[34m\u001b[1mwandb\u001b[0m: \tactivation: sigmoid\n",
      "\u001b[34m\u001b[1mwandb\u001b[0m: \tbatch_size: 16\n",
      "\u001b[34m\u001b[1mwandb\u001b[0m: \tepochs: 5\n",
      "\u001b[34m\u001b[1mwandb\u001b[0m: \tintialization: normal\n",
      "\u001b[34m\u001b[1mwandb\u001b[0m: \tlayer_size: 32\n",
      "\u001b[34m\u001b[1mwandb\u001b[0m: \tlearning_rate: 0.01\n",
      "\u001b[34m\u001b[1mwandb\u001b[0m: \tnum_layers: 5\n",
      "\u001b[34m\u001b[1mwandb\u001b[0m: \toptimizer: momentum\n"
     ]
    },
    {
     "data": {
      "text/html": [
       "Tracking run with wandb version 0.13.10"
      ],
      "text/plain": [
       "<IPython.core.display.HTML object>"
      ]
     },
     "metadata": {},
     "output_type": "display_data"
    },
    {
     "data": {
      "text/html": [
       "Run data is saved locally in <code>/Users/sathish/Desktop/DL_temp/DL_Assignment_1/wandb/run-20230306_034248-xox4hjl5</code>"
      ],
      "text/plain": [
       "<IPython.core.display.HTML object>"
      ]
     },
     "metadata": {},
     "output_type": "display_data"
    },
    {
     "data": {
      "text/html": [
       "Syncing run <strong><a href='https://wandb.ai/gsathish333/main_sweeps_V3/runs/xox4hjl5' target=\"_blank\">jolly-sweep-27</a></strong> to <a href='https://wandb.ai/gsathish333/main_sweeps_V3' target=\"_blank\">Weights & Biases</a> (<a href='https://wandb.me/run' target=\"_blank\">docs</a>)<br/>Sweep page: <a href='https://wandb.ai/gsathish333/main_sweeps_V3/sweeps/pczmd77s' target=\"_blank\">https://wandb.ai/gsathish333/main_sweeps_V3/sweeps/pczmd77s</a>"
      ],
      "text/plain": [
       "<IPython.core.display.HTML object>"
      ]
     },
     "metadata": {},
     "output_type": "display_data"
    },
    {
     "data": {
      "text/html": [
       " View project at <a href='https://wandb.ai/gsathish333/main_sweeps_V3' target=\"_blank\">https://wandb.ai/gsathish333/main_sweeps_V3</a>"
      ],
      "text/plain": [
       "<IPython.core.display.HTML object>"
      ]
     },
     "metadata": {},
     "output_type": "display_data"
    },
    {
     "data": {
      "text/html": [
       " View sweep at <a href='https://wandb.ai/gsathish333/main_sweeps_V3/sweeps/pczmd77s' target=\"_blank\">https://wandb.ai/gsathish333/main_sweeps_V3/sweeps/pczmd77s</a>"
      ],
      "text/plain": [
       "<IPython.core.display.HTML object>"
      ]
     },
     "metadata": {},
     "output_type": "display_data"
    },
    {
     "data": {
      "text/html": [
       " View run at <a href='https://wandb.ai/gsathish333/main_sweeps_V3/runs/xox4hjl5' target=\"_blank\">https://wandb.ai/gsathish333/main_sweeps_V3/runs/xox4hjl5</a>"
      ],
      "text/plain": [
       "<IPython.core.display.HTML object>"
      ]
     },
     "metadata": {},
     "output_type": "display_data"
    },
    {
     "name": "stdout",
     "output_type": "stream",
     "text": [
      "epoch 1 : train loss = 2.3127107864582492 valid loss = 0.0001919118226694812\n",
      "epoch 2 : train loss = 2.30365660778081 valid loss = 0.00019191118889738006\n",
      "epoch 3 : train loss = 2.303646316492878 valid loss = 0.00019191075088441356\n",
      "epoch 4 : train loss = 2.3036382456515097 valid loss = 0.00019191045049686187\n",
      "epoch 5 : train loss = 2.3036317897698058 valid loss = 0.0001919102455324889\n",
      "train accuracy  9.933333333333334\n",
      "valid accuracy  10.266666666666667\n"
     ]
    },
    {
     "data": {
      "text/html": [
       "Waiting for W&B process to finish... <strong style=\"color:green\">(success).</strong>"
      ],
      "text/plain": [
       "<IPython.core.display.HTML object>"
      ]
     },
     "metadata": {},
     "output_type": "display_data"
    },
    {
     "data": {
      "application/vnd.jupyter.widget-view+json": {
       "model_id": "3cc543c576604c128f0996cdf8d61462",
       "version_major": 2,
       "version_minor": 0
      },
      "text/plain": [
       "VBox(children=(Label(value='0.001 MB of 0.001 MB uploaded (0.000 MB deduped)\\r'), FloatProgress(value=1.0, max…"
      ]
     },
     "metadata": {},
     "output_type": "display_data"
    },
    {
     "data": {
      "text/html": [
       "<style>\n",
       "    table.wandb td:nth-child(1) { padding: 0 10px; text-align: left ; width: auto;} td:nth-child(2) {text-align: left ; width: 100%}\n",
       "    .wandb-row { display: flex; flex-direction: row; flex-wrap: wrap; justify-content: flex-start; width: 100% }\n",
       "    .wandb-col { display: flex; flex-direction: column; flex-basis: 100%; flex: 1; padding: 10px; }\n",
       "    </style>\n",
       "<div class=\"wandb-row\"><div class=\"wandb-col\"><h3>Run history:</h3><br/><table class=\"wandb\"><tr><td>accuracy</td><td>▁</td></tr><tr><td>val_accuracy</td><td>▁</td></tr></table><br/></div><div class=\"wandb-col\"><h3>Run summary:</h3><br/><table class=\"wandb\"><tr><td>accuracy</td><td>9.93333</td></tr><tr><td>val_accuracy</td><td>10.26667</td></tr></table><br/></div></div>"
      ],
      "text/plain": [
       "<IPython.core.display.HTML object>"
      ]
     },
     "metadata": {},
     "output_type": "display_data"
    },
    {
     "data": {
      "text/html": [
       " View run <strong style=\"color:#cdcd00\">jolly-sweep-27</strong> at: <a href='https://wandb.ai/gsathish333/main_sweeps_V3/runs/xox4hjl5' target=\"_blank\">https://wandb.ai/gsathish333/main_sweeps_V3/runs/xox4hjl5</a><br/>Synced 6 W&B file(s), 0 media file(s), 0 artifact file(s) and 0 other file(s)"
      ],
      "text/plain": [
       "<IPython.core.display.HTML object>"
      ]
     },
     "metadata": {},
     "output_type": "display_data"
    },
    {
     "data": {
      "text/html": [
       "Find logs at: <code>./wandb/run-20230306_034248-xox4hjl5/logs</code>"
      ],
      "text/plain": [
       "<IPython.core.display.HTML object>"
      ]
     },
     "metadata": {},
     "output_type": "display_data"
    },
    {
     "name": "stderr",
     "output_type": "stream",
     "text": [
      "\u001b[34m\u001b[1mwandb\u001b[0m: Sweep Agent: Waiting for job.\n",
      "\u001b[34m\u001b[1mwandb\u001b[0m: Job received.\n",
      "\u001b[34m\u001b[1mwandb\u001b[0m: Agent Starting Run: 0f546z04 with config:\n",
      "\u001b[34m\u001b[1mwandb\u001b[0m: \tL2_lambda: 0\n",
      "\u001b[34m\u001b[1mwandb\u001b[0m: \tactivation: sigmoid\n",
      "\u001b[34m\u001b[1mwandb\u001b[0m: \tbatch_size: 16\n",
      "\u001b[34m\u001b[1mwandb\u001b[0m: \tepochs: 5\n",
      "\u001b[34m\u001b[1mwandb\u001b[0m: \tintialization: normal\n",
      "\u001b[34m\u001b[1mwandb\u001b[0m: \tlayer_size: 32\n",
      "\u001b[34m\u001b[1mwandb\u001b[0m: \tlearning_rate: 0.01\n",
      "\u001b[34m\u001b[1mwandb\u001b[0m: \tnum_layers: 5\n",
      "\u001b[34m\u001b[1mwandb\u001b[0m: \toptimizer: nesterov\n"
     ]
    },
    {
     "data": {
      "text/html": [
       "Tracking run with wandb version 0.13.10"
      ],
      "text/plain": [
       "<IPython.core.display.HTML object>"
      ]
     },
     "metadata": {},
     "output_type": "display_data"
    },
    {
     "data": {
      "text/html": [
       "Run data is saved locally in <code>/Users/sathish/Desktop/DL_temp/DL_Assignment_1/wandb/run-20230306_034326-0f546z04</code>"
      ],
      "text/plain": [
       "<IPython.core.display.HTML object>"
      ]
     },
     "metadata": {},
     "output_type": "display_data"
    },
    {
     "data": {
      "text/html": [
       "Syncing run <strong><a href='https://wandb.ai/gsathish333/main_sweeps_V3/runs/0f546z04' target=\"_blank\">hearty-sweep-28</a></strong> to <a href='https://wandb.ai/gsathish333/main_sweeps_V3' target=\"_blank\">Weights & Biases</a> (<a href='https://wandb.me/run' target=\"_blank\">docs</a>)<br/>Sweep page: <a href='https://wandb.ai/gsathish333/main_sweeps_V3/sweeps/pczmd77s' target=\"_blank\">https://wandb.ai/gsathish333/main_sweeps_V3/sweeps/pczmd77s</a>"
      ],
      "text/plain": [
       "<IPython.core.display.HTML object>"
      ]
     },
     "metadata": {},
     "output_type": "display_data"
    },
    {
     "data": {
      "text/html": [
       " View project at <a href='https://wandb.ai/gsathish333/main_sweeps_V3' target=\"_blank\">https://wandb.ai/gsathish333/main_sweeps_V3</a>"
      ],
      "text/plain": [
       "<IPython.core.display.HTML object>"
      ]
     },
     "metadata": {},
     "output_type": "display_data"
    },
    {
     "data": {
      "text/html": [
       " View sweep at <a href='https://wandb.ai/gsathish333/main_sweeps_V3/sweeps/pczmd77s' target=\"_blank\">https://wandb.ai/gsathish333/main_sweeps_V3/sweeps/pczmd77s</a>"
      ],
      "text/plain": [
       "<IPython.core.display.HTML object>"
      ]
     },
     "metadata": {},
     "output_type": "display_data"
    },
    {
     "data": {
      "text/html": [
       " View run at <a href='https://wandb.ai/gsathish333/main_sweeps_V3/runs/0f546z04' target=\"_blank\">https://wandb.ai/gsathish333/main_sweeps_V3/runs/0f546z04</a>"
      ],
      "text/plain": [
       "<IPython.core.display.HTML object>"
      ]
     },
     "metadata": {},
     "output_type": "display_data"
    },
    {
     "name": "stdout",
     "output_type": "stream",
     "text": [
      "epoch 1 : train loss = 2.339209146729806 valid loss = 0.00019192374275510992\n",
      "epoch 2 : train loss = 2.313979084270569 valid loss = 0.00019183688003539915\n",
      "epoch 3 : train loss = 2.3102321507644508 valid loss = 0.00019144760110782164\n",
      "epoch 4 : train loss = 2.183950417351478 valid loss = 0.00015554280178662735\n",
      "epoch 5 : train loss = 1.5781857740135679 valid loss = 0.00010563331016070251\n",
      "train accuracy  46.09166666666666\n",
      "valid accuracy  46.275\n"
     ]
    },
    {
     "data": {
      "text/html": [
       "Waiting for W&B process to finish... <strong style=\"color:green\">(success).</strong>"
      ],
      "text/plain": [
       "<IPython.core.display.HTML object>"
      ]
     },
     "metadata": {},
     "output_type": "display_data"
    },
    {
     "data": {
      "application/vnd.jupyter.widget-view+json": {
       "model_id": "ee8c583465fa49358aff25617d4d6bf5",
       "version_major": 2,
       "version_minor": 0
      },
      "text/plain": [
       "VBox(children=(Label(value='0.001 MB of 0.001 MB uploaded (0.000 MB deduped)\\r'), FloatProgress(value=1.0, max…"
      ]
     },
     "metadata": {},
     "output_type": "display_data"
    },
    {
     "data": {
      "text/html": [
       "<style>\n",
       "    table.wandb td:nth-child(1) { padding: 0 10px; text-align: left ; width: auto;} td:nth-child(2) {text-align: left ; width: 100%}\n",
       "    .wandb-row { display: flex; flex-direction: row; flex-wrap: wrap; justify-content: flex-start; width: 100% }\n",
       "    .wandb-col { display: flex; flex-direction: column; flex-basis: 100%; flex: 1; padding: 10px; }\n",
       "    </style>\n",
       "<div class=\"wandb-row\"><div class=\"wandb-col\"><h3>Run history:</h3><br/><table class=\"wandb\"><tr><td>accuracy</td><td>▁</td></tr><tr><td>val_accuracy</td><td>▁</td></tr></table><br/></div><div class=\"wandb-col\"><h3>Run summary:</h3><br/><table class=\"wandb\"><tr><td>accuracy</td><td>46.09167</td></tr><tr><td>val_accuracy</td><td>46.275</td></tr></table><br/></div></div>"
      ],
      "text/plain": [
       "<IPython.core.display.HTML object>"
      ]
     },
     "metadata": {},
     "output_type": "display_data"
    },
    {
     "data": {
      "text/html": [
       " View run <strong style=\"color:#cdcd00\">hearty-sweep-28</strong> at: <a href='https://wandb.ai/gsathish333/main_sweeps_V3/runs/0f546z04' target=\"_blank\">https://wandb.ai/gsathish333/main_sweeps_V3/runs/0f546z04</a><br/>Synced 6 W&B file(s), 0 media file(s), 0 artifact file(s) and 0 other file(s)"
      ],
      "text/plain": [
       "<IPython.core.display.HTML object>"
      ]
     },
     "metadata": {},
     "output_type": "display_data"
    },
    {
     "data": {
      "text/html": [
       "Find logs at: <code>./wandb/run-20230306_034326-0f546z04/logs</code>"
      ],
      "text/plain": [
       "<IPython.core.display.HTML object>"
      ]
     },
     "metadata": {},
     "output_type": "display_data"
    },
    {
     "name": "stderr",
     "output_type": "stream",
     "text": [
      "\u001b[34m\u001b[1mwandb\u001b[0m: Sweep Agent: Waiting for job.\n",
      "\u001b[34m\u001b[1mwandb\u001b[0m: Job received.\n",
      "\u001b[34m\u001b[1mwandb\u001b[0m: Agent Starting Run: thc3dd93 with config:\n",
      "\u001b[34m\u001b[1mwandb\u001b[0m: \tL2_lambda: 0\n",
      "\u001b[34m\u001b[1mwandb\u001b[0m: \tactivation: sigmoid\n",
      "\u001b[34m\u001b[1mwandb\u001b[0m: \tbatch_size: 16\n",
      "\u001b[34m\u001b[1mwandb\u001b[0m: \tepochs: 5\n",
      "\u001b[34m\u001b[1mwandb\u001b[0m: \tintialization: normal\n",
      "\u001b[34m\u001b[1mwandb\u001b[0m: \tlayer_size: 32\n",
      "\u001b[34m\u001b[1mwandb\u001b[0m: \tlearning_rate: 0.01\n",
      "\u001b[34m\u001b[1mwandb\u001b[0m: \tnum_layers: 5\n",
      "\u001b[34m\u001b[1mwandb\u001b[0m: \toptimizer: rmsprop\n"
     ]
    },
    {
     "data": {
      "application/vnd.jupyter.widget-view+json": {
       "model_id": "8e5c8a75f2424e41b0828028720e5142",
       "version_major": 2,
       "version_minor": 0
      },
      "text/plain": [
       "VBox(children=(Label(value='Waiting for wandb.init()...\\r'), FloatProgress(value=0.016753111799998048, max=1.0…"
      ]
     },
     "metadata": {},
     "output_type": "display_data"
    },
    {
     "data": {
      "text/html": [
       "Tracking run with wandb version 0.13.10"
      ],
      "text/plain": [
       "<IPython.core.display.HTML object>"
      ]
     },
     "metadata": {},
     "output_type": "display_data"
    },
    {
     "data": {
      "text/html": [
       "Run data is saved locally in <code>/Users/sathish/Desktop/DL_temp/DL_Assignment_1/wandb/run-20230306_034404-thc3dd93</code>"
      ],
      "text/plain": [
       "<IPython.core.display.HTML object>"
      ]
     },
     "metadata": {},
     "output_type": "display_data"
    },
    {
     "data": {
      "text/html": [
       "Syncing run <strong><a href='https://wandb.ai/gsathish333/main_sweeps_V3/runs/thc3dd93' target=\"_blank\">deep-sweep-29</a></strong> to <a href='https://wandb.ai/gsathish333/main_sweeps_V3' target=\"_blank\">Weights & Biases</a> (<a href='https://wandb.me/run' target=\"_blank\">docs</a>)<br/>Sweep page: <a href='https://wandb.ai/gsathish333/main_sweeps_V3/sweeps/pczmd77s' target=\"_blank\">https://wandb.ai/gsathish333/main_sweeps_V3/sweeps/pczmd77s</a>"
      ],
      "text/plain": [
       "<IPython.core.display.HTML object>"
      ]
     },
     "metadata": {},
     "output_type": "display_data"
    },
    {
     "data": {
      "text/html": [
       " View project at <a href='https://wandb.ai/gsathish333/main_sweeps_V3' target=\"_blank\">https://wandb.ai/gsathish333/main_sweeps_V3</a>"
      ],
      "text/plain": [
       "<IPython.core.display.HTML object>"
      ]
     },
     "metadata": {},
     "output_type": "display_data"
    },
    {
     "data": {
      "text/html": [
       " View sweep at <a href='https://wandb.ai/gsathish333/main_sweeps_V3/sweeps/pczmd77s' target=\"_blank\">https://wandb.ai/gsathish333/main_sweeps_V3/sweeps/pczmd77s</a>"
      ],
      "text/plain": [
       "<IPython.core.display.HTML object>"
      ]
     },
     "metadata": {},
     "output_type": "display_data"
    },
    {
     "data": {
      "text/html": [
       " View run at <a href='https://wandb.ai/gsathish333/main_sweeps_V3/runs/thc3dd93' target=\"_blank\">https://wandb.ai/gsathish333/main_sweeps_V3/runs/thc3dd93</a>"
      ],
      "text/plain": [
       "<IPython.core.display.HTML object>"
      ]
     },
     "metadata": {},
     "output_type": "display_data"
    },
    {
     "name": "stdout",
     "output_type": "stream",
     "text": [
      "epoch 1 : train loss = 0.9461392557984868 valid loss = 5.9073006568931476e-05\n",
      "epoch 2 : train loss = 0.6985015488889658 valid loss = 5.195622367724676e-05\n",
      "epoch 3 : train loss = 0.5976171486651162 valid loss = 4.6370212290891644e-05\n",
      "epoch 4 : train loss = 0.5539944366106526 valid loss = 4.470157327897622e-05\n",
      "epoch 5 : train loss = 0.5317073983305478 valid loss = 4.48066784017704e-05\n",
      "train accuracy  83.22083333333333\n",
      "valid accuracy  83.025\n"
     ]
    },
    {
     "data": {
      "text/html": [
       "Waiting for W&B process to finish... <strong style=\"color:green\">(success).</strong>"
      ],
      "text/plain": [
       "<IPython.core.display.HTML object>"
      ]
     },
     "metadata": {},
     "output_type": "display_data"
    },
    {
     "data": {
      "application/vnd.jupyter.widget-view+json": {
       "model_id": "ad6f5adb598d4072861bd6ae092019f0",
       "version_major": 2,
       "version_minor": 0
      },
      "text/plain": [
       "VBox(children=(Label(value='0.001 MB of 0.024 MB uploaded (0.000 MB deduped)\\r'), FloatProgress(value=0.042563…"
      ]
     },
     "metadata": {},
     "output_type": "display_data"
    },
    {
     "data": {
      "text/html": [
       "<style>\n",
       "    table.wandb td:nth-child(1) { padding: 0 10px; text-align: left ; width: auto;} td:nth-child(2) {text-align: left ; width: 100%}\n",
       "    .wandb-row { display: flex; flex-direction: row; flex-wrap: wrap; justify-content: flex-start; width: 100% }\n",
       "    .wandb-col { display: flex; flex-direction: column; flex-basis: 100%; flex: 1; padding: 10px; }\n",
       "    </style>\n",
       "<div class=\"wandb-row\"><div class=\"wandb-col\"><h3>Run history:</h3><br/><table class=\"wandb\"><tr><td>accuracy</td><td>▁</td></tr><tr><td>val_accuracy</td><td>▁</td></tr></table><br/></div><div class=\"wandb-col\"><h3>Run summary:</h3><br/><table class=\"wandb\"><tr><td>accuracy</td><td>83.22083</td></tr><tr><td>val_accuracy</td><td>83.025</td></tr></table><br/></div></div>"
      ],
      "text/plain": [
       "<IPython.core.display.HTML object>"
      ]
     },
     "metadata": {},
     "output_type": "display_data"
    },
    {
     "data": {
      "text/html": [
       " View run <strong style=\"color:#cdcd00\">deep-sweep-29</strong> at: <a href='https://wandb.ai/gsathish333/main_sweeps_V3/runs/thc3dd93' target=\"_blank\">https://wandb.ai/gsathish333/main_sweeps_V3/runs/thc3dd93</a><br/>Synced 6 W&B file(s), 0 media file(s), 0 artifact file(s) and 0 other file(s)"
      ],
      "text/plain": [
       "<IPython.core.display.HTML object>"
      ]
     },
     "metadata": {},
     "output_type": "display_data"
    },
    {
     "data": {
      "text/html": [
       "Find logs at: <code>./wandb/run-20230306_034404-thc3dd93/logs</code>"
      ],
      "text/plain": [
       "<IPython.core.display.HTML object>"
      ]
     },
     "metadata": {},
     "output_type": "display_data"
    },
    {
     "name": "stderr",
     "output_type": "stream",
     "text": [
      "\u001b[34m\u001b[1mwandb\u001b[0m: Agent Starting Run: i13khemg with config:\n",
      "\u001b[34m\u001b[1mwandb\u001b[0m: \tL2_lambda: 0\n",
      "\u001b[34m\u001b[1mwandb\u001b[0m: \tactivation: sigmoid\n",
      "\u001b[34m\u001b[1mwandb\u001b[0m: \tbatch_size: 16\n",
      "\u001b[34m\u001b[1mwandb\u001b[0m: \tepochs: 5\n",
      "\u001b[34m\u001b[1mwandb\u001b[0m: \tintialization: normal\n",
      "\u001b[34m\u001b[1mwandb\u001b[0m: \tlayer_size: 32\n",
      "\u001b[34m\u001b[1mwandb\u001b[0m: \tlearning_rate: 0.01\n",
      "\u001b[34m\u001b[1mwandb\u001b[0m: \tnum_layers: 5\n",
      "\u001b[34m\u001b[1mwandb\u001b[0m: \toptimizer: adam\n"
     ]
    },
    {
     "data": {
      "text/html": [
       "Tracking run with wandb version 0.13.10"
      ],
      "text/plain": [
       "<IPython.core.display.HTML object>"
      ]
     },
     "metadata": {},
     "output_type": "display_data"
    },
    {
     "data": {
      "text/html": [
       "Run data is saved locally in <code>/Users/sathish/Desktop/DL_temp/DL_Assignment_1/wandb/run-20230306_034436-i13khemg</code>"
      ],
      "text/plain": [
       "<IPython.core.display.HTML object>"
      ]
     },
     "metadata": {},
     "output_type": "display_data"
    },
    {
     "data": {
      "text/html": [
       "Syncing run <strong><a href='https://wandb.ai/gsathish333/main_sweeps_V3/runs/i13khemg' target=\"_blank\">blooming-sweep-30</a></strong> to <a href='https://wandb.ai/gsathish333/main_sweeps_V3' target=\"_blank\">Weights & Biases</a> (<a href='https://wandb.me/run' target=\"_blank\">docs</a>)<br/>Sweep page: <a href='https://wandb.ai/gsathish333/main_sweeps_V3/sweeps/pczmd77s' target=\"_blank\">https://wandb.ai/gsathish333/main_sweeps_V3/sweeps/pczmd77s</a>"
      ],
      "text/plain": [
       "<IPython.core.display.HTML object>"
      ]
     },
     "metadata": {},
     "output_type": "display_data"
    },
    {
     "data": {
      "text/html": [
       " View project at <a href='https://wandb.ai/gsathish333/main_sweeps_V3' target=\"_blank\">https://wandb.ai/gsathish333/main_sweeps_V3</a>"
      ],
      "text/plain": [
       "<IPython.core.display.HTML object>"
      ]
     },
     "metadata": {},
     "output_type": "display_data"
    },
    {
     "data": {
      "text/html": [
       " View sweep at <a href='https://wandb.ai/gsathish333/main_sweeps_V3/sweeps/pczmd77s' target=\"_blank\">https://wandb.ai/gsathish333/main_sweeps_V3/sweeps/pczmd77s</a>"
      ],
      "text/plain": [
       "<IPython.core.display.HTML object>"
      ]
     },
     "metadata": {},
     "output_type": "display_data"
    },
    {
     "data": {
      "text/html": [
       " View run at <a href='https://wandb.ai/gsathish333/main_sweeps_V3/runs/i13khemg' target=\"_blank\">https://wandb.ai/gsathish333/main_sweeps_V3/runs/i13khemg</a>"
      ],
      "text/plain": [
       "<IPython.core.display.HTML object>"
      ]
     },
     "metadata": {},
     "output_type": "display_data"
    },
    {
     "name": "stdout",
     "output_type": "stream",
     "text": [
      "epoch 1 : train loss = 1.0444829652974958 valid loss = 6.41809051169517e-05\n",
      "epoch 2 : train loss = 0.7021177464888297 valid loss = 5.34284394354441e-05\n",
      "epoch 3 : train loss = 0.6144497149434912 valid loss = 4.5808903576836684e-05\n",
      "epoch 4 : train loss = 0.5599148593884683 valid loss = 4.369938392062034e-05\n",
      "epoch 5 : train loss = 0.5352003001865655 valid loss = 4.305795780370226e-05\n",
      "train accuracy  83.61458333333334\n",
      "valid accuracy  83.04166666666667\n"
     ]
    },
    {
     "data": {
      "text/html": [
       "Waiting for W&B process to finish... <strong style=\"color:green\">(success).</strong>"
      ],
      "text/plain": [
       "<IPython.core.display.HTML object>"
      ]
     },
     "metadata": {},
     "output_type": "display_data"
    },
    {
     "data": {
      "application/vnd.jupyter.widget-view+json": {
       "model_id": "8334e9d9337842df9fc3192654e22fa5",
       "version_major": 2,
       "version_minor": 0
      },
      "text/plain": [
       "VBox(children=(Label(value='0.001 MB of 0.001 MB uploaded (0.000 MB deduped)\\r'), FloatProgress(value=1.0, max…"
      ]
     },
     "metadata": {},
     "output_type": "display_data"
    },
    {
     "data": {
      "text/html": [
       "<style>\n",
       "    table.wandb td:nth-child(1) { padding: 0 10px; text-align: left ; width: auto;} td:nth-child(2) {text-align: left ; width: 100%}\n",
       "    .wandb-row { display: flex; flex-direction: row; flex-wrap: wrap; justify-content: flex-start; width: 100% }\n",
       "    .wandb-col { display: flex; flex-direction: column; flex-basis: 100%; flex: 1; padding: 10px; }\n",
       "    </style>\n",
       "<div class=\"wandb-row\"><div class=\"wandb-col\"><h3>Run history:</h3><br/><table class=\"wandb\"><tr><td>accuracy</td><td>▁</td></tr><tr><td>val_accuracy</td><td>▁</td></tr></table><br/></div><div class=\"wandb-col\"><h3>Run summary:</h3><br/><table class=\"wandb\"><tr><td>accuracy</td><td>83.61458</td></tr><tr><td>val_accuracy</td><td>83.04167</td></tr></table><br/></div></div>"
      ],
      "text/plain": [
       "<IPython.core.display.HTML object>"
      ]
     },
     "metadata": {},
     "output_type": "display_data"
    },
    {
     "data": {
      "text/html": [
       " View run <strong style=\"color:#cdcd00\">blooming-sweep-30</strong> at: <a href='https://wandb.ai/gsathish333/main_sweeps_V3/runs/i13khemg' target=\"_blank\">https://wandb.ai/gsathish333/main_sweeps_V3/runs/i13khemg</a><br/>Synced 6 W&B file(s), 0 media file(s), 0 artifact file(s) and 0 other file(s)"
      ],
      "text/plain": [
       "<IPython.core.display.HTML object>"
      ]
     },
     "metadata": {},
     "output_type": "display_data"
    },
    {
     "data": {
      "text/html": [
       "Find logs at: <code>./wandb/run-20230306_034436-i13khemg/logs</code>"
      ],
      "text/plain": [
       "<IPython.core.display.HTML object>"
      ]
     },
     "metadata": {},
     "output_type": "display_data"
    },
    {
     "name": "stderr",
     "output_type": "stream",
     "text": [
      "\u001b[34m\u001b[1mwandb\u001b[0m: Agent Starting Run: 6b3gpt2b with config:\n",
      "\u001b[34m\u001b[1mwandb\u001b[0m: \tL2_lambda: 0\n",
      "\u001b[34m\u001b[1mwandb\u001b[0m: \tactivation: sigmoid\n",
      "\u001b[34m\u001b[1mwandb\u001b[0m: \tbatch_size: 16\n",
      "\u001b[34m\u001b[1mwandb\u001b[0m: \tepochs: 5\n",
      "\u001b[34m\u001b[1mwandb\u001b[0m: \tintialization: normal\n",
      "\u001b[34m\u001b[1mwandb\u001b[0m: \tlayer_size: 32\n",
      "\u001b[34m\u001b[1mwandb\u001b[0m: \tlearning_rate: 0.001\n",
      "\u001b[34m\u001b[1mwandb\u001b[0m: \tnum_layers: 3\n",
      "\u001b[34m\u001b[1mwandb\u001b[0m: \toptimizer: sgd\n"
     ]
    },
    {
     "data": {
      "text/html": [
       "Tracking run with wandb version 0.13.10"
      ],
      "text/plain": [
       "<IPython.core.display.HTML object>"
      ]
     },
     "metadata": {},
     "output_type": "display_data"
    },
    {
     "data": {
      "text/html": [
       "Run data is saved locally in <code>/Users/sathish/Desktop/DL_temp/DL_Assignment_1/wandb/run-20230306_034509-6b3gpt2b</code>"
      ],
      "text/plain": [
       "<IPython.core.display.HTML object>"
      ]
     },
     "metadata": {},
     "output_type": "display_data"
    },
    {
     "data": {
      "text/html": [
       "Syncing run <strong><a href='https://wandb.ai/gsathish333/main_sweeps_V3/runs/6b3gpt2b' target=\"_blank\">stellar-sweep-31</a></strong> to <a href='https://wandb.ai/gsathish333/main_sweeps_V3' target=\"_blank\">Weights & Biases</a> (<a href='https://wandb.me/run' target=\"_blank\">docs</a>)<br/>Sweep page: <a href='https://wandb.ai/gsathish333/main_sweeps_V3/sweeps/pczmd77s' target=\"_blank\">https://wandb.ai/gsathish333/main_sweeps_V3/sweeps/pczmd77s</a>"
      ],
      "text/plain": [
       "<IPython.core.display.HTML object>"
      ]
     },
     "metadata": {},
     "output_type": "display_data"
    },
    {
     "data": {
      "text/html": [
       " View project at <a href='https://wandb.ai/gsathish333/main_sweeps_V3' target=\"_blank\">https://wandb.ai/gsathish333/main_sweeps_V3</a>"
      ],
      "text/plain": [
       "<IPython.core.display.HTML object>"
      ]
     },
     "metadata": {},
     "output_type": "display_data"
    },
    {
     "data": {
      "text/html": [
       " View sweep at <a href='https://wandb.ai/gsathish333/main_sweeps_V3/sweeps/pczmd77s' target=\"_blank\">https://wandb.ai/gsathish333/main_sweeps_V3/sweeps/pczmd77s</a>"
      ],
      "text/plain": [
       "<IPython.core.display.HTML object>"
      ]
     },
     "metadata": {},
     "output_type": "display_data"
    },
    {
     "data": {
      "text/html": [
       " View run at <a href='https://wandb.ai/gsathish333/main_sweeps_V3/runs/6b3gpt2b' target=\"_blank\">https://wandb.ai/gsathish333/main_sweeps_V3/runs/6b3gpt2b</a>"
      ],
      "text/plain": [
       "<IPython.core.display.HTML object>"
      ]
     },
     "metadata": {},
     "output_type": "display_data"
    },
    {
     "name": "stdout",
     "output_type": "stream",
     "text": [
      "epoch 1 : train loss = 2.3921019895440074 valid loss = 0.00019195832644562172\n",
      "epoch 2 : train loss = 2.3022640657245876 valid loss = 0.00019177535300919887\n",
      "epoch 3 : train loss = 2.3010593349178365 valid loss = 0.000191687184735119\n",
      "epoch 4 : train loss = 2.3000105978300276 valid loss = 0.00019159823956533859\n",
      "epoch 5 : train loss = 2.2989365558256765 valid loss = 0.00019150629116964943\n",
      "train accuracy  10.191666666666666\n",
      "valid accuracy  9.966666666666667\n"
     ]
    },
    {
     "data": {
      "text/html": [
       "Waiting for W&B process to finish... <strong style=\"color:green\">(success).</strong>"
      ],
      "text/plain": [
       "<IPython.core.display.HTML object>"
      ]
     },
     "metadata": {},
     "output_type": "display_data"
    },
    {
     "data": {
      "application/vnd.jupyter.widget-view+json": {
       "model_id": "258aa1965ff440d3b9d6ecc5a06198b1",
       "version_major": 2,
       "version_minor": 0
      },
      "text/plain": [
       "VBox(children=(Label(value='0.001 MB of 0.001 MB uploaded (0.000 MB deduped)\\r'), FloatProgress(value=1.0, max…"
      ]
     },
     "metadata": {},
     "output_type": "display_data"
    },
    {
     "data": {
      "text/html": [
       "<style>\n",
       "    table.wandb td:nth-child(1) { padding: 0 10px; text-align: left ; width: auto;} td:nth-child(2) {text-align: left ; width: 100%}\n",
       "    .wandb-row { display: flex; flex-direction: row; flex-wrap: wrap; justify-content: flex-start; width: 100% }\n",
       "    .wandb-col { display: flex; flex-direction: column; flex-basis: 100%; flex: 1; padding: 10px; }\n",
       "    </style>\n",
       "<div class=\"wandb-row\"><div class=\"wandb-col\"><h3>Run history:</h3><br/><table class=\"wandb\"><tr><td>accuracy</td><td>▁</td></tr><tr><td>val_accuracy</td><td>▁</td></tr></table><br/></div><div class=\"wandb-col\"><h3>Run summary:</h3><br/><table class=\"wandb\"><tr><td>accuracy</td><td>10.19167</td></tr><tr><td>val_accuracy</td><td>9.96667</td></tr></table><br/></div></div>"
      ],
      "text/plain": [
       "<IPython.core.display.HTML object>"
      ]
     },
     "metadata": {},
     "output_type": "display_data"
    },
    {
     "data": {
      "text/html": [
       " View run <strong style=\"color:#cdcd00\">stellar-sweep-31</strong> at: <a href='https://wandb.ai/gsathish333/main_sweeps_V3/runs/6b3gpt2b' target=\"_blank\">https://wandb.ai/gsathish333/main_sweeps_V3/runs/6b3gpt2b</a><br/>Synced 6 W&B file(s), 0 media file(s), 0 artifact file(s) and 0 other file(s)"
      ],
      "text/plain": [
       "<IPython.core.display.HTML object>"
      ]
     },
     "metadata": {},
     "output_type": "display_data"
    },
    {
     "data": {
      "text/html": [
       "Find logs at: <code>./wandb/run-20230306_034509-6b3gpt2b/logs</code>"
      ],
      "text/plain": [
       "<IPython.core.display.HTML object>"
      ]
     },
     "metadata": {},
     "output_type": "display_data"
    },
    {
     "name": "stderr",
     "output_type": "stream",
     "text": [
      "\u001b[34m\u001b[1mwandb\u001b[0m: Agent Starting Run: wh4e9srd with config:\n",
      "\u001b[34m\u001b[1mwandb\u001b[0m: \tL2_lambda: 0\n",
      "\u001b[34m\u001b[1mwandb\u001b[0m: \tactivation: sigmoid\n",
      "\u001b[34m\u001b[1mwandb\u001b[0m: \tbatch_size: 16\n",
      "\u001b[34m\u001b[1mwandb\u001b[0m: \tepochs: 5\n",
      "\u001b[34m\u001b[1mwandb\u001b[0m: \tintialization: normal\n",
      "\u001b[34m\u001b[1mwandb\u001b[0m: \tlayer_size: 32\n",
      "\u001b[34m\u001b[1mwandb\u001b[0m: \tlearning_rate: 0.001\n",
      "\u001b[34m\u001b[1mwandb\u001b[0m: \tnum_layers: 3\n",
      "\u001b[34m\u001b[1mwandb\u001b[0m: \toptimizer: momentum\n"
     ]
    },
    {
     "data": {
      "text/html": [
       "Tracking run with wandb version 0.13.10"
      ],
      "text/plain": [
       "<IPython.core.display.HTML object>"
      ]
     },
     "metadata": {},
     "output_type": "display_data"
    },
    {
     "data": {
      "text/html": [
       "Run data is saved locally in <code>/Users/sathish/Desktop/DL_temp/DL_Assignment_1/wandb/run-20230306_034535-wh4e9srd</code>"
      ],
      "text/plain": [
       "<IPython.core.display.HTML object>"
      ]
     },
     "metadata": {},
     "output_type": "display_data"
    },
    {
     "data": {
      "text/html": [
       "Syncing run <strong><a href='https://wandb.ai/gsathish333/main_sweeps_V3/runs/wh4e9srd' target=\"_blank\">dauntless-sweep-32</a></strong> to <a href='https://wandb.ai/gsathish333/main_sweeps_V3' target=\"_blank\">Weights & Biases</a> (<a href='https://wandb.me/run' target=\"_blank\">docs</a>)<br/>Sweep page: <a href='https://wandb.ai/gsathish333/main_sweeps_V3/sweeps/pczmd77s' target=\"_blank\">https://wandb.ai/gsathish333/main_sweeps_V3/sweeps/pczmd77s</a>"
      ],
      "text/plain": [
       "<IPython.core.display.HTML object>"
      ]
     },
     "metadata": {},
     "output_type": "display_data"
    },
    {
     "data": {
      "text/html": [
       " View project at <a href='https://wandb.ai/gsathish333/main_sweeps_V3' target=\"_blank\">https://wandb.ai/gsathish333/main_sweeps_V3</a>"
      ],
      "text/plain": [
       "<IPython.core.display.HTML object>"
      ]
     },
     "metadata": {},
     "output_type": "display_data"
    },
    {
     "data": {
      "text/html": [
       " View sweep at <a href='https://wandb.ai/gsathish333/main_sweeps_V3/sweeps/pczmd77s' target=\"_blank\">https://wandb.ai/gsathish333/main_sweeps_V3/sweeps/pczmd77s</a>"
      ],
      "text/plain": [
       "<IPython.core.display.HTML object>"
      ]
     },
     "metadata": {},
     "output_type": "display_data"
    },
    {
     "data": {
      "text/html": [
       " View run at <a href='https://wandb.ai/gsathish333/main_sweeps_V3/runs/wh4e9srd' target=\"_blank\">https://wandb.ai/gsathish333/main_sweeps_V3/runs/wh4e9srd</a>"
      ],
      "text/plain": [
       "<IPython.core.display.HTML object>"
      ]
     },
     "metadata": {},
     "output_type": "display_data"
    },
    {
     "name": "stdout",
     "output_type": "stream",
     "text": [
      "epoch 1 : train loss = 2.3752492297094525 valid loss = 0.00019184022418922513\n",
      "epoch 2 : train loss = 2.3015325738092933 valid loss = 0.0001917295973322315\n",
      "epoch 3 : train loss = 2.3005128118061986 valid loss = 0.00019165478246228285\n",
      "epoch 4 : train loss = 2.299589351507807 valid loss = 0.00019157675324102\n",
      "epoch 5 : train loss = 2.2986282300681555 valid loss = 0.0001914949364733415\n",
      "train accuracy  12.039583333333333\n",
      "valid accuracy  11.691666666666666\n"
     ]
    },
    {
     "data": {
      "text/html": [
       "Waiting for W&B process to finish... <strong style=\"color:green\">(success).</strong>"
      ],
      "text/plain": [
       "<IPython.core.display.HTML object>"
      ]
     },
     "metadata": {},
     "output_type": "display_data"
    },
    {
     "data": {
      "application/vnd.jupyter.widget-view+json": {
       "model_id": "7f231474cc47453ba9ab279baedf508e",
       "version_major": 2,
       "version_minor": 0
      },
      "text/plain": [
       "VBox(children=(Label(value='0.001 MB of 0.001 MB uploaded (0.000 MB deduped)\\r'), FloatProgress(value=1.0, max…"
      ]
     },
     "metadata": {},
     "output_type": "display_data"
    },
    {
     "data": {
      "text/html": [
       "<style>\n",
       "    table.wandb td:nth-child(1) { padding: 0 10px; text-align: left ; width: auto;} td:nth-child(2) {text-align: left ; width: 100%}\n",
       "    .wandb-row { display: flex; flex-direction: row; flex-wrap: wrap; justify-content: flex-start; width: 100% }\n",
       "    .wandb-col { display: flex; flex-direction: column; flex-basis: 100%; flex: 1; padding: 10px; }\n",
       "    </style>\n",
       "<div class=\"wandb-row\"><div class=\"wandb-col\"><h3>Run history:</h3><br/><table class=\"wandb\"><tr><td>accuracy</td><td>▁</td></tr><tr><td>val_accuracy</td><td>▁</td></tr></table><br/></div><div class=\"wandb-col\"><h3>Run summary:</h3><br/><table class=\"wandb\"><tr><td>accuracy</td><td>12.03958</td></tr><tr><td>val_accuracy</td><td>11.69167</td></tr></table><br/></div></div>"
      ],
      "text/plain": [
       "<IPython.core.display.HTML object>"
      ]
     },
     "metadata": {},
     "output_type": "display_data"
    },
    {
     "data": {
      "text/html": [
       " View run <strong style=\"color:#cdcd00\">dauntless-sweep-32</strong> at: <a href='https://wandb.ai/gsathish333/main_sweeps_V3/runs/wh4e9srd' target=\"_blank\">https://wandb.ai/gsathish333/main_sweeps_V3/runs/wh4e9srd</a><br/>Synced 6 W&B file(s), 0 media file(s), 0 artifact file(s) and 0 other file(s)"
      ],
      "text/plain": [
       "<IPython.core.display.HTML object>"
      ]
     },
     "metadata": {},
     "output_type": "display_data"
    },
    {
     "data": {
      "text/html": [
       "Find logs at: <code>./wandb/run-20230306_034535-wh4e9srd/logs</code>"
      ],
      "text/plain": [
       "<IPython.core.display.HTML object>"
      ]
     },
     "metadata": {},
     "output_type": "display_data"
    },
    {
     "name": "stderr",
     "output_type": "stream",
     "text": [
      "\u001b[34m\u001b[1mwandb\u001b[0m: Agent Starting Run: dlhtcfw0 with config:\n",
      "\u001b[34m\u001b[1mwandb\u001b[0m: \tL2_lambda: 0\n",
      "\u001b[34m\u001b[1mwandb\u001b[0m: \tactivation: sigmoid\n",
      "\u001b[34m\u001b[1mwandb\u001b[0m: \tbatch_size: 16\n",
      "\u001b[34m\u001b[1mwandb\u001b[0m: \tepochs: 5\n",
      "\u001b[34m\u001b[1mwandb\u001b[0m: \tintialization: normal\n",
      "\u001b[34m\u001b[1mwandb\u001b[0m: \tlayer_size: 32\n",
      "\u001b[34m\u001b[1mwandb\u001b[0m: \tlearning_rate: 0.001\n",
      "\u001b[34m\u001b[1mwandb\u001b[0m: \tnum_layers: 3\n",
      "\u001b[34m\u001b[1mwandb\u001b[0m: \toptimizer: nesterov\n"
     ]
    },
    {
     "data": {
      "application/vnd.jupyter.widget-view+json": {
       "model_id": "dd47406d034d425a9167dc053e27b99d",
       "version_major": 2,
       "version_minor": 0
      },
      "text/plain": [
       "VBox(children=(Label(value='Waiting for wandb.init()...\\r'), FloatProgress(value=0.016753897916665515, max=1.0…"
      ]
     },
     "metadata": {},
     "output_type": "display_data"
    },
    {
     "data": {
      "text/html": [
       "Tracking run with wandb version 0.13.10"
      ],
      "text/plain": [
       "<IPython.core.display.HTML object>"
      ]
     },
     "metadata": {},
     "output_type": "display_data"
    },
    {
     "data": {
      "text/html": [
       "Run data is saved locally in <code>/Users/sathish/Desktop/DL_temp/DL_Assignment_1/wandb/run-20230306_034603-dlhtcfw0</code>"
      ],
      "text/plain": [
       "<IPython.core.display.HTML object>"
      ]
     },
     "metadata": {},
     "output_type": "display_data"
    },
    {
     "data": {
      "text/html": [
       "Syncing run <strong><a href='https://wandb.ai/gsathish333/main_sweeps_V3/runs/dlhtcfw0' target=\"_blank\">earnest-sweep-33</a></strong> to <a href='https://wandb.ai/gsathish333/main_sweeps_V3' target=\"_blank\">Weights & Biases</a> (<a href='https://wandb.me/run' target=\"_blank\">docs</a>)<br/>Sweep page: <a href='https://wandb.ai/gsathish333/main_sweeps_V3/sweeps/pczmd77s' target=\"_blank\">https://wandb.ai/gsathish333/main_sweeps_V3/sweeps/pczmd77s</a>"
      ],
      "text/plain": [
       "<IPython.core.display.HTML object>"
      ]
     },
     "metadata": {},
     "output_type": "display_data"
    },
    {
     "data": {
      "text/html": [
       " View project at <a href='https://wandb.ai/gsathish333/main_sweeps_V3' target=\"_blank\">https://wandb.ai/gsathish333/main_sweeps_V3</a>"
      ],
      "text/plain": [
       "<IPython.core.display.HTML object>"
      ]
     },
     "metadata": {},
     "output_type": "display_data"
    },
    {
     "data": {
      "text/html": [
       " View sweep at <a href='https://wandb.ai/gsathish333/main_sweeps_V3/sweeps/pczmd77s' target=\"_blank\">https://wandb.ai/gsathish333/main_sweeps_V3/sweeps/pczmd77s</a>"
      ],
      "text/plain": [
       "<IPython.core.display.HTML object>"
      ]
     },
     "metadata": {},
     "output_type": "display_data"
    },
    {
     "data": {
      "text/html": [
       " View run at <a href='https://wandb.ai/gsathish333/main_sweeps_V3/runs/dlhtcfw0' target=\"_blank\">https://wandb.ai/gsathish333/main_sweeps_V3/runs/dlhtcfw0</a>"
      ],
      "text/plain": [
       "<IPython.core.display.HTML object>"
      ]
     },
     "metadata": {},
     "output_type": "display_data"
    },
    {
     "name": "stdout",
     "output_type": "stream",
     "text": [
      "epoch 1 : train loss = 2.370765353517903 valid loss = 0.0001883452634680059\n",
      "epoch 2 : train loss = 1.9750869601701764 valid loss = 0.00015167549095953034\n",
      "epoch 3 : train loss = 1.6933579527752012 valid loss = 0.00013066044124029872\n",
      "epoch 4 : train loss = 1.489189335367261 valid loss = 0.00011260953576352746\n",
      "epoch 5 : train loss = 1.3365505553811434 valid loss = 9.972675423358332e-05\n",
      "train accuracy  54.383333333333326\n",
      "valid accuracy  55.48333333333333\n"
     ]
    },
    {
     "data": {
      "text/html": [
       "Waiting for W&B process to finish... <strong style=\"color:green\">(success).</strong>"
      ],
      "text/plain": [
       "<IPython.core.display.HTML object>"
      ]
     },
     "metadata": {},
     "output_type": "display_data"
    },
    {
     "data": {
      "application/vnd.jupyter.widget-view+json": {
       "model_id": "46538b4b19fd4972a64a7f71db89b245",
       "version_major": 2,
       "version_minor": 0
      },
      "text/plain": [
       "VBox(children=(Label(value='0.001 MB of 0.025 MB uploaded (0.000 MB deduped)\\r'), FloatProgress(value=0.042520…"
      ]
     },
     "metadata": {},
     "output_type": "display_data"
    },
    {
     "data": {
      "text/html": [
       "<style>\n",
       "    table.wandb td:nth-child(1) { padding: 0 10px; text-align: left ; width: auto;} td:nth-child(2) {text-align: left ; width: 100%}\n",
       "    .wandb-row { display: flex; flex-direction: row; flex-wrap: wrap; justify-content: flex-start; width: 100% }\n",
       "    .wandb-col { display: flex; flex-direction: column; flex-basis: 100%; flex: 1; padding: 10px; }\n",
       "    </style>\n",
       "<div class=\"wandb-row\"><div class=\"wandb-col\"><h3>Run history:</h3><br/><table class=\"wandb\"><tr><td>accuracy</td><td>▁</td></tr><tr><td>val_accuracy</td><td>▁</td></tr></table><br/></div><div class=\"wandb-col\"><h3>Run summary:</h3><br/><table class=\"wandb\"><tr><td>accuracy</td><td>54.38333</td></tr><tr><td>val_accuracy</td><td>55.48333</td></tr></table><br/></div></div>"
      ],
      "text/plain": [
       "<IPython.core.display.HTML object>"
      ]
     },
     "metadata": {},
     "output_type": "display_data"
    },
    {
     "data": {
      "text/html": [
       " View run <strong style=\"color:#cdcd00\">earnest-sweep-33</strong> at: <a href='https://wandb.ai/gsathish333/main_sweeps_V3/runs/dlhtcfw0' target=\"_blank\">https://wandb.ai/gsathish333/main_sweeps_V3/runs/dlhtcfw0</a><br/>Synced 6 W&B file(s), 0 media file(s), 0 artifact file(s) and 0 other file(s)"
      ],
      "text/plain": [
       "<IPython.core.display.HTML object>"
      ]
     },
     "metadata": {},
     "output_type": "display_data"
    },
    {
     "data": {
      "text/html": [
       "Find logs at: <code>./wandb/run-20230306_034603-dlhtcfw0/logs</code>"
      ],
      "text/plain": [
       "<IPython.core.display.HTML object>"
      ]
     },
     "metadata": {},
     "output_type": "display_data"
    },
    {
     "name": "stderr",
     "output_type": "stream",
     "text": [
      "\u001b[34m\u001b[1mwandb\u001b[0m: Agent Starting Run: 04wpazb7 with config:\n",
      "\u001b[34m\u001b[1mwandb\u001b[0m: \tL2_lambda: 0\n",
      "\u001b[34m\u001b[1mwandb\u001b[0m: \tactivation: sigmoid\n",
      "\u001b[34m\u001b[1mwandb\u001b[0m: \tbatch_size: 16\n",
      "\u001b[34m\u001b[1mwandb\u001b[0m: \tepochs: 5\n",
      "\u001b[34m\u001b[1mwandb\u001b[0m: \tintialization: normal\n",
      "\u001b[34m\u001b[1mwandb\u001b[0m: \tlayer_size: 32\n",
      "\u001b[34m\u001b[1mwandb\u001b[0m: \tlearning_rate: 0.001\n",
      "\u001b[34m\u001b[1mwandb\u001b[0m: \tnum_layers: 3\n",
      "\u001b[34m\u001b[1mwandb\u001b[0m: \toptimizer: rmsprop\n"
     ]
    },
    {
     "data": {
      "text/html": [
       "Tracking run with wandb version 0.13.10"
      ],
      "text/plain": [
       "<IPython.core.display.HTML object>"
      ]
     },
     "metadata": {},
     "output_type": "display_data"
    },
    {
     "data": {
      "text/html": [
       "Run data is saved locally in <code>/Users/sathish/Desktop/DL_temp/DL_Assignment_1/wandb/run-20230306_034630-04wpazb7</code>"
      ],
      "text/plain": [
       "<IPython.core.display.HTML object>"
      ]
     },
     "metadata": {},
     "output_type": "display_data"
    },
    {
     "data": {
      "text/html": [
       "Syncing run <strong><a href='https://wandb.ai/gsathish333/main_sweeps_V3/runs/04wpazb7' target=\"_blank\">major-sweep-34</a></strong> to <a href='https://wandb.ai/gsathish333/main_sweeps_V3' target=\"_blank\">Weights & Biases</a> (<a href='https://wandb.me/run' target=\"_blank\">docs</a>)<br/>Sweep page: <a href='https://wandb.ai/gsathish333/main_sweeps_V3/sweeps/pczmd77s' target=\"_blank\">https://wandb.ai/gsathish333/main_sweeps_V3/sweeps/pczmd77s</a>"
      ],
      "text/plain": [
       "<IPython.core.display.HTML object>"
      ]
     },
     "metadata": {},
     "output_type": "display_data"
    },
    {
     "data": {
      "text/html": [
       " View project at <a href='https://wandb.ai/gsathish333/main_sweeps_V3' target=\"_blank\">https://wandb.ai/gsathish333/main_sweeps_V3</a>"
      ],
      "text/plain": [
       "<IPython.core.display.HTML object>"
      ]
     },
     "metadata": {},
     "output_type": "display_data"
    },
    {
     "data": {
      "text/html": [
       " View sweep at <a href='https://wandb.ai/gsathish333/main_sweeps_V3/sweeps/pczmd77s' target=\"_blank\">https://wandb.ai/gsathish333/main_sweeps_V3/sweeps/pczmd77s</a>"
      ],
      "text/plain": [
       "<IPython.core.display.HTML object>"
      ]
     },
     "metadata": {},
     "output_type": "display_data"
    },
    {
     "data": {
      "text/html": [
       " View run at <a href='https://wandb.ai/gsathish333/main_sweeps_V3/runs/04wpazb7' target=\"_blank\">https://wandb.ai/gsathish333/main_sweeps_V3/runs/04wpazb7</a>"
      ],
      "text/plain": [
       "<IPython.core.display.HTML object>"
      ]
     },
     "metadata": {},
     "output_type": "display_data"
    },
    {
     "name": "stdout",
     "output_type": "stream",
     "text": [
      "epoch 1 : train loss = 1.018168957335715 valid loss = 4.651472966692594e-05\n",
      "epoch 2 : train loss = 0.5084059379352638 valid loss = 3.85425756232528e-05\n",
      "epoch 3 : train loss = 0.4446140504809243 valid loss = 3.602123558546785e-05\n",
      "epoch 4 : train loss = 0.4131149575436314 valid loss = 3.4195609367800625e-05\n",
      "epoch 5 : train loss = 0.3924074398183928 valid loss = 3.3106787865475644e-05\n",
      "train accuracy  87.27708333333334\n",
      "valid accuracy  86.65\n"
     ]
    },
    {
     "data": {
      "text/html": [
       "Waiting for W&B process to finish... <strong style=\"color:green\">(success).</strong>"
      ],
      "text/plain": [
       "<IPython.core.display.HTML object>"
      ]
     },
     "metadata": {},
     "output_type": "display_data"
    },
    {
     "data": {
      "application/vnd.jupyter.widget-view+json": {
       "model_id": "42b895c9e546483cb0bdd52979d50567",
       "version_major": 2,
       "version_minor": 0
      },
      "text/plain": [
       "VBox(children=(Label(value='0.001 MB of 0.024 MB uploaded (0.000 MB deduped)\\r'), FloatProgress(value=0.042565…"
      ]
     },
     "metadata": {},
     "output_type": "display_data"
    },
    {
     "data": {
      "text/html": [
       "<style>\n",
       "    table.wandb td:nth-child(1) { padding: 0 10px; text-align: left ; width: auto;} td:nth-child(2) {text-align: left ; width: 100%}\n",
       "    .wandb-row { display: flex; flex-direction: row; flex-wrap: wrap; justify-content: flex-start; width: 100% }\n",
       "    .wandb-col { display: flex; flex-direction: column; flex-basis: 100%; flex: 1; padding: 10px; }\n",
       "    </style>\n",
       "<div class=\"wandb-row\"><div class=\"wandb-col\"><h3>Run history:</h3><br/><table class=\"wandb\"><tr><td>accuracy</td><td>▁</td></tr><tr><td>val_accuracy</td><td>▁</td></tr></table><br/></div><div class=\"wandb-col\"><h3>Run summary:</h3><br/><table class=\"wandb\"><tr><td>accuracy</td><td>87.27708</td></tr><tr><td>val_accuracy</td><td>86.65</td></tr></table><br/></div></div>"
      ],
      "text/plain": [
       "<IPython.core.display.HTML object>"
      ]
     },
     "metadata": {},
     "output_type": "display_data"
    },
    {
     "data": {
      "text/html": [
       " View run <strong style=\"color:#cdcd00\">major-sweep-34</strong> at: <a href='https://wandb.ai/gsathish333/main_sweeps_V3/runs/04wpazb7' target=\"_blank\">https://wandb.ai/gsathish333/main_sweeps_V3/runs/04wpazb7</a><br/>Synced 6 W&B file(s), 0 media file(s), 0 artifact file(s) and 0 other file(s)"
      ],
      "text/plain": [
       "<IPython.core.display.HTML object>"
      ]
     },
     "metadata": {},
     "output_type": "display_data"
    },
    {
     "data": {
      "text/html": [
       "Find logs at: <code>./wandb/run-20230306_034630-04wpazb7/logs</code>"
      ],
      "text/plain": [
       "<IPython.core.display.HTML object>"
      ]
     },
     "metadata": {},
     "output_type": "display_data"
    },
    {
     "name": "stderr",
     "output_type": "stream",
     "text": [
      "\u001b[34m\u001b[1mwandb\u001b[0m: Agent Starting Run: dn61umyr with config:\n",
      "\u001b[34m\u001b[1mwandb\u001b[0m: \tL2_lambda: 0\n",
      "\u001b[34m\u001b[1mwandb\u001b[0m: \tactivation: sigmoid\n",
      "\u001b[34m\u001b[1mwandb\u001b[0m: \tbatch_size: 16\n",
      "\u001b[34m\u001b[1mwandb\u001b[0m: \tepochs: 5\n",
      "\u001b[34m\u001b[1mwandb\u001b[0m: \tintialization: normal\n",
      "\u001b[34m\u001b[1mwandb\u001b[0m: \tlayer_size: 32\n",
      "\u001b[34m\u001b[1mwandb\u001b[0m: \tlearning_rate: 0.001\n",
      "\u001b[34m\u001b[1mwandb\u001b[0m: \tnum_layers: 3\n",
      "\u001b[34m\u001b[1mwandb\u001b[0m: \toptimizer: adam\n"
     ]
    },
    {
     "data": {
      "application/vnd.jupyter.widget-view+json": {
       "model_id": "77c525edb5cb4ee8980414ebccfeeda9",
       "version_major": 2,
       "version_minor": 0
      },
      "text/plain": [
       "VBox(children=(Label(value='Waiting for wandb.init()...\\r'), FloatProgress(value=0.01683692291666527, max=1.0)…"
      ]
     },
     "metadata": {},
     "output_type": "display_data"
    },
    {
     "data": {
      "text/html": [
       "Tracking run with wandb version 0.13.10"
      ],
      "text/plain": [
       "<IPython.core.display.HTML object>"
      ]
     },
     "metadata": {},
     "output_type": "display_data"
    },
    {
     "data": {
      "text/html": [
       "Run data is saved locally in <code>/Users/sathish/Desktop/DL_temp/DL_Assignment_1/wandb/run-20230306_034657-dn61umyr</code>"
      ],
      "text/plain": [
       "<IPython.core.display.HTML object>"
      ]
     },
     "metadata": {},
     "output_type": "display_data"
    },
    {
     "data": {
      "text/html": [
       "Syncing run <strong><a href='https://wandb.ai/gsathish333/main_sweeps_V3/runs/dn61umyr' target=\"_blank\">vocal-sweep-35</a></strong> to <a href='https://wandb.ai/gsathish333/main_sweeps_V3' target=\"_blank\">Weights & Biases</a> (<a href='https://wandb.me/run' target=\"_blank\">docs</a>)<br/>Sweep page: <a href='https://wandb.ai/gsathish333/main_sweeps_V3/sweeps/pczmd77s' target=\"_blank\">https://wandb.ai/gsathish333/main_sweeps_V3/sweeps/pczmd77s</a>"
      ],
      "text/plain": [
       "<IPython.core.display.HTML object>"
      ]
     },
     "metadata": {},
     "output_type": "display_data"
    },
    {
     "data": {
      "text/html": [
       " View project at <a href='https://wandb.ai/gsathish333/main_sweeps_V3' target=\"_blank\">https://wandb.ai/gsathish333/main_sweeps_V3</a>"
      ],
      "text/plain": [
       "<IPython.core.display.HTML object>"
      ]
     },
     "metadata": {},
     "output_type": "display_data"
    },
    {
     "data": {
      "text/html": [
       " View sweep at <a href='https://wandb.ai/gsathish333/main_sweeps_V3/sweeps/pczmd77s' target=\"_blank\">https://wandb.ai/gsathish333/main_sweeps_V3/sweeps/pczmd77s</a>"
      ],
      "text/plain": [
       "<IPython.core.display.HTML object>"
      ]
     },
     "metadata": {},
     "output_type": "display_data"
    },
    {
     "data": {
      "text/html": [
       " View run at <a href='https://wandb.ai/gsathish333/main_sweeps_V3/runs/dn61umyr' target=\"_blank\">https://wandb.ai/gsathish333/main_sweeps_V3/runs/dn61umyr</a>"
      ],
      "text/plain": [
       "<IPython.core.display.HTML object>"
      ]
     },
     "metadata": {},
     "output_type": "display_data"
    },
    {
     "name": "stdout",
     "output_type": "stream",
     "text": [
      "epoch 1 : train loss = 0.9923108668908226 valid loss = 4.619064548417634e-05\n",
      "epoch 2 : train loss = 0.5033991290445026 valid loss = 3.816792799577067e-05\n",
      "epoch 3 : train loss = 0.42975893363707607 valid loss = 3.431908732265306e-05\n",
      "epoch 4 : train loss = 0.3889055327952276 valid loss = 3.200008306011018e-05\n",
      "epoch 5 : train loss = 0.36315526060510944 valid loss = 3.105346799237222e-05\n",
      "train accuracy  87.98541666666667\n",
      "valid accuracy  86.75833333333334\n"
     ]
    },
    {
     "data": {
      "text/html": [
       "Waiting for W&B process to finish... <strong style=\"color:green\">(success).</strong>"
      ],
      "text/plain": [
       "<IPython.core.display.HTML object>"
      ]
     },
     "metadata": {},
     "output_type": "display_data"
    },
    {
     "data": {
      "application/vnd.jupyter.widget-view+json": {
       "model_id": "9a0df09bce6249c5aac4671529f04eb0",
       "version_major": 2,
       "version_minor": 0
      },
      "text/plain": [
       "VBox(children=(Label(value='0.001 MB of 0.001 MB uploaded (0.000 MB deduped)\\r'), FloatProgress(value=1.0, max…"
      ]
     },
     "metadata": {},
     "output_type": "display_data"
    },
    {
     "data": {
      "text/html": [
       "<style>\n",
       "    table.wandb td:nth-child(1) { padding: 0 10px; text-align: left ; width: auto;} td:nth-child(2) {text-align: left ; width: 100%}\n",
       "    .wandb-row { display: flex; flex-direction: row; flex-wrap: wrap; justify-content: flex-start; width: 100% }\n",
       "    .wandb-col { display: flex; flex-direction: column; flex-basis: 100%; flex: 1; padding: 10px; }\n",
       "    </style>\n",
       "<div class=\"wandb-row\"><div class=\"wandb-col\"><h3>Run history:</h3><br/><table class=\"wandb\"><tr><td>accuracy</td><td>▁</td></tr><tr><td>val_accuracy</td><td>▁</td></tr></table><br/></div><div class=\"wandb-col\"><h3>Run summary:</h3><br/><table class=\"wandb\"><tr><td>accuracy</td><td>87.98542</td></tr><tr><td>val_accuracy</td><td>86.75833</td></tr></table><br/></div></div>"
      ],
      "text/plain": [
       "<IPython.core.display.HTML object>"
      ]
     },
     "metadata": {},
     "output_type": "display_data"
    },
    {
     "data": {
      "text/html": [
       " View run <strong style=\"color:#cdcd00\">vocal-sweep-35</strong> at: <a href='https://wandb.ai/gsathish333/main_sweeps_V3/runs/dn61umyr' target=\"_blank\">https://wandb.ai/gsathish333/main_sweeps_V3/runs/dn61umyr</a><br/>Synced 6 W&B file(s), 0 media file(s), 0 artifact file(s) and 0 other file(s)"
      ],
      "text/plain": [
       "<IPython.core.display.HTML object>"
      ]
     },
     "metadata": {},
     "output_type": "display_data"
    },
    {
     "data": {
      "text/html": [
       "Find logs at: <code>./wandb/run-20230306_034657-dn61umyr/logs</code>"
      ],
      "text/plain": [
       "<IPython.core.display.HTML object>"
      ]
     },
     "metadata": {},
     "output_type": "display_data"
    },
    {
     "name": "stderr",
     "output_type": "stream",
     "text": [
      "\u001b[34m\u001b[1mwandb\u001b[0m: Agent Starting Run: w0cldlza with config:\n",
      "\u001b[34m\u001b[1mwandb\u001b[0m: \tL2_lambda: 0\n",
      "\u001b[34m\u001b[1mwandb\u001b[0m: \tactivation: sigmoid\n",
      "\u001b[34m\u001b[1mwandb\u001b[0m: \tbatch_size: 16\n",
      "\u001b[34m\u001b[1mwandb\u001b[0m: \tepochs: 5\n",
      "\u001b[34m\u001b[1mwandb\u001b[0m: \tintialization: normal\n",
      "\u001b[34m\u001b[1mwandb\u001b[0m: \tlayer_size: 32\n",
      "\u001b[34m\u001b[1mwandb\u001b[0m: \tlearning_rate: 0.001\n",
      "\u001b[34m\u001b[1mwandb\u001b[0m: \tnum_layers: 4\n",
      "\u001b[34m\u001b[1mwandb\u001b[0m: \toptimizer: sgd\n"
     ]
    },
    {
     "data": {
      "text/html": [
       "Tracking run with wandb version 0.13.10"
      ],
      "text/plain": [
       "<IPython.core.display.HTML object>"
      ]
     },
     "metadata": {},
     "output_type": "display_data"
    },
    {
     "data": {
      "text/html": [
       "Run data is saved locally in <code>/Users/sathish/Desktop/DL_temp/DL_Assignment_1/wandb/run-20230306_034730-w0cldlza</code>"
      ],
      "text/plain": [
       "<IPython.core.display.HTML object>"
      ]
     },
     "metadata": {},
     "output_type": "display_data"
    },
    {
     "data": {
      "text/html": [
       "Syncing run <strong><a href='https://wandb.ai/gsathish333/main_sweeps_V3/runs/w0cldlza' target=\"_blank\">dark-sweep-36</a></strong> to <a href='https://wandb.ai/gsathish333/main_sweeps_V3' target=\"_blank\">Weights & Biases</a> (<a href='https://wandb.me/run' target=\"_blank\">docs</a>)<br/>Sweep page: <a href='https://wandb.ai/gsathish333/main_sweeps_V3/sweeps/pczmd77s' target=\"_blank\">https://wandb.ai/gsathish333/main_sweeps_V3/sweeps/pczmd77s</a>"
      ],
      "text/plain": [
       "<IPython.core.display.HTML object>"
      ]
     },
     "metadata": {},
     "output_type": "display_data"
    },
    {
     "data": {
      "text/html": [
       " View project at <a href='https://wandb.ai/gsathish333/main_sweeps_V3' target=\"_blank\">https://wandb.ai/gsathish333/main_sweeps_V3</a>"
      ],
      "text/plain": [
       "<IPython.core.display.HTML object>"
      ]
     },
     "metadata": {},
     "output_type": "display_data"
    },
    {
     "data": {
      "text/html": [
       " View sweep at <a href='https://wandb.ai/gsathish333/main_sweeps_V3/sweeps/pczmd77s' target=\"_blank\">https://wandb.ai/gsathish333/main_sweeps_V3/sweeps/pczmd77s</a>"
      ],
      "text/plain": [
       "<IPython.core.display.HTML object>"
      ]
     },
     "metadata": {},
     "output_type": "display_data"
    },
    {
     "data": {
      "text/html": [
       " View run at <a href='https://wandb.ai/gsathish333/main_sweeps_V3/runs/w0cldlza' target=\"_blank\">https://wandb.ai/gsathish333/main_sweeps_V3/runs/w0cldlza</a>"
      ],
      "text/plain": [
       "<IPython.core.display.HTML object>"
      ]
     },
     "metadata": {},
     "output_type": "display_data"
    },
    {
     "name": "stdout",
     "output_type": "stream",
     "text": [
      "epoch 1 : train loss = 2.4361703174853973 valid loss = 0.0001919877886696366\n",
      "epoch 2 : train loss = 2.303248451655268 valid loss = 0.0001918913677830314\n",
      "epoch 3 : train loss = 2.302914697848961 valid loss = 0.00019188662803011017\n",
      "epoch 4 : train loss = 2.3028497569136146 valid loss = 0.00019188142514426132\n",
      "epoch 5 : train loss = 2.302788268468193 valid loss = 0.00019187637276247497\n",
      "train accuracy  10.041666666666666\n",
      "valid accuracy  9.833333333333332\n"
     ]
    },
    {
     "data": {
      "text/html": [
       "Waiting for W&B process to finish... <strong style=\"color:green\">(success).</strong>"
      ],
      "text/plain": [
       "<IPython.core.display.HTML object>"
      ]
     },
     "metadata": {},
     "output_type": "display_data"
    },
    {
     "data": {
      "application/vnd.jupyter.widget-view+json": {
       "model_id": "5c68ab9cd84e456c8506f0cca718a97e",
       "version_major": 2,
       "version_minor": 0
      },
      "text/plain": [
       "VBox(children=(Label(value='0.001 MB of 0.025 MB uploaded (0.000 MB deduped)\\r'), FloatProgress(value=0.042527…"
      ]
     },
     "metadata": {},
     "output_type": "display_data"
    },
    {
     "data": {
      "text/html": [
       "<style>\n",
       "    table.wandb td:nth-child(1) { padding: 0 10px; text-align: left ; width: auto;} td:nth-child(2) {text-align: left ; width: 100%}\n",
       "    .wandb-row { display: flex; flex-direction: row; flex-wrap: wrap; justify-content: flex-start; width: 100% }\n",
       "    .wandb-col { display: flex; flex-direction: column; flex-basis: 100%; flex: 1; padding: 10px; }\n",
       "    </style>\n",
       "<div class=\"wandb-row\"><div class=\"wandb-col\"><h3>Run history:</h3><br/><table class=\"wandb\"><tr><td>accuracy</td><td>▁</td></tr><tr><td>val_accuracy</td><td>▁</td></tr></table><br/></div><div class=\"wandb-col\"><h3>Run summary:</h3><br/><table class=\"wandb\"><tr><td>accuracy</td><td>10.04167</td></tr><tr><td>val_accuracy</td><td>9.83333</td></tr></table><br/></div></div>"
      ],
      "text/plain": [
       "<IPython.core.display.HTML object>"
      ]
     },
     "metadata": {},
     "output_type": "display_data"
    },
    {
     "data": {
      "text/html": [
       " View run <strong style=\"color:#cdcd00\">dark-sweep-36</strong> at: <a href='https://wandb.ai/gsathish333/main_sweeps_V3/runs/w0cldlza' target=\"_blank\">https://wandb.ai/gsathish333/main_sweeps_V3/runs/w0cldlza</a><br/>Synced 6 W&B file(s), 0 media file(s), 0 artifact file(s) and 0 other file(s)"
      ],
      "text/plain": [
       "<IPython.core.display.HTML object>"
      ]
     },
     "metadata": {},
     "output_type": "display_data"
    },
    {
     "data": {
      "text/html": [
       "Find logs at: <code>./wandb/run-20230306_034730-w0cldlza/logs</code>"
      ],
      "text/plain": [
       "<IPython.core.display.HTML object>"
      ]
     },
     "metadata": {},
     "output_type": "display_data"
    },
    {
     "name": "stderr",
     "output_type": "stream",
     "text": [
      "\u001b[34m\u001b[1mwandb\u001b[0m: Agent Starting Run: b0u59kuh with config:\n",
      "\u001b[34m\u001b[1mwandb\u001b[0m: \tL2_lambda: 0\n",
      "\u001b[34m\u001b[1mwandb\u001b[0m: \tactivation: sigmoid\n",
      "\u001b[34m\u001b[1mwandb\u001b[0m: \tbatch_size: 16\n",
      "\u001b[34m\u001b[1mwandb\u001b[0m: \tepochs: 5\n",
      "\u001b[34m\u001b[1mwandb\u001b[0m: \tintialization: normal\n",
      "\u001b[34m\u001b[1mwandb\u001b[0m: \tlayer_size: 32\n",
      "\u001b[34m\u001b[1mwandb\u001b[0m: \tlearning_rate: 0.001\n",
      "\u001b[34m\u001b[1mwandb\u001b[0m: \tnum_layers: 4\n",
      "\u001b[34m\u001b[1mwandb\u001b[0m: \toptimizer: momentum\n"
     ]
    },
    {
     "data": {
      "text/html": [
       "Tracking run with wandb version 0.13.10"
      ],
      "text/plain": [
       "<IPython.core.display.HTML object>"
      ]
     },
     "metadata": {},
     "output_type": "display_data"
    },
    {
     "data": {
      "text/html": [
       "Run data is saved locally in <code>/Users/sathish/Desktop/DL_temp/DL_Assignment_1/wandb/run-20230306_034756-b0u59kuh</code>"
      ],
      "text/plain": [
       "<IPython.core.display.HTML object>"
      ]
     },
     "metadata": {},
     "output_type": "display_data"
    },
    {
     "data": {
      "text/html": [
       "Syncing run <strong><a href='https://wandb.ai/gsathish333/main_sweeps_V3/runs/b0u59kuh' target=\"_blank\">whole-sweep-37</a></strong> to <a href='https://wandb.ai/gsathish333/main_sweeps_V3' target=\"_blank\">Weights & Biases</a> (<a href='https://wandb.me/run' target=\"_blank\">docs</a>)<br/>Sweep page: <a href='https://wandb.ai/gsathish333/main_sweeps_V3/sweeps/pczmd77s' target=\"_blank\">https://wandb.ai/gsathish333/main_sweeps_V3/sweeps/pczmd77s</a>"
      ],
      "text/plain": [
       "<IPython.core.display.HTML object>"
      ]
     },
     "metadata": {},
     "output_type": "display_data"
    },
    {
     "data": {
      "text/html": [
       " View project at <a href='https://wandb.ai/gsathish333/main_sweeps_V3' target=\"_blank\">https://wandb.ai/gsathish333/main_sweeps_V3</a>"
      ],
      "text/plain": [
       "<IPython.core.display.HTML object>"
      ]
     },
     "metadata": {},
     "output_type": "display_data"
    },
    {
     "data": {
      "text/html": [
       " View sweep at <a href='https://wandb.ai/gsathish333/main_sweeps_V3/sweeps/pczmd77s' target=\"_blank\">https://wandb.ai/gsathish333/main_sweeps_V3/sweeps/pczmd77s</a>"
      ],
      "text/plain": [
       "<IPython.core.display.HTML object>"
      ]
     },
     "metadata": {},
     "output_type": "display_data"
    },
    {
     "data": {
      "text/html": [
       " View run at <a href='https://wandb.ai/gsathish333/main_sweeps_V3/runs/b0u59kuh' target=\"_blank\">https://wandb.ai/gsathish333/main_sweeps_V3/runs/b0u59kuh</a>"
      ],
      "text/plain": [
       "<IPython.core.display.HTML object>"
      ]
     },
     "metadata": {},
     "output_type": "display_data"
    },
    {
     "name": "stdout",
     "output_type": "stream",
     "text": [
      "epoch 1 : train loss = 2.416641087323918 valid loss = 0.00019209229082909788\n",
      "epoch 2 : train loss = 2.3037169991848905 valid loss = 0.0001918962169145896\n",
      "epoch 3 : train loss = 2.3029609864217027 valid loss = 0.00019189578190649645\n",
      "epoch 4 : train loss = 2.3029019770600456 valid loss = 0.00019189180283145835\n",
      "epoch 5 : train loss = 2.302852405543129 valid loss = 0.00019188774655078754\n",
      "train accuracy  10.041666666666666\n",
      "valid accuracy  9.833333333333332\n"
     ]
    },
    {
     "data": {
      "text/html": [
       "Waiting for W&B process to finish... <strong style=\"color:green\">(success).</strong>"
      ],
      "text/plain": [
       "<IPython.core.display.HTML object>"
      ]
     },
     "metadata": {},
     "output_type": "display_data"
    },
    {
     "data": {
      "application/vnd.jupyter.widget-view+json": {
       "model_id": "f04775f556be42b985637037b359c6d8",
       "version_major": 2,
       "version_minor": 0
      },
      "text/plain": [
       "VBox(children=(Label(value='0.001 MB of 0.001 MB uploaded (0.000 MB deduped)\\r'), FloatProgress(value=1.0, max…"
      ]
     },
     "metadata": {},
     "output_type": "display_data"
    },
    {
     "data": {
      "text/html": [
       "<style>\n",
       "    table.wandb td:nth-child(1) { padding: 0 10px; text-align: left ; width: auto;} td:nth-child(2) {text-align: left ; width: 100%}\n",
       "    .wandb-row { display: flex; flex-direction: row; flex-wrap: wrap; justify-content: flex-start; width: 100% }\n",
       "    .wandb-col { display: flex; flex-direction: column; flex-basis: 100%; flex: 1; padding: 10px; }\n",
       "    </style>\n",
       "<div class=\"wandb-row\"><div class=\"wandb-col\"><h3>Run history:</h3><br/><table class=\"wandb\"><tr><td>accuracy</td><td>▁</td></tr><tr><td>val_accuracy</td><td>▁</td></tr></table><br/></div><div class=\"wandb-col\"><h3>Run summary:</h3><br/><table class=\"wandb\"><tr><td>accuracy</td><td>10.04167</td></tr><tr><td>val_accuracy</td><td>9.83333</td></tr></table><br/></div></div>"
      ],
      "text/plain": [
       "<IPython.core.display.HTML object>"
      ]
     },
     "metadata": {},
     "output_type": "display_data"
    },
    {
     "data": {
      "text/html": [
       " View run <strong style=\"color:#cdcd00\">whole-sweep-37</strong> at: <a href='https://wandb.ai/gsathish333/main_sweeps_V3/runs/b0u59kuh' target=\"_blank\">https://wandb.ai/gsathish333/main_sweeps_V3/runs/b0u59kuh</a><br/>Synced 6 W&B file(s), 0 media file(s), 0 artifact file(s) and 0 other file(s)"
      ],
      "text/plain": [
       "<IPython.core.display.HTML object>"
      ]
     },
     "metadata": {},
     "output_type": "display_data"
    },
    {
     "data": {
      "text/html": [
       "Find logs at: <code>./wandb/run-20230306_034756-b0u59kuh/logs</code>"
      ],
      "text/plain": [
       "<IPython.core.display.HTML object>"
      ]
     },
     "metadata": {},
     "output_type": "display_data"
    },
    {
     "name": "stderr",
     "output_type": "stream",
     "text": [
      "\u001b[34m\u001b[1mwandb\u001b[0m: Sweep Agent: Waiting for job.\n",
      "\u001b[34m\u001b[1mwandb\u001b[0m: Job received.\n",
      "\u001b[34m\u001b[1mwandb\u001b[0m: Agent Starting Run: bdqk8j3o with config:\n",
      "\u001b[34m\u001b[1mwandb\u001b[0m: \tL2_lambda: 0\n",
      "\u001b[34m\u001b[1mwandb\u001b[0m: \tactivation: sigmoid\n",
      "\u001b[34m\u001b[1mwandb\u001b[0m: \tbatch_size: 16\n",
      "\u001b[34m\u001b[1mwandb\u001b[0m: \tepochs: 5\n",
      "\u001b[34m\u001b[1mwandb\u001b[0m: \tintialization: normal\n",
      "\u001b[34m\u001b[1mwandb\u001b[0m: \tlayer_size: 32\n",
      "\u001b[34m\u001b[1mwandb\u001b[0m: \tlearning_rate: 0.001\n",
      "\u001b[34m\u001b[1mwandb\u001b[0m: \tnum_layers: 4\n",
      "\u001b[34m\u001b[1mwandb\u001b[0m: \toptimizer: nesterov\n"
     ]
    },
    {
     "data": {
      "text/html": [
       "Tracking run with wandb version 0.13.10"
      ],
      "text/plain": [
       "<IPython.core.display.HTML object>"
      ]
     },
     "metadata": {},
     "output_type": "display_data"
    },
    {
     "data": {
      "text/html": [
       "Run data is saved locally in <code>/Users/sathish/Desktop/DL_temp/DL_Assignment_1/wandb/run-20230306_034834-bdqk8j3o</code>"
      ],
      "text/plain": [
       "<IPython.core.display.HTML object>"
      ]
     },
     "metadata": {},
     "output_type": "display_data"
    },
    {
     "data": {
      "text/html": [
       "Syncing run <strong><a href='https://wandb.ai/gsathish333/main_sweeps_V3/runs/bdqk8j3o' target=\"_blank\">bright-sweep-38</a></strong> to <a href='https://wandb.ai/gsathish333/main_sweeps_V3' target=\"_blank\">Weights & Biases</a> (<a href='https://wandb.me/run' target=\"_blank\">docs</a>)<br/>Sweep page: <a href='https://wandb.ai/gsathish333/main_sweeps_V3/sweeps/pczmd77s' target=\"_blank\">https://wandb.ai/gsathish333/main_sweeps_V3/sweeps/pczmd77s</a>"
      ],
      "text/plain": [
       "<IPython.core.display.HTML object>"
      ]
     },
     "metadata": {},
     "output_type": "display_data"
    },
    {
     "data": {
      "text/html": [
       " View project at <a href='https://wandb.ai/gsathish333/main_sweeps_V3' target=\"_blank\">https://wandb.ai/gsathish333/main_sweeps_V3</a>"
      ],
      "text/plain": [
       "<IPython.core.display.HTML object>"
      ]
     },
     "metadata": {},
     "output_type": "display_data"
    },
    {
     "data": {
      "text/html": [
       " View sweep at <a href='https://wandb.ai/gsathish333/main_sweeps_V3/sweeps/pczmd77s' target=\"_blank\">https://wandb.ai/gsathish333/main_sweeps_V3/sweeps/pczmd77s</a>"
      ],
      "text/plain": [
       "<IPython.core.display.HTML object>"
      ]
     },
     "metadata": {},
     "output_type": "display_data"
    },
    {
     "data": {
      "text/html": [
       " View run at <a href='https://wandb.ai/gsathish333/main_sweeps_V3/runs/bdqk8j3o' target=\"_blank\">https://wandb.ai/gsathish333/main_sweeps_V3/runs/bdqk8j3o</a>"
      ],
      "text/plain": [
       "<IPython.core.display.HTML object>"
      ]
     },
     "metadata": {},
     "output_type": "display_data"
    },
    {
     "name": "stdout",
     "output_type": "stream",
     "text": [
      "epoch 1 : train loss = 2.430555494004866 valid loss = 0.00019224322017969756\n",
      "epoch 2 : train loss = 2.3582615386174877 valid loss = 0.00019186430516990804\n",
      "epoch 3 : train loss = 2.3391679871419706 valid loss = 0.00019180101622253342\n",
      "epoch 4 : train loss = 2.3304798036100083 valid loss = 0.0001917064869977108\n",
      "epoch 5 : train loss = 2.3245371985304453 valid loss = 0.00019153263597973275\n",
      "train accuracy  17.52916666666667\n",
      "valid accuracy  17.325\n"
     ]
    },
    {
     "data": {
      "text/html": [
       "Waiting for W&B process to finish... <strong style=\"color:green\">(success).</strong>"
      ],
      "text/plain": [
       "<IPython.core.display.HTML object>"
      ]
     },
     "metadata": {},
     "output_type": "display_data"
    },
    {
     "data": {
      "application/vnd.jupyter.widget-view+json": {
       "model_id": "ac6fa0244bf84b129baa1761b851e6e7",
       "version_major": 2,
       "version_minor": 0
      },
      "text/plain": [
       "VBox(children=(Label(value='0.001 MB of 0.001 MB uploaded (0.000 MB deduped)\\r'), FloatProgress(value=1.0, max…"
      ]
     },
     "metadata": {},
     "output_type": "display_data"
    },
    {
     "data": {
      "text/html": [
       "<style>\n",
       "    table.wandb td:nth-child(1) { padding: 0 10px; text-align: left ; width: auto;} td:nth-child(2) {text-align: left ; width: 100%}\n",
       "    .wandb-row { display: flex; flex-direction: row; flex-wrap: wrap; justify-content: flex-start; width: 100% }\n",
       "    .wandb-col { display: flex; flex-direction: column; flex-basis: 100%; flex: 1; padding: 10px; }\n",
       "    </style>\n",
       "<div class=\"wandb-row\"><div class=\"wandb-col\"><h3>Run history:</h3><br/><table class=\"wandb\"><tr><td>accuracy</td><td>▁</td></tr><tr><td>val_accuracy</td><td>▁</td></tr></table><br/></div><div class=\"wandb-col\"><h3>Run summary:</h3><br/><table class=\"wandb\"><tr><td>accuracy</td><td>17.52917</td></tr><tr><td>val_accuracy</td><td>17.325</td></tr></table><br/></div></div>"
      ],
      "text/plain": [
       "<IPython.core.display.HTML object>"
      ]
     },
     "metadata": {},
     "output_type": "display_data"
    },
    {
     "data": {
      "text/html": [
       " View run <strong style=\"color:#cdcd00\">bright-sweep-38</strong> at: <a href='https://wandb.ai/gsathish333/main_sweeps_V3/runs/bdqk8j3o' target=\"_blank\">https://wandb.ai/gsathish333/main_sweeps_V3/runs/bdqk8j3o</a><br/>Synced 6 W&B file(s), 0 media file(s), 0 artifact file(s) and 0 other file(s)"
      ],
      "text/plain": [
       "<IPython.core.display.HTML object>"
      ]
     },
     "metadata": {},
     "output_type": "display_data"
    },
    {
     "data": {
      "text/html": [
       "Find logs at: <code>./wandb/run-20230306_034834-bdqk8j3o/logs</code>"
      ],
      "text/plain": [
       "<IPython.core.display.HTML object>"
      ]
     },
     "metadata": {},
     "output_type": "display_data"
    },
    {
     "name": "stderr",
     "output_type": "stream",
     "text": [
      "\u001b[34m\u001b[1mwandb\u001b[0m: Agent Starting Run: b18vwndm with config:\n",
      "\u001b[34m\u001b[1mwandb\u001b[0m: \tL2_lambda: 0\n",
      "\u001b[34m\u001b[1mwandb\u001b[0m: \tactivation: sigmoid\n",
      "\u001b[34m\u001b[1mwandb\u001b[0m: \tbatch_size: 16\n",
      "\u001b[34m\u001b[1mwandb\u001b[0m: \tepochs: 5\n",
      "\u001b[34m\u001b[1mwandb\u001b[0m: \tintialization: normal\n",
      "\u001b[34m\u001b[1mwandb\u001b[0m: \tlayer_size: 32\n",
      "\u001b[34m\u001b[1mwandb\u001b[0m: \tlearning_rate: 0.001\n",
      "\u001b[34m\u001b[1mwandb\u001b[0m: \tnum_layers: 4\n",
      "\u001b[34m\u001b[1mwandb\u001b[0m: \toptimizer: rmsprop\n"
     ]
    },
    {
     "data": {
      "text/html": [
       "Tracking run with wandb version 0.13.10"
      ],
      "text/plain": [
       "<IPython.core.display.HTML object>"
      ]
     },
     "metadata": {},
     "output_type": "display_data"
    },
    {
     "data": {
      "text/html": [
       "Run data is saved locally in <code>/Users/sathish/Desktop/DL_temp/DL_Assignment_1/wandb/run-20230306_034907-b18vwndm</code>"
      ],
      "text/plain": [
       "<IPython.core.display.HTML object>"
      ]
     },
     "metadata": {},
     "output_type": "display_data"
    },
    {
     "data": {
      "text/html": [
       "Syncing run <strong><a href='https://wandb.ai/gsathish333/main_sweeps_V3/runs/b18vwndm' target=\"_blank\">clear-sweep-39</a></strong> to <a href='https://wandb.ai/gsathish333/main_sweeps_V3' target=\"_blank\">Weights & Biases</a> (<a href='https://wandb.me/run' target=\"_blank\">docs</a>)<br/>Sweep page: <a href='https://wandb.ai/gsathish333/main_sweeps_V3/sweeps/pczmd77s' target=\"_blank\">https://wandb.ai/gsathish333/main_sweeps_V3/sweeps/pczmd77s</a>"
      ],
      "text/plain": [
       "<IPython.core.display.HTML object>"
      ]
     },
     "metadata": {},
     "output_type": "display_data"
    },
    {
     "data": {
      "text/html": [
       " View project at <a href='https://wandb.ai/gsathish333/main_sweeps_V3' target=\"_blank\">https://wandb.ai/gsathish333/main_sweeps_V3</a>"
      ],
      "text/plain": [
       "<IPython.core.display.HTML object>"
      ]
     },
     "metadata": {},
     "output_type": "display_data"
    },
    {
     "data": {
      "text/html": [
       " View sweep at <a href='https://wandb.ai/gsathish333/main_sweeps_V3/sweeps/pczmd77s' target=\"_blank\">https://wandb.ai/gsathish333/main_sweeps_V3/sweeps/pczmd77s</a>"
      ],
      "text/plain": [
       "<IPython.core.display.HTML object>"
      ]
     },
     "metadata": {},
     "output_type": "display_data"
    },
    {
     "data": {
      "text/html": [
       " View run at <a href='https://wandb.ai/gsathish333/main_sweeps_V3/runs/b18vwndm' target=\"_blank\">https://wandb.ai/gsathish333/main_sweeps_V3/runs/b18vwndm</a>"
      ],
      "text/plain": [
       "<IPython.core.display.HTML object>"
      ]
     },
     "metadata": {},
     "output_type": "display_data"
    },
    {
     "name": "stdout",
     "output_type": "stream",
     "text": [
      "epoch 1 : train loss = 1.216620482540351 valid loss = 6.500329050351063e-05\n",
      "epoch 2 : train loss = 0.6859572391054972 valid loss = 5.0123003425701604e-05\n",
      "epoch 3 : train loss = 0.5655767603565158 valid loss = 4.409219369132129e-05\n",
      "epoch 4 : train loss = 0.511494067163294 valid loss = 4.224316349553837e-05\n",
      "epoch 5 : train loss = 0.4838995576997106 valid loss = 4.082011579556443e-05\n",
      "train accuracy  83.7375\n",
      "valid accuracy  83.075\n"
     ]
    },
    {
     "data": {
      "text/html": [
       "Waiting for W&B process to finish... <strong style=\"color:green\">(success).</strong>"
      ],
      "text/plain": [
       "<IPython.core.display.HTML object>"
      ]
     },
     "metadata": {},
     "output_type": "display_data"
    },
    {
     "data": {
      "application/vnd.jupyter.widget-view+json": {
       "model_id": "0c64a18531524c3b844c663174e59011",
       "version_major": 2,
       "version_minor": 0
      },
      "text/plain": [
       "VBox(children=(Label(value='0.001 MB of 0.001 MB uploaded (0.000 MB deduped)\\r'), FloatProgress(value=1.0, max…"
      ]
     },
     "metadata": {},
     "output_type": "display_data"
    },
    {
     "data": {
      "text/html": [
       "<style>\n",
       "    table.wandb td:nth-child(1) { padding: 0 10px; text-align: left ; width: auto;} td:nth-child(2) {text-align: left ; width: 100%}\n",
       "    .wandb-row { display: flex; flex-direction: row; flex-wrap: wrap; justify-content: flex-start; width: 100% }\n",
       "    .wandb-col { display: flex; flex-direction: column; flex-basis: 100%; flex: 1; padding: 10px; }\n",
       "    </style>\n",
       "<div class=\"wandb-row\"><div class=\"wandb-col\"><h3>Run history:</h3><br/><table class=\"wandb\"><tr><td>accuracy</td><td>▁</td></tr><tr><td>val_accuracy</td><td>▁</td></tr></table><br/></div><div class=\"wandb-col\"><h3>Run summary:</h3><br/><table class=\"wandb\"><tr><td>accuracy</td><td>83.7375</td></tr><tr><td>val_accuracy</td><td>83.075</td></tr></table><br/></div></div>"
      ],
      "text/plain": [
       "<IPython.core.display.HTML object>"
      ]
     },
     "metadata": {},
     "output_type": "display_data"
    },
    {
     "data": {
      "text/html": [
       " View run <strong style=\"color:#cdcd00\">clear-sweep-39</strong> at: <a href='https://wandb.ai/gsathish333/main_sweeps_V3/runs/b18vwndm' target=\"_blank\">https://wandb.ai/gsathish333/main_sweeps_V3/runs/b18vwndm</a><br/>Synced 6 W&B file(s), 0 media file(s), 0 artifact file(s) and 0 other file(s)"
      ],
      "text/plain": [
       "<IPython.core.display.HTML object>"
      ]
     },
     "metadata": {},
     "output_type": "display_data"
    },
    {
     "data": {
      "text/html": [
       "Find logs at: <code>./wandb/run-20230306_034907-b18vwndm/logs</code>"
      ],
      "text/plain": [
       "<IPython.core.display.HTML object>"
      ]
     },
     "metadata": {},
     "output_type": "display_data"
    },
    {
     "name": "stderr",
     "output_type": "stream",
     "text": [
      "\u001b[34m\u001b[1mwandb\u001b[0m: Agent Starting Run: fhg46abr with config:\n",
      "\u001b[34m\u001b[1mwandb\u001b[0m: \tL2_lambda: 0\n",
      "\u001b[34m\u001b[1mwandb\u001b[0m: \tactivation: sigmoid\n",
      "\u001b[34m\u001b[1mwandb\u001b[0m: \tbatch_size: 16\n",
      "\u001b[34m\u001b[1mwandb\u001b[0m: \tepochs: 5\n",
      "\u001b[34m\u001b[1mwandb\u001b[0m: \tintialization: normal\n",
      "\u001b[34m\u001b[1mwandb\u001b[0m: \tlayer_size: 32\n",
      "\u001b[34m\u001b[1mwandb\u001b[0m: \tlearning_rate: 0.001\n",
      "\u001b[34m\u001b[1mwandb\u001b[0m: \tnum_layers: 4\n",
      "\u001b[34m\u001b[1mwandb\u001b[0m: \toptimizer: adam\n"
     ]
    },
    {
     "data": {
      "text/html": [
       "Tracking run with wandb version 0.13.10"
      ],
      "text/plain": [
       "<IPython.core.display.HTML object>"
      ]
     },
     "metadata": {},
     "output_type": "display_data"
    },
    {
     "data": {
      "text/html": [
       "Run data is saved locally in <code>/Users/sathish/Desktop/DL_temp/DL_Assignment_1/wandb/run-20230306_034939-fhg46abr</code>"
      ],
      "text/plain": [
       "<IPython.core.display.HTML object>"
      ]
     },
     "metadata": {},
     "output_type": "display_data"
    },
    {
     "data": {
      "text/html": [
       "Syncing run <strong><a href='https://wandb.ai/gsathish333/main_sweeps_V3/runs/fhg46abr' target=\"_blank\">major-sweep-40</a></strong> to <a href='https://wandb.ai/gsathish333/main_sweeps_V3' target=\"_blank\">Weights & Biases</a> (<a href='https://wandb.me/run' target=\"_blank\">docs</a>)<br/>Sweep page: <a href='https://wandb.ai/gsathish333/main_sweeps_V3/sweeps/pczmd77s' target=\"_blank\">https://wandb.ai/gsathish333/main_sweeps_V3/sweeps/pczmd77s</a>"
      ],
      "text/plain": [
       "<IPython.core.display.HTML object>"
      ]
     },
     "metadata": {},
     "output_type": "display_data"
    },
    {
     "data": {
      "text/html": [
       " View project at <a href='https://wandb.ai/gsathish333/main_sweeps_V3' target=\"_blank\">https://wandb.ai/gsathish333/main_sweeps_V3</a>"
      ],
      "text/plain": [
       "<IPython.core.display.HTML object>"
      ]
     },
     "metadata": {},
     "output_type": "display_data"
    },
    {
     "data": {
      "text/html": [
       " View sweep at <a href='https://wandb.ai/gsathish333/main_sweeps_V3/sweeps/pczmd77s' target=\"_blank\">https://wandb.ai/gsathish333/main_sweeps_V3/sweeps/pczmd77s</a>"
      ],
      "text/plain": [
       "<IPython.core.display.HTML object>"
      ]
     },
     "metadata": {},
     "output_type": "display_data"
    },
    {
     "data": {
      "text/html": [
       " View run at <a href='https://wandb.ai/gsathish333/main_sweeps_V3/runs/fhg46abr' target=\"_blank\">https://wandb.ai/gsathish333/main_sweeps_V3/runs/fhg46abr</a>"
      ],
      "text/plain": [
       "<IPython.core.display.HTML object>"
      ]
     },
     "metadata": {},
     "output_type": "display_data"
    },
    {
     "name": "stdout",
     "output_type": "stream",
     "text": [
      "epoch 1 : train loss = 1.2087940543596565 valid loss = 5.975359533845874e-05\n",
      "epoch 2 : train loss = 0.6107542055489406 valid loss = 4.500518756304813e-05\n",
      "epoch 3 : train loss = 0.4876727006228425 valid loss = 3.908441059151807e-05\n",
      "epoch 4 : train loss = 0.4304126775250114 valid loss = 3.646747837075462e-05\n",
      "epoch 5 : train loss = 0.3969454366571181 valid loss = 3.493080880327145e-05\n",
      "train accuracy  87.075\n",
      "valid accuracy  85.28333333333333\n"
     ]
    },
    {
     "data": {
      "text/html": [
       "Waiting for W&B process to finish... <strong style=\"color:green\">(success).</strong>"
      ],
      "text/plain": [
       "<IPython.core.display.HTML object>"
      ]
     },
     "metadata": {},
     "output_type": "display_data"
    },
    {
     "data": {
      "application/vnd.jupyter.widget-view+json": {
       "model_id": "c64fa00afd2e402b8c454e4665c7be74",
       "version_major": 2,
       "version_minor": 0
      },
      "text/plain": [
       "VBox(children=(Label(value='0.001 MB of 0.009 MB uploaded (0.000 MB deduped)\\r'), FloatProgress(value=0.119245…"
      ]
     },
     "metadata": {},
     "output_type": "display_data"
    },
    {
     "data": {
      "text/html": [
       "<style>\n",
       "    table.wandb td:nth-child(1) { padding: 0 10px; text-align: left ; width: auto;} td:nth-child(2) {text-align: left ; width: 100%}\n",
       "    .wandb-row { display: flex; flex-direction: row; flex-wrap: wrap; justify-content: flex-start; width: 100% }\n",
       "    .wandb-col { display: flex; flex-direction: column; flex-basis: 100%; flex: 1; padding: 10px; }\n",
       "    </style>\n",
       "<div class=\"wandb-row\"><div class=\"wandb-col\"><h3>Run history:</h3><br/><table class=\"wandb\"><tr><td>accuracy</td><td>▁</td></tr><tr><td>val_accuracy</td><td>▁</td></tr></table><br/></div><div class=\"wandb-col\"><h3>Run summary:</h3><br/><table class=\"wandb\"><tr><td>accuracy</td><td>87.075</td></tr><tr><td>val_accuracy</td><td>85.28333</td></tr></table><br/></div></div>"
      ],
      "text/plain": [
       "<IPython.core.display.HTML object>"
      ]
     },
     "metadata": {},
     "output_type": "display_data"
    },
    {
     "data": {
      "text/html": [
       " View run <strong style=\"color:#cdcd00\">major-sweep-40</strong> at: <a href='https://wandb.ai/gsathish333/main_sweeps_V3/runs/fhg46abr' target=\"_blank\">https://wandb.ai/gsathish333/main_sweeps_V3/runs/fhg46abr</a><br/>Synced 6 W&B file(s), 0 media file(s), 0 artifact file(s) and 0 other file(s)"
      ],
      "text/plain": [
       "<IPython.core.display.HTML object>"
      ]
     },
     "metadata": {},
     "output_type": "display_data"
    },
    {
     "data": {
      "text/html": [
       "Find logs at: <code>./wandb/run-20230306_034939-fhg46abr/logs</code>"
      ],
      "text/plain": [
       "<IPython.core.display.HTML object>"
      ]
     },
     "metadata": {},
     "output_type": "display_data"
    },
    {
     "name": "stderr",
     "output_type": "stream",
     "text": [
      "\u001b[34m\u001b[1mwandb\u001b[0m: Agent Starting Run: a93za4sd with config:\n",
      "\u001b[34m\u001b[1mwandb\u001b[0m: \tL2_lambda: 0\n",
      "\u001b[34m\u001b[1mwandb\u001b[0m: \tactivation: sigmoid\n",
      "\u001b[34m\u001b[1mwandb\u001b[0m: \tbatch_size: 16\n",
      "\u001b[34m\u001b[1mwandb\u001b[0m: \tepochs: 5\n",
      "\u001b[34m\u001b[1mwandb\u001b[0m: \tintialization: normal\n",
      "\u001b[34m\u001b[1mwandb\u001b[0m: \tlayer_size: 32\n",
      "\u001b[34m\u001b[1mwandb\u001b[0m: \tlearning_rate: 0.001\n",
      "\u001b[34m\u001b[1mwandb\u001b[0m: \tnum_layers: 5\n",
      "\u001b[34m\u001b[1mwandb\u001b[0m: \toptimizer: sgd\n"
     ]
    },
    {
     "data": {
      "text/html": [
       "Tracking run with wandb version 0.13.10"
      ],
      "text/plain": [
       "<IPython.core.display.HTML object>"
      ]
     },
     "metadata": {},
     "output_type": "display_data"
    },
    {
     "data": {
      "text/html": [
       "Run data is saved locally in <code>/Users/sathish/Desktop/DL_temp/DL_Assignment_1/wandb/run-20230306_035012-a93za4sd</code>"
      ],
      "text/plain": [
       "<IPython.core.display.HTML object>"
      ]
     },
     "metadata": {},
     "output_type": "display_data"
    },
    {
     "data": {
      "text/html": [
       "Syncing run <strong><a href='https://wandb.ai/gsathish333/main_sweeps_V3/runs/a93za4sd' target=\"_blank\">zesty-sweep-41</a></strong> to <a href='https://wandb.ai/gsathish333/main_sweeps_V3' target=\"_blank\">Weights & Biases</a> (<a href='https://wandb.me/run' target=\"_blank\">docs</a>)<br/>Sweep page: <a href='https://wandb.ai/gsathish333/main_sweeps_V3/sweeps/pczmd77s' target=\"_blank\">https://wandb.ai/gsathish333/main_sweeps_V3/sweeps/pczmd77s</a>"
      ],
      "text/plain": [
       "<IPython.core.display.HTML object>"
      ]
     },
     "metadata": {},
     "output_type": "display_data"
    },
    {
     "data": {
      "text/html": [
       " View project at <a href='https://wandb.ai/gsathish333/main_sweeps_V3' target=\"_blank\">https://wandb.ai/gsathish333/main_sweeps_V3</a>"
      ],
      "text/plain": [
       "<IPython.core.display.HTML object>"
      ]
     },
     "metadata": {},
     "output_type": "display_data"
    },
    {
     "data": {
      "text/html": [
       " View sweep at <a href='https://wandb.ai/gsathish333/main_sweeps_V3/sweeps/pczmd77s' target=\"_blank\">https://wandb.ai/gsathish333/main_sweeps_V3/sweeps/pczmd77s</a>"
      ],
      "text/plain": [
       "<IPython.core.display.HTML object>"
      ]
     },
     "metadata": {},
     "output_type": "display_data"
    },
    {
     "data": {
      "text/html": [
       " View run at <a href='https://wandb.ai/gsathish333/main_sweeps_V3/runs/a93za4sd' target=\"_blank\">https://wandb.ai/gsathish333/main_sweeps_V3/runs/a93za4sd</a>"
      ],
      "text/plain": [
       "<IPython.core.display.HTML object>"
      ]
     },
     "metadata": {},
     "output_type": "display_data"
    },
    {
     "name": "stdout",
     "output_type": "stream",
     "text": [
      "epoch 1 : train loss = 2.4159217980427914 valid loss = 0.0001919970683875484\n",
      "epoch 2 : train loss = 2.303030507914204 valid loss = 0.00019188731853562148\n",
      "epoch 3 : train loss = 2.3028782099722 valid loss = 0.00019188684474307375\n",
      "epoch 4 : train loss = 2.302875917750562 valid loss = 0.00019188665731857338\n",
      "epoch 5 : train loss = 2.302873677903262 valid loss = 0.00019188648139378155\n",
      "train accuracy  10.041666666666666\n",
      "valid accuracy  9.833333333333332\n"
     ]
    },
    {
     "data": {
      "text/html": [
       "Waiting for W&B process to finish... <strong style=\"color:green\">(success).</strong>"
      ],
      "text/plain": [
       "<IPython.core.display.HTML object>"
      ]
     },
     "metadata": {},
     "output_type": "display_data"
    },
    {
     "data": {
      "application/vnd.jupyter.widget-view+json": {
       "model_id": "2167fe11302a444c813bc3353fbd959b",
       "version_major": 2,
       "version_minor": 0
      },
      "text/plain": [
       "VBox(children=(Label(value='0.001 MB of 0.001 MB uploaded (0.000 MB deduped)\\r'), FloatProgress(value=1.0, max…"
      ]
     },
     "metadata": {},
     "output_type": "display_data"
    },
    {
     "data": {
      "text/html": [
       "<style>\n",
       "    table.wandb td:nth-child(1) { padding: 0 10px; text-align: left ; width: auto;} td:nth-child(2) {text-align: left ; width: 100%}\n",
       "    .wandb-row { display: flex; flex-direction: row; flex-wrap: wrap; justify-content: flex-start; width: 100% }\n",
       "    .wandb-col { display: flex; flex-direction: column; flex-basis: 100%; flex: 1; padding: 10px; }\n",
       "    </style>\n",
       "<div class=\"wandb-row\"><div class=\"wandb-col\"><h3>Run history:</h3><br/><table class=\"wandb\"><tr><td>accuracy</td><td>▁</td></tr><tr><td>val_accuracy</td><td>▁</td></tr></table><br/></div><div class=\"wandb-col\"><h3>Run summary:</h3><br/><table class=\"wandb\"><tr><td>accuracy</td><td>10.04167</td></tr><tr><td>val_accuracy</td><td>9.83333</td></tr></table><br/></div></div>"
      ],
      "text/plain": [
       "<IPython.core.display.HTML object>"
      ]
     },
     "metadata": {},
     "output_type": "display_data"
    },
    {
     "data": {
      "text/html": [
       " View run <strong style=\"color:#cdcd00\">zesty-sweep-41</strong> at: <a href='https://wandb.ai/gsathish333/main_sweeps_V3/runs/a93za4sd' target=\"_blank\">https://wandb.ai/gsathish333/main_sweeps_V3/runs/a93za4sd</a><br/>Synced 6 W&B file(s), 0 media file(s), 0 artifact file(s) and 0 other file(s)"
      ],
      "text/plain": [
       "<IPython.core.display.HTML object>"
      ]
     },
     "metadata": {},
     "output_type": "display_data"
    },
    {
     "data": {
      "text/html": [
       "Find logs at: <code>./wandb/run-20230306_035012-a93za4sd/logs</code>"
      ],
      "text/plain": [
       "<IPython.core.display.HTML object>"
      ]
     },
     "metadata": {},
     "output_type": "display_data"
    },
    {
     "name": "stderr",
     "output_type": "stream",
     "text": [
      "\u001b[34m\u001b[1mwandb\u001b[0m: Agent Starting Run: qj68gj26 with config:\n",
      "\u001b[34m\u001b[1mwandb\u001b[0m: \tL2_lambda: 0\n",
      "\u001b[34m\u001b[1mwandb\u001b[0m: \tactivation: sigmoid\n",
      "\u001b[34m\u001b[1mwandb\u001b[0m: \tbatch_size: 16\n",
      "\u001b[34m\u001b[1mwandb\u001b[0m: \tepochs: 5\n",
      "\u001b[34m\u001b[1mwandb\u001b[0m: \tintialization: normal\n",
      "\u001b[34m\u001b[1mwandb\u001b[0m: \tlayer_size: 32\n",
      "\u001b[34m\u001b[1mwandb\u001b[0m: \tlearning_rate: 0.001\n",
      "\u001b[34m\u001b[1mwandb\u001b[0m: \tnum_layers: 5\n",
      "\u001b[34m\u001b[1mwandb\u001b[0m: \toptimizer: momentum\n"
     ]
    },
    {
     "data": {
      "text/html": [
       "Tracking run with wandb version 0.13.10"
      ],
      "text/plain": [
       "<IPython.core.display.HTML object>"
      ]
     },
     "metadata": {},
     "output_type": "display_data"
    },
    {
     "data": {
      "text/html": [
       "Run data is saved locally in <code>/Users/sathish/Desktop/DL_temp/DL_Assignment_1/wandb/run-20230306_035044-qj68gj26</code>"
      ],
      "text/plain": [
       "<IPython.core.display.HTML object>"
      ]
     },
     "metadata": {},
     "output_type": "display_data"
    },
    {
     "data": {
      "text/html": [
       "Syncing run <strong><a href='https://wandb.ai/gsathish333/main_sweeps_V3/runs/qj68gj26' target=\"_blank\">skilled-sweep-42</a></strong> to <a href='https://wandb.ai/gsathish333/main_sweeps_V3' target=\"_blank\">Weights & Biases</a> (<a href='https://wandb.me/run' target=\"_blank\">docs</a>)<br/>Sweep page: <a href='https://wandb.ai/gsathish333/main_sweeps_V3/sweeps/pczmd77s' target=\"_blank\">https://wandb.ai/gsathish333/main_sweeps_V3/sweeps/pczmd77s</a>"
      ],
      "text/plain": [
       "<IPython.core.display.HTML object>"
      ]
     },
     "metadata": {},
     "output_type": "display_data"
    },
    {
     "data": {
      "text/html": [
       " View project at <a href='https://wandb.ai/gsathish333/main_sweeps_V3' target=\"_blank\">https://wandb.ai/gsathish333/main_sweeps_V3</a>"
      ],
      "text/plain": [
       "<IPython.core.display.HTML object>"
      ]
     },
     "metadata": {},
     "output_type": "display_data"
    },
    {
     "data": {
      "text/html": [
       " View sweep at <a href='https://wandb.ai/gsathish333/main_sweeps_V3/sweeps/pczmd77s' target=\"_blank\">https://wandb.ai/gsathish333/main_sweeps_V3/sweeps/pczmd77s</a>"
      ],
      "text/plain": [
       "<IPython.core.display.HTML object>"
      ]
     },
     "metadata": {},
     "output_type": "display_data"
    },
    {
     "data": {
      "text/html": [
       " View run at <a href='https://wandb.ai/gsathish333/main_sweeps_V3/runs/qj68gj26' target=\"_blank\">https://wandb.ai/gsathish333/main_sweeps_V3/runs/qj68gj26</a>"
      ],
      "text/plain": [
       "<IPython.core.display.HTML object>"
      ]
     },
     "metadata": {},
     "output_type": "display_data"
    },
    {
     "name": "stdout",
     "output_type": "stream",
     "text": [
      "epoch 1 : train loss = 2.4371887698966743 valid loss = 0.0001929431125017748\n",
      "epoch 2 : train loss = 2.3056543413563686 valid loss = 0.00019191103765611674\n",
      "epoch 3 : train loss = 2.302776682065595 valid loss = 0.00019188631166824007\n",
      "epoch 4 : train loss = 2.3027192190780674 valid loss = 0.00019188477087261235\n",
      "epoch 5 : train loss = 2.3027148057205484 valid loss = 0.00019188445733771083\n",
      "train accuracy  10.041666666666666\n",
      "valid accuracy  9.833333333333332\n"
     ]
    },
    {
     "data": {
      "text/html": [
       "Waiting for W&B process to finish... <strong style=\"color:green\">(success).</strong>"
      ],
      "text/plain": [
       "<IPython.core.display.HTML object>"
      ]
     },
     "metadata": {},
     "output_type": "display_data"
    },
    {
     "data": {
      "application/vnd.jupyter.widget-view+json": {
       "model_id": "a4b13d958b5d455a96f37d50cb8cf559",
       "version_major": 2,
       "version_minor": 0
      },
      "text/plain": [
       "VBox(children=(Label(value='0.001 MB of 0.001 MB uploaded (0.000 MB deduped)\\r'), FloatProgress(value=1.0, max…"
      ]
     },
     "metadata": {},
     "output_type": "display_data"
    },
    {
     "data": {
      "text/html": [
       "<style>\n",
       "    table.wandb td:nth-child(1) { padding: 0 10px; text-align: left ; width: auto;} td:nth-child(2) {text-align: left ; width: 100%}\n",
       "    .wandb-row { display: flex; flex-direction: row; flex-wrap: wrap; justify-content: flex-start; width: 100% }\n",
       "    .wandb-col { display: flex; flex-direction: column; flex-basis: 100%; flex: 1; padding: 10px; }\n",
       "    </style>\n",
       "<div class=\"wandb-row\"><div class=\"wandb-col\"><h3>Run history:</h3><br/><table class=\"wandb\"><tr><td>accuracy</td><td>▁</td></tr><tr><td>val_accuracy</td><td>▁</td></tr></table><br/></div><div class=\"wandb-col\"><h3>Run summary:</h3><br/><table class=\"wandb\"><tr><td>accuracy</td><td>10.04167</td></tr><tr><td>val_accuracy</td><td>9.83333</td></tr></table><br/></div></div>"
      ],
      "text/plain": [
       "<IPython.core.display.HTML object>"
      ]
     },
     "metadata": {},
     "output_type": "display_data"
    },
    {
     "data": {
      "text/html": [
       " View run <strong style=\"color:#cdcd00\">skilled-sweep-42</strong> at: <a href='https://wandb.ai/gsathish333/main_sweeps_V3/runs/qj68gj26' target=\"_blank\">https://wandb.ai/gsathish333/main_sweeps_V3/runs/qj68gj26</a><br/>Synced 6 W&B file(s), 0 media file(s), 0 artifact file(s) and 0 other file(s)"
      ],
      "text/plain": [
       "<IPython.core.display.HTML object>"
      ]
     },
     "metadata": {},
     "output_type": "display_data"
    },
    {
     "data": {
      "text/html": [
       "Find logs at: <code>./wandb/run-20230306_035044-qj68gj26/logs</code>"
      ],
      "text/plain": [
       "<IPython.core.display.HTML object>"
      ]
     },
     "metadata": {},
     "output_type": "display_data"
    },
    {
     "name": "stderr",
     "output_type": "stream",
     "text": [
      "\u001b[34m\u001b[1mwandb\u001b[0m: Agent Starting Run: 6bswou4j with config:\n",
      "\u001b[34m\u001b[1mwandb\u001b[0m: \tL2_lambda: 0\n",
      "\u001b[34m\u001b[1mwandb\u001b[0m: \tactivation: sigmoid\n",
      "\u001b[34m\u001b[1mwandb\u001b[0m: \tbatch_size: 16\n",
      "\u001b[34m\u001b[1mwandb\u001b[0m: \tepochs: 5\n",
      "\u001b[34m\u001b[1mwandb\u001b[0m: \tintialization: normal\n",
      "\u001b[34m\u001b[1mwandb\u001b[0m: \tlayer_size: 32\n",
      "\u001b[34m\u001b[1mwandb\u001b[0m: \tlearning_rate: 0.001\n",
      "\u001b[34m\u001b[1mwandb\u001b[0m: \tnum_layers: 5\n",
      "\u001b[34m\u001b[1mwandb\u001b[0m: \toptimizer: nesterov\n"
     ]
    },
    {
     "data": {
      "text/html": [
       "Tracking run with wandb version 0.13.10"
      ],
      "text/plain": [
       "<IPython.core.display.HTML object>"
      ]
     },
     "metadata": {},
     "output_type": "display_data"
    },
    {
     "data": {
      "text/html": [
       "Run data is saved locally in <code>/Users/sathish/Desktop/DL_temp/DL_Assignment_1/wandb/run-20230306_035116-6bswou4j</code>"
      ],
      "text/plain": [
       "<IPython.core.display.HTML object>"
      ]
     },
     "metadata": {},
     "output_type": "display_data"
    },
    {
     "data": {
      "text/html": [
       "Syncing run <strong><a href='https://wandb.ai/gsathish333/main_sweeps_V3/runs/6bswou4j' target=\"_blank\">electric-sweep-43</a></strong> to <a href='https://wandb.ai/gsathish333/main_sweeps_V3' target=\"_blank\">Weights & Biases</a> (<a href='https://wandb.me/run' target=\"_blank\">docs</a>)<br/>Sweep page: <a href='https://wandb.ai/gsathish333/main_sweeps_V3/sweeps/pczmd77s' target=\"_blank\">https://wandb.ai/gsathish333/main_sweeps_V3/sweeps/pczmd77s</a>"
      ],
      "text/plain": [
       "<IPython.core.display.HTML object>"
      ]
     },
     "metadata": {},
     "output_type": "display_data"
    },
    {
     "data": {
      "text/html": [
       " View project at <a href='https://wandb.ai/gsathish333/main_sweeps_V3' target=\"_blank\">https://wandb.ai/gsathish333/main_sweeps_V3</a>"
      ],
      "text/plain": [
       "<IPython.core.display.HTML object>"
      ]
     },
     "metadata": {},
     "output_type": "display_data"
    },
    {
     "data": {
      "text/html": [
       " View sweep at <a href='https://wandb.ai/gsathish333/main_sweeps_V3/sweeps/pczmd77s' target=\"_blank\">https://wandb.ai/gsathish333/main_sweeps_V3/sweeps/pczmd77s</a>"
      ],
      "text/plain": [
       "<IPython.core.display.HTML object>"
      ]
     },
     "metadata": {},
     "output_type": "display_data"
    },
    {
     "data": {
      "text/html": [
       " View run at <a href='https://wandb.ai/gsathish333/main_sweeps_V3/runs/6bswou4j' target=\"_blank\">https://wandb.ai/gsathish333/main_sweeps_V3/runs/6bswou4j</a>"
      ],
      "text/plain": [
       "<IPython.core.display.HTML object>"
      ]
     },
     "metadata": {},
     "output_type": "display_data"
    },
    {
     "name": "stdout",
     "output_type": "stream",
     "text": [
      "epoch 1 : train loss = 2.397656177145225 valid loss = 0.00019197481562892364\n",
      "epoch 2 : train loss = 2.34139853016168 valid loss = 0.00019189434430163792\n",
      "epoch 3 : train loss = 2.326515314655079 valid loss = 0.00019189571013832952\n",
      "epoch 4 : train loss = 2.320331972785117 valid loss = 0.0001918916642090051\n",
      "epoch 5 : train loss = 2.317032598206781 valid loss = 0.00019188574535295873\n",
      "train accuracy  9.9875\n",
      "valid accuracy  10.05\n"
     ]
    },
    {
     "data": {
      "text/html": [
       "Waiting for W&B process to finish... <strong style=\"color:green\">(success).</strong>"
      ],
      "text/plain": [
       "<IPython.core.display.HTML object>"
      ]
     },
     "metadata": {},
     "output_type": "display_data"
    },
    {
     "data": {
      "application/vnd.jupyter.widget-view+json": {
       "model_id": "8562ccf5600842d7a57bd5e6907f948d",
       "version_major": 2,
       "version_minor": 0
      },
      "text/plain": [
       "VBox(children=(Label(value='0.001 MB of 0.001 MB uploaded (0.000 MB deduped)\\r'), FloatProgress(value=1.0, max…"
      ]
     },
     "metadata": {},
     "output_type": "display_data"
    },
    {
     "data": {
      "text/html": [
       "<style>\n",
       "    table.wandb td:nth-child(1) { padding: 0 10px; text-align: left ; width: auto;} td:nth-child(2) {text-align: left ; width: 100%}\n",
       "    .wandb-row { display: flex; flex-direction: row; flex-wrap: wrap; justify-content: flex-start; width: 100% }\n",
       "    .wandb-col { display: flex; flex-direction: column; flex-basis: 100%; flex: 1; padding: 10px; }\n",
       "    </style>\n",
       "<div class=\"wandb-row\"><div class=\"wandb-col\"><h3>Run history:</h3><br/><table class=\"wandb\"><tr><td>accuracy</td><td>▁</td></tr><tr><td>val_accuracy</td><td>▁</td></tr></table><br/></div><div class=\"wandb-col\"><h3>Run summary:</h3><br/><table class=\"wandb\"><tr><td>accuracy</td><td>9.9875</td></tr><tr><td>val_accuracy</td><td>10.05</td></tr></table><br/></div></div>"
      ],
      "text/plain": [
       "<IPython.core.display.HTML object>"
      ]
     },
     "metadata": {},
     "output_type": "display_data"
    },
    {
     "data": {
      "text/html": [
       " View run <strong style=\"color:#cdcd00\">electric-sweep-43</strong> at: <a href='https://wandb.ai/gsathish333/main_sweeps_V3/runs/6bswou4j' target=\"_blank\">https://wandb.ai/gsathish333/main_sweeps_V3/runs/6bswou4j</a><br/>Synced 6 W&B file(s), 0 media file(s), 0 artifact file(s) and 0 other file(s)"
      ],
      "text/plain": [
       "<IPython.core.display.HTML object>"
      ]
     },
     "metadata": {},
     "output_type": "display_data"
    },
    {
     "data": {
      "text/html": [
       "Find logs at: <code>./wandb/run-20230306_035116-6bswou4j/logs</code>"
      ],
      "text/plain": [
       "<IPython.core.display.HTML object>"
      ]
     },
     "metadata": {},
     "output_type": "display_data"
    },
    {
     "name": "stderr",
     "output_type": "stream",
     "text": [
      "\u001b[34m\u001b[1mwandb\u001b[0m: Sweep Agent: Waiting for job.\n",
      "\u001b[34m\u001b[1mwandb\u001b[0m: Job received.\n",
      "\u001b[34m\u001b[1mwandb\u001b[0m: Agent Starting Run: jgi1hopm with config:\n",
      "\u001b[34m\u001b[1mwandb\u001b[0m: \tL2_lambda: 0\n",
      "\u001b[34m\u001b[1mwandb\u001b[0m: \tactivation: sigmoid\n",
      "\u001b[34m\u001b[1mwandb\u001b[0m: \tbatch_size: 16\n",
      "\u001b[34m\u001b[1mwandb\u001b[0m: \tepochs: 5\n",
      "\u001b[34m\u001b[1mwandb\u001b[0m: \tintialization: normal\n",
      "\u001b[34m\u001b[1mwandb\u001b[0m: \tlayer_size: 32\n",
      "\u001b[34m\u001b[1mwandb\u001b[0m: \tlearning_rate: 0.001\n",
      "\u001b[34m\u001b[1mwandb\u001b[0m: \tnum_layers: 5\n",
      "\u001b[34m\u001b[1mwandb\u001b[0m: \toptimizer: rmsprop\n"
     ]
    },
    {
     "data": {
      "text/html": [
       "Tracking run with wandb version 0.13.10"
      ],
      "text/plain": [
       "<IPython.core.display.HTML object>"
      ]
     },
     "metadata": {},
     "output_type": "display_data"
    },
    {
     "data": {
      "text/html": [
       "Run data is saved locally in <code>/Users/sathish/Desktop/DL_temp/DL_Assignment_1/wandb/run-20230306_035154-jgi1hopm</code>"
      ],
      "text/plain": [
       "<IPython.core.display.HTML object>"
      ]
     },
     "metadata": {},
     "output_type": "display_data"
    },
    {
     "data": {
      "text/html": [
       "Syncing run <strong><a href='https://wandb.ai/gsathish333/main_sweeps_V3/runs/jgi1hopm' target=\"_blank\">elated-sweep-44</a></strong> to <a href='https://wandb.ai/gsathish333/main_sweeps_V3' target=\"_blank\">Weights & Biases</a> (<a href='https://wandb.me/run' target=\"_blank\">docs</a>)<br/>Sweep page: <a href='https://wandb.ai/gsathish333/main_sweeps_V3/sweeps/pczmd77s' target=\"_blank\">https://wandb.ai/gsathish333/main_sweeps_V3/sweeps/pczmd77s</a>"
      ],
      "text/plain": [
       "<IPython.core.display.HTML object>"
      ]
     },
     "metadata": {},
     "output_type": "display_data"
    },
    {
     "data": {
      "text/html": [
       " View project at <a href='https://wandb.ai/gsathish333/main_sweeps_V3' target=\"_blank\">https://wandb.ai/gsathish333/main_sweeps_V3</a>"
      ],
      "text/plain": [
       "<IPython.core.display.HTML object>"
      ]
     },
     "metadata": {},
     "output_type": "display_data"
    },
    {
     "data": {
      "text/html": [
       " View sweep at <a href='https://wandb.ai/gsathish333/main_sweeps_V3/sweeps/pczmd77s' target=\"_blank\">https://wandb.ai/gsathish333/main_sweeps_V3/sweeps/pczmd77s</a>"
      ],
      "text/plain": [
       "<IPython.core.display.HTML object>"
      ]
     },
     "metadata": {},
     "output_type": "display_data"
    },
    {
     "data": {
      "text/html": [
       " View run at <a href='https://wandb.ai/gsathish333/main_sweeps_V3/runs/jgi1hopm' target=\"_blank\">https://wandb.ai/gsathish333/main_sweeps_V3/runs/jgi1hopm</a>"
      ],
      "text/plain": [
       "<IPython.core.display.HTML object>"
      ]
     },
     "metadata": {},
     "output_type": "display_data"
    },
    {
     "name": "stdout",
     "output_type": "stream",
     "text": [
      "epoch 1 : train loss = 1.324133602250783 valid loss = 7.22536184272954e-05\n",
      "epoch 2 : train loss = 0.7484819443009594 valid loss = 5.241769272577757e-05\n",
      "epoch 3 : train loss = 0.5716467781830662 valid loss = 4.444963339795575e-05\n",
      "epoch 4 : train loss = 0.5077507352917727 valid loss = 4.098728517358158e-05\n",
      "epoch 5 : train loss = 0.4721503581566172 valid loss = 3.927019660673314e-05\n",
      "train accuracy  85.5625\n",
      "valid accuracy  84.54166666666667\n"
     ]
    },
    {
     "data": {
      "text/html": [
       "Waiting for W&B process to finish... <strong style=\"color:green\">(success).</strong>"
      ],
      "text/plain": [
       "<IPython.core.display.HTML object>"
      ]
     },
     "metadata": {},
     "output_type": "display_data"
    },
    {
     "data": {
      "application/vnd.jupyter.widget-view+json": {
       "model_id": "c693d453948d41729bedd5dbc2987d6b",
       "version_major": 2,
       "version_minor": 0
      },
      "text/plain": [
       "VBox(children=(Label(value='0.001 MB of 0.001 MB uploaded (0.000 MB deduped)\\r'), FloatProgress(value=1.0, max…"
      ]
     },
     "metadata": {},
     "output_type": "display_data"
    },
    {
     "data": {
      "text/html": [
       "<style>\n",
       "    table.wandb td:nth-child(1) { padding: 0 10px; text-align: left ; width: auto;} td:nth-child(2) {text-align: left ; width: 100%}\n",
       "    .wandb-row { display: flex; flex-direction: row; flex-wrap: wrap; justify-content: flex-start; width: 100% }\n",
       "    .wandb-col { display: flex; flex-direction: column; flex-basis: 100%; flex: 1; padding: 10px; }\n",
       "    </style>\n",
       "<div class=\"wandb-row\"><div class=\"wandb-col\"><h3>Run history:</h3><br/><table class=\"wandb\"><tr><td>accuracy</td><td>▁</td></tr><tr><td>val_accuracy</td><td>▁</td></tr></table><br/></div><div class=\"wandb-col\"><h3>Run summary:</h3><br/><table class=\"wandb\"><tr><td>accuracy</td><td>85.5625</td></tr><tr><td>val_accuracy</td><td>84.54167</td></tr></table><br/></div></div>"
      ],
      "text/plain": [
       "<IPython.core.display.HTML object>"
      ]
     },
     "metadata": {},
     "output_type": "display_data"
    },
    {
     "data": {
      "text/html": [
       " View run <strong style=\"color:#cdcd00\">elated-sweep-44</strong> at: <a href='https://wandb.ai/gsathish333/main_sweeps_V3/runs/jgi1hopm' target=\"_blank\">https://wandb.ai/gsathish333/main_sweeps_V3/runs/jgi1hopm</a><br/>Synced 6 W&B file(s), 0 media file(s), 0 artifact file(s) and 0 other file(s)"
      ],
      "text/plain": [
       "<IPython.core.display.HTML object>"
      ]
     },
     "metadata": {},
     "output_type": "display_data"
    },
    {
     "data": {
      "text/html": [
       "Find logs at: <code>./wandb/run-20230306_035154-jgi1hopm/logs</code>"
      ],
      "text/plain": [
       "<IPython.core.display.HTML object>"
      ]
     },
     "metadata": {},
     "output_type": "display_data"
    },
    {
     "name": "stderr",
     "output_type": "stream",
     "text": [
      "\u001b[34m\u001b[1mwandb\u001b[0m: Sweep Agent: Waiting for job.\n",
      "\u001b[34m\u001b[1mwandb\u001b[0m: Job received.\n",
      "\u001b[34m\u001b[1mwandb\u001b[0m: Agent Starting Run: p067n91r with config:\n",
      "\u001b[34m\u001b[1mwandb\u001b[0m: \tL2_lambda: 0\n",
      "\u001b[34m\u001b[1mwandb\u001b[0m: \tactivation: sigmoid\n",
      "\u001b[34m\u001b[1mwandb\u001b[0m: \tbatch_size: 16\n",
      "\u001b[34m\u001b[1mwandb\u001b[0m: \tepochs: 5\n",
      "\u001b[34m\u001b[1mwandb\u001b[0m: \tintialization: normal\n",
      "\u001b[34m\u001b[1mwandb\u001b[0m: \tlayer_size: 32\n",
      "\u001b[34m\u001b[1mwandb\u001b[0m: \tlearning_rate: 0.001\n",
      "\u001b[34m\u001b[1mwandb\u001b[0m: \tnum_layers: 5\n",
      "\u001b[34m\u001b[1mwandb\u001b[0m: \toptimizer: adam\n"
     ]
    },
    {
     "data": {
      "text/html": [
       "Tracking run with wandb version 0.13.10"
      ],
      "text/plain": [
       "<IPython.core.display.HTML object>"
      ]
     },
     "metadata": {},
     "output_type": "display_data"
    },
    {
     "data": {
      "text/html": [
       "Run data is saved locally in <code>/Users/sathish/Desktop/DL_temp/DL_Assignment_1/wandb/run-20230306_035237-p067n91r</code>"
      ],
      "text/plain": [
       "<IPython.core.display.HTML object>"
      ]
     },
     "metadata": {},
     "output_type": "display_data"
    },
    {
     "data": {
      "text/html": [
       "Syncing run <strong><a href='https://wandb.ai/gsathish333/main_sweeps_V3/runs/p067n91r' target=\"_blank\">crimson-sweep-45</a></strong> to <a href='https://wandb.ai/gsathish333/main_sweeps_V3' target=\"_blank\">Weights & Biases</a> (<a href='https://wandb.me/run' target=\"_blank\">docs</a>)<br/>Sweep page: <a href='https://wandb.ai/gsathish333/main_sweeps_V3/sweeps/pczmd77s' target=\"_blank\">https://wandb.ai/gsathish333/main_sweeps_V3/sweeps/pczmd77s</a>"
      ],
      "text/plain": [
       "<IPython.core.display.HTML object>"
      ]
     },
     "metadata": {},
     "output_type": "display_data"
    },
    {
     "data": {
      "text/html": [
       " View project at <a href='https://wandb.ai/gsathish333/main_sweeps_V3' target=\"_blank\">https://wandb.ai/gsathish333/main_sweeps_V3</a>"
      ],
      "text/plain": [
       "<IPython.core.display.HTML object>"
      ]
     },
     "metadata": {},
     "output_type": "display_data"
    },
    {
     "data": {
      "text/html": [
       " View sweep at <a href='https://wandb.ai/gsathish333/main_sweeps_V3/sweeps/pczmd77s' target=\"_blank\">https://wandb.ai/gsathish333/main_sweeps_V3/sweeps/pczmd77s</a>"
      ],
      "text/plain": [
       "<IPython.core.display.HTML object>"
      ]
     },
     "metadata": {},
     "output_type": "display_data"
    },
    {
     "data": {
      "text/html": [
       " View run at <a href='https://wandb.ai/gsathish333/main_sweeps_V3/runs/p067n91r' target=\"_blank\">https://wandb.ai/gsathish333/main_sweeps_V3/runs/p067n91r</a>"
      ],
      "text/plain": [
       "<IPython.core.display.HTML object>"
      ]
     },
     "metadata": {},
     "output_type": "display_data"
    },
    {
     "name": "stdout",
     "output_type": "stream",
     "text": [
      "epoch 1 : train loss = 1.2137937010131683 valid loss = 6.140944937635478e-05\n",
      "epoch 2 : train loss = 0.6260528778510482 valid loss = 4.663376174985368e-05\n",
      "epoch 3 : train loss = 0.5254864931790747 valid loss = 4.176028770346753e-05\n",
      "epoch 4 : train loss = 0.47574958100781034 valid loss = 3.90973650654122e-05\n",
      "epoch 5 : train loss = 0.4424292643480768 valid loss = 3.7342402686112885e-05\n",
      "train accuracy  86.26041666666666\n",
      "valid accuracy  84.89999999999999\n"
     ]
    },
    {
     "data": {
      "text/html": [
       "Waiting for W&B process to finish... <strong style=\"color:green\">(success).</strong>"
      ],
      "text/plain": [
       "<IPython.core.display.HTML object>"
      ]
     },
     "metadata": {},
     "output_type": "display_data"
    },
    {
     "data": {
      "application/vnd.jupyter.widget-view+json": {
       "model_id": "bc1e3ff37d6643bfb6b3dc94629f42fe",
       "version_major": 2,
       "version_minor": 0
      },
      "text/plain": [
       "VBox(children=(Label(value='0.001 MB of 0.001 MB uploaded (0.000 MB deduped)\\r'), FloatProgress(value=1.0, max…"
      ]
     },
     "metadata": {},
     "output_type": "display_data"
    },
    {
     "data": {
      "text/html": [
       "<style>\n",
       "    table.wandb td:nth-child(1) { padding: 0 10px; text-align: left ; width: auto;} td:nth-child(2) {text-align: left ; width: 100%}\n",
       "    .wandb-row { display: flex; flex-direction: row; flex-wrap: wrap; justify-content: flex-start; width: 100% }\n",
       "    .wandb-col { display: flex; flex-direction: column; flex-basis: 100%; flex: 1; padding: 10px; }\n",
       "    </style>\n",
       "<div class=\"wandb-row\"><div class=\"wandb-col\"><h3>Run history:</h3><br/><table class=\"wandb\"><tr><td>accuracy</td><td>▁</td></tr><tr><td>val_accuracy</td><td>▁</td></tr></table><br/></div><div class=\"wandb-col\"><h3>Run summary:</h3><br/><table class=\"wandb\"><tr><td>accuracy</td><td>86.26042</td></tr><tr><td>val_accuracy</td><td>84.9</td></tr></table><br/></div></div>"
      ],
      "text/plain": [
       "<IPython.core.display.HTML object>"
      ]
     },
     "metadata": {},
     "output_type": "display_data"
    },
    {
     "data": {
      "text/html": [
       " View run <strong style=\"color:#cdcd00\">crimson-sweep-45</strong> at: <a href='https://wandb.ai/gsathish333/main_sweeps_V3/runs/p067n91r' target=\"_blank\">https://wandb.ai/gsathish333/main_sweeps_V3/runs/p067n91r</a><br/>Synced 6 W&B file(s), 0 media file(s), 0 artifact file(s) and 0 other file(s)"
      ],
      "text/plain": [
       "<IPython.core.display.HTML object>"
      ]
     },
     "metadata": {},
     "output_type": "display_data"
    },
    {
     "data": {
      "text/html": [
       "Find logs at: <code>./wandb/run-20230306_035237-p067n91r/logs</code>"
      ],
      "text/plain": [
       "<IPython.core.display.HTML object>"
      ]
     },
     "metadata": {},
     "output_type": "display_data"
    },
    {
     "name": "stderr",
     "output_type": "stream",
     "text": [
      "\u001b[34m\u001b[1mwandb\u001b[0m: Agent Starting Run: 8rnttucx with config:\n",
      "\u001b[34m\u001b[1mwandb\u001b[0m: \tL2_lambda: 0\n",
      "\u001b[34m\u001b[1mwandb\u001b[0m: \tactivation: sigmoid\n",
      "\u001b[34m\u001b[1mwandb\u001b[0m: \tbatch_size: 16\n",
      "\u001b[34m\u001b[1mwandb\u001b[0m: \tepochs: 5\n",
      "\u001b[34m\u001b[1mwandb\u001b[0m: \tintialization: normal\n",
      "\u001b[34m\u001b[1mwandb\u001b[0m: \tlayer_size: 64\n",
      "\u001b[34m\u001b[1mwandb\u001b[0m: \tlearning_rate: 0.1\n",
      "\u001b[34m\u001b[1mwandb\u001b[0m: \tnum_layers: 3\n",
      "\u001b[34m\u001b[1mwandb\u001b[0m: \toptimizer: sgd\n"
     ]
    },
    {
     "data": {
      "text/html": [
       "Tracking run with wandb version 0.13.10"
      ],
      "text/plain": [
       "<IPython.core.display.HTML object>"
      ]
     },
     "metadata": {},
     "output_type": "display_data"
    },
    {
     "data": {
      "text/html": [
       "Run data is saved locally in <code>/Users/sathish/Desktop/DL_temp/DL_Assignment_1/wandb/run-20230306_035309-8rnttucx</code>"
      ],
      "text/plain": [
       "<IPython.core.display.HTML object>"
      ]
     },
     "metadata": {},
     "output_type": "display_data"
    },
    {
     "data": {
      "text/html": [
       "Syncing run <strong><a href='https://wandb.ai/gsathish333/main_sweeps_V3/runs/8rnttucx' target=\"_blank\">dark-sweep-46</a></strong> to <a href='https://wandb.ai/gsathish333/main_sweeps_V3' target=\"_blank\">Weights & Biases</a> (<a href='https://wandb.me/run' target=\"_blank\">docs</a>)<br/>Sweep page: <a href='https://wandb.ai/gsathish333/main_sweeps_V3/sweeps/pczmd77s' target=\"_blank\">https://wandb.ai/gsathish333/main_sweeps_V3/sweeps/pczmd77s</a>"
      ],
      "text/plain": [
       "<IPython.core.display.HTML object>"
      ]
     },
     "metadata": {},
     "output_type": "display_data"
    },
    {
     "data": {
      "text/html": [
       " View project at <a href='https://wandb.ai/gsathish333/main_sweeps_V3' target=\"_blank\">https://wandb.ai/gsathish333/main_sweeps_V3</a>"
      ],
      "text/plain": [
       "<IPython.core.display.HTML object>"
      ]
     },
     "metadata": {},
     "output_type": "display_data"
    },
    {
     "data": {
      "text/html": [
       " View sweep at <a href='https://wandb.ai/gsathish333/main_sweeps_V3/sweeps/pczmd77s' target=\"_blank\">https://wandb.ai/gsathish333/main_sweeps_V3/sweeps/pczmd77s</a>"
      ],
      "text/plain": [
       "<IPython.core.display.HTML object>"
      ]
     },
     "metadata": {},
     "output_type": "display_data"
    },
    {
     "data": {
      "text/html": [
       " View run at <a href='https://wandb.ai/gsathish333/main_sweeps_V3/runs/8rnttucx' target=\"_blank\">https://wandb.ai/gsathish333/main_sweeps_V3/runs/8rnttucx</a>"
      ],
      "text/plain": [
       "<IPython.core.display.HTML object>"
      ]
     },
     "metadata": {},
     "output_type": "display_data"
    },
    {
     "name": "stdout",
     "output_type": "stream",
     "text": [
      "epoch 1 : train loss = 1.4182054076475452 valid loss = 6.790499735436014e-05\n",
      "epoch 2 : train loss = 0.7312260195329264 valid loss = 5.277312258280946e-05\n",
      "epoch 3 : train loss = 0.6130841206906092 valid loss = 4.547398798786802e-05\n",
      "epoch 4 : train loss = 0.539252089651765 valid loss = 4.110887105032923e-05\n",
      "epoch 5 : train loss = 0.5019366103670544 valid loss = 3.915148456216443e-05\n",
      "train accuracy  84.25\n",
      "valid accuracy  83.64166666666667\n"
     ]
    },
    {
     "data": {
      "text/html": [
       "Waiting for W&B process to finish... <strong style=\"color:green\">(success).</strong>"
      ],
      "text/plain": [
       "<IPython.core.display.HTML object>"
      ]
     },
     "metadata": {},
     "output_type": "display_data"
    },
    {
     "data": {
      "text/html": [
       "<style>\n",
       "    table.wandb td:nth-child(1) { padding: 0 10px; text-align: left ; width: auto;} td:nth-child(2) {text-align: left ; width: 100%}\n",
       "    .wandb-row { display: flex; flex-direction: row; flex-wrap: wrap; justify-content: flex-start; width: 100% }\n",
       "    .wandb-col { display: flex; flex-direction: column; flex-basis: 100%; flex: 1; padding: 10px; }\n",
       "    </style>\n",
       "<div class=\"wandb-row\"><div class=\"wandb-col\"><h3>Run history:</h3><br/><table class=\"wandb\"><tr><td>accuracy</td><td>▁</td></tr><tr><td>val_accuracy</td><td>▁</td></tr></table><br/></div><div class=\"wandb-col\"><h3>Run summary:</h3><br/><table class=\"wandb\"><tr><td>accuracy</td><td>84.25</td></tr><tr><td>val_accuracy</td><td>83.64167</td></tr></table><br/></div></div>"
      ],
      "text/plain": [
       "<IPython.core.display.HTML object>"
      ]
     },
     "metadata": {},
     "output_type": "display_data"
    },
    {
     "data": {
      "text/html": [
       " View run <strong style=\"color:#cdcd00\">dark-sweep-46</strong> at: <a href='https://wandb.ai/gsathish333/main_sweeps_V3/runs/8rnttucx' target=\"_blank\">https://wandb.ai/gsathish333/main_sweeps_V3/runs/8rnttucx</a><br/>Synced 6 W&B file(s), 0 media file(s), 0 artifact file(s) and 0 other file(s)"
      ],
      "text/plain": [
       "<IPython.core.display.HTML object>"
      ]
     },
     "metadata": {},
     "output_type": "display_data"
    },
    {
     "data": {
      "text/html": [
       "Find logs at: <code>./wandb/run-20230306_035309-8rnttucx/logs</code>"
      ],
      "text/plain": [
       "<IPython.core.display.HTML object>"
      ]
     },
     "metadata": {},
     "output_type": "display_data"
    },
    {
     "name": "stderr",
     "output_type": "stream",
     "text": [
      "\u001b[34m\u001b[1mwandb\u001b[0m: Agent Starting Run: vjsd894s with config:\n",
      "\u001b[34m\u001b[1mwandb\u001b[0m: \tL2_lambda: 0\n",
      "\u001b[34m\u001b[1mwandb\u001b[0m: \tactivation: sigmoid\n",
      "\u001b[34m\u001b[1mwandb\u001b[0m: \tbatch_size: 16\n",
      "\u001b[34m\u001b[1mwandb\u001b[0m: \tepochs: 5\n",
      "\u001b[34m\u001b[1mwandb\u001b[0m: \tintialization: normal\n",
      "\u001b[34m\u001b[1mwandb\u001b[0m: \tlayer_size: 64\n",
      "\u001b[34m\u001b[1mwandb\u001b[0m: \tlearning_rate: 0.1\n",
      "\u001b[34m\u001b[1mwandb\u001b[0m: \tnum_layers: 3\n",
      "\u001b[34m\u001b[1mwandb\u001b[0m: \toptimizer: momentum\n"
     ]
    },
    {
     "data": {
      "application/vnd.jupyter.widget-view+json": {
       "model_id": "b38576ffdf6446d7b1e56c68b08a14a1",
       "version_major": 2,
       "version_minor": 0
      },
      "text/plain": [
       "VBox(children=(Label(value='Waiting for wandb.init()...\\r'), FloatProgress(value=0.01675601111666462, max=1.0)…"
      ]
     },
     "metadata": {},
     "output_type": "display_data"
    },
    {
     "data": {
      "text/html": [
       "Tracking run with wandb version 0.13.10"
      ],
      "text/plain": [
       "<IPython.core.display.HTML object>"
      ]
     },
     "metadata": {},
     "output_type": "display_data"
    },
    {
     "data": {
      "text/html": [
       "Run data is saved locally in <code>/Users/sathish/Desktop/DL_temp/DL_Assignment_1/wandb/run-20230306_035347-vjsd894s</code>"
      ],
      "text/plain": [
       "<IPython.core.display.HTML object>"
      ]
     },
     "metadata": {},
     "output_type": "display_data"
    },
    {
     "data": {
      "text/html": [
       "Syncing run <strong><a href='https://wandb.ai/gsathish333/main_sweeps_V3/runs/vjsd894s' target=\"_blank\">neat-sweep-47</a></strong> to <a href='https://wandb.ai/gsathish333/main_sweeps_V3' target=\"_blank\">Weights & Biases</a> (<a href='https://wandb.me/run' target=\"_blank\">docs</a>)<br/>Sweep page: <a href='https://wandb.ai/gsathish333/main_sweeps_V3/sweeps/pczmd77s' target=\"_blank\">https://wandb.ai/gsathish333/main_sweeps_V3/sweeps/pczmd77s</a>"
      ],
      "text/plain": [
       "<IPython.core.display.HTML object>"
      ]
     },
     "metadata": {},
     "output_type": "display_data"
    },
    {
     "data": {
      "text/html": [
       " View project at <a href='https://wandb.ai/gsathish333/main_sweeps_V3' target=\"_blank\">https://wandb.ai/gsathish333/main_sweeps_V3</a>"
      ],
      "text/plain": [
       "<IPython.core.display.HTML object>"
      ]
     },
     "metadata": {},
     "output_type": "display_data"
    },
    {
     "data": {
      "text/html": [
       " View sweep at <a href='https://wandb.ai/gsathish333/main_sweeps_V3/sweeps/pczmd77s' target=\"_blank\">https://wandb.ai/gsathish333/main_sweeps_V3/sweeps/pczmd77s</a>"
      ],
      "text/plain": [
       "<IPython.core.display.HTML object>"
      ]
     },
     "metadata": {},
     "output_type": "display_data"
    },
    {
     "data": {
      "text/html": [
       " View run at <a href='https://wandb.ai/gsathish333/main_sweeps_V3/runs/vjsd894s' target=\"_blank\">https://wandb.ai/gsathish333/main_sweeps_V3/runs/vjsd894s</a>"
      ],
      "text/plain": [
       "<IPython.core.display.HTML object>"
      ]
     },
     "metadata": {},
     "output_type": "display_data"
    },
    {
     "name": "stdout",
     "output_type": "stream",
     "text": [
      "epoch 1 : train loss = 1.4101593185077335 valid loss = 6.218108424483488e-05\n",
      "epoch 2 : train loss = 0.6555750681797391 valid loss = 4.705644014651434e-05\n",
      "epoch 3 : train loss = 0.5550045244517872 valid loss = 4.2748732035730086e-05\n",
      "epoch 4 : train loss = 0.51672966219267 valid loss = 4.0372715795582873e-05\n",
      "epoch 5 : train loss = 0.4934013697111812 valid loss = 3.880833226767233e-05\n",
      "train accuracy  84.74374999999999\n",
      "valid accuracy  83.875\n"
     ]
    },
    {
     "data": {
      "text/html": [
       "Waiting for W&B process to finish... <strong style=\"color:green\">(success).</strong>"
      ],
      "text/plain": [
       "<IPython.core.display.HTML object>"
      ]
     },
     "metadata": {},
     "output_type": "display_data"
    },
    {
     "data": {
      "application/vnd.jupyter.widget-view+json": {
       "model_id": "835daee7976d4030929086bb7aabfe76",
       "version_major": 2,
       "version_minor": 0
      },
      "text/plain": [
       "VBox(children=(Label(value='0.001 MB of 0.001 MB uploaded (0.000 MB deduped)\\r'), FloatProgress(value=1.0, max…"
      ]
     },
     "metadata": {},
     "output_type": "display_data"
    },
    {
     "data": {
      "text/html": [
       "<style>\n",
       "    table.wandb td:nth-child(1) { padding: 0 10px; text-align: left ; width: auto;} td:nth-child(2) {text-align: left ; width: 100%}\n",
       "    .wandb-row { display: flex; flex-direction: row; flex-wrap: wrap; justify-content: flex-start; width: 100% }\n",
       "    .wandb-col { display: flex; flex-direction: column; flex-basis: 100%; flex: 1; padding: 10px; }\n",
       "    </style>\n",
       "<div class=\"wandb-row\"><div class=\"wandb-col\"><h3>Run history:</h3><br/><table class=\"wandb\"><tr><td>accuracy</td><td>▁</td></tr><tr><td>val_accuracy</td><td>▁</td></tr></table><br/></div><div class=\"wandb-col\"><h3>Run summary:</h3><br/><table class=\"wandb\"><tr><td>accuracy</td><td>84.74375</td></tr><tr><td>val_accuracy</td><td>83.875</td></tr></table><br/></div></div>"
      ],
      "text/plain": [
       "<IPython.core.display.HTML object>"
      ]
     },
     "metadata": {},
     "output_type": "display_data"
    },
    {
     "data": {
      "text/html": [
       " View run <strong style=\"color:#cdcd00\">neat-sweep-47</strong> at: <a href='https://wandb.ai/gsathish333/main_sweeps_V3/runs/vjsd894s' target=\"_blank\">https://wandb.ai/gsathish333/main_sweeps_V3/runs/vjsd894s</a><br/>Synced 6 W&B file(s), 0 media file(s), 0 artifact file(s) and 0 other file(s)"
      ],
      "text/plain": [
       "<IPython.core.display.HTML object>"
      ]
     },
     "metadata": {},
     "output_type": "display_data"
    },
    {
     "data": {
      "text/html": [
       "Find logs at: <code>./wandb/run-20230306_035347-vjsd894s/logs</code>"
      ],
      "text/plain": [
       "<IPython.core.display.HTML object>"
      ]
     },
     "metadata": {},
     "output_type": "display_data"
    },
    {
     "name": "stderr",
     "output_type": "stream",
     "text": [
      "\u001b[34m\u001b[1mwandb\u001b[0m: Agent Starting Run: ybpx755h with config:\n",
      "\u001b[34m\u001b[1mwandb\u001b[0m: \tL2_lambda: 0\n",
      "\u001b[34m\u001b[1mwandb\u001b[0m: \tactivation: sigmoid\n",
      "\u001b[34m\u001b[1mwandb\u001b[0m: \tbatch_size: 16\n",
      "\u001b[34m\u001b[1mwandb\u001b[0m: \tepochs: 5\n",
      "\u001b[34m\u001b[1mwandb\u001b[0m: \tintialization: normal\n",
      "\u001b[34m\u001b[1mwandb\u001b[0m: \tlayer_size: 64\n",
      "\u001b[34m\u001b[1mwandb\u001b[0m: \tlearning_rate: 0.1\n",
      "\u001b[34m\u001b[1mwandb\u001b[0m: \tnum_layers: 3\n",
      "\u001b[34m\u001b[1mwandb\u001b[0m: \toptimizer: nesterov\n"
     ]
    },
    {
     "data": {
      "text/html": [
       "Tracking run with wandb version 0.13.10"
      ],
      "text/plain": [
       "<IPython.core.display.HTML object>"
      ]
     },
     "metadata": {},
     "output_type": "display_data"
    },
    {
     "data": {
      "text/html": [
       "Run data is saved locally in <code>/Users/sathish/Desktop/DL_temp/DL_Assignment_1/wandb/run-20230306_035425-ybpx755h</code>"
      ],
      "text/plain": [
       "<IPython.core.display.HTML object>"
      ]
     },
     "metadata": {},
     "output_type": "display_data"
    },
    {
     "data": {
      "text/html": [
       "Syncing run <strong><a href='https://wandb.ai/gsathish333/main_sweeps_V3/runs/ybpx755h' target=\"_blank\">glamorous-sweep-48</a></strong> to <a href='https://wandb.ai/gsathish333/main_sweeps_V3' target=\"_blank\">Weights & Biases</a> (<a href='https://wandb.me/run' target=\"_blank\">docs</a>)<br/>Sweep page: <a href='https://wandb.ai/gsathish333/main_sweeps_V3/sweeps/pczmd77s' target=\"_blank\">https://wandb.ai/gsathish333/main_sweeps_V3/sweeps/pczmd77s</a>"
      ],
      "text/plain": [
       "<IPython.core.display.HTML object>"
      ]
     },
     "metadata": {},
     "output_type": "display_data"
    },
    {
     "data": {
      "text/html": [
       " View project at <a href='https://wandb.ai/gsathish333/main_sweeps_V3' target=\"_blank\">https://wandb.ai/gsathish333/main_sweeps_V3</a>"
      ],
      "text/plain": [
       "<IPython.core.display.HTML object>"
      ]
     },
     "metadata": {},
     "output_type": "display_data"
    },
    {
     "data": {
      "text/html": [
       " View sweep at <a href='https://wandb.ai/gsathish333/main_sweeps_V3/sweeps/pczmd77s' target=\"_blank\">https://wandb.ai/gsathish333/main_sweeps_V3/sweeps/pczmd77s</a>"
      ],
      "text/plain": [
       "<IPython.core.display.HTML object>"
      ]
     },
     "metadata": {},
     "output_type": "display_data"
    },
    {
     "data": {
      "text/html": [
       " View run at <a href='https://wandb.ai/gsathish333/main_sweeps_V3/runs/ybpx755h' target=\"_blank\">https://wandb.ai/gsathish333/main_sweeps_V3/runs/ybpx755h</a>"
      ],
      "text/plain": [
       "<IPython.core.display.HTML object>"
      ]
     },
     "metadata": {},
     "output_type": "display_data"
    },
    {
     "name": "stdout",
     "output_type": "stream",
     "text": [
      "epoch 1 : train loss = 0.7975048399396983 valid loss = 3.906555572398085e-05\n",
      "epoch 2 : train loss = 0.4961159129688482 valid loss = 3.497365659969017e-05\n",
      "epoch 3 : train loss = 0.4525069089019136 valid loss = 3.2939614247331104e-05\n",
      "epoch 4 : train loss = 0.43060434422785676 valid loss = 3.1509281193833476e-05\n",
      "epoch 5 : train loss = 0.41887080797445414 valid loss = 3.132049457567087e-05\n",
      "train accuracy  87.33541666666666\n",
      "valid accuracy  86.41666666666666\n"
     ]
    },
    {
     "data": {
      "text/html": [
       "Waiting for W&B process to finish... <strong style=\"color:green\">(success).</strong>"
      ],
      "text/plain": [
       "<IPython.core.display.HTML object>"
      ]
     },
     "metadata": {},
     "output_type": "display_data"
    },
    {
     "data": {
      "application/vnd.jupyter.widget-view+json": {
       "model_id": "fa754e3357a948cab094da8935903e61",
       "version_major": 2,
       "version_minor": 0
      },
      "text/plain": [
       "VBox(children=(Label(value='0.001 MB of 0.001 MB uploaded (0.000 MB deduped)\\r'), FloatProgress(value=1.0, max…"
      ]
     },
     "metadata": {},
     "output_type": "display_data"
    },
    {
     "data": {
      "text/html": [
       "<style>\n",
       "    table.wandb td:nth-child(1) { padding: 0 10px; text-align: left ; width: auto;} td:nth-child(2) {text-align: left ; width: 100%}\n",
       "    .wandb-row { display: flex; flex-direction: row; flex-wrap: wrap; justify-content: flex-start; width: 100% }\n",
       "    .wandb-col { display: flex; flex-direction: column; flex-basis: 100%; flex: 1; padding: 10px; }\n",
       "    </style>\n",
       "<div class=\"wandb-row\"><div class=\"wandb-col\"><h3>Run history:</h3><br/><table class=\"wandb\"><tr><td>accuracy</td><td>▁</td></tr><tr><td>val_accuracy</td><td>▁</td></tr></table><br/></div><div class=\"wandb-col\"><h3>Run summary:</h3><br/><table class=\"wandb\"><tr><td>accuracy</td><td>87.33542</td></tr><tr><td>val_accuracy</td><td>86.41667</td></tr></table><br/></div></div>"
      ],
      "text/plain": [
       "<IPython.core.display.HTML object>"
      ]
     },
     "metadata": {},
     "output_type": "display_data"
    },
    {
     "data": {
      "text/html": [
       " View run <strong style=\"color:#cdcd00\">glamorous-sweep-48</strong> at: <a href='https://wandb.ai/gsathish333/main_sweeps_V3/runs/ybpx755h' target=\"_blank\">https://wandb.ai/gsathish333/main_sweeps_V3/runs/ybpx755h</a><br/>Synced 6 W&B file(s), 0 media file(s), 0 artifact file(s) and 0 other file(s)"
      ],
      "text/plain": [
       "<IPython.core.display.HTML object>"
      ]
     },
     "metadata": {},
     "output_type": "display_data"
    },
    {
     "data": {
      "text/html": [
       "Find logs at: <code>./wandb/run-20230306_035425-ybpx755h/logs</code>"
      ],
      "text/plain": [
       "<IPython.core.display.HTML object>"
      ]
     },
     "metadata": {},
     "output_type": "display_data"
    },
    {
     "name": "stderr",
     "output_type": "stream",
     "text": [
      "\u001b[34m\u001b[1mwandb\u001b[0m: Agent Starting Run: l7hwsu2v with config:\n",
      "\u001b[34m\u001b[1mwandb\u001b[0m: \tL2_lambda: 0\n",
      "\u001b[34m\u001b[1mwandb\u001b[0m: \tactivation: sigmoid\n",
      "\u001b[34m\u001b[1mwandb\u001b[0m: \tbatch_size: 16\n",
      "\u001b[34m\u001b[1mwandb\u001b[0m: \tepochs: 5\n",
      "\u001b[34m\u001b[1mwandb\u001b[0m: \tintialization: normal\n",
      "\u001b[34m\u001b[1mwandb\u001b[0m: \tlayer_size: 64\n",
      "\u001b[34m\u001b[1mwandb\u001b[0m: \tlearning_rate: 0.1\n",
      "\u001b[34m\u001b[1mwandb\u001b[0m: \tnum_layers: 3\n",
      "\u001b[34m\u001b[1mwandb\u001b[0m: \toptimizer: rmsprop\n"
     ]
    },
    {
     "data": {
      "application/vnd.jupyter.widget-view+json": {
       "model_id": "de041c03fd1c4fdaaa4f664f1c3b141f",
       "version_major": 2,
       "version_minor": 0
      },
      "text/plain": [
       "VBox(children=(Label(value='Waiting for wandb.init()...\\r'), FloatProgress(value=0.01675343056666255, max=1.0)…"
      ]
     },
     "metadata": {},
     "output_type": "display_data"
    },
    {
     "data": {
      "text/html": [
       "Tracking run with wandb version 0.13.10"
      ],
      "text/plain": [
       "<IPython.core.display.HTML object>"
      ]
     },
     "metadata": {},
     "output_type": "display_data"
    },
    {
     "data": {
      "text/html": [
       "Run data is saved locally in <code>/Users/sathish/Desktop/DL_temp/DL_Assignment_1/wandb/run-20230306_035502-l7hwsu2v</code>"
      ],
      "text/plain": [
       "<IPython.core.display.HTML object>"
      ]
     },
     "metadata": {},
     "output_type": "display_data"
    },
    {
     "data": {
      "text/html": [
       "Syncing run <strong><a href='https://wandb.ai/gsathish333/main_sweeps_V3/runs/l7hwsu2v' target=\"_blank\">silvery-sweep-49</a></strong> to <a href='https://wandb.ai/gsathish333/main_sweeps_V3' target=\"_blank\">Weights & Biases</a> (<a href='https://wandb.me/run' target=\"_blank\">docs</a>)<br/>Sweep page: <a href='https://wandb.ai/gsathish333/main_sweeps_V3/sweeps/pczmd77s' target=\"_blank\">https://wandb.ai/gsathish333/main_sweeps_V3/sweeps/pczmd77s</a>"
      ],
      "text/plain": [
       "<IPython.core.display.HTML object>"
      ]
     },
     "metadata": {},
     "output_type": "display_data"
    },
    {
     "data": {
      "text/html": [
       " View project at <a href='https://wandb.ai/gsathish333/main_sweeps_V3' target=\"_blank\">https://wandb.ai/gsathish333/main_sweeps_V3</a>"
      ],
      "text/plain": [
       "<IPython.core.display.HTML object>"
      ]
     },
     "metadata": {},
     "output_type": "display_data"
    },
    {
     "data": {
      "text/html": [
       " View sweep at <a href='https://wandb.ai/gsathish333/main_sweeps_V3/sweeps/pczmd77s' target=\"_blank\">https://wandb.ai/gsathish333/main_sweeps_V3/sweeps/pczmd77s</a>"
      ],
      "text/plain": [
       "<IPython.core.display.HTML object>"
      ]
     },
     "metadata": {},
     "output_type": "display_data"
    },
    {
     "data": {
      "text/html": [
       " View run at <a href='https://wandb.ai/gsathish333/main_sweeps_V3/runs/l7hwsu2v' target=\"_blank\">https://wandb.ai/gsathish333/main_sweeps_V3/runs/l7hwsu2v</a>"
      ],
      "text/plain": [
       "<IPython.core.display.HTML object>"
      ]
     },
     "metadata": {},
     "output_type": "display_data"
    },
    {
     "name": "stderr",
     "output_type": "stream",
     "text": [
      "/var/folders/v8/pvrhyj2x1kdb1h8pp09t18b40000gn/T/ipykernel_9102/2839676318.py:8: RuntimeWarning: overflow encountered in exp\n",
      "  return 1.0/(1+np.exp(-x))\n",
      "/var/folders/v8/pvrhyj2x1kdb1h8pp09t18b40000gn/T/ipykernel_9102/2839676318.py:105: RuntimeWarning: overflow encountered in exp\n",
      "  return 1.0/(1.0+1.0*np.exp(-x))\n"
     ]
    },
    {
     "name": "stdout",
     "output_type": "stream",
     "text": [
      "epoch 1 : train loss = 1.6053848220692186 valid loss = 8.774399069089049e-05\n",
      "epoch 2 : train loss = 1.1596295113779616 valid loss = 0.00010720344914630494\n",
      "epoch 3 : train loss = 1.0922701201702403 valid loss = 8.827378324546881e-05\n",
      "epoch 4 : train loss = 1.1255547362321907 valid loss = 9.13798167793655e-05\n",
      "epoch 5 : train loss = 1.0800604535886702 valid loss = 9.40264418444188e-05\n",
      "train accuracy  67.80833333333334\n",
      "valid accuracy  67.75\n"
     ]
    },
    {
     "data": {
      "text/html": [
       "Waiting for W&B process to finish... <strong style=\"color:green\">(success).</strong>"
      ],
      "text/plain": [
       "<IPython.core.display.HTML object>"
      ]
     },
     "metadata": {},
     "output_type": "display_data"
    },
    {
     "data": {
      "text/html": [
       "<style>\n",
       "    table.wandb td:nth-child(1) { padding: 0 10px; text-align: left ; width: auto;} td:nth-child(2) {text-align: left ; width: 100%}\n",
       "    .wandb-row { display: flex; flex-direction: row; flex-wrap: wrap; justify-content: flex-start; width: 100% }\n",
       "    .wandb-col { display: flex; flex-direction: column; flex-basis: 100%; flex: 1; padding: 10px; }\n",
       "    </style>\n",
       "<div class=\"wandb-row\"><div class=\"wandb-col\"><h3>Run history:</h3><br/><table class=\"wandb\"><tr><td>accuracy</td><td>▁</td></tr><tr><td>val_accuracy</td><td>▁</td></tr></table><br/></div><div class=\"wandb-col\"><h3>Run summary:</h3><br/><table class=\"wandb\"><tr><td>accuracy</td><td>67.80833</td></tr><tr><td>val_accuracy</td><td>67.75</td></tr></table><br/></div></div>"
      ],
      "text/plain": [
       "<IPython.core.display.HTML object>"
      ]
     },
     "metadata": {},
     "output_type": "display_data"
    },
    {
     "data": {
      "text/html": [
       " View run <strong style=\"color:#cdcd00\">silvery-sweep-49</strong> at: <a href='https://wandb.ai/gsathish333/main_sweeps_V3/runs/l7hwsu2v' target=\"_blank\">https://wandb.ai/gsathish333/main_sweeps_V3/runs/l7hwsu2v</a><br/>Synced 6 W&B file(s), 0 media file(s), 0 artifact file(s) and 0 other file(s)"
      ],
      "text/plain": [
       "<IPython.core.display.HTML object>"
      ]
     },
     "metadata": {},
     "output_type": "display_data"
    },
    {
     "data": {
      "text/html": [
       "Find logs at: <code>./wandb/run-20230306_035502-l7hwsu2v/logs</code>"
      ],
      "text/plain": [
       "<IPython.core.display.HTML object>"
      ]
     },
     "metadata": {},
     "output_type": "display_data"
    },
    {
     "name": "stderr",
     "output_type": "stream",
     "text": [
      "\u001b[34m\u001b[1mwandb\u001b[0m: Agent Starting Run: cam20mmq with config:\n",
      "\u001b[34m\u001b[1mwandb\u001b[0m: \tL2_lambda: 0\n",
      "\u001b[34m\u001b[1mwandb\u001b[0m: \tactivation: sigmoid\n",
      "\u001b[34m\u001b[1mwandb\u001b[0m: \tbatch_size: 16\n",
      "\u001b[34m\u001b[1mwandb\u001b[0m: \tepochs: 5\n",
      "\u001b[34m\u001b[1mwandb\u001b[0m: \tintialization: normal\n",
      "\u001b[34m\u001b[1mwandb\u001b[0m: \tlayer_size: 64\n",
      "\u001b[34m\u001b[1mwandb\u001b[0m: \tlearning_rate: 0.1\n",
      "\u001b[34m\u001b[1mwandb\u001b[0m: \tnum_layers: 3\n",
      "\u001b[34m\u001b[1mwandb\u001b[0m: \toptimizer: adam\n",
      "\u001b[34m\u001b[1mwandb\u001b[0m: Ctrl + C detected. Stopping sweep.\n"
     ]
    }
   ],
   "source": [
    "def main():\n",
    "    with wandb.init() as run:\n",
    "        layer_size=wandb.config.layer_size\n",
    "        num_layers=wandb.config.num_layers\n",
    "        layers=[layer_size]*num_layers\n",
    "        layers.append(10)\n",
    "        obj=NN(784,layers)\n",
    "        train_losses,valid_losses=obj.train(x_train.T,y_train,x_valid.T,y_valid)\n",
    "    \n",
    "wandb.agent(sweep_id, function=main)"
   ]
  },
  {
   "cell_type": "code",
   "execution_count": null,
   "id": "947bb2c7",
   "metadata": {},
   "outputs": [],
   "source": [
    " parser = argparse.ArgumentParser(description = 'Set Hyper Parameters')\n",
    "\n",
    "\n",
    "parser.add_argument('-wp'   , '--wandb_project'  , type = str  , metavar = '', help = 'WandB Project Name (Non-Empty String)                             ')\n",
    "parser.add_argument('-we'   , '--wandb_entity'   , type = str  , metavar = '', help = 'WandB Entity Name (Non-Empty String)                              ')\n",
    "parser.add_argument('-d'    , '--dataset'        , type = str  , metavar = '', help = 'Dataset : [\"fashion_mnist\", \"mnist\"]                              ')\n",
    "parser.add_argument('-e'    , '--epochs'         , type = int  , metavar = '', help = 'Number of Epochs (Positive Integer)                               ')\n",
    "parser.add_argument('-b'    , '--batch_size'     , type = int  , metavar = '', help = 'Batch Size (Positive Integer)                                     ')\n",
    "parser.add_argument('-l'    , '--loss'           , type = str  , metavar = '', help = 'Loss function : [\"mean_squared_error\", \"cross_entropy\"]           ')\n",
    "parser.add_argument('-o'    , '--optimizer'      , type = str  , metavar = '', help = 'Optimizer : [\"sgd\", \"momentum\", \"nag\", \"rmsprop\", \"adam\", \"nadam\"]')\n",
    "parser.add_argument('-lr'   , '--learning_rate'  , type = float, metavar = '', help = 'Learning Rate (Positive Float)                                    ')\n",
    "parser.add_argument('-m'    , '--momentum'       , type = float, metavar = '', help = 'Momentum (Positive Float)                                         ')\n",
    "parser.add_argument('-beta' , '--beta'           , type = float, metavar = '', help = 'Beta (Positive Float)                                             ')\n",
    "parser.add_argument('-beta1', '--beta1'          , type = float, metavar = '', help = 'Beta1 (Positive Float)                                            ')\n",
    "parser.add_argument('-beta2', '--beta2'          , type = float, metavar = '', help = 'Beta2 (Positive Float)                                            ')\n",
    "parser.add_argument('-eps'  , '--epsilon'        , type = float, metavar = '', help = 'Epsilon (Positive Float)                                          ')\n",
    "parser.add_argument('-w_d'  , '--weight_decay'   , type = float, metavar = '', help = 'Weight Decay (Positive Float)                                     ')\n",
    "parser.add_argument('-w_i'  , '--weight_init'    , type = str  , metavar = '', help = 'Weight Init : [\"random\", \"Xavier\"]                                ')\n",
    "parser.add_argument('-nhl'  , '--num_layers'     , type = int  , metavar = '', help = 'Number of HIDDEN Layers (Positive Integer)                        ')\n",
    "parser.add_argument('-sz'   , '--hidden_size'    , type = int  , metavar = '', help = 'Number of Neurons in Hidden Layers (Positive Integer)             ')\n",
    "parser.add_argument('-a'    , '--activation'     , type = str  , metavar = '', help = 'Activation Function : [\"identity\", \"sigmoid\", \"tanh\", \"ReLU\"]     ')\n",
    "parser.add_argument('-of'   , '--output_function', type = str  , metavar = '', help = 'Activation Function : [\"identity\", \"sigmoid\", \"tanh\", \"ReLU\"]     ')\n",
    "\n",
    "# Parse the Input Args\n",
    "args = parser.parse_args()\n",
    "\n"
   ]
  },
  {
   "cell_type": "code",
   "execution_count": 1,
   "id": "05dcc788",
   "metadata": {},
   "outputs": [],
   "source": [
    "# plt.figure(figsize=(10,8))\n",
    "# plt.plot(np.arange(1,len(train_losses)+1),train_losses,label='train loss')\n",
    "# plt.plot(np.arange(1,len(valid_losses)+1),valid_losses,label='valid loss')\n",
    "\n",
    "# plt.xlabel(\"epoch\",fontsize=18)\n",
    "# plt.ylabel(\"loss\",fontsize=18)\n",
    "# plt.legend(fontsize=18)\n",
    "\n",
    "# plt.show()\n",
    "\n",
    "# out=obj.predict_probas(x_train.T)\n",
    "# pred=np.argmax(out,axis=0)\n",
    "# print(classification_report(pred,np.argmax(y_train,axis=0)))\n",
    "\n",
    "# out=obj.predict_probas(x_valid.T)\n",
    "# pred=np.argmax(out,axis=0)\n",
    "# print(classification_report(pred,np.argmax(y_valid,axis=0)))\n",
    "\n",
    "# out=obj.predict_probas(x_test.T)\n",
    "# pred=np.argmax(out,axis=0)\n",
    "# print(classification_report(pred,np.argmax(y_test,axis=0)))"
   ]
  },
  {
   "cell_type": "code",
   "execution_count": 329,
   "id": "5cf7b483",
   "metadata": {},
   "outputs": [],
   "source": [
    "mapping={\n",
    "0:'T-shirt/top',\n",
    "1:'Trouser',\n",
    "2:'Pullover',\n",
    "3:'Dress',\n",
    "4:'Coat',\n",
    "5:'Sandal',\n",
    "6:'Shirt',\n",
    "7:'Sneaker',\n",
    "8:'Bag',\n",
    "9:'Ankle boot'} \n",
    "\n",
    "labels=list(mapping.values())\n",
    "\n",
    "def plot_confusion_matrix(target,pred):\n",
    "    plt.figure(figsize=(14,8))\n",
    "    sns.set(font_scale=1.2)\n",
    "    sns.heatmap(confusion_matrix(target,pred),cmap=plt.cm.Blues,annot_kws={\"fontsize\":14},xticklabels=labels,\n",
    "                yticklabels=labels)\n",
    "    plt.xlabel('Predcited',fontsize=16)\n",
    "    plt.ylabel('Actual',fontsize=16)\n",
    "    plt.title('Confusion matrix (test data)',fontsize=20)\n",
    "    plt.show()\n",
    "\n",
    "plot_confusion_matrix(np.argmax(y_test,axis=0),pred)"
   ]
  },
  {
   "cell_type": "code",
   "execution_count": null,
   "id": "6f090884",
   "metadata": {},
   "outputs": [],
   "source": []
  }
 ],
 "metadata": {
  "kernelspec": {
   "display_name": "Python 3 (ipykernel)",
   "language": "python",
   "name": "python3"
  },
  "language_info": {
   "codemirror_mode": {
    "name": "ipython",
    "version": 3
   },
   "file_extension": ".py",
   "mimetype": "text/x-python",
   "name": "python",
   "nbconvert_exporter": "python",
   "pygments_lexer": "ipython3",
   "version": "3.9.12"
  }
 },
 "nbformat": 4,
 "nbformat_minor": 5
}
