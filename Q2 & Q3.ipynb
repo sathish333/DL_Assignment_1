{
 "cells": [
  {
   "cell_type": "code",
   "execution_count": 1,
   "id": "6e1dcb4e",
   "metadata": {},
   "outputs": [
    {
     "name": "stderr",
     "output_type": "stream",
     "text": [
      "\u001b[34m\u001b[1mwandb\u001b[0m: Currently logged in as: \u001b[33mgsathish333\u001b[0m. Use \u001b[1m`wandb login --relogin`\u001b[0m to force relogin\n"
     ]
    }
   ],
   "source": [
    "from keras.datasets import fashion_mnist\n",
    "import wandb\n",
    "wandb.login()\n",
    "\n",
    "(x_train, y_train), (x_test, y_test) = fashion_mnist.load_data()"
   ]
  },
  {
   "cell_type": "code",
   "execution_count": 2,
   "id": "bfff35d6",
   "metadata": {},
   "outputs": [],
   "source": [
    "import numpy as np\n",
    "from sklearn.metrics import classification_report\n",
    "import matplotlib.pyplot as plt"
   ]
  },
  {
   "cell_type": "code",
   "execution_count": 3,
   "id": "6e9a519f",
   "metadata": {},
   "outputs": [],
   "source": [
    "def pre_process(x):\n",
    "    x=x.reshape(-1,784)\n",
    "    x=x/255\n",
    "    return x"
   ]
  },
  {
   "cell_type": "code",
   "execution_count": 4,
   "id": "65f9de1c",
   "metadata": {},
   "outputs": [],
   "source": [
    "x_train=pre_process(x_train)\n",
    "x_test=pre_process(x_test)"
   ]
  },
  {
   "cell_type": "code",
   "execution_count": 5,
   "id": "294c4fe0",
   "metadata": {},
   "outputs": [],
   "source": [
    "def sigmoid(x):\n",
    "    return 1.0/(1+np.exp(-x))\n",
    "def sigmoidPrime(x):\n",
    "    return sigmoid(x)*(1-sigmoid(x))\n",
    "\n",
    "\n",
    "def relu(x):\n",
    "    return x if x>0 else 0\n",
    "\n",
    "def reluPrime(x):\n",
    "    return 1 if x>0 else 0"
   ]
  },
  {
   "cell_type": "code",
   "execution_count": 6,
   "id": "327123c0",
   "metadata": {},
   "outputs": [],
   "source": [
    "def soft_max(x):\n",
    "    return np.exp(x)/np.sum(np.exp(x),axis=0)"
   ]
  },
  {
   "cell_type": "code",
   "execution_count": 7,
   "id": "f374351c",
   "metadata": {},
   "outputs": [],
   "source": [
    "def soft_max_prime(x):\n",
    "    return soft_max(x)*(1-soft_max(x))\n",
    "    "
   ]
  },
  {
   "cell_type": "code",
   "execution_count": 8,
   "id": "663c1a30",
   "metadata": {},
   "outputs": [],
   "source": [
    "class OneHotEncoder:\n",
    "    def __init__(self,max_):\n",
    "        self.max_=max_\n",
    "    def transform(self,x):\n",
    "        out=np.zeros((len(x),self.max_))\n",
    "        out[np.arange(len(x)),x]=1\n",
    "        return out.T"
   ]
  },
  {
   "cell_type": "code",
   "execution_count": 31,
   "id": "a6cd0af1",
   "metadata": {},
   "outputs": [],
   "source": [
    "def cross_entropy_loss(y_pre,y):\n",
    "    loss=-np.sum(y*np.log(y_pre))\n",
    "    return loss/float(y_pre.shape[1])"
   ]
  },
  {
   "cell_type": "code",
   "execution_count": 32,
   "id": "c36647bb",
   "metadata": {},
   "outputs": [],
   "source": [
    "def getSig():\n",
    "    return lambda x:1.0/(1+np.exp(-x))"
   ]
  },
  {
   "cell_type": "code",
   "execution_count": 33,
   "id": "e4537290",
   "metadata": {},
   "outputs": [],
   "source": [
    "batch_size=2048"
   ]
  },
  {
   "cell_type": "code",
   "execution_count": 34,
   "id": "86f8e3b1",
   "metadata": {},
   "outputs": [],
   "source": [
    "class NN:\n",
    "    def __init__(self,input_size,layers,activations):\n",
    "        self.input_size=input_size\n",
    "        self.layers=layers\n",
    "        self.nlayers=len(layers)\n",
    "        self.weights=[]\n",
    "        self.weights.append(np.random.randn(layers[0],input_size))\n",
    "        self.deltas=[None]*self.nlayers\n",
    "        self.gradients=[None]*self.nlayers\n",
    "        self.biases=[]\n",
    "        for i in range(1,len(layers)):\n",
    "            self.weights.append(np.random.randn(layers[i],layers[i-1]))\n",
    "        for i in range(len(layers)):\n",
    "            self.biases.append(np.random.randn(layers[i],1))                              \n",
    "    def forward(self,x):\n",
    "        layer_outputs=[]\n",
    "        inter_values=[]\n",
    "        \n",
    "        for i in range(len(self.weights)):\n",
    "            inter_values.append(self.weights[i].dot(x)+self.biases[i])\n",
    "#             sig=getSig()\n",
    "            if i!= len(self.weights)-1:\n",
    "                layer_outputs.append(sigmoid(inter_values[-1]))\n",
    "                x=layer_outputs[-1]\n",
    "        layer_outputs.append(soft_max(inter_values[-1]))\n",
    "        return layer_outputs,inter_values\n",
    "    def compute_deltas(self,layer_outputs,inter_values,y_one_hot):\n",
    "        self.deltas[self.nlayers-1]=(layer_outputs[self.nlayers-1]-y_one_hot)*soft_max_prime(inter_values[self.nlayers-1])\n",
    "        \n",
    "        for i in range(self.nlayers-2,-1,-1):\n",
    "            self.deltas[i]=np.matmul(self.weights[i+1].T,self.deltas[i+1])*sigmoidPrime(inter_values[i])\n",
    "        \n",
    "    def find_gradients(self,x,layer_outs):\n",
    "        self.gradients[0]=np.matmul(self.deltas[0],x.T)/batch_size\n",
    "        for i in range(1,self.nlayers):\n",
    "            self.gradients[i]=(np.dot(self.deltas[i],layer_outs[i-1].T))/batch_size\n",
    "            \n",
    "    def update_weights(self,lr):\n",
    "        for each in range(self.nlayers):\n",
    "            self.weights[each]=self.weights[each]-lr*self.gradients[each]\n",
    "            \n",
    "    def train(self,x,y,epochs=1):\n",
    "        losses=[]\n",
    "        for epoch in range(epochs):    \n",
    "            i=0\n",
    "            batch_count=0\n",
    "            loss=0\n",
    "            while i+batch_size < x.shape[1]:\n",
    "                batch_count+=1\n",
    "                x_batch=x[:,i:i+batch_size]\n",
    "                y_batch=y[:,i:i+batch_size]\n",
    "                i+=512\n",
    "                layer_outs,inter_values=self.forward(x_batch)\n",
    "                loss+=cross_entropy_loss(layer_outs[-1],y_batch)\n",
    "                self.compute_deltas(layer_outs,inter_values,y_batch)\n",
    "                self.find_gradients(x_batch,layer_outs)\n",
    "                self.update_weights(lr=0.1)\n",
    "            losses.append(loss/batch_count)\n",
    "            print(f\"epoch {epoch+1} : loss = {loss/batch_count}\")\n",
    "        return losses\n",
    "    \n",
    "    def predict_probas(self,x):\n",
    "        layer_outs,inter_values=self.forward(x)\n",
    "        return layer_outs[-1]\n",
    "        "
   ]
  },
  {
   "cell_type": "code",
   "execution_count": 35,
   "id": "26b58d1f",
   "metadata": {},
   "outputs": [],
   "source": [
    "sample=60000\n",
    "x_tr=x_train[:sample]\n",
    "\n",
    "y_tr=y_train[:sample]\n",
    "\n",
    "one_hot=OneHotEncoder(10)\n",
    "one_hot_y=one_hot.transform(y_tr)\n"
   ]
  },
  {
   "cell_type": "code",
   "execution_count": 36,
   "id": "2931edeb",
   "metadata": {},
   "outputs": [
    {
     "name": "stdout",
     "output_type": "stream",
     "text": [
      "epoch 1 : loss = 5.1273753299383635\n",
      "epoch 2 : loss = 3.092348874947717\n",
      "epoch 3 : loss = 2.471577661569845\n",
      "epoch 4 : loss = 2.1520124626372423\n",
      "epoch 5 : loss = 1.9381951339571433\n",
      "epoch 6 : loss = 1.7824885019541976\n",
      "epoch 7 : loss = 1.6578003922956985\n",
      "epoch 8 : loss = 1.552306754214337\n",
      "epoch 9 : loss = 1.4616353359804588\n",
      "epoch 10 : loss = 1.3833497515702315\n"
     ]
    }
   ],
   "source": [
    "obj =NN(784,[128,128,128,10],'sigmoid')\n",
    "losses=obj.train(x_tr.T,one_hot_y,10)"
   ]
  },
  {
   "cell_type": "code",
   "execution_count": 15,
   "id": "05dcc788",
   "metadata": {},
   "outputs": [
    {
     "data": {
      "image/png": "[encoded data removed]",
      "text/plain": [
       "<Figure size 720x576 with 1 Axes>"
      ]
     },
     "metadata": {
      "needs_background": "light"
     },
     "output_type": "display_data"
    }
   ],
   "source": [
    "\n",
    "plt.figure(figsize=(10,8))\n",
    "plt.plot(losses)\n",
    "plt.xlabel(\"epoch\",fontsize=18)\n",
    "plt.ylabel(\"train loss\",fontsize=18)\n",
    "plt.show()"
   ]
  },
  {
   "cell_type": "code",
   "execution_count": 16,
   "id": "4126425b",
   "metadata": {},
   "outputs": [],
   "source": [
    "# wandb.init(\n",
    "#     # set the wandb project where this run will be logged\n",
    "#     project=\"Assignment_1_Q3\",\n",
    "    \n",
    "#     # track hyperparameters and run metadata\n",
    "#     config={\n",
    "#     \"dataset\": \"Fashion Mnist\",\n",
    "#     }\n",
    "# )\n",
    "\n",
    "# for loss in losses:\n",
    "#     wandb.log({'loss':loss})"
   ]
  },
  {
   "cell_type": "code",
   "execution_count": 17,
   "id": "c0c20f9d",
   "metadata": {},
   "outputs": [
    {
     "name": "stdout",
     "output_type": "stream",
     "text": [
      "              precision    recall  f1-score   support\n",
      "\n",
      "           0       0.65      0.61      0.63      6421\n",
      "           1       0.84      0.84      0.84      5977\n",
      "           2       0.47      0.47      0.47      6000\n",
      "           3       0.62      0.62      0.62      6048\n",
      "           4       0.61      0.46      0.52      7982\n",
      "           5       0.45      0.57      0.50      4781\n",
      "           6       0.12      0.28      0.17      2618\n",
      "           7       0.75      0.70      0.72      6508\n",
      "           8       0.68      0.61      0.64      6662\n",
      "           9       0.78      0.67      0.72      7003\n",
      "\n",
      "    accuracy                           0.60     60000\n",
      "   macro avg       0.60      0.58      0.58     60000\n",
      "weighted avg       0.63      0.60      0.61     60000\n",
      "\n"
     ]
    }
   ],
   "source": [
    "out=obj.predict_probas(x_tr.T)\n",
    "pred=np.argmax(out,axis=0)\n",
    "print(classification_report(pred,y_train.flatten()))"
   ]
  },
  {
   "cell_type": "code",
   "execution_count": 18,
   "id": "d6ac06ba",
   "metadata": {},
   "outputs": [
    {
     "name": "stdout",
     "output_type": "stream",
     "text": [
      "              precision    recall  f1-score   support\n",
      "\n",
      "           0       0.65      0.59      0.62      1104\n",
      "           1       0.83      0.86      0.84       971\n",
      "           2       0.44      0.43      0.44      1022\n",
      "           3       0.60      0.61      0.60       978\n",
      "           4       0.57      0.44      0.49      1304\n",
      "           5       0.46      0.57      0.51       798\n",
      "           6       0.10      0.22      0.14       464\n",
      "           7       0.77      0.70      0.74      1096\n",
      "           8       0.68      0.61      0.64      1103\n",
      "           9       0.78      0.67      0.72      1160\n",
      "\n",
      "    accuracy                           0.59     10000\n",
      "   macro avg       0.59      0.57      0.57     10000\n",
      "weighted avg       0.62      0.59      0.60     10000\n",
      "\n"
     ]
    }
   ],
   "source": [
    "out=obj.predict_probas(x_test.T)\n",
    "pred=np.argmax(out,axis=0)\n",
    "print(classification_report(pred,y_test.flatten()))"
   ]
  },
  {
   "cell_type": "code",
   "execution_count": null,
   "id": "9f950308",
   "metadata": {},
   "outputs": [],
   "source": []
  }
 ],
 "metadata": {
  "kernelspec": {
   "display_name": "Python 3 (ipykernel)",
   "language": "python",
   "name": "python3"
  },
  "language_info": {
   "codemirror_mode": {
    "name": "ipython",
    "version": 3
   },
   "file_extension": ".py",
   "mimetype": "text/x-python",
   "name": "python",
   "nbconvert_exporter": "python",
   "pygments_lexer": "ipython3",
   "version": "3.9.12"
  }
 },
 "nbformat": 4,
 "nbformat_minor": 5
}
