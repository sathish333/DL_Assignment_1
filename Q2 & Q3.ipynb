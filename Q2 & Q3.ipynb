{
 "cells": [
  {
   "cell_type": "code",
   "execution_count": 211,
   "id": "6e1dcb4e",
   "metadata": {},
   "outputs": [],
   "source": [
    "from keras.datasets import fashion_mnist\n",
    "import wandb\n",
    "import numpy as np\n",
    "from sklearn.metrics import classification_report\n",
    "import matplotlib.pyplot as plt\n",
    "import seaborn as sns\n",
    "from sklearn.metrics import confusion_matrix\n",
    "import warnings\n",
    "warnings.filterwarnings('ignore')\n",
    "# wandb.login()\n"
   ]
  },
  {
   "cell_type": "code",
   "execution_count": 212,
   "id": "c8be63ce",
   "metadata": {},
   "outputs": [],
   "source": [
    "def relu(x):\n",
    "    return np.maximum(0,x)\n",
    "\n",
    "def reluPrime(x):\n",
    "    return 1*(x>0)"
   ]
  },
  {
   "cell_type": "code",
   "execution_count": 213,
   "id": "6e9a519f",
   "metadata": {},
   "outputs": [],
   "source": [
    "def pre_process(x):\n",
    "    x=x.reshape(-1,784)\n",
    "    x=x/255\n",
    "    return x"
   ]
  },
  {
   "cell_type": "code",
   "execution_count": 214,
   "id": "f69412cb",
   "metadata": {},
   "outputs": [],
   "source": [
    "class Activation_Functions:\n",
    "    def __init__(self,function):\n",
    "        self.function=function\n",
    "    def getActivations(self,x):\n",
    "        if self.function=='relu':\n",
    "            return np.maximum(0,x)\n",
    "        elif self.function=='sigmoid':\n",
    "            return 1.0/(1+np.exp(-x))\n",
    "        elif self.function=='tanh':\n",
    "            return np.tanh(x)\n",
    "    def getDerivatives(self,x):\n",
    "        if self.function=='relu':\n",
    "             return 1*(x>0)\n",
    "        elif self.function=='sigmoid':\n",
    "            return sigmoid(x)*(1-sigmoid(x))\n",
    "        elif self.function=='tanh':\n",
    "            return (1 - (np.tanh(x)**2))         "
   ]
  },
  {
   "cell_type": "code",
   "execution_count": 273,
   "id": "d9724d42",
   "metadata": {},
   "outputs": [],
   "source": [
    "class Optimizers:\n",
    "    def __init__(self,method):\n",
    "        self.method=method\n",
    "    def update(self,obj,lr,momentum=0.9,nag_beta=0.9,x_batch=None,y_batch=None,lambda_=0):\n",
    "        if self.method=='sgd':\n",
    "            for i in range(len(obj.layers)):\n",
    "                obj.weights[i]=obj.weights[i]-lr*(2*lambda_*obj.weights[i]+obj.gradients_w[i])\n",
    "                obj.biases[i]=obj.biases[i]-lr*obj.gradients_b[i]\n",
    "        elif self.method=='momentum':\n",
    "            init=0\n",
    "            new_gradients=[None]*len(obj.gradients_w)\n",
    "            for i in range(len(obj.layers)):\n",
    "                if obj.prev_gradients_w!=None:\n",
    "                    new_gradients[i]=(1-momentum)*obj.gradients_w[i]+obj.prev_gradients_w[i]*momentum\n",
    "                else:\n",
    "                    new_gradients[i]=lr*obj.gradients_w[i]\n",
    "                    \n",
    "                obj.weights[i]=obj.weights[i]-lr*(new_gradients[i]+2*lambda_*obj.weights[i])\n",
    "            obj.prev_gradients_w=new_gradients\n",
    "            \n",
    "            \n",
    "            pass\n",
    "        elif self.method=='rmsprop':\n",
    "            pass\n",
    "        elif self.method=='adam':\n",
    "            pass\n",
    "        elif self.method=='nadam':\n",
    "            pass\n",
    "        elif self.method=='nag':\n",
    "            original_weights=obj.weights.copy()\n",
    "            original_graidents=obj.gradients_w.copy()\n",
    "            if obj.prev_gradients_w!=None:\n",
    "                 for i in range(len(obj.layers)):\n",
    "                        obj.weights[i]=obj.weights[i]-nag_beta*obj.gradients_w[i]\n",
    "            \n",
    "            layer_outs,inter_values=obj.forward(x_batch)\n",
    "            loss=cross_entropy_loss(layer_outs[-1],y_batch)\n",
    "            obj.compute_deltas(layer_outs,inter_values,y_batch)\n",
    "            obj.find_gradients(x_batch,layer_outs)\n",
    "            \n",
    "            for i in range(len(obj.gradients_w)):\n",
    "                if obj.prev_gradients_w!=None:\n",
    "                    obj.gradients_w[i]=original_graidents[i]*nag_beta+obj.gradients_w[i]\n",
    "                obj.weights[i]=original_weights[i]-lr*(obj.gradients_w[i]+2*lambda_*obj.weights[i])\n",
    "            obj.prev_gradients_w=True\n",
    "            return loss\n"
   ]
  },
  {
   "cell_type": "code",
   "execution_count": 274,
   "id": "7f4c1ebf",
   "metadata": {},
   "outputs": [],
   "source": [
    "#   for i in range(len(obj.layers)):\n",
    "#                 if obj.prev_gradients_w!=None:\n",
    "#                     self.weights[i]=\n",
    "#                 if obj.prev_gradients_w!=None:\n",
    "#                     new_gradients[i]=(1-momentum)*obj.gradients_w[i]+obj.prev_gradients_w[i]*momentum\n",
    "#                 else:\n",
    "#                     new_gradients[i]=lr*obj.gradients_w[i]"
   ]
  },
  {
   "cell_type": "code",
   "execution_count": 275,
   "id": "294c4fe0",
   "metadata": {},
   "outputs": [],
   "source": [
    "def sigmoid(x):\n",
    "    return 1/(1+np.exp(-x))\n",
    "def sigmoidPrime(x):\n",
    "    return sigmoid(x)*(1-sigmoid(x))\n",
    "\n",
    "def tanh(x):\n",
    "    return np.tanh(x)\n",
    "\n",
    "def tanhPrime(x):\n",
    "    return (1 - (np.tanh(x)**2))"
   ]
  },
  {
   "cell_type": "code",
   "execution_count": 276,
   "id": "9824a03b",
   "metadata": {},
   "outputs": [],
   "source": [
    "def intialize_weights(method,rows,cols):\n",
    "    if method=='uniform':\n",
    "        return np.random.rand(rows,cols)\n",
    "    elif method=='xavier':\n",
    "        return np.random.randn(rows,cols)*np.sqrt(2/(rows+cols))\n",
    "    else:\n",
    "        return np.random.randn(rows,cols)"
   ]
  },
  {
   "cell_type": "code",
   "execution_count": 277,
   "id": "bfff35d6",
   "metadata": {},
   "outputs": [],
   "source": [
    "(x_train, y_train), (x_test, y_test) = fashion_mnist.load_data()\n",
    "\n",
    "x_train,x_valid=x_train[:int(len(x_train)*0.8)],x_train[int(len(x_train)*0.8):] #splitting train into train and valid\n",
    "y_train,y_valid=y_train[:int(len(y_train)*0.8)],y_train[int(len(y_train)*0.8):]\n",
    "\n",
    "x_train=pre_process(x_train)\n",
    "x_valid=pre_process(x_valid)\n",
    "x_test=pre_process(x_test)"
   ]
  },
  {
   "cell_type": "code",
   "execution_count": 278,
   "id": "327123c0",
   "metadata": {},
   "outputs": [],
   "source": [
    "def soft_max(x):\n",
    "    return np.exp(x)/np.sum(np.exp(x),axis=0)\n",
    "#     min_=np.min(x,axis=0)\n",
    "#     max_=np.max(x,axis=0)\n",
    "\n",
    "    x=x-max_\n",
    "    \n",
    "#     x=(x-min_)/(max_-min_)\n",
    "    return np.exp(x)/np.sum(np.exp(x),axis=0)"
   ]
  },
  {
   "cell_type": "code",
   "execution_count": 279,
   "id": "f374351c",
   "metadata": {},
   "outputs": [],
   "source": [
    "def soft_max_prime(x):\n",
    "    return soft_max(x)*(1-soft_max(x))\n",
    "    "
   ]
  },
  {
   "cell_type": "code",
   "execution_count": 280,
   "id": "663c1a30",
   "metadata": {},
   "outputs": [],
   "source": [
    "class OneHotEncoder:\n",
    "    def __init__(self,max_):\n",
    "        self.max_=max_\n",
    "    def transform(self,x):\n",
    "        out=np.zeros((len(x),self.max_))\n",
    "        out[np.arange(len(x)),x]=1\n",
    "        return out.T"
   ]
  },
  {
   "cell_type": "code",
   "execution_count": 281,
   "id": "a6cd0af1",
   "metadata": {},
   "outputs": [],
   "source": [
    "def cross_entropy_loss(y_pre,y):\n",
    "#     y_pre[y_pre<1e-15]=1e-15\n",
    "    loss=-np.sum(y*np.log(y_pre))\n",
    "    return loss/float(y_pre.shape[1])"
   ]
  },
  {
   "cell_type": "code",
   "execution_count": 282,
   "id": "c36647bb",
   "metadata": {},
   "outputs": [],
   "source": [
    "def getSig():\n",
    "    return lambda x:1.0/(1+np.exp(-x))"
   ]
  },
  {
   "cell_type": "code",
   "execution_count": 283,
   "id": "5797ed93",
   "metadata": {},
   "outputs": [],
   "source": [
    "# best: batch_size=32 sgd sigmoid xavier 87/86"
   ]
  },
  {
   "cell_type": "code",
   "execution_count": 295,
   "id": "86f8e3b1",
   "metadata": {},
   "outputs": [],
   "source": [
    "class NN:\n",
    "    def __init__(self,input_size,layers,active_func='sigmoid',weights_init='xavier'):\n",
    "        self.input_size=input_size\n",
    "        self.layers=layers\n",
    "        self.nlayers=len(layers)\n",
    "        self.activations=Activation_Functions(active_func)\n",
    "        self.optimizer=Optimizers('sgd')\n",
    "        self.weights=[]\n",
    "        self.weights.append(intialize_weights(weights_init,layers[0],input_size))\n",
    "        self.deltas=[None]*self.nlayers\n",
    "        self.gradients_w=[None]*self.nlayers\n",
    "        self.gradients_b=[None]*self.nlayers\n",
    "        self.prev_gradients_w=None\n",
    "        \n",
    "        \n",
    "        self.biases=[]\n",
    "        for i in range(1,len(layers)):\n",
    "            self.weights.append(intialize_weights(weights_init,layers[i],layers[i-1]))\n",
    "        for i in range(len(layers)):\n",
    "            self.biases.append(np.random.randn(layers[i],1))                              \n",
    "    def forward(self,x):\n",
    "        layer_outputs=[]\n",
    "        inter_values=[]\n",
    "        \n",
    "        for i in range(len(self.weights)):\n",
    "            inter_values.append(self.weights[i].dot(x)+self.biases[i])\n",
    "            if i!= len(self.weights)-1:\n",
    "                layer_outputs.append(self.activations.getActivations(inter_values[-1]))\n",
    "                x=layer_outputs[-1]\n",
    "        layer_outputs.append(soft_max(inter_values[-1]))\n",
    "        return layer_outputs,inter_values\n",
    "    def compute_deltas(self,layer_outputs,inter_values,y_one_hot):\n",
    "#         self.deltas[self.nlayers-1]=(layer_outputs[self.nlayers-1]-y_one_hot)*soft_max_prime(inter_values[self.nlayers-1])\n",
    "        self.deltas[self.nlayers-1]=(layer_outputs[self.nlayers-1]-y_one_hot)\n",
    "        \n",
    "        for i in range(self.nlayers-2,-1,-1):\n",
    "            self.deltas[i]=np.matmul(self.weights[i+1].T,self.deltas[i+1])*self.activations.getDerivatives(inter_values[i])\n",
    "        \n",
    "    def find_gradients(self,x,layer_outs):\n",
    "        self.gradients_w[0]=np.matmul(self.deltas[0],x.T)/batch_size\n",
    "        for i in range(1,self.nlayers):\n",
    "            self.gradients_w[i]=(np.dot(self.deltas[i],layer_outs[i-1].T))/batch_size\n",
    "        for i in range(self.nlayers):\n",
    "            self.gradients_b[i]=np.sum(self.deltas[i],keepdims=True)/batch_size\n",
    "        \n",
    "            \n",
    "    def update_weights(self,lr):\n",
    "        for each in range(self.nlayers):\n",
    "            self.optimizer.update(self,lr=0.1)\n",
    "    \n",
    "            \n",
    "    def train(self,x,y,x_valid,y_valid,epochs=1):\n",
    "        train_losses=[]\n",
    "        valid_losses=[]\n",
    "        for epoch in range(epochs):\n",
    "            self.prev_gradients_w=None\n",
    "            i=0\n",
    "            batch_count=0\n",
    "            loss=0\n",
    "            while i+batch_size < x.shape[1]:\n",
    "                batch_count+=1\n",
    "                x_batch=x[:,i:i+batch_size]\n",
    "                y_batch=y[:,i:i+batch_size]\n",
    "                i+=batch_size\n",
    "                if self.optimizer.method!='nag':\n",
    "                    layer_outs,inter_values=self.forward(x_batch)\n",
    "                    loss+=cross_entropy_loss(layer_outs[-1],y_batch)\n",
    "                    self.compute_deltas(layer_outs,inter_values,y_batch)\n",
    "                    self.find_gradients(x_batch,layer_outs)\n",
    "                    self.optimizer.update(self,0.1,0.1,lambda_=0.0005)\n",
    "                else:\n",
    "                    loss+=self.optimizer.update(self,0.1,0.1,x_batch=x_batch,y_batch=y_batch,lambda_=0.0005)\n",
    "                    \n",
    "            train_losses.append(loss/batch_count)\n",
    "            layer_outs,inter_values=self.forward(x_valid)\n",
    "            valid_loss=cross_entropy_loss(layer_outs[-1],y_valid)/(y_valid.shape[1])\n",
    "            valid_losses.append(valid_loss)\n",
    "            print(f\"epoch {epoch+1} : train loss = {train_losses[-1]} valid loss = {valid_loss}\")\n",
    "        return train_losses,valid_losses\n",
    "    \n",
    "    def predict_probas(self,x):\n",
    "        layer_outs,inter_values=self.forward(x)\n",
    "        return layer_outs[-1]\n",
    "        "
   ]
  },
  {
   "cell_type": "code",
   "execution_count": 296,
   "id": "26b58d1f",
   "metadata": {},
   "outputs": [],
   "source": [
    "batch_size=32\n",
    "sample=len(x_train)\n",
    "x_tr=x_train[:sample]\n",
    "\n",
    "y_tr=y_train[:sample]\n",
    "\n",
    "one_hot=OneHotEncoder(10)\n",
    "one_hot_y_train=one_hot.transform(y_tr)\n",
    "\n",
    "one_hot_y_valid=one_hot.transform(y_valid)"
   ]
  },
  {
   "cell_type": "code",
   "execution_count": 297,
   "id": "0cc88b45",
   "metadata": {},
   "outputs": [
    {
     "name": "stdout",
     "output_type": "stream",
     "text": [
      "epoch 1 : train loss = 2.016297540114297 valid loss = 0.00012405279234559824\n",
      "epoch 2 : train loss = 1.2556797156770882 valid loss = 8.967165246938134e-05\n",
      "epoch 3 : train loss = 0.9197364667041442 valid loss = 6.583382830888504e-05\n",
      "epoch 4 : train loss = 0.7365702231622293 valid loss = 5.6484425831573965e-05\n",
      "epoch 5 : train loss = 0.6535851103601663 valid loss = 5.1609733497543106e-05\n",
      "epoch 6 : train loss = 0.6039690730564274 valid loss = 4.8026013638330513e-05\n",
      "epoch 7 : train loss = 0.5639048696353116 valid loss = 4.53279051205176e-05\n",
      "epoch 8 : train loss = 0.5377841541824987 valid loss = 4.375585608756017e-05\n",
      "epoch 9 : train loss = 0.5210137722122893 valid loss = 4.2683298418528045e-05\n",
      "epoch 10 : train loss = 0.5086154731793207 valid loss = 4.186212013833957e-05\n"
     ]
    }
   ],
   "source": [
    "obj =NN(784,[32,32,32,10],'sigmoid','xavier')\n",
    "train_losses,valid_losses=obj.train(x_tr.T,one_hot_y_train,x_valid.T,one_hot_y_valid,10)"
   ]
  },
  {
   "cell_type": "code",
   "execution_count": 298,
   "id": "05dcc788",
   "metadata": {},
   "outputs": [
    {
     "data": {
      "image/png": "[encoded data removed]",
      "text/plain": [
       "<Figure size 720x576 with 1 Axes>"
      ]
     },
     "metadata": {},
     "output_type": "display_data"
    }
   ],
   "source": [
    "plt.figure(figsize=(10,8))\n",
    "plt.plot(np.arange(1,len(train_losses)+1),train_losses,label='train loss')\n",
    "plt.plot(np.arange(1,len(valid_losses)+1),valid_losses,label='valid loss')\n",
    "\n",
    "plt.xlabel(\"epoch\",fontsize=18)\n",
    "plt.ylabel(\"loss\",fontsize=18)\n",
    "plt.legend(fontsize=18)\n",
    "\n",
    "plt.show()"
   ]
  },
  {
   "cell_type": "code",
   "execution_count": 299,
   "id": "c0c20f9d",
   "metadata": {},
   "outputs": [
    {
     "name": "stdout",
     "output_type": "stream",
     "text": [
      "              precision    recall  f1-score   support\n",
      "\n",
      "           0       0.84      0.74      0.79      5416\n",
      "           1       0.95      0.99      0.97      4606\n",
      "           2       0.75      0.72      0.74      4959\n",
      "           3       0.86      0.84      0.85      4909\n",
      "           4       0.82      0.72      0.77      5424\n",
      "           5       0.91      0.93      0.92      4690\n",
      "           6       0.49      0.69      0.57      3492\n",
      "           7       0.93      0.89      0.91      5046\n",
      "           8       0.94      0.96      0.95      4734\n",
      "           9       0.93      0.95      0.94      4724\n",
      "\n",
      "    accuracy                           0.84     48000\n",
      "   macro avg       0.84      0.84      0.84     48000\n",
      "weighted avg       0.85      0.84      0.85     48000\n",
      "\n"
     ]
    }
   ],
   "source": [
    "out=obj.predict_probas(x_tr.T)\n",
    "pred=np.argmax(out,axis=0)\n",
    "print(classification_report(pred,y_train.flatten()))"
   ]
  },
  {
   "cell_type": "code",
   "execution_count": 197,
   "id": "6ea9088b",
   "metadata": {},
   "outputs": [
    {
     "name": "stdout",
     "output_type": "stream",
     "text": [
      "              precision    recall  f1-score   support\n",
      "\n",
      "           0       0.82      0.83      0.82      1232\n",
      "           1       0.95      0.98      0.97      1169\n",
      "           2       0.81      0.75      0.78      1322\n",
      "           3       0.90      0.86      0.88      1255\n",
      "           4       0.83      0.73      0.78      1380\n",
      "           5       0.93      0.95      0.94      1168\n",
      "           6       0.54      0.69      0.61       895\n",
      "           7       0.94      0.91      0.93      1230\n",
      "           8       0.95      0.96      0.95      1175\n",
      "           9       0.93      0.95      0.94      1174\n",
      "\n",
      "    accuracy                           0.86     12000\n",
      "   macro avg       0.86      0.86      0.86     12000\n",
      "weighted avg       0.87      0.86      0.86     12000\n",
      "\n"
     ]
    }
   ],
   "source": [
    "out=obj.predict_probas(x_valid.T)\n",
    "pred=np.argmax(out,axis=0)\n",
    "print(classification_report(pred,y_valid.flatten()))"
   ]
  },
  {
   "cell_type": "code",
   "execution_count": 198,
   "id": "d6ac06ba",
   "metadata": {},
   "outputs": [
    {
     "name": "stdout",
     "output_type": "stream",
     "text": [
      "              precision    recall  f1-score   support\n",
      "\n",
      "           0       0.80      0.81      0.81       991\n",
      "           1       0.95      0.98      0.97       969\n",
      "           2       0.79      0.72      0.75      1104\n",
      "           3       0.87      0.84      0.85      1043\n",
      "           4       0.81      0.73      0.76      1108\n",
      "           5       0.94      0.94      0.94       994\n",
      "           6       0.54      0.67      0.60       804\n",
      "           7       0.94      0.91      0.92      1040\n",
      "           8       0.94      0.96      0.95       972\n",
      "           9       0.93      0.95      0.94       975\n",
      "\n",
      "    accuracy                           0.85     10000\n",
      "   macro avg       0.85      0.85      0.85     10000\n",
      "weighted avg       0.85      0.85      0.85     10000\n",
      "\n"
     ]
    }
   ],
   "source": [
    "out=obj.predict_probas(x_test.T)\n",
    "pred=np.argmax(out,axis=0)\n",
    "print(classification_report(pred,y_test.flatten()))"
   ]
  },
  {
   "cell_type": "code",
   "execution_count": 162,
   "id": "5cf7b483",
   "metadata": {},
   "outputs": [],
   "source": [
    "mapping={\n",
    "0:'T-shirt/top',\n",
    "1:'Trouser',\n",
    "2:'Pullover',\n",
    "3:'Dress',\n",
    "4:'Coat',\n",
    "5:'Sandal',\n",
    "6:'Shirt',\n",
    "7:'Sneaker',\n",
    "8:'Bag',\n",
    "9:'Ankle boot'} \n",
    "\n",
    "labels=list(mapping.values())"
   ]
  },
  {
   "cell_type": "code",
   "execution_count": 163,
   "id": "f61e1505",
   "metadata": {},
   "outputs": [],
   "source": [
    "def plot_confusion_matrix(target,pred):\n",
    "    plt.figure(figsize=(14,8))\n",
    "    sns.set(font_scale=1.2)\n",
    "    sns.heatmap(confusion_matrix(target,pred),cmap=plt.cm.Blues,annot_kws={\"fontsize\":14},xticklabels=labels,\n",
    "                yticklabels=labels)\n",
    "    plt.xlabel('Predcited',fontsize=16)\n",
    "    plt.ylabel('Actual',fontsize=16)\n",
    "    plt.title('Confusion matrix (test data)',fontsize=20)\n",
    "    plt.show()"
   ]
  },
  {
   "cell_type": "code",
   "execution_count": 164,
   "id": "24932638",
   "metadata": {},
   "outputs": [
    {
     "data": {
      "image/png": "[encoded data removed]",
      "text/plain": [
       "<Figure size 1008x576 with 2 Axes>"
      ]
     },
     "metadata": {},
     "output_type": "display_data"
    }
   ],
   "source": [
    "plot_confusion_matrix(y_test,pred)"
   ]
  },
  {
   "cell_type": "code",
   "execution_count": null,
   "id": "1281da91",
   "metadata": {},
   "outputs": [],
   "source": []
  }
 ],
 "metadata": {
  "kernelspec": {
   "display_name": "Python 3 (ipykernel)",
   "language": "python",
   "name": "python3"
  },
  "language_info": {
   "codemirror_mode": {
    "name": "ipython",
    "version": 3
   },
   "file_extension": ".py",
   "mimetype": "text/x-python",
   "name": "python",
   "nbconvert_exporter": "python",
   "pygments_lexer": "ipython3",
   "version": "3.9.12"
  }
 },
 "nbformat": 4,
 "nbformat_minor": 5
}
