{
 "cells": [
  {
   "cell_type": "code",
   "execution_count": 1,
   "id": "6e1dcb4e",
   "metadata": {},
   "outputs": [],
   "source": [
    "from keras.datasets import fashion_mnist\n",
    "import wandb\n",
    "import numpy as np\n",
    "from sklearn.metrics import classification_report\n",
    "import matplotlib.pyplot as plt\n",
    "import seaborn as sns\n",
    "from sklearn.metrics import confusion_matrix\n",
    "import warnings\n",
    "warnings.filterwarnings('ignore')\n",
    "# wandb.login()\n"
   ]
  },
  {
   "cell_type": "code",
   "execution_count": 2,
   "id": "c8be63ce",
   "metadata": {},
   "outputs": [],
   "source": [
    "def relu(x):\n",
    "    return np.maximum(0,x)\n",
    "\n",
    "def reluPrime(x):\n",
    "    return 1*(x>0)"
   ]
  },
  {
   "cell_type": "code",
   "execution_count": 3,
   "id": "6e9a519f",
   "metadata": {},
   "outputs": [],
   "source": [
    "def pre_process(x):\n",
    "    x=x.reshape(-1,784)\n",
    "    x=x/255\n",
    "    return x"
   ]
  },
  {
   "cell_type": "code",
   "execution_count": 4,
   "id": "f69412cb",
   "metadata": {},
   "outputs": [],
   "source": [
    "class Activation_Functions:\n",
    "    def __init__(self,function):\n",
    "        self.function=function\n",
    "    def getActivations(self,x):\n",
    "        if self.function=='relu':\n",
    "            return np.maximum(0,x)\n",
    "        elif self.function=='sigmoid':\n",
    "            return 1.0/(1+np.exp(-x))\n",
    "        elif self.function=='tanh':\n",
    "            return np.tanh(x)\n",
    "    def getDerivatives(self,x):\n",
    "        if self.function=='relu':\n",
    "             return 1*(x>0)\n",
    "        elif self.function=='sigmoid':\n",
    "            return sigmoid(x)*(1-sigmoid(x))\n",
    "        elif self.function=='tanh':\n",
    "            return (1 - (np.tanh(x)**2))         "
   ]
  },
  {
   "cell_type": "code",
   "execution_count": 5,
   "id": "d9724d42",
   "metadata": {},
   "outputs": [],
   "source": [
    "class Optimizers:\n",
    "    def __init__(self,method):\n",
    "        self.method=method\n",
    "    def update(self,obj,lr,momentum=0.9):\n",
    "        if self.method=='sgd':\n",
    "            for i in range(len(obj.layers)):\n",
    "                obj.weights[i]=obj.weights[i]-lr*obj.gradients_w[i]\n",
    "                obj.biases[i]=obj.biases[i]-lr*obj.gradients_b[i]\n",
    "        elif self.method=='momentum':\n",
    "            init=0\n",
    "            new_gradients=[None]*len(obj.gradients_w)\n",
    "            for i in range(len(obj.layers)):\n",
    "                if obj.prev_gradients_w!=None:\n",
    "                    new_gradients[i]=lr*obj.gradients_w[i]+obj.prev_gradients_w[i]*momentum\n",
    "                else:\n",
    "                    new_gradients[i]=lr*obj.gradients_w[i]\n",
    "                    \n",
    "                obj.weights[i]=obj.weights[i]-lr*new_gradients[i]\n",
    "            obj.prev_gradients_w=new_gradients\n",
    "            \n",
    "            \n",
    "            pass\n",
    "        elif self.method=='rmsprop':\n",
    "            pass\n",
    "        elif self.method=='adam':\n",
    "            pass\n",
    "        elif self.method=='nadam':\n",
    "            pass\n",
    "        elif self.method=='nag':\n",
    "            pass        "
   ]
  },
  {
   "cell_type": "code",
   "execution_count": 6,
   "id": "294c4fe0",
   "metadata": {},
   "outputs": [],
   "source": [
    "def sigmoid(x):\n",
    "    return 1/(1+np.exp(-x))\n",
    "def sigmoidPrime(x):\n",
    "    return sigmoid(x)*(1-sigmoid(x))\n",
    "\n",
    "def tanh(x):\n",
    "    return np.tanh(x)\n",
    "\n",
    "def tanhPrime(x):\n",
    "    return (1 - (np.tanh(x)**2))"
   ]
  },
  {
   "cell_type": "code",
   "execution_count": 7,
   "id": "9824a03b",
   "metadata": {},
   "outputs": [],
   "source": [
    "def intialize_weights(method,rows,cols):\n",
    "    if method=='uniform':\n",
    "        return np.random.rand(rows,cols)\n",
    "    elif method=='xavier':\n",
    "        return np.random.randn(rows,cols)*np.sqrt(2/(rows+cols))\n",
    "    else:\n",
    "        return np.random.randn(rows,cols)"
   ]
  },
  {
   "cell_type": "code",
   "execution_count": 8,
   "id": "bfff35d6",
   "metadata": {},
   "outputs": [],
   "source": [
    "(x_train, y_train), (x_test, y_test) = fashion_mnist.load_data()\n",
    "\n",
    "x_train,x_valid=x_train[:int(len(x_train)*0.8)],x_train[int(len(x_train)*0.8):] #splitting train into train and valid\n",
    "y_train,y_valid=y_train[:int(len(y_train)*0.8)],y_train[int(len(y_train)*0.8):]\n",
    "\n",
    "x_train=pre_process(x_train)\n",
    "x_valid=pre_process(x_valid)\n",
    "x_test=pre_process(x_test)"
   ]
  },
  {
   "cell_type": "code",
   "execution_count": 9,
   "id": "327123c0",
   "metadata": {},
   "outputs": [],
   "source": [
    "def soft_max(x):\n",
    "    return np.exp(x)/np.sum(np.exp(x),axis=0)\n",
    "#     min_=np.min(x,axis=0)\n",
    "#     max_=np.max(x,axis=0)\n",
    "\n",
    "    x=x-max_\n",
    "    \n",
    "#     x=(x-min_)/(max_-min_)\n",
    "    return np.exp(x)/np.sum(np.exp(x),axis=0)"
   ]
  },
  {
   "cell_type": "code",
   "execution_count": 10,
   "id": "f374351c",
   "metadata": {},
   "outputs": [],
   "source": [
    "def soft_max_prime(x):\n",
    "    return soft_max(x)*(1-soft_max(x))\n",
    "    "
   ]
  },
  {
   "cell_type": "code",
   "execution_count": 11,
   "id": "663c1a30",
   "metadata": {},
   "outputs": [],
   "source": [
    "class OneHotEncoder:\n",
    "    def __init__(self,max_):\n",
    "        self.max_=max_\n",
    "    def transform(self,x):\n",
    "        out=np.zeros((len(x),self.max_))\n",
    "        out[np.arange(len(x)),x]=1\n",
    "        return out.T"
   ]
  },
  {
   "cell_type": "code",
   "execution_count": 12,
   "id": "a6cd0af1",
   "metadata": {},
   "outputs": [],
   "source": [
    "def cross_entropy_loss(y_pre,y):\n",
    "#     y_pre[y_pre<1e-15]=1e-15\n",
    "    loss=-np.sum(y*np.log(y_pre))\n",
    "    return loss/float(y_pre.shape[1])"
   ]
  },
  {
   "cell_type": "code",
   "execution_count": 13,
   "id": "c36647bb",
   "metadata": {},
   "outputs": [],
   "source": [
    "def getSig():\n",
    "    return lambda x:1.0/(1+np.exp(-x))"
   ]
  },
  {
   "cell_type": "code",
   "execution_count": 14,
   "id": "5797ed93",
   "metadata": {},
   "outputs": [],
   "source": [
    "# best: batch_size=32 sgd sigmoid xavier 87/86"
   ]
  },
  {
   "cell_type": "code",
   "execution_count": 15,
   "id": "86f8e3b1",
   "metadata": {},
   "outputs": [],
   "source": [
    "class NN:\n",
    "    def __init__(self,input_size,layers,active_func='sigmoid',weights_init='xavier'):\n",
    "        self.input_size=input_size\n",
    "        self.layers=layers\n",
    "        self.nlayers=len(layers)\n",
    "        self.activations=Activation_Functions(active_func)\n",
    "        self.optimizer=Optimizers('sgd')\n",
    "        self.weights=[]\n",
    "        self.weights.append(intialize_weights(weights_init,layers[0],input_size))\n",
    "        self.deltas=[None]*self.nlayers\n",
    "        self.gradients_w=[None]*self.nlayers\n",
    "        self.gradients_b=[None]*self.nlayers\n",
    "        self.prev_gradients_w=None\n",
    "        \n",
    "        \n",
    "        self.biases=[]\n",
    "        for i in range(1,len(layers)):\n",
    "            self.weights.append(intialize_weights(weights_init,layers[i],layers[i-1]))\n",
    "        for i in range(len(layers)):\n",
    "            self.biases.append(np.random.randn(layers[i],1))                              \n",
    "    def forward(self,x):\n",
    "        layer_outputs=[]\n",
    "        inter_values=[]\n",
    "        \n",
    "        for i in range(len(self.weights)):\n",
    "            inter_values.append(self.weights[i].dot(x)+self.biases[i])\n",
    "            if i!= len(self.weights)-1:\n",
    "                layer_outputs.append(self.activations.getActivations(inter_values[-1]))\n",
    "                x=layer_outputs[-1]\n",
    "        layer_outputs.append(soft_max(inter_values[-1]))\n",
    "        return layer_outputs,inter_values\n",
    "    def compute_deltas(self,layer_outputs,inter_values,y_one_hot):\n",
    "#         self.deltas[self.nlayers-1]=(layer_outputs[self.nlayers-1]-y_one_hot)*soft_max_prime(inter_values[self.nlayers-1])\n",
    "        self.deltas[self.nlayers-1]=(layer_outputs[self.nlayers-1]-y_one_hot)\n",
    "        \n",
    "        for i in range(self.nlayers-2,-1,-1):\n",
    "            self.deltas[i]=np.matmul(self.weights[i+1].T,self.deltas[i+1])*self.activations.getDerivatives(inter_values[i])\n",
    "        \n",
    "    def find_gradients(self,x,layer_outs):\n",
    "        self.gradients_w[0]=np.matmul(self.deltas[0],x.T)/batch_size\n",
    "        for i in range(1,self.nlayers):\n",
    "            self.gradients_w[i]=(np.dot(self.deltas[i],layer_outs[i-1].T))/batch_size\n",
    "        for i in range(self.nlayers):\n",
    "            self.gradients_b[i]=np.sum(self.deltas[i],keepdims=True)/batch_size\n",
    "        \n",
    "            \n",
    "    def update_weights(self,lr):\n",
    "        for each in range(self.nlayers):\n",
    "            self.optimizer.update(self,lr=0.1)\n",
    "            \n",
    "    def train(self,x,y,x_valid,y_valid,epochs=1):\n",
    "        train_losses=[]\n",
    "        valid_losses=[]\n",
    "        for epoch in range(epochs):\n",
    "            self.prev_gradients_w=None\n",
    "            i=0\n",
    "            batch_count=0\n",
    "            loss=0\n",
    "            while i+batch_size < x.shape[1]:\n",
    "                batch_count+=1\n",
    "                x_batch=x[:,i:i+batch_size]\n",
    "                y_batch=y[:,i:i+batch_size]\n",
    "                i+=batch_size\n",
    "                layer_outs,inter_values=self.forward(x_batch)\n",
    "                loss+=cross_entropy_loss(layer_outs[-1],y_batch)\n",
    "                self.compute_deltas(layer_outs,inter_values,y_batch)\n",
    "                self.find_gradients(x_batch,layer_outs)\n",
    "                self.optimizer.update(self,0.1,0.1)\n",
    "            train_losses.append(loss/batch_count)\n",
    "            layer_outs,inter_values=self.forward(x_valid)\n",
    "            valid_loss=cross_entropy_loss(layer_outs[-1],y_valid)/(y_valid.shape[1])\n",
    "            valid_losses.append(valid_loss)\n",
    "            print(f\"epoch {epoch+1} : train loss = {train_losses[-1]} valid loss = {valid_loss}\")\n",
    "        return train_losses,valid_losses\n",
    "    \n",
    "    def predict_probas(self,x):\n",
    "        layer_outs,inter_values=self.forward(x)\n",
    "        return layer_outs[-1]\n",
    "        "
   ]
  },
  {
   "cell_type": "code",
   "execution_count": 16,
   "id": "26b58d1f",
   "metadata": {},
   "outputs": [],
   "source": [
    "batch_size=32\n",
    "sample=len(x_train)\n",
    "x_tr=x_train[:sample]\n",
    "\n",
    "y_tr=y_train[:sample]\n",
    "\n",
    "one_hot=OneHotEncoder(10)\n",
    "one_hot_y_train=one_hot.transform(y_tr)\n",
    "\n",
    "one_hot_y_valid=one_hot.transform(y_valid)"
   ]
  },
  {
   "cell_type": "code",
   "execution_count": 17,
   "id": "0cc88b45",
   "metadata": {},
   "outputs": [
    {
     "name": "stdout",
     "output_type": "stream",
     "text": [
      "epoch 1 : train loss = 1.8757664749158278 valid loss = 0.00010994628930967701\n",
      "epoch 2 : train loss = 1.0350360350015133 valid loss = 6.715222088597284e-05\n",
      "epoch 3 : train loss = 0.7178534899951687 valid loss = 5.2236781617561086e-05\n",
      "epoch 4 : train loss = 0.5989641859254835 valid loss = 4.611321226952851e-05\n",
      "epoch 5 : train loss = 0.5409286837361883 valid loss = 4.268725557177013e-05\n",
      "epoch 6 : train loss = 0.5016938474621011 valid loss = 4.007199264275371e-05\n",
      "epoch 7 : train loss = 0.4682492196490171 valid loss = 3.7715188134908755e-05\n",
      "epoch 8 : train loss = 0.4379786558633515 valid loss = 3.569929682864145e-05\n",
      "epoch 9 : train loss = 0.41282829193962667 valid loss = 3.410374116287356e-05\n",
      "epoch 10 : train loss = 0.3935386034351229 valid loss = 3.288457096713116e-05\n"
     ]
    }
   ],
   "source": [
    "obj =NN(784,[32,32,32,10],'sigmoid','xavier')\n",
    "train_losses,valid_losses=obj.train(x_tr.T,one_hot_y_train,x_valid.T,one_hot_y_valid,10)"
   ]
  },
  {
   "cell_type": "code",
   "execution_count": 18,
   "id": "05dcc788",
   "metadata": {},
   "outputs": [
    {
     "data": {
      "image/png": "[encoded data removed]",
      "text/plain": [
       "<Figure size 720x576 with 1 Axes>"
      ]
     },
     "metadata": {
      "needs_background": "light"
     },
     "output_type": "display_data"
    }
   ],
   "source": [
    "plt.figure(figsize=(10,8))\n",
    "plt.plot(np.arange(1,len(train_losses)+1),train_losses,label='train loss')\n",
    "plt.plot(np.arange(1,len(valid_losses)+1),valid_losses,label='valid loss')\n",
    "\n",
    "plt.xlabel(\"epoch\",fontsize=18)\n",
    "plt.ylabel(\"loss\",fontsize=18)\n",
    "plt.legend(fontsize=18)\n",
    "\n",
    "plt.show()"
   ]
  },
  {
   "cell_type": "code",
   "execution_count": 19,
   "id": "c0c20f9d",
   "metadata": {},
   "outputs": [
    {
     "name": "stdout",
     "output_type": "stream",
     "text": [
      "              precision    recall  f1-score   support\n",
      "\n",
      "           0       0.83      0.82      0.82      4813\n",
      "           1       0.97      0.99      0.98      4698\n",
      "           2       0.82      0.75      0.79      5187\n",
      "           3       0.90      0.86      0.88      5035\n",
      "           4       0.79      0.80      0.79      4716\n",
      "           5       0.95      0.95      0.95      4823\n",
      "           6       0.60      0.67      0.64      4355\n",
      "           7       0.95      0.93      0.94      4957\n",
      "           8       0.96      0.97      0.97      4751\n",
      "           9       0.94      0.97      0.95      4665\n",
      "\n",
      "    accuracy                           0.87     48000\n",
      "   macro avg       0.87      0.87      0.87     48000\n",
      "weighted avg       0.87      0.87      0.87     48000\n",
      "\n"
     ]
    }
   ],
   "source": [
    "out=obj.predict_probas(x_tr.T)\n",
    "pred=np.argmax(out,axis=0)\n",
    "print(classification_report(pred,y_train.flatten()))"
   ]
  },
  {
   "cell_type": "code",
   "execution_count": 20,
   "id": "6ea9088b",
   "metadata": {},
   "outputs": [
    {
     "name": "stdout",
     "output_type": "stream",
     "text": [
      "              precision    recall  f1-score   support\n",
      "\n",
      "           0       0.82      0.83      0.82      1229\n",
      "           1       0.96      0.99      0.97      1167\n",
      "           2       0.80      0.75      0.78      1310\n",
      "           3       0.90      0.85      0.87      1275\n",
      "           4       0.76      0.78      0.77      1197\n",
      "           5       0.93      0.93      0.93      1188\n",
      "           6       0.59      0.65      0.62      1050\n",
      "           7       0.94      0.91      0.92      1221\n",
      "           8       0.96      0.95      0.95      1193\n",
      "           9       0.93      0.96      0.95      1170\n",
      "\n",
      "    accuracy                           0.86     12000\n",
      "   macro avg       0.86      0.86      0.86     12000\n",
      "weighted avg       0.86      0.86      0.86     12000\n",
      "\n"
     ]
    }
   ],
   "source": [
    "out=obj.predict_probas(x_valid.T)\n",
    "pred=np.argmax(out,axis=0)\n",
    "print(classification_report(pred,y_valid.flatten()))"
   ]
  },
  {
   "cell_type": "code",
   "execution_count": 21,
   "id": "d6ac06ba",
   "metadata": {},
   "outputs": [
    {
     "name": "stdout",
     "output_type": "stream",
     "text": [
      "              precision    recall  f1-score   support\n",
      "\n",
      "           0       0.80      0.80      0.80       988\n",
      "           1       0.95      0.99      0.97       963\n",
      "           2       0.79      0.73      0.76      1088\n",
      "           3       0.88      0.83      0.86      1062\n",
      "           4       0.75      0.78      0.77       968\n",
      "           5       0.94      0.94      0.94       992\n",
      "           6       0.58      0.62      0.60       928\n",
      "           7       0.95      0.92      0.93      1036\n",
      "           8       0.95      0.96      0.96       996\n",
      "           9       0.93      0.95      0.94       979\n",
      "\n",
      "    accuracy                           0.85     10000\n",
      "   macro avg       0.85      0.85      0.85     10000\n",
      "weighted avg       0.85      0.85      0.85     10000\n",
      "\n"
     ]
    }
   ],
   "source": [
    "out=obj.predict_probas(x_test.T)\n",
    "pred=np.argmax(out,axis=0)\n",
    "print(classification_report(pred,y_test.flatten()))"
   ]
  },
  {
   "cell_type": "code",
   "execution_count": 22,
   "id": "694f9c05",
   "metadata": {},
   "outputs": [],
   "source": [
    "mapping={\n",
    "0:'T-shirt/top',\n",
    "1:'Trouser',\n",
    "2:'Pullover',\n",
    "3:'Dress',\n",
    "4:'Coat',\n",
    "5:'Sandal',\n",
    "6:'Shirt',\n",
    "7:'Sneaker',\n",
    "8:'Bag',\n",
    "9:'Ankle boot'} \n",
    "\n",
    "labels=list(mapping.values())"
   ]
  },
  {
   "cell_type": "code",
   "execution_count": 23,
   "id": "5e3483e3",
   "metadata": {},
   "outputs": [],
   "source": [
    "def plot_confusion_matrix(target,pred):\n",
    "    plt.figure(figsize=(14,8))\n",
    "    sns.set(font_scale=1.2)\n",
    "    sns.heatmap(confusion_matrix(target,pred),cmap=plt.cm.Blues,annot_kws={\"fontsize\":14},xticklabels=labels,\n",
    "                yticklabels=labels)\n",
    "    plt.xlabel('Predcited',fontsize=16)\n",
    "    plt.ylabel('Actual',fontsize=16)\n",
    "    plt.title('Confusion matrix (test data)',fontsize=20)\n",
    "    plt.show()"
   ]
  },
  {
   "cell_type": "code",
   "execution_count": 24,
   "id": "5e56af20",
   "metadata": {},
   "outputs": [
    {
     "data": {
      "image/png": "[encoded data removed]",
      "text/plain": [
       "<Figure size 1008x576 with 2 Axes>"
      ]
     },
     "metadata": {
      "needs_background": "light"
     },
     "output_type": "display_data"
    }
   ],
   "source": [
    "plot_confusion_matrix(y_test,pred)"
   ]
  },
  {
   "cell_type": "code",
   "execution_count": null,
   "id": "2ab10c8f",
   "metadata": {},
   "outputs": [],
   "source": []
  }
 ],
 "metadata": {
  "kernelspec": {
   "display_name": "Python 3 (ipykernel)",
   "language": "python",
   "name": "python3"
  },
  "language_info": {
   "codemirror_mode": {
    "name": "ipython",
    "version": 3
   },
   "file_extension": ".py",
   "mimetype": "text/x-python",
   "name": "python",
   "nbconvert_exporter": "python",
   "pygments_lexer": "ipython3",
   "version": "3.9.12"
  }
 },
 "nbformat": 4,
 "nbformat_minor": 5
}
