{
 "cells": [
  {
   "cell_type": "code",
   "execution_count": 385,
   "id": "6e1dcb4e",
   "metadata": {},
   "outputs": [],
   "source": [
    "from keras.datasets import fashion_mnist\n",
    "import wandb\n",
    "import warnings\n",
    "warnings.filterwarnings('ignore')\n",
    "# wandb.login()\n",
    "\n",
    "(x_train, y_train), (x_test, y_test) = fashion_mnist.load_data()"
   ]
  },
  {
   "cell_type": "code",
   "execution_count": 386,
   "id": "bfff35d6",
   "metadata": {},
   "outputs": [],
   "source": [
    "import numpy as np\n",
    "from sklearn.metrics import classification_report\n",
    "import matplotlib.pyplot as plt"
   ]
  },
  {
   "cell_type": "code",
   "execution_count": 387,
   "id": "c8be63ce",
   "metadata": {},
   "outputs": [],
   "source": [
    "def relu(x):\n",
    "    return np.maximum(0,x)\n",
    "\n",
    "def reluPrime(x):\n",
    "    return 1*(x>0)"
   ]
  },
  {
   "cell_type": "code",
   "execution_count": 388,
   "id": "6e9a519f",
   "metadata": {},
   "outputs": [],
   "source": [
    "def pre_process(x):\n",
    "    x=x.reshape(-1,784)\n",
    "    x=x/255\n",
    "    return x"
   ]
  },
  {
   "cell_type": "code",
   "execution_count": 389,
   "id": "65f9de1c",
   "metadata": {},
   "outputs": [],
   "source": [
    "x_train=pre_process(x_train)\n",
    "x_test=pre_process(x_test)"
   ]
  },
  {
   "cell_type": "code",
   "execution_count": 390,
   "id": "f69412cb",
   "metadata": {},
   "outputs": [],
   "source": [
    "class Activation_Functions:\n",
    "    def __init__(self,function):\n",
    "        self.function=function\n",
    "    def getActivations(self,x):\n",
    "        if self.function=='relu':\n",
    "            return np.maximum(0,x)\n",
    "        elif self.function=='sigmoid':\n",
    "            return 1.0/(1+np.exp(-x))\n",
    "        elif self.function=='tanh':\n",
    "            return np.tanh(x)\n",
    "    def getDerivatives(self,x):\n",
    "        if self.function=='relu':\n",
    "             return 1*(x>0)\n",
    "        elif self.function=='sigmoid':\n",
    "            return sigmoid(x)*(1-sigmoid(x))\n",
    "        elif self.function=='tanh':\n",
    "            return (1 - (np.tanh(x)**2))         "
   ]
  },
  {
   "cell_type": "code",
   "execution_count": 391,
   "id": "d9724d42",
   "metadata": {},
   "outputs": [],
   "source": [
    "class Optimizers:\n",
    "    def __init__(self,method):\n",
    "        self.method=method\n",
    "    def update(self,obj,lr,momentum=0.9):\n",
    "        if self.method=='sgd':\n",
    "            for i in range(len(obj.layers)):\n",
    "                obj.weights[i]=obj.weights[i]-lr*obj.gradients_w[i]\n",
    "                obj.biases[i]=obj.biases[i]-lr*obj.gradients_b[i]\n",
    "        elif self.method=='momentum':\n",
    "            init=0\n",
    "            new_gradients=[None]*len(obj.gradients_w)\n",
    "            for i in range(len(obj.layers)):\n",
    "                if obj.prev_gradients_w!=None:\n",
    "                    new_gradients[i]=lr*obj.gradients_w[i]+obj.prev_gradients_w[i]*momentum\n",
    "                else:\n",
    "                    new_gradients[i]=lr*obj.gradients_w[i]\n",
    "                    \n",
    "                obj.weights[i]=obj.weights[i]-lr*new_gradients[i]\n",
    "            obj.prev_gradients_w=new_gradients\n",
    "            \n",
    "            \n",
    "            pass\n",
    "        elif self.method=='rmsprop':\n",
    "            pass\n",
    "        elif self.method=='adam':\n",
    "            pass\n",
    "        elif self.method=='nadam':\n",
    "            pass\n",
    "        elif self.method=='nag':\n",
    "            pass        "
   ]
  },
  {
   "cell_type": "code",
   "execution_count": 392,
   "id": "294c4fe0",
   "metadata": {},
   "outputs": [],
   "source": [
    "def sigmoid(x):\n",
    "    return 1/(1+np.exp(-x))\n",
    "def sigmoidPrime(x):\n",
    "    return sigmoid(x)*(1-sigmoid(x))\n",
    "\n",
    "def tanh(x):\n",
    "    return np.tanh(x)\n",
    "\n",
    "def tanhPrime(x):\n",
    "    return (1 - (np.tanh(x)**2))"
   ]
  },
  {
   "cell_type": "code",
   "execution_count": 393,
   "id": "9824a03b",
   "metadata": {},
   "outputs": [],
   "source": [
    "def intialize_weights(method,rows,cols):\n",
    "    if method=='uniform':\n",
    "        return np.random.rand(rows,cols)\n",
    "    elif method=='xavier':\n",
    "        return np.random.randn(rows,cols)*np.sqrt(2/(rows+cols))\n",
    "    else:\n",
    "        return np.random.randn(rows,cols)"
   ]
  },
  {
   "cell_type": "code",
   "execution_count": 394,
   "id": "327123c0",
   "metadata": {},
   "outputs": [],
   "source": [
    "def soft_max(x):\n",
    "#     return np.exp(x)/np.sum(np.exp(x),axis=0)\n",
    "#     min_=np.min(x,axis=0)\n",
    "    max_=np.max(x,axis=0)\n",
    "\n",
    "    x=x-max_\n",
    "    \n",
    "#     x=(x-min_)/(max_-min_)\n",
    "    return np.exp(x)/np.sum(np.exp(x),axis=0)"
   ]
  },
  {
   "cell_type": "code",
   "execution_count": 395,
   "id": "f374351c",
   "metadata": {},
   "outputs": [],
   "source": [
    "def soft_max_prime(x):\n",
    "    return soft_max(x)*(1-soft_max(x))\n",
    "    "
   ]
  },
  {
   "cell_type": "code",
   "execution_count": 396,
   "id": "663c1a30",
   "metadata": {},
   "outputs": [],
   "source": [
    "class OneHotEncoder:\n",
    "    def __init__(self,max_):\n",
    "        self.max_=max_\n",
    "    def transform(self,x):\n",
    "        out=np.zeros((len(x),self.max_))\n",
    "        out[np.arange(len(x)),x]=1\n",
    "        return out.T"
   ]
  },
  {
   "cell_type": "code",
   "execution_count": 407,
   "id": "a6cd0af1",
   "metadata": {},
   "outputs": [],
   "source": [
    "def cross_entropy_loss(y_pre,y):\n",
    "#     y_pre[y_pre<1e-15]=1e-15\n",
    "    loss=-np.sum(y*np.log(y_pre))\n",
    "    return loss/float(y_pre.shape[1])"
   ]
  },
  {
   "cell_type": "code",
   "execution_count": 398,
   "id": "c36647bb",
   "metadata": {},
   "outputs": [],
   "source": [
    "def getSig():\n",
    "    return lambda x:1.0/(1+np.exp(-x))"
   ]
  },
  {
   "cell_type": "code",
   "execution_count": 399,
   "id": "6b5e8f42",
   "metadata": {},
   "outputs": [],
   "source": [
    "# best: batch_size=32 sgd sigmoid xavier 87/86"
   ]
  },
  {
   "cell_type": "code",
   "execution_count": 408,
   "id": "86f8e3b1",
   "metadata": {},
   "outputs": [],
   "source": [
    "class NN:\n",
    "    def __init__(self,input_size,layers,active_func='sigmoid',weights_init='xavier'):\n",
    "        self.input_size=input_size\n",
    "        self.layers=layers\n",
    "        self.nlayers=len(layers)\n",
    "        self.activations=Activation_Functions(active_func)\n",
    "        self.optimizer=Optimizers('sgd')\n",
    "        self.weights=[]\n",
    "        self.weights.append(intialize_weights(weights_init,layers[0],input_size))\n",
    "        self.deltas=[None]*self.nlayers\n",
    "        self.gradients_w=[None]*self.nlayers\n",
    "        self.gradients_b=[None]*self.nlayers\n",
    "        self.prev_gradients_w=None\n",
    "        \n",
    "        \n",
    "        self.biases=[]\n",
    "        for i in range(1,len(layers)):\n",
    "            self.weights.append(intialize_weights(weights_init,layers[i],layers[i-1]))\n",
    "        for i in range(len(layers)):\n",
    "            self.biases.append(np.random.randn(layers[i],1))                              \n",
    "    def forward(self,x):\n",
    "        layer_outputs=[]\n",
    "        inter_values=[]\n",
    "        \n",
    "        for i in range(len(self.weights)):\n",
    "            inter_values.append(self.weights[i].dot(x)+self.biases[i])\n",
    "            if i!= len(self.weights)-1:\n",
    "                layer_outputs.append(self.activations.getActivations(inter_values[-1]))\n",
    "                x=layer_outputs[-1]\n",
    "        layer_outputs.append(soft_max(inter_values[-1]))\n",
    "        return layer_outputs,inter_values\n",
    "    def compute_deltas(self,layer_outputs,inter_values,y_one_hot):\n",
    "#         self.deltas[self.nlayers-1]=(layer_outputs[self.nlayers-1]-y_one_hot)*soft_max_prime(inter_values[self.nlayers-1])\n",
    "        self.deltas[self.nlayers-1]=(layer_outputs[self.nlayers-1]-y_one_hot)\n",
    "        \n",
    "        for i in range(self.nlayers-2,-1,-1):\n",
    "            self.deltas[i]=np.matmul(self.weights[i+1].T,self.deltas[i+1])*self.activations.getDerivatives(inter_values[i])\n",
    "        \n",
    "    def find_gradients(self,x,layer_outs):\n",
    "        self.gradients_w[0]=np.matmul(self.deltas[0],x.T)/batch_size\n",
    "        for i in range(1,self.nlayers):\n",
    "            self.gradients_w[i]=(np.dot(self.deltas[i],layer_outs[i-1].T))/batch_size\n",
    "        for i in range(self.nlayers):\n",
    "            self.gradients_b[i]=np.sum(self.deltas[i],keepdims=True)/batch_size\n",
    "        \n",
    "            \n",
    "    def update_weights(self,lr):\n",
    "        for each in range(self.nlayers):\n",
    "            self.optimizer.update(self,lr=0.1)\n",
    "            \n",
    "    def train(self,x,y,epochs=1):\n",
    "        losses=[]\n",
    "        for epoch in range(epochs):\n",
    "            self.prev_gradients_w=None\n",
    "            i=0\n",
    "            batch_count=0\n",
    "            loss=0\n",
    "            while i+batch_size < x.shape[1]:\n",
    "                batch_count+=1\n",
    "                x_batch=x[:,i:i+batch_size]\n",
    "                y_batch=y[:,i:i+batch_size]\n",
    "                i+=batch_size\n",
    "                layer_outs,inter_values=self.forward(x_batch)\n",
    "                loss+=cross_entropy_loss(layer_outs[-1],y_batch)\n",
    "                self.compute_deltas(layer_outs,inter_values,y_batch)\n",
    "                self.find_gradients(x_batch,layer_outs)\n",
    "                self.optimizer.update(self,0.1,0.1)\n",
    "            losses.append(loss/batch_count)\n",
    "            print(f\"epoch {epoch+1} : loss = {loss/batch_count}\")\n",
    "        return losses\n",
    "    \n",
    "    def predict_probas(self,x):\n",
    "        layer_outs,inter_values=self.forward(x)\n",
    "        return layer_outs[-1]\n",
    "        "
   ]
  },
  {
   "cell_type": "code",
   "execution_count": 409,
   "id": "26b58d1f",
   "metadata": {},
   "outputs": [],
   "source": [
    "batch_size=32\n",
    "sample=60000\n",
    "x_tr=x_train[:sample]\n",
    "\n",
    "y_tr=y_train[:sample]\n",
    "\n",
    "one_hot=OneHotEncoder(10)\n",
    "one_hot_y=one_hot.transform(y_tr)"
   ]
  },
  {
   "cell_type": "code",
   "execution_count": 410,
   "id": "159d383d",
   "metadata": {},
   "outputs": [],
   "source": [
    "# def main():\n",
    "#     obj =NN(784,[128,128,128,10],'sigmoid','normal')\n",
    "#     obj.train(x_tr.T,one_hot_y,10)\n",
    "    \n",
    "    "
   ]
  },
  {
   "cell_type": "code",
   "execution_count": 411,
   "id": "0cc88b45",
   "metadata": {},
   "outputs": [
    {
     "name": "stdout",
     "output_type": "stream",
     "text": [
      "epoch 1 : loss = 1.7516094626818934\n",
      "epoch 2 : loss = 0.9443348870465917\n",
      "epoch 3 : loss = 0.6700867226446611\n",
      "epoch 4 : loss = 0.5549557600437093\n",
      "epoch 5 : loss = 0.4880616235833139\n",
      "epoch 6 : loss = 0.4486474134906836\n",
      "epoch 7 : loss = 0.4231085713274214\n",
      "epoch 8 : loss = 0.40383511545231177\n",
      "epoch 9 : loss = 0.3882438655487034\n",
      "epoch 10 : loss = 0.3751339167803841\n",
      "epoch 11 : loss = 0.363776348759616\n",
      "epoch 12 : loss = 0.3538697979017372\n",
      "epoch 13 : loss = 0.34523927779554575\n",
      "epoch 14 : loss = 0.33763902458181827\n",
      "epoch 15 : loss = 0.3308426217144081\n",
      "epoch 16 : loss = 0.3246982552455426\n",
      "epoch 17 : loss = 0.3190954862242686\n",
      "epoch 18 : loss = 0.31394765054112117\n",
      "epoch 19 : loss = 0.3091865169064473\n",
      "epoch 20 : loss = 0.30475908417948994\n"
     ]
    }
   ],
   "source": [
    "obj =NN(784,[32,32,32,10],'sigmoid','xavier')\n",
    "losses=obj.train(x_tr.T,one_hot_y,20)"
   ]
  },
  {
   "cell_type": "code",
   "execution_count": 412,
   "id": "05dcc788",
   "metadata": {},
   "outputs": [
    {
     "data": {
      "image/png": "[encoded data removed]",
      "text/plain": [
       "<Figure size 720x576 with 1 Axes>"
      ]
     },
     "metadata": {
      "needs_background": "light"
     },
     "output_type": "display_data"
    }
   ],
   "source": [
    "plt.figure(figsize=(10,8))\n",
    "plt.plot(losses)\n",
    "plt.xlabel(\"epoch\",fontsize=18)\n",
    "plt.ylabel(\"train loss\",fontsize=18)\n",
    "plt.show()"
   ]
  },
  {
   "cell_type": "code",
   "execution_count": 413,
   "id": "c0c20f9d",
   "metadata": {},
   "outputs": [
    {
     "name": "stdout",
     "output_type": "stream",
     "text": [
      "              precision    recall  f1-score   support\n",
      "\n",
      "           0       0.91      0.78      0.84      6984\n",
      "           1       0.99      0.95      0.97      6240\n",
      "           2       0.85      0.79      0.82      6401\n",
      "           3       0.90      0.89      0.89      6055\n",
      "           4       0.85      0.81      0.83      6281\n",
      "           5       0.97      0.98      0.97      5928\n",
      "           6       0.56      0.82      0.67      4079\n",
      "           7       0.98      0.93      0.95      6322\n",
      "           8       0.97      0.98      0.97      5980\n",
      "           9       0.94      0.99      0.96      5730\n",
      "\n",
      "    accuracy                           0.89     60000\n",
      "   macro avg       0.89      0.89      0.89     60000\n",
      "weighted avg       0.90      0.89      0.89     60000\n",
      "\n"
     ]
    }
   ],
   "source": [
    "\n",
    "out=obj.predict_probas(x_tr.T)\n",
    "pred=np.argmax(out,axis=0)\n",
    "print(classification_report(pred,y_train.flatten()))"
   ]
  },
  {
   "cell_type": "code",
   "execution_count": 414,
   "id": "d6ac06ba",
   "metadata": {},
   "outputs": [
    {
     "name": "stdout",
     "output_type": "stream",
     "text": [
      "              precision    recall  f1-score   support\n",
      "\n",
      "           0       0.88      0.77      0.82      1147\n",
      "           1       0.97      0.95      0.96      1024\n",
      "           2       0.80      0.75      0.77      1074\n",
      "           3       0.87      0.86      0.86      1019\n",
      "           4       0.81      0.77      0.79      1052\n",
      "           5       0.94      0.97      0.95       978\n",
      "           6       0.52      0.77      0.62       679\n",
      "           7       0.97      0.91      0.94      1062\n",
      "           8       0.96      0.96      0.96      1003\n",
      "           9       0.93      0.97      0.95       962\n",
      "\n",
      "    accuracy                           0.87     10000\n",
      "   macro avg       0.87      0.87      0.86     10000\n",
      "weighted avg       0.88      0.87      0.87     10000\n",
      "\n"
     ]
    }
   ],
   "source": [
    "out=obj.predict_probas(x_test.T)\n",
    "pred=np.argmax(out,axis=0)\n",
    "print(classification_report(pred,y_test.flatten()))"
   ]
  },
  {
   "cell_type": "code",
   "execution_count": null,
   "id": "8e765972",
   "metadata": {},
   "outputs": [],
   "source": []
  }
 ],
 "metadata": {
  "kernelspec": {
   "display_name": "Python 3 (ipykernel)",
   "language": "python",
   "name": "python3"
  },
  "language_info": {
   "codemirror_mode": {
    "name": "ipython",
    "version": 3
   },
   "file_extension": ".py",
   "mimetype": "text/x-python",
   "name": "python",
   "nbconvert_exporter": "python",
   "pygments_lexer": "ipython3",
   "version": "3.9.12"
  }
 },
 "nbformat": 4,
 "nbformat_minor": 5
}
