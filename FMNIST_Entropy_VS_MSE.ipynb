{
 "cells": [
  {
   "cell_type": "code",
   "execution_count": 1,
   "id": "6f113539",
   "metadata": {},
   "outputs": [],
   "source": [
    "from keras.datasets import fashion_mnist,mnist\n",
    "import wandb\n",
    "import numpy as np\n",
    "from sklearn.metrics import classification_report\n",
    "from sklearn.metrics import confusion_matrix\n",
    "import copy\n",
    "import argparse\n",
    "from types import SimpleNamespace\n",
    "\n",
    "\n",
    "from utilities.NeuralNetwork import NN\n",
    "from utilities.HelperFunctions import OneHotEncoder\n",
    "from utilities.config import * # reading global variables \n",
    "\n",
    "\n",
    "def pre_process(x):\n",
    "    '''\n",
    "    reshape and normalized the data to bring to 0-1 scale.\n",
    "    '''\n",
    "    x=x.reshape(-1,784)\n",
    "    x=x/255\n",
    "    return x\n",
    "\n",
    "def load_data(dataset=fmnist_dataset,split_size=valid_split_size):\n",
    "    \n",
    "    '''\n",
    "    loads and returns data after doing train-valid split.\n",
    "    '''\n",
    "    if dataset==fmnist_dataset:\n",
    "        (x_train, y_train), (x_test, y_test) = fashion_mnist.load_data()\n",
    "    elif dataset==mnist_dataset:\n",
    "        (x_train, y_train), (x_test, y_test) = mnist.load_data()\n",
    "    \n",
    "    \n",
    "    x_train,x_valid=x_train[:int(len(x_train)*split_size)],x_train[int(len(x_train)*split_size):] #splitting train into train and valid\n",
    "    y_train,y_valid=y_train[:int(len(y_train)*split_size)],y_train[int(len(y_train)*split_size):]\n",
    "\n",
    "    x_train=pre_process(x_train)\n",
    "    x_valid=pre_process(x_valid)\n",
    "    x_test=pre_process(x_test) \n",
    "    \n",
    "    one_hot=OneHotEncoder(10)\n",
    "    y_train=one_hot.transform(y_train)\n",
    "    y_valid=one_hot.transform(y_valid)\n",
    "    y_test=one_hot.transform(y_test)\n",
    "    \n",
    "    \n",
    "    return x_train,y_train,x_valid,y_valid,x_test,y_test\n",
    "\n",
    "x_train,y_train,x_valid,y_valid,x_test,y_test=load_data(fmnist_dataset,1-valid_split_size)\n",
    "    "
   ]
  },
  {
   "cell_type": "code",
   "execution_count": 2,
   "id": "144a2841",
   "metadata": {},
   "outputs": [
    {
     "name": "stdout",
     "output_type": "stream",
     "text": [
      "Create sweep with ID: bgybm3qt\n",
      "Sweep URL: https://wandb.ai/cs22m080/temp/sweeps/bgybm3qt\n"
     ]
    }
   ],
   "source": [
    "sweep_config = {\n",
    "    'method': 'grid', #grid, random,#bayes\n",
    "    'name' : 'CrossEntropy_VS_MSE',\n",
    "    'metric': {\n",
    "      'name': 'valid accuracy',\n",
    "      'goal': 'maximize'  \n",
    "    },\n",
    "    'parameters': {\n",
    "        'epochs': {\n",
    "            'values': [10]\n",
    "        },\n",
    "        'num_layers':{\n",
    "            'values':[3]\n",
    "        },\n",
    "         'hidden_size':{\n",
    "            'values':[64]\n",
    "        },\n",
    "        'weight_decay':{\n",
    "            'values':[0]\n",
    "        },\n",
    "         'learning_rate':{\n",
    "            'values':[0.0001]\n",
    "        },\n",
    "         'optimizer': {\n",
    "            'values': ['nadam']           \n",
    "        },\n",
    "        'batch_size': {\n",
    "            'values': [16]\n",
    "        },\n",
    "         'weight_init':{\n",
    "            'values':['xavier']            \n",
    "        },\n",
    "        'activation': {\n",
    "            'values': ['tanh']\n",
    "        }, \n",
    "        'loss': {\n",
    "            'values': [entropy_loss,squared_loss]\n",
    "        }, \n",
    "        \n",
    "        \n",
    "    }\n",
    "}\n",
    "\n",
    "sweep_id = wandb.sweep(sweep=sweep_config, project='temp')"
   ]
  },
  {
   "cell_type": "code",
   "execution_count": 3,
   "id": "9a8fd664",
   "metadata": {},
   "outputs": [
    {
     "name": "stderr",
     "output_type": "stream",
     "text": [
      "\u001b[34m\u001b[1mwandb\u001b[0m: Agent Starting Run: dlg0r2qo with config:\n",
      "\u001b[34m\u001b[1mwandb\u001b[0m: \tactivation: tanh\n",
      "\u001b[34m\u001b[1mwandb\u001b[0m: \tbatch_size: 16\n",
      "\u001b[34m\u001b[1mwandb\u001b[0m: \tepochs: 10\n",
      "\u001b[34m\u001b[1mwandb\u001b[0m: \thidden_size: 64\n",
      "\u001b[34m\u001b[1mwandb\u001b[0m: \tlearning_rate: 0.0001\n",
      "\u001b[34m\u001b[1mwandb\u001b[0m: \tloss: cross_entropy\n",
      "\u001b[34m\u001b[1mwandb\u001b[0m: \tnum_layers: 3\n",
      "\u001b[34m\u001b[1mwandb\u001b[0m: \toptimizer: nadam\n",
      "\u001b[34m\u001b[1mwandb\u001b[0m: \tweight_decay: 0\n",
      "\u001b[34m\u001b[1mwandb\u001b[0m: \tweight_init: xavier\n",
      "\u001b[34m\u001b[1mwandb\u001b[0m: Currently logged in as: \u001b[33mcs22m080\u001b[0m. Use \u001b[1m`wandb login --relogin`\u001b[0m to force relogin\n"
     ]
    },
    {
     "data": {
      "text/html": [
       "wandb version 0.14.0 is available!  To upgrade, please run:\n",
       " $ pip install wandb --upgrade"
      ],
      "text/plain": [
       "<IPython.core.display.HTML object>"
      ]
     },
     "metadata": {},
     "output_type": "display_data"
    },
    {
     "data": {
      "text/html": [
       "Tracking run with wandb version 0.13.10"
      ],
      "text/plain": [
       "<IPython.core.display.HTML object>"
      ]
     },
     "metadata": {},
     "output_type": "display_data"
    },
    {
     "data": {
      "text/html": [
       "Run data is saved locally in <code>/Users/sathish/Desktop/DL_assign/DL_Assignment_1/wandb/run-20230319_044553-dlg0r2qo</code>"
      ],
      "text/plain": [
       "<IPython.core.display.HTML object>"
      ]
     },
     "metadata": {},
     "output_type": "display_data"
    },
    {
     "data": {
      "text/html": [
       "Syncing run <strong><a href='https://wandb.ai/cs22m080/temp/runs/dlg0r2qo' target=\"_blank\">rare-sweep-1</a></strong> to <a href='https://wandb.ai/cs22m080/temp' target=\"_blank\">Weights & Biases</a> (<a href='https://wandb.me/run' target=\"_blank\">docs</a>)<br/>Sweep page: <a href='https://wandb.ai/cs22m080/temp/sweeps/bgybm3qt' target=\"_blank\">https://wandb.ai/cs22m080/temp/sweeps/bgybm3qt</a>"
      ],
      "text/plain": [
       "<IPython.core.display.HTML object>"
      ]
     },
     "metadata": {},
     "output_type": "display_data"
    },
    {
     "data": {
      "text/html": [
       " View project at <a href='https://wandb.ai/cs22m080/temp' target=\"_blank\">https://wandb.ai/cs22m080/temp</a>"
      ],
      "text/plain": [
       "<IPython.core.display.HTML object>"
      ]
     },
     "metadata": {},
     "output_type": "display_data"
    },
    {
     "data": {
      "text/html": [
       " View sweep at <a href='https://wandb.ai/cs22m080/temp/sweeps/bgybm3qt' target=\"_blank\">https://wandb.ai/cs22m080/temp/sweeps/bgybm3qt</a>"
      ],
      "text/plain": [
       "<IPython.core.display.HTML object>"
      ]
     },
     "metadata": {},
     "output_type": "display_data"
    },
    {
     "data": {
      "text/html": [
       " View run at <a href='https://wandb.ai/cs22m080/temp/runs/dlg0r2qo' target=\"_blank\">https://wandb.ai/cs22m080/temp/runs/dlg0r2qo</a>"
      ],
      "text/plain": [
       "<IPython.core.display.HTML object>"
      ]
     },
     "metadata": {},
     "output_type": "display_data"
    },
    {
     "name": "stdout",
     "output_type": "stream",
     "text": [
      "epoch 1 : train loss = 0.60 valid loss = 0.43 train accuracy = 85.11 valid accuracy = 84.40\n",
      "epoch 2 : train loss = 0.40 valid loss = 0.39 train accuracy = 86.86 valid accuracy = 85.62\n",
      "epoch 3 : train loss = 0.36 valid loss = 0.37 train accuracy = 87.85 valid accuracy = 86.45\n",
      "epoch 4 : train loss = 0.34 valid loss = 0.36 train accuracy = 88.51 valid accuracy = 87.15\n",
      "epoch 5 : train loss = 0.32 valid loss = 0.35 train accuracy = 88.96 valid accuracy = 87.43\n",
      "epoch 6 : train loss = 0.31 valid loss = 0.34 train accuracy = 89.28 valid accuracy = 87.62\n",
      "epoch 7 : train loss = 0.30 valid loss = 0.34 train accuracy = 89.66 valid accuracy = 87.82\n",
      "epoch 8 : train loss = 0.29 valid loss = 0.34 train accuracy = 90.06 valid accuracy = 87.97\n",
      "epoch 9 : train loss = 0.28 valid loss = 0.33 train accuracy = 90.40 valid accuracy = 88.08\n",
      "epoch 10 : train loss = 0.27 valid loss = 0.33 train accuracy = 90.74 valid accuracy = 88.23\n"
     ]
    },
    {
     "data": {
      "text/html": [
       "Waiting for W&B process to finish... <strong style=\"color:green\">(success).</strong>"
      ],
      "text/plain": [
       "<IPython.core.display.HTML object>"
      ]
     },
     "metadata": {},
     "output_type": "display_data"
    },
    {
     "data": {
      "application/vnd.jupyter.widget-view+json": {
       "model_id": "2648b32d662d4d1d8c217c740be52102",
       "version_major": 2,
       "version_minor": 0
      },
      "text/plain": [
       "VBox(children=(Label(value='0.001 MB of 0.001 MB uploaded (0.000 MB deduped)\\r'), FloatProgress(value=1.0, max…"
      ]
     },
     "metadata": {},
     "output_type": "display_data"
    },
    {
     "data": {
      "text/html": [
       "<style>\n",
       "    table.wandb td:nth-child(1) { padding: 0 10px; text-align: left ; width: auto;} td:nth-child(2) {text-align: left ; width: 100%}\n",
       "    .wandb-row { display: flex; flex-direction: row; flex-wrap: wrap; justify-content: flex-start; width: 100% }\n",
       "    .wandb-col { display: flex; flex-direction: column; flex-basis: 100%; flex: 1; padding: 10px; }\n",
       "    </style>\n",
       "<div class=\"wandb-row\"><div class=\"wandb-col\"><h3>Run history:</h3><br/><table class=\"wandb\"><tr><td>train accuracy</td><td>▁▃▄▅▆▆▇▇██</td></tr><tr><td>train loss</td><td>█▄▃▂▂▂▂▁▁▁</td></tr><tr><td>valid accuracy</td><td>▁▃▅▆▇▇▇███</td></tr><tr><td>valid loss</td><td>█▅▄▃▂▂▂▁▁▁</td></tr></table><br/></div><div class=\"wandb-col\"><h3>Run summary:</h3><br/><table class=\"wandb\"><tr><td>train accuracy</td><td>90.74259</td></tr><tr><td>train loss</td><td>0.27072</td></tr><tr><td>valid accuracy</td><td>88.23333</td></tr><tr><td>valid loss</td><td>0.33022</td></tr></table><br/></div></div>"
      ],
      "text/plain": [
       "<IPython.core.display.HTML object>"
      ]
     },
     "metadata": {},
     "output_type": "display_data"
    },
    {
     "data": {
      "text/html": [
       " View run <strong style=\"color:#cdcd00\">rare-sweep-1</strong> at: <a href='https://wandb.ai/cs22m080/temp/runs/dlg0r2qo' target=\"_blank\">https://wandb.ai/cs22m080/temp/runs/dlg0r2qo</a><br/>Synced 6 W&B file(s), 0 media file(s), 0 artifact file(s) and 0 other file(s)"
      ],
      "text/plain": [
       "<IPython.core.display.HTML object>"
      ]
     },
     "metadata": {},
     "output_type": "display_data"
    },
    {
     "data": {
      "text/html": [
       "Find logs at: <code>./wandb/run-20230319_044553-dlg0r2qo/logs</code>"
      ],
      "text/plain": [
       "<IPython.core.display.HTML object>"
      ]
     },
     "metadata": {},
     "output_type": "display_data"
    },
    {
     "name": "stderr",
     "output_type": "stream",
     "text": [
      "\u001b[34m\u001b[1mwandb\u001b[0m: Agent Starting Run: mjnzl1tq with config:\n",
      "\u001b[34m\u001b[1mwandb\u001b[0m: \tactivation: tanh\n",
      "\u001b[34m\u001b[1mwandb\u001b[0m: \tbatch_size: 16\n",
      "\u001b[34m\u001b[1mwandb\u001b[0m: \tepochs: 10\n",
      "\u001b[34m\u001b[1mwandb\u001b[0m: \thidden_size: 64\n",
      "\u001b[34m\u001b[1mwandb\u001b[0m: \tlearning_rate: 0.0001\n",
      "\u001b[34m\u001b[1mwandb\u001b[0m: \tloss: mean_squared_error\n",
      "\u001b[34m\u001b[1mwandb\u001b[0m: \tnum_layers: 3\n",
      "\u001b[34m\u001b[1mwandb\u001b[0m: \toptimizer: nadam\n",
      "\u001b[34m\u001b[1mwandb\u001b[0m: \tweight_decay: 0\n",
      "\u001b[34m\u001b[1mwandb\u001b[0m: \tweight_init: xavier\n"
     ]
    },
    {
     "data": {
      "text/html": [
       "wandb version 0.14.0 is available!  To upgrade, please run:\n",
       " $ pip install wandb --upgrade"
      ],
      "text/plain": [
       "<IPython.core.display.HTML object>"
      ]
     },
     "metadata": {},
     "output_type": "display_data"
    },
    {
     "data": {
      "text/html": [
       "Tracking run with wandb version 0.13.10"
      ],
      "text/plain": [
       "<IPython.core.display.HTML object>"
      ]
     },
     "metadata": {},
     "output_type": "display_data"
    },
    {
     "data": {
      "text/html": [
       "Run data is saved locally in <code>/Users/sathish/Desktop/DL_assign/DL_Assignment_1/wandb/run-20230319_044719-mjnzl1tq</code>"
      ],
      "text/plain": [
       "<IPython.core.display.HTML object>"
      ]
     },
     "metadata": {},
     "output_type": "display_data"
    },
    {
     "data": {
      "text/html": [
       "Syncing run <strong><a href='https://wandb.ai/cs22m080/temp/runs/mjnzl1tq' target=\"_blank\">visionary-sweep-2</a></strong> to <a href='https://wandb.ai/cs22m080/temp' target=\"_blank\">Weights & Biases</a> (<a href='https://wandb.me/run' target=\"_blank\">docs</a>)<br/>Sweep page: <a href='https://wandb.ai/cs22m080/temp/sweeps/bgybm3qt' target=\"_blank\">https://wandb.ai/cs22m080/temp/sweeps/bgybm3qt</a>"
      ],
      "text/plain": [
       "<IPython.core.display.HTML object>"
      ]
     },
     "metadata": {},
     "output_type": "display_data"
    },
    {
     "data": {
      "text/html": [
       " View project at <a href='https://wandb.ai/cs22m080/temp' target=\"_blank\">https://wandb.ai/cs22m080/temp</a>"
      ],
      "text/plain": [
       "<IPython.core.display.HTML object>"
      ]
     },
     "metadata": {},
     "output_type": "display_data"
    },
    {
     "data": {
      "text/html": [
       " View sweep at <a href='https://wandb.ai/cs22m080/temp/sweeps/bgybm3qt' target=\"_blank\">https://wandb.ai/cs22m080/temp/sweeps/bgybm3qt</a>"
      ],
      "text/plain": [
       "<IPython.core.display.HTML object>"
      ]
     },
     "metadata": {},
     "output_type": "display_data"
    },
    {
     "data": {
      "text/html": [
       " View run at <a href='https://wandb.ai/cs22m080/temp/runs/mjnzl1tq' target=\"_blank\">https://wandb.ai/cs22m080/temp/runs/mjnzl1tq</a>"
      ],
      "text/plain": [
       "<IPython.core.display.HTML object>"
      ]
     },
     "metadata": {},
     "output_type": "display_data"
    },
    {
     "name": "stdout",
     "output_type": "stream",
     "text": [
      "epoch 1 : train loss = 0.03 valid loss = 0.02 train accuracy = 85.30 valid accuracy = 84.50\n",
      "epoch 2 : train loss = 0.02 valid loss = 0.02 train accuracy = 87.10 valid accuracy = 85.95\n",
      "epoch 3 : train loss = 0.02 valid loss = 0.02 train accuracy = 88.08 valid accuracy = 86.82\n",
      "epoch 4 : train loss = 0.02 valid loss = 0.02 train accuracy = 88.67 valid accuracy = 87.00\n",
      "epoch 5 : train loss = 0.02 valid loss = 0.02 train accuracy = 89.29 valid accuracy = 87.22\n",
      "epoch 6 : train loss = 0.02 valid loss = 0.02 train accuracy = 89.70 valid accuracy = 87.43\n",
      "epoch 7 : train loss = 0.02 valid loss = 0.02 train accuracy = 90.00 valid accuracy = 87.53\n",
      "epoch 8 : train loss = 0.02 valid loss = 0.02 train accuracy = 90.28 valid accuracy = 87.78\n",
      "epoch 9 : train loss = 0.01 valid loss = 0.02 train accuracy = 90.61 valid accuracy = 87.90\n",
      "epoch 10 : train loss = 0.01 valid loss = 0.02 train accuracy = 90.79 valid accuracy = 88.23\n"
     ]
    },
    {
     "data": {
      "text/html": [
       "Waiting for W&B process to finish... <strong style=\"color:green\">(success).</strong>"
      ],
      "text/plain": [
       "<IPython.core.display.HTML object>"
      ]
     },
     "metadata": {},
     "output_type": "display_data"
    },
    {
     "data": {
      "application/vnd.jupyter.widget-view+json": {
       "model_id": "273d6c2ab2ab4eb89eaf5adc4c83d16f",
       "version_major": 2,
       "version_minor": 0
      },
      "text/plain": [
       "VBox(children=(Label(value='0.001 MB of 0.001 MB uploaded (0.000 MB deduped)\\r'), FloatProgress(value=1.0, max…"
      ]
     },
     "metadata": {},
     "output_type": "display_data"
    },
    {
     "data": {
      "text/html": [
       "<style>\n",
       "    table.wandb td:nth-child(1) { padding: 0 10px; text-align: left ; width: auto;} td:nth-child(2) {text-align: left ; width: 100%}\n",
       "    .wandb-row { display: flex; flex-direction: row; flex-wrap: wrap; justify-content: flex-start; width: 100% }\n",
       "    .wandb-col { display: flex; flex-direction: column; flex-basis: 100%; flex: 1; padding: 10px; }\n",
       "    </style>\n",
       "<div class=\"wandb-row\"><div class=\"wandb-col\"><h3>Run history:</h3><br/><table class=\"wandb\"><tr><td>train accuracy</td><td>▁▃▅▅▆▇▇▇██</td></tr><tr><td>train loss</td><td>█▄▃▃▂▂▂▁▁▁</td></tr><tr><td>valid accuracy</td><td>▁▄▅▆▆▇▇▇▇█</td></tr><tr><td>valid loss</td><td>█▅▃▃▂▂▁▁▁▁</td></tr></table><br/></div><div class=\"wandb-col\"><h3>Run summary:</h3><br/><table class=\"wandb\"><tr><td>train accuracy</td><td>90.78519</td></tr><tr><td>train loss</td><td>0.01445</td></tr><tr><td>valid accuracy</td><td>88.23333</td></tr><tr><td>valid loss</td><td>0.01725</td></tr></table><br/></div></div>"
      ],
      "text/plain": [
       "<IPython.core.display.HTML object>"
      ]
     },
     "metadata": {},
     "output_type": "display_data"
    },
    {
     "data": {
      "text/html": [
       " View run <strong style=\"color:#cdcd00\">visionary-sweep-2</strong> at: <a href='https://wandb.ai/cs22m080/temp/runs/mjnzl1tq' target=\"_blank\">https://wandb.ai/cs22m080/temp/runs/mjnzl1tq</a><br/>Synced 6 W&B file(s), 0 media file(s), 0 artifact file(s) and 0 other file(s)"
      ],
      "text/plain": [
       "<IPython.core.display.HTML object>"
      ]
     },
     "metadata": {},
     "output_type": "display_data"
    },
    {
     "data": {
      "text/html": [
       "Find logs at: <code>./wandb/run-20230319_044719-mjnzl1tq/logs</code>"
      ],
      "text/plain": [
       "<IPython.core.display.HTML object>"
      ]
     },
     "metadata": {},
     "output_type": "display_data"
    }
   ],
   "source": [
    "def main():\n",
    "    with wandb.init() as run:\n",
    "        params={}\n",
    "        params=dict(wandb.config)\n",
    "        params=SimpleNamespace(**params)\n",
    "        \n",
    "        layers=[params.hidden_size]*params.num_layers\n",
    "        run_name=\"loss_\"+wandb.config.loss+\"-opt_\"+wandb.config.optimizer+\"-ac_\"+wandb.config.activation+\"-batch_\"+str(wandb.config.batch_size)\\\n",
    "                + \"-nlayers_\"+str(wandb.config.num_layers)+\"-lr_\"+str(wandb.config.learning_rate)\n",
    "        wandb.run.name=run_name\n",
    "        layers.append(10)\n",
    "        obj=NN(784,layers,params)\n",
    "        train_losses,tr_ac,valid_losses,val_ac=obj.train(x_train.T,y_train,x_valid.T,y_valid)\n",
    "    \n",
    "wandb.agent(sweep_id, function=main,count=2)\n",
    "wandb.finish()"
   ]
  },
  {
   "cell_type": "code",
   "execution_count": null,
   "id": "b336f5c9",
   "metadata": {},
   "outputs": [],
   "source": []
  }
 ],
 "metadata": {
  "kernelspec": {
   "display_name": "Python 3 (ipykernel)",
   "language": "python",
   "name": "python3"
  },
  "language_info": {
   "codemirror_mode": {
    "name": "ipython",
    "version": 3
   },
   "file_extension": ".py",
   "mimetype": "text/x-python",
   "name": "python",
   "nbconvert_exporter": "python",
   "pygments_lexer": "ipython3",
   "version": "3.9.12"
  }
 },
 "nbformat": 4,
 "nbformat_minor": 5
}
